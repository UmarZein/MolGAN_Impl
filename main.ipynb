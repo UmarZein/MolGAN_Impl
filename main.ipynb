{
 "cells": [
  {
   "cell_type": "code",
   "execution_count": 1,
   "id": "2492407f-2213-45ed-82b1-669b2129cabf",
   "metadata": {},
   "outputs": [],
   "source": [
    "import torch\n",
    "from torch import nn\n",
    "import rdkit\n",
    "from tqdm import tqdm\n",
    "from rdkit import Chem\n",
    "import pandas as pd\n",
    "from importlib import reload\n",
    "import matplotlib.pyplot as plt\n",
    "from rdkit import RDLogger\n",
    "from torch_geometric.data import Dataset, Data, Batch\n",
    "from torch_geometric.loader import DataLoader\n",
    "from torch_geometric.nn.conv import RGCNConv, FastRGCNConv\n",
    "from torch_geometric.datasets import QM7b\n",
    "import time\n",
    "import datetime\n",
    "# Suppress RDKit warnings\n",
    "RDLogger.DisableLog('rdApp.*')"
   ]
  },
  {
   "cell_type": "code",
   "execution_count": 2,
   "id": "0bba6332-8694-46c8-b5df-d4bc05c50396",
   "metadata": {},
   "outputs": [],
   "source": [
    "import sascorer"
   ]
  },
  {
   "cell_type": "code",
   "execution_count": 3,
   "id": "3e112759-f9b6-49cd-88f6-0c944795356a",
   "metadata": {},
   "outputs": [],
   "source": [
    "torch.set_default_device('cuda')"
   ]
  },
  {
   "cell_type": "code",
   "execution_count": 4,
   "id": "2e4df6fa-eb31-485d-b022-230551894ea0",
   "metadata": {},
   "outputs": [],
   "source": [
    "from constants import *\n",
    "from utils import *"
   ]
  },
  {
   "cell_type": "code",
   "execution_count": 5,
   "id": "9243c36d-5be6-48ad-b9e0-9bfa03f3800b",
   "metadata": {},
   "outputs": [],
   "source": [
    "import  generator as G\n",
    "import discriminator as D\n",
    "import rewardnet as R\n",
    "import mlp as M\n",
    "import rgcn"
   ]
  },
  {
   "cell_type": "code",
   "execution_count": 18,
   "id": "08551e9e-08e2-4d53-85b6-30d79fdad4a1",
   "metadata": {},
   "outputs": [],
   "source": [
    "zinc250k=pd.read_csv(\"250k_rndm_zinc_drugs_clean.csv\", nrows=10_000)\n",
    "gdb9=pd.read_csv(\"gdb9_shuffled.csv\", nrows=5_00)\n",
    "sampled=zinc250k.sample(1000).reset_index(drop=True)"
   ]
  },
  {
   "cell_type": "code",
   "execution_count": 7,
   "id": "6e8d5d0b-30f3-4469-abfd-ddc3a63844d6",
   "metadata": {},
   "outputs": [
    {
     "data": {
      "text/html": [
       "<div>\n",
       "<style scoped>\n",
       "    .dataframe tbody tr th:only-of-type {\n",
       "        vertical-align: middle;\n",
       "    }\n",
       "\n",
       "    .dataframe tbody tr th {\n",
       "        vertical-align: top;\n",
       "    }\n",
       "\n",
       "    .dataframe thead th {\n",
       "        text-align: right;\n",
       "    }\n",
       "</style>\n",
       "<table border=\"1\" class=\"dataframe\">\n",
       "  <thead>\n",
       "    <tr style=\"text-align: right;\">\n",
       "      <th></th>\n",
       "      <th>smiles</th>\n",
       "      <th>qed</th>\n",
       "      <th>logP</th>\n",
       "    </tr>\n",
       "  </thead>\n",
       "  <tbody>\n",
       "    <tr>\n",
       "      <th>0</th>\n",
       "      <td>CC1C(=O)NC([NH-])=C1N</td>\n",
       "      <td>0.476219</td>\n",
       "      <td>-0.0677</td>\n",
       "    </tr>\n",
       "    <tr>\n",
       "      <th>1</th>\n",
       "      <td>C#CCc1cc[nH]c1O</td>\n",
       "      <td>0.531797</td>\n",
       "      <td>0.8960</td>\n",
       "    </tr>\n",
       "    <tr>\n",
       "      <th>2</th>\n",
       "      <td>CO[C@H]1[C@H]2O[C@@H](C)[C@]21O</td>\n",
       "      <td>0.521381</td>\n",
       "      <td>-0.4666</td>\n",
       "    </tr>\n",
       "    <tr>\n",
       "      <th>3</th>\n",
       "      <td>CCC[C@H]1C[C@H]1C(N)=O</td>\n",
       "      <td>0.601215</td>\n",
       "      <td>0.9079</td>\n",
       "    </tr>\n",
       "    <tr>\n",
       "      <th>4</th>\n",
       "      <td>O=C1O[C@H]2[C@H]3CC[C@@H]1[C@H]32</td>\n",
       "      <td>0.441104</td>\n",
       "      <td>0.5678</td>\n",
       "    </tr>\n",
       "  </tbody>\n",
       "</table>\n",
       "</div>"
      ],
      "text/plain": [
       "                              smiles       qed    logP\n",
       "0              CC1C(=O)NC([NH-])=C1N  0.476219 -0.0677\n",
       "1                    C#CCc1cc[nH]c1O  0.531797  0.8960\n",
       "2    CO[C@H]1[C@H]2O[C@@H](C)[C@]21O  0.521381 -0.4666\n",
       "3             CCC[C@H]1C[C@H]1C(N)=O  0.601215  0.9079\n",
       "4  O=C1O[C@H]2[C@H]3CC[C@@H]1[C@H]32  0.441104  0.5678"
      ]
     },
     "execution_count": 7,
     "metadata": {},
     "output_type": "execute_result"
    }
   ],
   "source": [
    "gdb9.head(5)"
   ]
  },
  {
   "cell_type": "code",
   "execution_count": 8,
   "id": "de85b279-0569-4f6f-bf4e-5a98fcb3e0e5",
   "metadata": {},
   "outputs": [
    {
     "data": {
      "text/html": [
       "<div>\n",
       "<style scoped>\n",
       "    .dataframe tbody tr th:only-of-type {\n",
       "        vertical-align: middle;\n",
       "    }\n",
       "\n",
       "    .dataframe tbody tr th {\n",
       "        vertical-align: top;\n",
       "    }\n",
       "\n",
       "    .dataframe thead th {\n",
       "        text-align: right;\n",
       "    }\n",
       "</style>\n",
       "<table border=\"1\" class=\"dataframe\">\n",
       "  <thead>\n",
       "    <tr style=\"text-align: right;\">\n",
       "      <th></th>\n",
       "      <th>smiles</th>\n",
       "      <th>logP</th>\n",
       "      <th>qed</th>\n",
       "      <th>SAS</th>\n",
       "    </tr>\n",
       "  </thead>\n",
       "  <tbody>\n",
       "    <tr>\n",
       "      <th>0</th>\n",
       "      <td>CC(C)(C)c1ccc2occ(CC(=O)Nc3ccccc3F)c2c1\\n</td>\n",
       "      <td>5.05060</td>\n",
       "      <td>0.702012</td>\n",
       "      <td>2.084095</td>\n",
       "    </tr>\n",
       "    <tr>\n",
       "      <th>1</th>\n",
       "      <td>C[C@@H]1CC(Nc2cncc(-c3nncn3C)c2)C[C@@H](C)C1\\n</td>\n",
       "      <td>3.11370</td>\n",
       "      <td>0.928975</td>\n",
       "      <td>3.432004</td>\n",
       "    </tr>\n",
       "    <tr>\n",
       "      <th>2</th>\n",
       "      <td>N#Cc1ccc(-c2ccc(O[C@@H](C(=O)N3CCCC3)c3ccccc3)...</td>\n",
       "      <td>4.96778</td>\n",
       "      <td>0.599682</td>\n",
       "      <td>2.470633</td>\n",
       "    </tr>\n",
       "    <tr>\n",
       "      <th>3</th>\n",
       "      <td>CCOC(=O)[C@@H]1CCCN(C(=O)c2nc(-c3ccc(C)cc3)n3c...</td>\n",
       "      <td>4.00022</td>\n",
       "      <td>0.690944</td>\n",
       "      <td>2.822753</td>\n",
       "    </tr>\n",
       "    <tr>\n",
       "      <th>4</th>\n",
       "      <td>N#CC1=C(SCC(=O)Nc2cccc(Cl)c2)N=C([O-])[C@H](C#...</td>\n",
       "      <td>3.60956</td>\n",
       "      <td>0.789027</td>\n",
       "      <td>4.035182</td>\n",
       "    </tr>\n",
       "  </tbody>\n",
       "</table>\n",
       "</div>"
      ],
      "text/plain": [
       "                                              smiles     logP       qed  \\\n",
       "0          CC(C)(C)c1ccc2occ(CC(=O)Nc3ccccc3F)c2c1\\n  5.05060  0.702012   \n",
       "1     C[C@@H]1CC(Nc2cncc(-c3nncn3C)c2)C[C@@H](C)C1\\n  3.11370  0.928975   \n",
       "2  N#Cc1ccc(-c2ccc(O[C@@H](C(=O)N3CCCC3)c3ccccc3)...  4.96778  0.599682   \n",
       "3  CCOC(=O)[C@@H]1CCCN(C(=O)c2nc(-c3ccc(C)cc3)n3c...  4.00022  0.690944   \n",
       "4  N#CC1=C(SCC(=O)Nc2cccc(Cl)c2)N=C([O-])[C@H](C#...  3.60956  0.789027   \n",
       "\n",
       "        SAS  \n",
       "0  2.084095  \n",
       "1  3.432004  \n",
       "2  2.470633  \n",
       "3  2.822753  \n",
       "4  4.035182  "
      ]
     },
     "execution_count": 8,
     "metadata": {},
     "output_type": "execute_result"
    }
   ],
   "source": [
    "zinc250k.head(5)"
   ]
  },
  {
   "cell_type": "code",
   "execution_count": 19,
   "id": "e60e7ee2-2521-44ce-b2c8-30d512bba1f8",
   "metadata": {},
   "outputs": [],
   "source": [
    "zinc250kmols=zinc250k['smiles'].apply(Chem.MolFromSmiles)"
   ]
  },
  {
   "cell_type": "code",
   "execution_count": 56,
   "id": "64ff0ddf-9879-4ecc-8eee-3f099b8c648c",
   "metadata": {},
   "outputs": [
    {
     "data": {
      "text/plain": [
       "<Axes: ylabel='Frequency'>"
      ]
     },
     "execution_count": 56,
     "metadata": {},
     "output_type": "execute_result"
    },
    {
     "data": {
      "image/png": "[encoded data removed]",
      "text/plain": [
       "<Figure size 640x480 with 1 Axes>"
      ]
     },
     "metadata": {},
     "output_type": "display_data"
    }
   ],
   "source": [
    "tmp=zinc250kmols.apply(lambda x:x.GetNumAtoms())\n",
    "tmp.plot.hist(bins=tmp.nunique())"
   ]
  },
  {
   "cell_type": "code",
   "execution_count": 57,
   "id": "6b0c90f2-54a6-402f-afd8-f8fe51379d13",
   "metadata": {},
   "outputs": [
    {
     "data": {
      "text/plain": [
       "31.0"
      ]
     },
     "execution_count": 57,
     "metadata": {},
     "output_type": "execute_result"
    }
   ],
   "source": [
    "tmp.quantile(0.95)"
   ]
  },
  {
   "cell_type": "code",
   "execution_count": 27,
   "id": "420252c4-521a-4ebf-952e-382f27488009",
   "metadata": {},
   "outputs": [
    {
     "data": {
      "text/plain": [
       "24"
      ]
     },
     "execution_count": 27,
     "metadata": {},
     "output_type": "execute_result"
    }
   ],
   "source": [
    "(zinc250kmols[0]).GetNumAtoms()"
   ]
  },
  {
   "cell_type": "code",
   "execution_count": 9,
   "id": "3d07bd12-38e1-4693-b8e5-37055de505ff",
   "metadata": {},
   "outputs": [],
   "source": [
    "logp_scale=zinc250k['logP'].quantile([0.05,0.95]).values\n",
    "qed_scale=zinc250k['qed'].quantile([0.05,0.95]).values\n",
    "sas_scale=zinc250k['SAS'].quantile([0.05,0.95]).values"
   ]
  },
  {
   "cell_type": "markdown",
   "id": "4c95a161-d15b-4481-8369-1a89a5ed1290",
   "metadata": {},
   "source": [
    "# Atom count (with atomic numbers)\n",
    "![atom_count](atom_counts.png \"Atom Count\")"
   ]
  },
  {
   "cell_type": "code",
   "execution_count": 10,
   "id": "ad7e8b9d-bbb5-40fa-bb17-d4ab61e86bab",
   "metadata": {},
   "outputs": [
    {
     "name": "stderr",
     "output_type": "stream",
     "text": [
      "100%|███████████████████████████████████████████████████████████████████████████████| 500/500 [00:00<00:00, 543.70it/s]\n"
     ]
    }
   ],
   "source": [
    "gdb9_dataloader=smiles_to_dataloader(gdb9['smiles'])"
   ]
  },
  {
   "cell_type": "code",
   "execution_count": 11,
   "id": "fc9b0007-e42d-41f2-bee5-10e223c91f3c",
   "metadata": {},
   "outputs": [
    {
     "data": {
      "text/plain": [
       "Data(x=[3, 4], edge_index=[2, 4], edge_attr=[4], molecule=<rdkit.Chem.rdchem.Mol object at 0x0000028BEC7807B0>)"
      ]
     },
     "execution_count": 11,
     "metadata": {},
     "output_type": "execute_result"
    }
   ],
   "source": [
    "co2=sparse_pyg_graph_from_graph(*graph_remove_zero_bonds(*graph_from_smiles(\"O=C=O\", return_mol=True, typ=torch.float32)))\n",
    "co2"
   ]
  },
  {
   "cell_type": "code",
   "execution_count": 58,
   "id": "5a770093-56cc-49f1-9039-5abf92bd8d55",
   "metadata": {},
   "outputs": [
    {
     "data": {
      "text/plain": [
       "[Data(x=[3, 4], edge_index=[2, 4], edge_attr=[4], molecule=<rdkit.Chem.rdchem.Mol object at 0x0000028BEC7807B0>),\n",
       " Data(x=[3, 4], edge_index=[2, 4], edge_attr=[4], molecule=<rdkit.Chem.rdchem.Mol object at 0x0000028BEC7807B0>)]"
      ]
     },
     "execution_count": 58,
     "metadata": {},
     "output_type": "execute_result"
    }
   ],
   "source": [
    "Batch.from_data_list([co2,co2]).to_data_list()"
   ]
  },
  {
   "cell_type": "code",
   "execution_count": 62,
   "id": "9822fa3c-ea5c-4feb-b158-df605dbe9e71",
   "metadata": {},
   "outputs": [
    {
     "data": {
      "text/plain": [
       "(tensor([[0., 0., 1., 0.],\n",
       "         [1., 0., 0., 0.],\n",
       "         [0., 0., 1., 0.]], device='cuda:0'),\n",
       " tensor([[[1., 0., 1.],\n",
       "          [0., 1., 0.],\n",
       "          [1., 0., 1.]],\n",
       " \n",
       "         [[0., 1., 0.],\n",
       "          [1., 0., 1.],\n",
       "          [0., 1., 0.]],\n",
       " \n",
       "         [[0., 0., 0.],\n",
       "          [0., 0., 0.],\n",
       "          [0., 0., 0.]],\n",
       " \n",
       "         [[0., 0., 0.],\n",
       "          [0., 0., 0.],\n",
       "          [0., 0., 0.]]], device='cuda:0'))"
      ]
     },
     "execution_count": 62,
     "metadata": {},
     "output_type": "execute_result"
    }
   ],
   "source": [
    "graph_from_data(co2)"
   ]
  },
  {
   "cell_type": "code",
   "execution_count": 75,
   "id": "91e468e0-99f6-46c2-9290-f675f2dcfd33",
   "metadata": {},
   "outputs": [],
   "source": [
    "def expand_graph(x,a,typ=torch.float32):\n",
    "    assert len(x.shape)==2, \"only unbatched single graphs are supported\"\n",
    "    a_has_zero_bonds=a.shape[-3]==len(BONDS)\n",
    "    assert a_has_zero_bonds or a.shape[-3]==len(BONDS)-1\n",
    "    \n",
    "    new_a=torch.zeros(len(BONDS),MAX_N,MAX_N).to(typ)\n",
    "    if a_has_zero_bonds:\n",
    "        for t,r,c in a.nonzero():\n",
    "            new_a[...,t,r,c]=1.0\n",
    "    else:\n",
    "        for t,r,c in a.nonzero().t():\n",
    "            new_a[...,t+1,r,c]=1.0\n",
    "        new_a[...,0,:,:]=1-new_a[...,1:,:,:].sum(-3)\n",
    "\n",
    "    new_x = torch.zeros(MAX_N,x.shape[-1])\n",
    "    new_x[:x.shape[0]]=x\n",
    "    return new_x,new_a"
   ]
  },
  {
   "cell_type": "code",
   "execution_count": 76,
   "id": "7c016798-5d32-46d1-afc3-c3513c2afb9c",
   "metadata": {},
   "outputs": [
    {
     "data": {
      "text/plain": [
       "(tensor([[0., 0., 1., 0.],\n",
       "         [1., 0., 0., 0.],\n",
       "         [0., 0., 1., 0.],\n",
       "         [0., 0., 0., 0.],\n",
       "         [0., 0., 0., 0.],\n",
       "         [0., 0., 0., 0.],\n",
       "         [0., 0., 0., 0.],\n",
       "         [0., 0., 0., 0.],\n",
       "         [0., 0., 0., 0.]], device='cuda:0'),\n",
       " tensor([[[1., 0., 1., 0., 0., 0., 0., 0., 0.],\n",
       "          [0., 1., 0., 0., 0., 0., 0., 0., 0.],\n",
       "          [1., 0., 1., 0., 0., 0., 0., 0., 0.],\n",
       "          [0., 0., 0., 0., 0., 0., 0., 0., 0.],\n",
       "          [0., 0., 0., 0., 0., 0., 0., 0., 0.],\n",
       "          [0., 0., 0., 0., 0., 0., 0., 0., 0.],\n",
       "          [0., 0., 0., 0., 0., 0., 0., 0., 0.],\n",
       "          [0., 0., 0., 0., 0., 0., 0., 0., 0.],\n",
       "          [0., 0., 0., 0., 0., 0., 0., 0., 0.]],\n",
       " \n",
       "         [[0., 1., 0., 0., 0., 0., 0., 0., 0.],\n",
       "          [1., 0., 1., 0., 0., 0., 0., 0., 0.],\n",
       "          [0., 1., 0., 0., 0., 0., 0., 0., 0.],\n",
       "          [0., 0., 0., 0., 0., 0., 0., 0., 0.],\n",
       "          [0., 0., 0., 0., 0., 0., 0., 0., 0.],\n",
       "          [0., 0., 0., 0., 0., 0., 0., 0., 0.],\n",
       "          [0., 0., 0., 0., 0., 0., 0., 0., 0.],\n",
       "          [0., 0., 0., 0., 0., 0., 0., 0., 0.],\n",
       "          [0., 0., 0., 0., 0., 0., 0., 0., 0.]],\n",
       " \n",
       "         [[0., 0., 0., 0., 0., 0., 0., 0., 0.],\n",
       "          [0., 0., 0., 0., 0., 0., 0., 0., 0.],\n",
       "          [0., 0., 0., 0., 0., 0., 0., 0., 0.],\n",
       "          [0., 0., 0., 0., 0., 0., 0., 0., 0.],\n",
       "          [0., 0., 0., 0., 0., 0., 0., 0., 0.],\n",
       "          [0., 0., 0., 0., 0., 0., 0., 0., 0.],\n",
       "          [0., 0., 0., 0., 0., 0., 0., 0., 0.],\n",
       "          [0., 0., 0., 0., 0., 0., 0., 0., 0.],\n",
       "          [0., 0., 0., 0., 0., 0., 0., 0., 0.]],\n",
       " \n",
       "         [[0., 0., 0., 0., 0., 0., 0., 0., 0.],\n",
       "          [0., 0., 0., 0., 0., 0., 0., 0., 0.],\n",
       "          [0., 0., 0., 0., 0., 0., 0., 0., 0.],\n",
       "          [0., 0., 0., 0., 0., 0., 0., 0., 0.],\n",
       "          [0., 0., 0., 0., 0., 0., 0., 0., 0.],\n",
       "          [0., 0., 0., 0., 0., 0., 0., 0., 0.],\n",
       "          [0., 0., 0., 0., 0., 0., 0., 0., 0.],\n",
       "          [0., 0., 0., 0., 0., 0., 0., 0., 0.],\n",
       "          [0., 0., 0., 0., 0., 0., 0., 0., 0.]]], device='cuda:0'))"
      ]
     },
     "execution_count": 76,
     "metadata": {},
     "output_type": "execute_result"
    }
   ],
   "source": [
    "expand_graph(*graph_from_data(co2))"
   ]
  },
  {
   "cell_type": "code",
   "execution_count": 112,
   "id": "9b0bc902-ea9a-4f47-a214-aa4915124da4",
   "metadata": {},
   "outputs": [],
   "source": [
    "class Solver:\n",
    "    def __init__(self, G, D, R, z_dim, generator_steps=1, lr=1e-3, lambda_wgan=WGAN_BIAS_LAMBDA, lambda_gp=GP_LAMBDA, loss_ema_n=200):\n",
    "        self.G=G\n",
    "        self.D=D\n",
    "        self.R=R\n",
    "        self.G_opt=torch.optim.AdamW(self.G.parameters(),lr=lr)\n",
    "        self.D_opt=torch.optim.AdamW(self.D.parameters(),lr=lr)\n",
    "        self.R_opt=torch.optim.AdamW(self.R.parameters(),lr=lr)\n",
    "        self.z_dim=z_dim\n",
    "        self.generator_steps=generator_steps\n",
    "        self.lambda_wgan=lambda_wgan\n",
    "        self.lambda_gp=lambda_gp\n",
    "        self.loss_ema_n=loss_ema_n\n",
    "    def train(self, dataloader, ema_n=200, max_iters=-1):\n",
    "        iterator = tqdm(enumerate(dataloader), desc='training', total=max_iters if max_iters>=0 else len(dataloader))\n",
    "        loss_ema=0\n",
    "        las=[]\n",
    "        lbs=[]\n",
    "        lcs=[]\n",
    "        lds=[]\n",
    "        les=[]\n",
    "        loss_sums=[]\n",
    "        train_with_rl=False#will be true on the second half of the training run\n",
    "        for i,batch in iterator:\n",
    "            if max_iters==0: break\n",
    "            if i>len(dataloader)//2:\n",
    "                train_with_rl=True\n",
    "            max_iters-=1\n",
    "            cur_batch_size = len(batch.ptr)-1\n",
    "            \n",
    "            z=sample(cur_batch_size,self.z_dim)\n",
    "            \n",
    "            # =======================\n",
    "            #   train discriminator\n",
    "            # =======================\n",
    "\n",
    "            D_x = self.D(batch)\n",
    "            fake = self.G(z)\n",
    "            fake.x = fake.x.detach()#detach because we dont want to nudge generator parameter in this part\n",
    "            fake.edge_index = fake.edge_index.detach()\n",
    "            fake.edge_attr = fake.edge_attr.detach()\n",
    "            D_G_z = self.D(fake)\n",
    "            real_graphs=[expand_graph(*graph_from_data(x)) for x in batch.to_data_list()]\n",
    "            fake_graphs=[expand_graph(*graph_from_data(x)) for x in fake.to_data_list()]\n",
    "            #combined_graphs=[]\n",
    "            total_gp_loss=0\n",
    "            for (rx,ra),(fx,fa) in zip(real_graphs, fake_graphs):\n",
    "                eps = torch.rand([])\n",
    "                combined_x = (eps * rx + (1. - eps) * fx).requires_grad_(True)\n",
    "                combined_a = (eps * ra + (1. - eps) * fa)#.requires_grad_(True)\n",
    "                combined_graph=(sparse_pyg_graph_from_graph(*graph_remove_zero_bonds(*sample_gumbel(combined_x, combined_a, hard=True))))\n",
    "                D_x_hat = self.D(combined_graph)\n",
    "                gp_loss = self.lambda_gp*(gradient_penalty(D_x_hat,combined_x))#+gradient_penalty(D_x_hat,x_hat_a))\n",
    "                total_gp_loss+=gp_loss\n",
    "            #combined_graphs = Batch.from_data_list(combined_graphs)\n",
    "            #fake_n=sampled_fake_a.shape[-1]\n",
    "            #real_n=real_a.shape[-1]\n",
    "            #if real_n>fake_n:\n",
    "            #    fake_a_tmp = torch.zeros_like(real_a)\n",
    "            #    fake_a_tmp[...,:,:fake_n,:fake_n]=fake_a\n",
    "            #    fake_x_tmp = torch.rand_like(real_x)/1e9\n",
    "            #    fake_x_tmp[...,:fake_x.shape[-2],:]=fake_x\n",
    "            #    sampled_fake_a=fake_a_tmp\n",
    "            #    sampled_fake_x=fake_x_tmp\n",
    "            #elif real_n!=fake_n:\n",
    "            #    real_a_tmp = torch.zeros_like(sampled_fake_a)\n",
    "            #    real_a_tmp[...,:,:real_n,:real_n]=real_a\n",
    "            #    real_x_tmp = torch.rand_like(sampled_fake_x)/1e9\n",
    "            #    real_x_tmp[...,:real_x.shape[-2],:]=real_x\n",
    "            #    real_a=real_a_tmp\n",
    "            #    real_x=real_x_tmp\n",
    "            #(x_hat_x, x_hat_a) = ( #x_hat = e*fake+(1-e)*real where e~U(0,1)\n",
    "            #    (eps*sampled_fake_x + (1-eps)*real_x).detach().requires_grad_(True),# \n",
    "            #    (eps*sampled_fake_a + (1-eps)*real_a).detach().requires_grad_(True),# \n",
    "            #)\n",
    "            #D_x_hat = self.D((x_hat_x, x_hat_a))\n",
    "            \n",
    "            \n",
    "            \n",
    "            loss_D = D_G_z.sum()-D_x.sum()+total_gp_loss #GRADIENT PENALTY LOSS IS MAIN CULPRIT FOR NAN\n",
    "            #if it errors because loss_D is not a scalar, then gp_loss calculations needs a .mean()\n",
    "            #although, it shouldn't happen when batching has not been implemented\n",
    "            self.D.zero_grad(set_to_none=True)\n",
    "            loss_D.backward()\n",
    "            self.D_opt.step()\n",
    "            \n",
    "            # ===================\n",
    "            #   train rewardnet\n",
    "            # ===================\n",
    "\n",
    "            real_reward = reward(real_mol)\n",
    "            fake_reward = reward(mol_from_graph(sampled_fake_x, sampled_fake_a))\n",
    "\n",
    "            R_x = self.R((real_x, real_a))\n",
    "            R_G_z = self.R((sampled_fake_x, sampled_fake_a))\n",
    "            \n",
    "            loss_V = (R_x - real_reward).abs() + (R_G_z - fake_reward).abs()# <- I'm half afraid that this part will induce too much noice.\n",
    "                                              # Isn't |R(x)-reward(x)| enough? Can't find it in the paper about this\n",
    "            self.R.zero_grad(set_to_none=True)\n",
    "            loss_V.backward()\n",
    "            self.R_opt.step()\n",
    "            \n",
    "            # ===================\n",
    "            #   train generator\n",
    "            # =================== \n",
    "            for param in self.D.parameters():\n",
    "                param.requires_grad = False\n",
    "            for param in self.R.parameters():\n",
    "                param.requires_grad = False\n",
    "                \n",
    "            for _ in range(self.generator_steps):\n",
    "                z=sample(self.z_dim)\n",
    "                (fake_x, fake_a) = self.G(z)\n",
    "                (sampled_fake_x, sampled_fake_a) = sample_gumbel(fake_x, fake_a)\n",
    "                D_G_z = self.D((sampled_fake_x, sampled_fake_a))\n",
    "                loss_G_wgan = -D_G_z\n",
    "\n",
    "                if train_with_rl:\n",
    "                    R_G_z = self.R((sampled_fake_x, sampled_fake_a))\n",
    "                    loss_RL = -R_G_z\n",
    "        \n",
    "                    # I have no idea what alpha is. I dont think it's in the paper\n",
    "                    #alpha = torch.abs(loss_G_wgan.detach() / (loss_RL.detach()+1e-9)).detach()\n",
    "                    loss_molgan = self.lambda_wgan * loss_G_wgan + (1 - self.lambda_wgan) * loss_RL\n",
    "                else:\n",
    "                    loss_molgan = loss_G_wgan\n",
    "                la,lb,lc,ld,le=(loss_molgan.detach().cpu(), loss_V.detach().cpu(), loss_D.detach().cpu(), loss_G_wgan.detach().cpu(), loss_RL.detach().cpu())\n",
    "                self.G.zero_grad(set_to_none=True)\n",
    "                loss_molgan.backward()\n",
    "                self.G_opt.step()\n",
    "            \n",
    "            for param in self.D.parameters():\n",
    "                param.requires_grad = True\n",
    "            for param in self.R.parameters():\n",
    "                param.requires_grad = True\n",
    "                \n",
    "            la=float(la)\n",
    "            lb=float(lb)\n",
    "            lc=float(lc)\n",
    "            ld=float(ld)\n",
    "            le=float(le)\n",
    "            loss_sum = float(loss_molgan.detach().cpu()+loss_V.detach().cpu()+loss_D.detach().cpu())\n",
    "            \n",
    "            loss_ema = (1-1/ema_n)*loss_ema + loss_sum/ema_n\n",
    "            #print(f\"loss:{loss_ema:.2f} loss_molgan:{la:.2f} loss_V:{lb:.2f} loss_D:{lc:.2f} loss_G_wgan:{ld:.2f} loss_RL:{le:.2f}\")\n",
    "\n",
    "\n",
    "            las.append(la)\n",
    "            lbs.append(lb)\n",
    "            lcs.append(lc)\n",
    "            lds.append(ld)\n",
    "            les.append(le)\n",
    "            loss_sums.append(loss_sum)\n",
    "\n",
    "            \n",
    "            iterator.set_description(f\"loss:{loss_ema:.2f} RL loss:{le:.2f}\")# loss_molgan:{la:.2f} loss_V:{lb:.2f} loss_D:{lc:.2f} loss_G_wgan:{ld:.2f} loss_RL:{le:.2f}\")\n",
    "        \n",
    "        \n",
    "        return las, lbs, lcs, lds, les, loss_sums\n"
   ]
  },
  {
   "cell_type": "code",
   "execution_count": 113,
   "id": "950babe5-1ffb-47e7-8d93-746b6def89f5",
   "metadata": {},
   "outputs": [],
   "source": [
    "rgcn=reload(rgcn)\n",
    "D=reload(D)\n",
    "G=reload(G)\n",
    "R=reload(R)"
   ]
  },
  {
   "cell_type": "code",
   "execution_count": 114,
   "id": "56d85b8b-0d68-4e63-b6dd-5c8b83d06ae9",
   "metadata": {},
   "outputs": [],
   "source": [
    "Z_DIM=32\n",
    "g = G.Generator(Z_DIM, [128, 256, 512], [256], [256], 9)\n",
    "#input_dim, rgcn_dims, i_dims, j_dims, final_mlp_dims\n",
    "d = D.Discriminator([128, 64], [128], [128], [128, 64])\n",
    "r = R.Rewarder([128, 64], [128], [128], [128, 64])\n",
    "\n",
    "#g = G.Generator(32, [128, 256, 512], [], [], 9)\n",
    "##input_dim, rgcn_dims, i_dims, j_dims, final_mlp_dims\n",
    "#d = D.Discriminator([128, 256, 128, 128, 64], [128, 64], [128, 64], [128, 64])\n",
    "#r = R.Rewarder([128, 256, 128, 128, 64], [128, 64], [128, 64], [128, 64])"
   ]
  },
  {
   "cell_type": "code",
   "execution_count": 115,
   "id": "125ddee7-7a7e-4b7c-b728-acd51b592afd",
   "metadata": {},
   "outputs": [],
   "source": [
    "solver = Solver(g,d,r,Z_DIM,generator_steps=1,lr=1e-3)"
   ]
  },
  {
   "cell_type": "code",
   "execution_count": 116,
   "id": "344a69ef-17d2-4c00-ae18-8df0384a3c62",
   "metadata": {},
   "outputs": [
    {
     "name": "stderr",
     "output_type": "stream",
     "text": [
      "training:   0%|                                                                                  | 0/4 [00:02<?, ?it/s]\n"
     ]
    },
    {
     "ename": "RuntimeError",
     "evalue": "one of the variables needed for gradient computation has been modified by an inplace operation: [torch.cuda.LongTensor [2952]] is at version 32; expected version 0 instead. Hint: enable anomaly detection to find the operation that failed to compute its gradient, with torch.autograd.set_detect_anomaly(True).",
     "output_type": "error",
     "traceback": [
      "\u001b[1;31m---------------------------------------------------------------------------\u001b[0m",
      "\u001b[1;31mRuntimeError\u001b[0m                              Traceback (most recent call last)",
      "Cell \u001b[1;32mIn[116], line 1\u001b[0m\n\u001b[1;32m----> 1\u001b[0m result\u001b[38;5;241m=\u001b[39m\u001b[43msolver\u001b[49m\u001b[38;5;241;43m.\u001b[39;49m\u001b[43mtrain\u001b[49m\u001b[43m(\u001b[49m\u001b[43mgdb9_dataloader\u001b[49m\u001b[43m,\u001b[49m\u001b[43mmax_iters\u001b[49m\u001b[38;5;241;43m=\u001b[39;49m\u001b[38;5;241;43m4\u001b[39;49m\u001b[43m)\u001b[49m\n",
      "Cell \u001b[1;32mIn[112], line 84\u001b[0m, in \u001b[0;36mSolver.train\u001b[1;34m(self, dataloader, ema_n, max_iters)\u001b[0m\n\u001b[0;32m     81\u001b[0m \u001b[38;5;66;03m#if it errors because loss_D is not a scalar, then gp_loss calculations needs a .mean()\u001b[39;00m\n\u001b[0;32m     82\u001b[0m \u001b[38;5;66;03m#although, it shouldn't happen when batching has not been implemented\u001b[39;00m\n\u001b[0;32m     83\u001b[0m \u001b[38;5;28mself\u001b[39m\u001b[38;5;241m.\u001b[39mD\u001b[38;5;241m.\u001b[39mzero_grad(set_to_none\u001b[38;5;241m=\u001b[39m\u001b[38;5;28;01mTrue\u001b[39;00m)\n\u001b[1;32m---> 84\u001b[0m \u001b[43mloss_D\u001b[49m\u001b[38;5;241;43m.\u001b[39;49m\u001b[43mbackward\u001b[49m\u001b[43m(\u001b[49m\u001b[43m)\u001b[49m\n\u001b[0;32m     85\u001b[0m \u001b[38;5;28mself\u001b[39m\u001b[38;5;241m.\u001b[39mD_opt\u001b[38;5;241m.\u001b[39mstep()\n\u001b[0;32m     87\u001b[0m \u001b[38;5;66;03m# ===================\u001b[39;00m\n\u001b[0;32m     88\u001b[0m \u001b[38;5;66;03m#   train rewardnet\u001b[39;00m\n\u001b[0;32m     89\u001b[0m \u001b[38;5;66;03m# ===================\u001b[39;00m\n",
      "File \u001b[1;32m~\\micromamba\\envs\\drugresearch\\lib\\site-packages\\torch\\_tensor.py:513\u001b[0m, in \u001b[0;36mTensor.backward\u001b[1;34m(self, gradient, retain_graph, create_graph, inputs)\u001b[0m\n\u001b[0;32m    466\u001b[0m \u001b[38;5;250m\u001b[39m\u001b[38;5;124mr\u001b[39m\u001b[38;5;124;03m\"\"\"Computes the gradient of current tensor wrt graph leaves.\u001b[39;00m\n\u001b[0;32m    467\u001b[0m \n\u001b[0;32m    468\u001b[0m \u001b[38;5;124;03mThe graph is differentiated using the chain rule. If the tensor is\u001b[39;00m\n\u001b[1;32m   (...)\u001b[0m\n\u001b[0;32m    510\u001b[0m \u001b[38;5;124;03m        used to compute the attr::tensors.\u001b[39;00m\n\u001b[0;32m    511\u001b[0m \u001b[38;5;124;03m\"\"\"\u001b[39;00m\n\u001b[0;32m    512\u001b[0m \u001b[38;5;28;01mif\u001b[39;00m has_torch_function_unary(\u001b[38;5;28mself\u001b[39m):\n\u001b[1;32m--> 513\u001b[0m     \u001b[38;5;28;01mreturn\u001b[39;00m \u001b[43mhandle_torch_function\u001b[49m\u001b[43m(\u001b[49m\n\u001b[0;32m    514\u001b[0m \u001b[43m        \u001b[49m\u001b[43mTensor\u001b[49m\u001b[38;5;241;43m.\u001b[39;49m\u001b[43mbackward\u001b[49m\u001b[43m,\u001b[49m\n\u001b[0;32m    515\u001b[0m \u001b[43m        \u001b[49m\u001b[43m(\u001b[49m\u001b[38;5;28;43mself\u001b[39;49m\u001b[43m,\u001b[49m\u001b[43m)\u001b[49m\u001b[43m,\u001b[49m\n\u001b[0;32m    516\u001b[0m \u001b[43m        \u001b[49m\u001b[38;5;28;43mself\u001b[39;49m\u001b[43m,\u001b[49m\n\u001b[0;32m    517\u001b[0m \u001b[43m        \u001b[49m\u001b[43mgradient\u001b[49m\u001b[38;5;241;43m=\u001b[39;49m\u001b[43mgradient\u001b[49m\u001b[43m,\u001b[49m\n\u001b[0;32m    518\u001b[0m \u001b[43m        \u001b[49m\u001b[43mretain_graph\u001b[49m\u001b[38;5;241;43m=\u001b[39;49m\u001b[43mretain_graph\u001b[49m\u001b[43m,\u001b[49m\n\u001b[0;32m    519\u001b[0m \u001b[43m        \u001b[49m\u001b[43mcreate_graph\u001b[49m\u001b[38;5;241;43m=\u001b[39;49m\u001b[43mcreate_graph\u001b[49m\u001b[43m,\u001b[49m\n\u001b[0;32m    520\u001b[0m \u001b[43m        \u001b[49m\u001b[43minputs\u001b[49m\u001b[38;5;241;43m=\u001b[39;49m\u001b[43minputs\u001b[49m\u001b[43m,\u001b[49m\n\u001b[0;32m    521\u001b[0m \u001b[43m    \u001b[49m\u001b[43m)\u001b[49m\n\u001b[0;32m    522\u001b[0m torch\u001b[38;5;241m.\u001b[39mautograd\u001b[38;5;241m.\u001b[39mbackward(\n\u001b[0;32m    523\u001b[0m     \u001b[38;5;28mself\u001b[39m, gradient, retain_graph, create_graph, inputs\u001b[38;5;241m=\u001b[39minputs\n\u001b[0;32m    524\u001b[0m )\n",
      "File \u001b[1;32m~\\micromamba\\envs\\drugresearch\\lib\\site-packages\\torch\\overrides.py:1604\u001b[0m, in \u001b[0;36mhandle_torch_function\u001b[1;34m(public_api, relevant_args, *args, **kwargs)\u001b[0m\n\u001b[0;32m   1600\u001b[0m \u001b[38;5;28;01mif\u001b[39;00m _is_torch_function_mode_enabled():\n\u001b[0;32m   1601\u001b[0m     \u001b[38;5;66;03m# if we're here, the mode must be set to a TorchFunctionStackMode\u001b[39;00m\n\u001b[0;32m   1602\u001b[0m     \u001b[38;5;66;03m# this unsets it and calls directly into TorchFunctionStackMode's torch function\u001b[39;00m\n\u001b[0;32m   1603\u001b[0m     \u001b[38;5;28;01mwith\u001b[39;00m _pop_mode_temporarily() \u001b[38;5;28;01mas\u001b[39;00m mode:\n\u001b[1;32m-> 1604\u001b[0m         result \u001b[38;5;241m=\u001b[39m \u001b[43mmode\u001b[49m\u001b[38;5;241;43m.\u001b[39;49m\u001b[43m__torch_function__\u001b[49m\u001b[43m(\u001b[49m\u001b[43mpublic_api\u001b[49m\u001b[43m,\u001b[49m\u001b[43m \u001b[49m\u001b[43mtypes\u001b[49m\u001b[43m,\u001b[49m\u001b[43m \u001b[49m\u001b[43margs\u001b[49m\u001b[43m,\u001b[49m\u001b[43m \u001b[49m\u001b[43mkwargs\u001b[49m\u001b[43m)\u001b[49m\n\u001b[0;32m   1605\u001b[0m     \u001b[38;5;28;01mif\u001b[39;00m result \u001b[38;5;129;01mis\u001b[39;00m \u001b[38;5;129;01mnot\u001b[39;00m \u001b[38;5;28mNotImplemented\u001b[39m:\n\u001b[0;32m   1606\u001b[0m         \u001b[38;5;28;01mreturn\u001b[39;00m result\n",
      "File \u001b[1;32m~\\micromamba\\envs\\drugresearch\\lib\\site-packages\\torch\\utils\\_device.py:77\u001b[0m, in \u001b[0;36mDeviceContext.__torch_function__\u001b[1;34m(self, func, types, args, kwargs)\u001b[0m\n\u001b[0;32m     75\u001b[0m \u001b[38;5;28;01mif\u001b[39;00m func \u001b[38;5;129;01min\u001b[39;00m _device_constructors() \u001b[38;5;129;01mand\u001b[39;00m kwargs\u001b[38;5;241m.\u001b[39mget(\u001b[38;5;124m'\u001b[39m\u001b[38;5;124mdevice\u001b[39m\u001b[38;5;124m'\u001b[39m) \u001b[38;5;129;01mis\u001b[39;00m \u001b[38;5;28;01mNone\u001b[39;00m:\n\u001b[0;32m     76\u001b[0m     kwargs[\u001b[38;5;124m'\u001b[39m\u001b[38;5;124mdevice\u001b[39m\u001b[38;5;124m'\u001b[39m] \u001b[38;5;241m=\u001b[39m \u001b[38;5;28mself\u001b[39m\u001b[38;5;241m.\u001b[39mdevice\n\u001b[1;32m---> 77\u001b[0m \u001b[38;5;28;01mreturn\u001b[39;00m func(\u001b[38;5;241m*\u001b[39margs, \u001b[38;5;241m*\u001b[39m\u001b[38;5;241m*\u001b[39mkwargs)\n",
      "File \u001b[1;32m~\\micromamba\\envs\\drugresearch\\lib\\site-packages\\torch\\_tensor.py:522\u001b[0m, in \u001b[0;36mTensor.backward\u001b[1;34m(self, gradient, retain_graph, create_graph, inputs)\u001b[0m\n\u001b[0;32m    512\u001b[0m \u001b[38;5;28;01mif\u001b[39;00m has_torch_function_unary(\u001b[38;5;28mself\u001b[39m):\n\u001b[0;32m    513\u001b[0m     \u001b[38;5;28;01mreturn\u001b[39;00m handle_torch_function(\n\u001b[0;32m    514\u001b[0m         Tensor\u001b[38;5;241m.\u001b[39mbackward,\n\u001b[0;32m    515\u001b[0m         (\u001b[38;5;28mself\u001b[39m,),\n\u001b[1;32m   (...)\u001b[0m\n\u001b[0;32m    520\u001b[0m         inputs\u001b[38;5;241m=\u001b[39minputs,\n\u001b[0;32m    521\u001b[0m     )\n\u001b[1;32m--> 522\u001b[0m \u001b[43mtorch\u001b[49m\u001b[38;5;241;43m.\u001b[39;49m\u001b[43mautograd\u001b[49m\u001b[38;5;241;43m.\u001b[39;49m\u001b[43mbackward\u001b[49m\u001b[43m(\u001b[49m\n\u001b[0;32m    523\u001b[0m \u001b[43m    \u001b[49m\u001b[38;5;28;43mself\u001b[39;49m\u001b[43m,\u001b[49m\u001b[43m \u001b[49m\u001b[43mgradient\u001b[49m\u001b[43m,\u001b[49m\u001b[43m \u001b[49m\u001b[43mretain_graph\u001b[49m\u001b[43m,\u001b[49m\u001b[43m \u001b[49m\u001b[43mcreate_graph\u001b[49m\u001b[43m,\u001b[49m\u001b[43m \u001b[49m\u001b[43minputs\u001b[49m\u001b[38;5;241;43m=\u001b[39;49m\u001b[43minputs\u001b[49m\n\u001b[0;32m    524\u001b[0m \u001b[43m\u001b[49m\u001b[43m)\u001b[49m\n",
      "File \u001b[1;32m~\\micromamba\\envs\\drugresearch\\lib\\site-packages\\torch\\autograd\\__init__.py:266\u001b[0m, in \u001b[0;36mbackward\u001b[1;34m(tensors, grad_tensors, retain_graph, create_graph, grad_variables, inputs)\u001b[0m\n\u001b[0;32m    261\u001b[0m     retain_graph \u001b[38;5;241m=\u001b[39m create_graph\n\u001b[0;32m    263\u001b[0m \u001b[38;5;66;03m# The reason we repeat the same comment below is that\u001b[39;00m\n\u001b[0;32m    264\u001b[0m \u001b[38;5;66;03m# some Python versions print out the first line of a multi-line function\u001b[39;00m\n\u001b[0;32m    265\u001b[0m \u001b[38;5;66;03m# calls in the traceback and some print out the last line\u001b[39;00m\n\u001b[1;32m--> 266\u001b[0m \u001b[43mVariable\u001b[49m\u001b[38;5;241;43m.\u001b[39;49m\u001b[43m_execution_engine\u001b[49m\u001b[38;5;241;43m.\u001b[39;49m\u001b[43mrun_backward\u001b[49m\u001b[43m(\u001b[49m\u001b[43m  \u001b[49m\u001b[38;5;66;43;03m# Calls into the C++ engine to run the backward pass\u001b[39;49;00m\n\u001b[0;32m    267\u001b[0m \u001b[43m    \u001b[49m\u001b[43mtensors\u001b[49m\u001b[43m,\u001b[49m\n\u001b[0;32m    268\u001b[0m \u001b[43m    \u001b[49m\u001b[43mgrad_tensors_\u001b[49m\u001b[43m,\u001b[49m\n\u001b[0;32m    269\u001b[0m \u001b[43m    \u001b[49m\u001b[43mretain_graph\u001b[49m\u001b[43m,\u001b[49m\n\u001b[0;32m    270\u001b[0m \u001b[43m    \u001b[49m\u001b[43mcreate_graph\u001b[49m\u001b[43m,\u001b[49m\n\u001b[0;32m    271\u001b[0m \u001b[43m    \u001b[49m\u001b[43minputs\u001b[49m\u001b[43m,\u001b[49m\n\u001b[0;32m    272\u001b[0m \u001b[43m    \u001b[49m\u001b[43mallow_unreachable\u001b[49m\u001b[38;5;241;43m=\u001b[39;49m\u001b[38;5;28;43;01mTrue\u001b[39;49;00m\u001b[43m,\u001b[49m\n\u001b[0;32m    273\u001b[0m \u001b[43m    \u001b[49m\u001b[43maccumulate_grad\u001b[49m\u001b[38;5;241;43m=\u001b[39;49m\u001b[38;5;28;43;01mTrue\u001b[39;49;00m\u001b[43m,\u001b[49m\n\u001b[0;32m    274\u001b[0m \u001b[43m\u001b[49m\u001b[43m)\u001b[49m\n",
      "\u001b[1;31mRuntimeError\u001b[0m: one of the variables needed for gradient computation has been modified by an inplace operation: [torch.cuda.LongTensor [2952]] is at version 32; expected version 0 instead. Hint: enable anomaly detection to find the operation that failed to compute its gradient, with torch.autograd.set_detect_anomaly(True)."
     ]
    }
   ],
   "source": [
    "result=solver.train(gdb9_dataloader,max_iters=4)"
   ]
  },
  {
   "cell_type": "code",
   "execution_count": null,
   "id": "0bd293c7-1764-4427-b4e1-35c064b69d04",
   "metadata": {},
   "outputs": [],
   "source": [
    "x_int0 = model.adjacency_tensor \n",
    "        * \n",
    "        tf.expand_dims(\n",
    "            tf.expand_dims(\n",
    "                tf.expand_dims(eps, -1), \n",
    "                -1),\n",
    "            -1\n",
    "        )\n",
    "        + \n",
    "        model.edges_softmax \n",
    "        * \n",
    "        (\n",
    "            1 \n",
    "            - \n",
    "            tf.expand_dims(\n",
    "                tf.expand_dims(\n",
    "                    tf.expand_dims(eps, -1), \n",
    "                    -1\n",
    "                ), \n",
    "                -1\n",
    "            )\n",
    "        )\n",
    "x_int1 = model.node_tensor * tf.expand_dims(tf.expand_dims(eps, -1), -1) + model.nodes_softmax * (\n",
    "1 - tf.expand_dims(tf.expand_dims(eps, -1), -1))"
   ]
  },
  {
   "cell_type": "raw",
   "id": "13c3a712-93e0-4eeb-8f06-2ddfbb49a80d",
   "metadata": {
    "scrolled": true
   },
   "source": [
    "import cProfile, pstats, io\n",
    "from pstats import SortKey\n",
    "pr = cProfile.Profile()\n",
    "pr.enable()\n",
    "result=solver.train(zinc250k,max_iters=5000)\n",
    "pr.disable()\n",
    "s = io.StringIO()\n",
    "sortby = SortKey.TIME\n",
    "ps = pstats.Stats(pr, stream=s).sort_stats(sortby)\n",
    "ps.print_stats()\n",
    "print(s.getvalue())"
   ]
  },
  {
   "cell_type": "code",
   "execution_count": 22,
   "id": "1e8c7692-9344-4d77-9694-478ff3dd4e4d",
   "metadata": {},
   "outputs": [
    {
     "data": {
      "text/plain": [
       "Text(0.5, 0, 'iteration')"
      ]
     },
     "execution_count": 22,
     "metadata": {},
     "output_type": "execute_result"
    },
    {
     "data": {
      "image/png": "[encoded data removed]",
      "text/plain": [
       "<Figure size 640x480 with 1 Axes>"
      ]
     },
     "metadata": {},
     "output_type": "display_data"
    }
   ],
   "source": [
    "result_df=pd.DataFrame(result,index=[\"loss_molgan\", \"loss_V\", \"loss_D\", \"loss_G_wgan\", \"loss_RL\", \"loss_sum\"]).T\n",
    "ax=result_df.drop(columns=['loss_sum','loss_V','loss_RL']).rolling(window=10).mean().plot()\n",
    "ax.set_xscale('log')\n",
    "#ax.set_ylim((-8,8))\n",
    "ax.set_xlabel(\"iteration\")"
   ]
  },
  {
   "cell_type": "code",
   "execution_count": 23,
   "id": "2940a610-69df-4c2c-be56-16b97f07b337",
   "metadata": {},
   "outputs": [
    {
     "data": {
      "text/plain": [
       "Text(0.5, 0, 'iteration')"
      ]
     },
     "execution_count": 23,
     "metadata": {},
     "output_type": "execute_result"
    },
    {
     "data": {
      "image/png": "[encoded data removed]",
      "text/plain": [
       "<Figure size 640x480 with 1 Axes>"
      ]
     },
     "metadata": {},
     "output_type": "display_data"
    }
   ],
   "source": [
    "ax=result_df[['loss_V','loss_RL']].rolling(window=10).mean().plot()\n",
    "ax.set_xscale('log')\n",
    "#ax.set_ylim((-.6,.3))\n",
    "ax.set_xlabel(\"iteration\")"
   ]
  },
  {
   "cell_type": "code",
   "execution_count": 29,
   "id": "d484cfe0-97cd-4816-aebb-53e83814600a",
   "metadata": {},
   "outputs": [
    {
     "data": {
      "text/plain": [
       "Text(0.5, 1.0, 'loss_molgan')"
      ]
     },
     "execution_count": 29,
     "metadata": {},
     "output_type": "execute_result"
    },
    {
     "data": {
      "image/png": "[encoded data removed]",
      "text/plain": [
       "<Figure size 640x480 with 1 Axes>"
      ]
     },
     "metadata": {},
     "output_type": "display_data"
    }
   ],
   "source": [
    "ax=result_df['loss_molgan'].rolling(window=10).mean().plot()\n",
    "ax.set_xscale('log')\n",
    "#ax.set_ylim((-10,10))\n",
    "ax.set_xlabel(\"iteration\")\n",
    "ax.set_title(\"loss_molgan\")"
   ]
  },
  {
   "cell_type": "code",
   "execution_count": 25,
   "id": "9f469f79-351a-41a5-b620-b886942b9d87",
   "metadata": {},
   "outputs": [
    {
     "data": {
      "text/plain": [
       "Text(0.5, 0, 'iteration')"
      ]
     },
     "execution_count": 25,
     "metadata": {},
     "output_type": "execute_result"
    },
    {
     "data": {
      "image/png": "[encoded data removed]",
      "text/plain": [
       "<Figure size 640x480 with 1 Axes>"
      ]
     },
     "metadata": {},
     "output_type": "display_data"
    }
   ],
   "source": [
    "ax=result_df[['loss_D','loss_molgan']].rolling(window=10).mean().plot()\n",
    "ax.set_xscale('log')\n",
    "#ax.set_ylim((-.6,.3))\n",
    "ax.set_xlabel(\"iteration\")"
   ]
  },
  {
   "cell_type": "code",
   "execution_count": null,
   "id": "f0b4c205-0a92-42ed-aa7e-9f42e0932610",
   "metadata": {},
   "outputs": [],
   "source": [
    "GP_LAMBDA"
   ]
  },
  {
   "cell_type": "code",
   "execution_count": null,
   "id": "42d68b03-e0d7-4b7e-b1cd-c6ebeabcad09",
   "metadata": {},
   "outputs": [],
   "source": [
    "with torch.no_grad():\n",
    "    tmp=tqdm(range(10000))\n",
    "    for _ in tmp:\n",
    "        generated=solver.G(sample(Z_DIM))\n",
    "        sampled_graph=sample_gumbel(*generated,hard=True)\n",
    "        tmpmol=(mol_from_graph(*sampled_graph,print_errors=False))\n",
    "        tmp.set_description(f'{sampled_graph[1][...,1:,:,:].sum()}')\n",
    "        if tmpmol is not None:\n",
    "            display(tmpmol)"
   ]
  },
  {
   "cell_type": "code",
   "execution_count": 27,
   "id": "ae4a118f-37fa-41f8-a9d4-067a316e72b0",
   "metadata": {},
   "outputs": [
    {
     "name": "stderr",
     "output_type": "stream",
     "text": [
      "0 54.0:  15%|██████████▏                                                         | 1489/10000 [00:02<00:17, 498.79it/s]\n",
      "\n",
      "KeyboardInterrupt\n",
      "\n"
     ]
    }
   ],
   "source": [
    "best_mol=None\n",
    "best_score=-100\n",
    "with torch.no_grad():\n",
    "    tmp=tqdm(range(10000))\n",
    "    for _ in tmp:\n",
    "        generated=solver.G(sample(Z_DIM))\n",
    "        sampled_graph=sample_gumbel(*generated,hard=True)\n",
    "        try:\n",
    "            tmp_score=reward(mol_from_graph(*sampled_graph,strict=False)).item()\n",
    "        except:\n",
    "            tmp_score=0\n",
    "        if (tmp_score)>best_score:\n",
    "            best_score=tmp_score\n",
    "            best_mol=sampled_graph\n",
    "            tmp.set_description(f'{best_score} {sampled_graph[1][...,1:,:,:].sum()}')\n",
    "            #display(mol_from_graph(*best_mol,strict=False))"
   ]
  },
  {
   "cell_type": "code",
   "execution_count": null,
   "id": "447b895e-b26d-4f17-a25b-19b87c4687e9",
   "metadata": {},
   "outputs": [],
   "source": [
    "mol_from_graph(*sampled_graph,strict=False)"
   ]
  },
  {
   "cell_type": "code",
   "execution_count": null,
   "id": "de115d5d-c34d-4826-b64e-54fe455a3f6f",
   "metadata": {},
   "outputs": [],
   "source": [
    "mol_from_graph(*best_mol,strict=False)"
   ]
  },
  {
   "cell_type": "code",
   "execution_count": null,
   "id": "746e8202-45f1-4f61-a3d4-3754a39fd07c",
   "metadata": {},
   "outputs": [],
   "source": [
    "with torch.no_grad():\n",
    "    print(solver.R(sampled_graph).item())"
   ]
  },
  {
   "cell_type": "code",
   "execution_count": null,
   "id": "a2fac5cf-2553-4ffc-ba75-38a95f388262",
   "metadata": {},
   "outputs": [],
   "source": [
    "from IPython.display import display\n",
    "for generated_graph in zip(*generated):\n",
    "    tmp=(sample_gumbel(*generated_graph))\n",
    "    break"
   ]
  },
  {
   "cell_type": "code",
   "execution_count": null,
   "id": "88a926f2-03cc-4b0f-8ffc-e77b99e5a8e6",
   "metadata": {},
   "outputs": [],
   "source": [
    "mol_from_graph(*tmp,print_errors=True)"
   ]
  },
  {
   "cell_type": "raw",
   "id": "23fae0ea-594c-4709-9aac-9f8e2117137e",
   "metadata": {},
   "source": [
    "\n",
    "edges_logits, nodes_logits = self.G(z)\n",
    "# Postprocess with Gumbel softmax\n",
    "(edges_hat, nodes_hat) = self.postprocess((edges_logits, nodes_logits), self.post_method)\n",
    "logits_fake, _ = self.D(edges_hat, None, nodes_hat) #D(G(z))\n",
    "# Losses Update\n",
    "loss_G = -logits_fake\n",
    "\n",
    "# Real Reward\n",
    "reward_r = torch.from_numpy(self.reward(mols)).to(self.device) #\n",
    "reward_f = self.get_reward(nodes_hat, edges_hat, self.post_method) #\n",
    "\n",
    "# Value losses\n",
    "value_logit_real, _ = self.V(a_tensor, None, x_tensor, torch.sigmoid) #R(x)\n",
    "value_logit_fake, _ = self.V(edges_hat, None, nodes_hat, torch.sigmoid) #R(G(z))\n",
    "\n",
    "# Original TF loss_V. Here we use absolute values instead of the squared one.\n",
    "# loss_V = (value_logit_real - reward_r) ** 2 + (value_logit_fake - reward_f) ** 2\n",
    "loss_V = torch.abs(value_logit_real - reward_r) + torch.abs(value_logit_fake - reward_f)\n",
    "\n",
    "\n",
    "loss_RL = -value_logit_fake\n",
    "\n",
    "loss_G = torch.mean(loss_G)\n",
    "loss_V = torch.mean(loss_V)\n",
    "loss_RL = torch.mean(loss_RL)\n",
    "\n",
    "alpha = torch.abs(loss_G.detach() / loss_RL.detach()).detach()\n",
    "train_step_G = cur_la * loss_G + (1 - cur_la) * alpha * loss_RL\n",
    "\n",
    "train_step_V = loss_V"
   ]
  },
  {
   "cell_type": "markdown",
   "id": "21f8375f-9573-425b-9b4c-28992ee87875",
   "metadata": {},
   "source": [
    "WGAN-GP formula\n",
    "\n",
    "$\\underset{G}{\\min}\\underset{D}{\\max}{[D(x)-D(G(z))+\\lambda(\\nabla_\\hat{x}||D(\\hat{x})||_2-1)^2]};x\\sim X;z\\sim p(z)$"
   ]
  }
 ],
 "metadata": {
  "kernelspec": {
   "display_name": "Python 3 (ipykernel)",
   "language": "python",
   "name": "python3"
  },
  "language_info": {
   "codemirror_mode": {
    "name": "ipython",
    "version": 3
   },
   "file_extension": ".py",
   "mimetype": "text/x-python",
   "name": "python",
   "nbconvert_exporter": "python",
   "pygments_lexer": "ipython3",
   "version": "3.10.14"
  }
 },
 "nbformat": 4,
 "nbformat_minor": 5
}
