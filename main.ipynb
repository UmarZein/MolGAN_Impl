{
 "cells": [
  {
   "cell_type": "code",
   "execution_count": 1,
   "id": "2492407f-2213-45ed-82b1-669b2129cabf",
   "metadata": {},
   "outputs": [],
   "source": [
    "import torch\n",
    "from torch import nn\n",
    "import rdkit\n",
    "from tqdm import tqdm\n",
    "from rdkit import Chem\n",
    "import pandas as pd\n",
    "from importlib import reload  "
   ]
  },
  {
   "cell_type": "code",
   "execution_count": 2,
   "id": "0bba6332-8694-46c8-b5df-d4bc05c50396",
   "metadata": {},
   "outputs": [],
   "source": [
    "import sascorer"
   ]
  },
  {
   "cell_type": "code",
   "execution_count": 3,
   "id": "3e112759-f9b6-49cd-88f6-0c944795356a",
   "metadata": {},
   "outputs": [],
   "source": [
    "torch.set_default_device('cuda')"
   ]
  },
  {
   "cell_type": "code",
   "execution_count": 4,
   "id": "2e4df6fa-eb31-485d-b022-230551894ea0",
   "metadata": {},
   "outputs": [],
   "source": [
    "from constants import *"
   ]
  },
  {
   "cell_type": "code",
   "execution_count": 5,
   "id": "9243c36d-5be6-48ad-b9e0-9bfa03f3800b",
   "metadata": {},
   "outputs": [],
   "source": [
    "import  generator as G\n",
    "import discriminator as D\n",
    "import rewardnet as R\n",
    "import mlp as M\n",
    "import rgcn"
   ]
  },
  {
   "cell_type": "code",
   "execution_count": 6,
   "id": "08551e9e-08e2-4d53-85b6-30d79fdad4a1",
   "metadata": {},
   "outputs": [],
   "source": [
    "zinc250k=pd.read_csv(\"250k_rndm_zinc_drugs_clean.csv\")\n",
    "sampled=zinc250k.sample(1000).reset_index(drop=True)"
   ]
  },
  {
   "cell_type": "code",
   "execution_count": 7,
   "id": "de85b279-0569-4f6f-bf4e-5a98fcb3e0e5",
   "metadata": {},
   "outputs": [
    {
     "data": {
      "text/html": [
       "<div>\n",
       "<style scoped>\n",
       "    .dataframe tbody tr th:only-of-type {\n",
       "        vertical-align: middle;\n",
       "    }\n",
       "\n",
       "    .dataframe tbody tr th {\n",
       "        vertical-align: top;\n",
       "    }\n",
       "\n",
       "    .dataframe thead th {\n",
       "        text-align: right;\n",
       "    }\n",
       "</style>\n",
       "<table border=\"1\" class=\"dataframe\">\n",
       "  <thead>\n",
       "    <tr style=\"text-align: right;\">\n",
       "      <th></th>\n",
       "      <th>smiles</th>\n",
       "      <th>logP</th>\n",
       "      <th>qed</th>\n",
       "      <th>SAS</th>\n",
       "    </tr>\n",
       "  </thead>\n",
       "  <tbody>\n",
       "    <tr>\n",
       "      <th>0</th>\n",
       "      <td>CC(C)(C)c1ccc2occ(CC(=O)Nc3ccccc3F)c2c1\\n</td>\n",
       "      <td>5.05060</td>\n",
       "      <td>0.702012</td>\n",
       "      <td>2.084095</td>\n",
       "    </tr>\n",
       "    <tr>\n",
       "      <th>1</th>\n",
       "      <td>C[C@@H]1CC(Nc2cncc(-c3nncn3C)c2)C[C@@H](C)C1\\n</td>\n",
       "      <td>3.11370</td>\n",
       "      <td>0.928975</td>\n",
       "      <td>3.432004</td>\n",
       "    </tr>\n",
       "    <tr>\n",
       "      <th>2</th>\n",
       "      <td>N#Cc1ccc(-c2ccc(O[C@@H](C(=O)N3CCCC3)c3ccccc3)...</td>\n",
       "      <td>4.96778</td>\n",
       "      <td>0.599682</td>\n",
       "      <td>2.470633</td>\n",
       "    </tr>\n",
       "    <tr>\n",
       "      <th>3</th>\n",
       "      <td>CCOC(=O)[C@@H]1CCCN(C(=O)c2nc(-c3ccc(C)cc3)n3c...</td>\n",
       "      <td>4.00022</td>\n",
       "      <td>0.690944</td>\n",
       "      <td>2.822753</td>\n",
       "    </tr>\n",
       "    <tr>\n",
       "      <th>4</th>\n",
       "      <td>N#CC1=C(SCC(=O)Nc2cccc(Cl)c2)N=C([O-])[C@H](C#...</td>\n",
       "      <td>3.60956</td>\n",
       "      <td>0.789027</td>\n",
       "      <td>4.035182</td>\n",
       "    </tr>\n",
       "  </tbody>\n",
       "</table>\n",
       "</div>"
      ],
      "text/plain": [
       "                                              smiles     logP       qed  \\\n",
       "0          CC(C)(C)c1ccc2occ(CC(=O)Nc3ccccc3F)c2c1\\n  5.05060  0.702012   \n",
       "1     C[C@@H]1CC(Nc2cncc(-c3nncn3C)c2)C[C@@H](C)C1\\n  3.11370  0.928975   \n",
       "2  N#Cc1ccc(-c2ccc(O[C@@H](C(=O)N3CCCC3)c3ccccc3)...  4.96778  0.599682   \n",
       "3  CCOC(=O)[C@@H]1CCCN(C(=O)c2nc(-c3ccc(C)cc3)n3c...  4.00022  0.690944   \n",
       "4  N#CC1=C(SCC(=O)Nc2cccc(Cl)c2)N=C([O-])[C@H](C#...  3.60956  0.789027   \n",
       "\n",
       "        SAS  \n",
       "0  2.084095  \n",
       "1  3.432004  \n",
       "2  2.470633  \n",
       "3  2.822753  \n",
       "4  4.035182  "
      ]
     },
     "execution_count": 7,
     "metadata": {},
     "output_type": "execute_result"
    }
   ],
   "source": [
    "zinc250k.head(5)"
   ]
  },
  {
   "cell_type": "code",
   "execution_count": 8,
   "id": "3d07bd12-38e1-4693-b8e5-37055de505ff",
   "metadata": {},
   "outputs": [],
   "source": [
    "logp_scale=zinc250k['logP'].quantile([0.05,0.95]).values\n",
    "qed_scale=zinc250k['qed'].quantile([0.05,0.95]).values\n",
    "sas_scale=zinc250k['SAS'].quantile([0.05,0.95]).values"
   ]
  },
  {
   "cell_type": "code",
   "execution_count": 7,
   "id": "13939f60-cda8-4744-87c7-02a4d5a272ae",
   "metadata": {},
   "outputs": [
    {
     "data": {
      "text/plain": [
       "<Axes: >"
      ]
     },
     "execution_count": 7,
     "metadata": {},
     "output_type": "execute_result"
    },
    {
     "data": {
      "image/png": "[encoded data removed]",
      "text/plain": [
       "<Figure size 640x480 with 1 Axes>"
      ]
     },
     "metadata": {},
     "output_type": "display_data"
    }
   ],
   "source": [
    "#pd.Series(counter).sort_values(ascending=False).plot.bar()"
   ]
  },
  {
   "cell_type": "code",
   "execution_count": 9,
   "id": "d6d607a4-cf0d-493a-a080-50298db17219",
   "metadata": {},
   "outputs": [],
   "source": [
    "def graph_from_smiles(smiles):\n",
    "    rdkit_mol=Chem.MolFromSmiles(smiles)\n",
    "    X=[list(MOLS.keys()).index(i.GetAtomicNum()) for i in rdkit_mol.GetAtoms()]\n",
    "    N=len(X)\n",
    "    A=torch.zeros(N,N)\n",
    "    for i in range(N):\n",
    "        for j in range(N):\n",
    "            try:\n",
    "                A[i,j]=BONDS[rdkit_mol.GetBondBetweenAtoms(i,j).GetBondType()]\n",
    "            except:\n",
    "                pass\n",
    "    X=nn.functional.one_hot(torch.tensor(X), num_classes=len(MOLS))\n",
    "    A=nn.functional.one_hot(A.to(int), num_classes=len(BONDS)).permute(-1,0,1)\n",
    "    return X,A"
   ]
  },
  {
   "cell_type": "code",
   "execution_count": 54,
   "id": "b221c10e-e21c-4075-b0ce-17719a82f5f2",
   "metadata": {},
   "outputs": [
    {
     "data": {
      "image/png": "[encoded data removed]",
      "text/plain": [
       "<rdkit.Chem.rdchem.Mol at 0x2266f257ca0>"
      ]
     },
     "execution_count": 54,
     "metadata": {},
     "output_type": "execute_result"
    }
   ],
   "source": [
    "smiles_sample=sampled['smiles'][0]\n",
    "x,a=graph_from_smiles(smiles_sample)\n",
    "x=x.to(torch.float32).unsqueeze(0)\n",
    "a=a.to(torch.float32).unsqueeze(0)\n",
    "mol0=Chem.MolFromSmiles(smiles_sample)\n",
    "mol0"
   ]
  },
  {
   "cell_type": "code",
   "execution_count": 10,
   "id": "950babe5-1ffb-47e7-8d93-746b6def89f5",
   "metadata": {},
   "outputs": [],
   "source": [
    "rgcn=reload(rgcn)\n",
    "D=reload(D)\n",
    "G=reload(G)\n",
    "R=reload(R)"
   ]
  },
  {
   "cell_type": "code",
   "execution_count": 33,
   "id": "56d85b8b-0d68-4e63-b6dd-5c8b83d06ae9",
   "metadata": {},
   "outputs": [],
   "source": [
    "g = G.Generator(32, [128, 256, 512], [], [], 9)\n",
    "#input_dim, rgcn_dims, i_dims, j_dims, final_mlp_dims\n",
    "d = D.Discriminator([64, 32], [128,32], [128,32], [16,8])\n",
    "r = R.Rewarder([64, 32], [128,32], [128,32], [16,8])"
   ]
  },
  {
   "cell_type": "code",
   "execution_count": 34,
   "id": "cffc6126-3d8d-4be8-a0a1-095768cdc2a1",
   "metadata": {},
   "outputs": [],
   "source": [
    "optimizer_r=torch.optim.AdamW(r.parameters(), lr=1e-3)"
   ]
  },
  {
   "cell_type": "code",
   "execution_count": 113,
   "id": "51e65328-efc5-44c6-b3be-9718a3be71dc",
   "metadata": {},
   "outputs": [],
   "source": [
    "x,a=graph_from_smiles(zinc250k.iloc[0]['smiles'])\n",
    "x=x.to(torch.float32).unsqueeze(0)\n",
    "a=a.to(torch.float32).unsqueeze(0)"
   ]
  },
  {
   "cell_type": "code",
   "execution_count": 17,
   "id": "b429c359-280f-4f2c-bdad-0c161e423a98",
   "metadata": {
    "scrolled": true
   },
   "outputs": [
    {
     "name": "stdout",
     "output_type": "stream",
     "text": [
      "layers.0.wr tensor(False)\n",
      "layers.0.w0 tensor(False)\n",
      "layers.1.wr tensor(False)\n",
      "layers.1.w0 tensor(False)\n",
      "i.0.wr tensor(False)\n",
      "i.0.w0 tensor(False)\n",
      "j.0.wr tensor(False)\n",
      "j.0.w0 tensor(False)\n",
      "final_mlp.layers.0.weight tensor(False)\n",
      "final_mlp.layers.0.bias tensor(False)\n",
      "final_mlp.layers.3.weight tensor(False)\n",
      "final_mlp.layers.3.bias tensor(False)\n",
      "final_mlp.layers.6.weight tensor(False)\n",
      "final_mlp.layers.6.bias tensor(False)\n"
     ]
    }
   ],
   "source": [
    "for (n,p) in r.named_parameters():\n",
    "    print(n,(p!=p).any().detach().cpu())"
   ]
  },
  {
   "cell_type": "code",
   "execution_count": 14,
   "id": "3e15177b-4eed-474c-8ca7-0c0856b15fb8",
   "metadata": {
    "scrolled": true
   },
   "outputs": [
    {
     "ename": "NameError",
     "evalue": "name 'x' is not defined",
     "output_type": "error",
     "traceback": [
      "\u001b[1;31m---------------------------------------------------------------------------\u001b[0m",
      "\u001b[1;31mNameError\u001b[0m                                 Traceback (most recent call last)",
      "Cell \u001b[1;32mIn[14], line 1\u001b[0m\n\u001b[1;32m----> 1\u001b[0m r((\u001b[43mx\u001b[49m,a))\n",
      "\u001b[1;31mNameError\u001b[0m: name 'x' is not defined"
     ]
    }
   ],
   "source": [
    "r((x,a))"
   ]
  },
  {
   "cell_type": "code",
   "execution_count": 35,
   "id": "272c7c88-e208-4653-af21-8dc94f916a8c",
   "metadata": {},
   "outputs": [],
   "source": [
    "def train_rewardnet(rewardnet, optimizer, dataset):\n",
    "    logp_t=lambda x:(min(max(logp_scale[0],x),logp_scale[1])-logp_scale[0])/(logp_scale[1]-logp_scale[0])\n",
    "    qed_t=lambda x:(min(max(qed_scale[0],x),qed_scale[1])-qed_scale[0])/(qed_scale[1]-qed_scale[0])\n",
    "    sas_t=lambda x:(min(max(sas_scale[0],x),sas_scale[1])-sas_scale[0])/(sas_scale[1]-sas_scale[0])\n",
    "    iterator=tqdm(range(dataset.shape[0]))\n",
    "    loss_ema = 0\n",
    "    ema_n = 200\n",
    "    for i in iterator:\n",
    "        mol_smiles=dataset.iloc[i]['smiles']\n",
    "        (x,a)=graph_from_smiles(mol_smiles)\n",
    "        x=x.to(torch.float32).unsqueeze(0)\n",
    "        a=a.to(torch.float32).unsqueeze(0)\n",
    "        reward = logp_t(dataset.iloc[i]['logP']) * qed_t(dataset.iloc[i]['qed']) * sas_t(dataset.iloc[i]['SAS'])\n",
    "        (rout,_)=r((x,a))\n",
    "        rout = rout[0][0]\n",
    "        #print(rout)\n",
    "        mse = (rout-reward).abs()\n",
    "        loss_ema = loss_ema * (1-1/ema_n) + (1/ema_n) * mse.detach().cpu()\n",
    "        rewardnet.zero_grad(set_to_none=True)\n",
    "        mse.backward()\n",
    "        optimizer.step()\n",
    "        iterator.set_description(f\"loss:{loss_ema:.3f}. rout: {rout:.2f}. reward: {reward:.2f}\")"
   ]
  },
  {
   "cell_type": "code",
   "execution_count": null,
   "id": "0ecb5627-d35e-43ec-9473-a9f8c2102fa2",
   "metadata": {},
   "outputs": [
    {
     "name": "stderr",
     "output_type": "stream",
     "text": [
      "loss:0.064. rout: 0.19. reward: 0.03:  29%|██████████▊                          | 72975/249455 [17:37<38:25, 76.53it/s]"
     ]
    }
   ],
   "source": [
    "train_rewardnet(r, optimizer_r, zinc250k)"
   ]
  },
  {
   "cell_type": "code",
   "execution_count": null,
   "id": "e2638d1f-0dd5-4c71-b062-56c89701b76c",
   "metadata": {},
   "outputs": [],
   "source": []
  },
  {
   "cell_type": "code",
   "execution_count": null,
   "id": "797d2b42-3266-425b-9b82-a36e139069be",
   "metadata": {},
   "outputs": [],
   "source": [
    "def gamma_k(k, phi1, theta1, var_e=1):\n",
    "    if k==0:\n",
    "        return (var_e) * (1-2*phi1*theta1+theta1**2) / (1-phi1**2)\n",
    "    elif k==1:\n",
    "        return phi1*gamma_k(0, phi1, theta1, var_e=var_e)-theta1*(var_e)\n",
    "    else:\n",
    "        return (phi1**k)*gamma_k(k-1, phi1, theta1, var_e=var_e)\n",
    "def rho_k(k, phi1, theta1, var_e=1):\n",
    "    return gamma_k(k, phi1, theta1, var_e=var_e)/gamma_k(0, phi1, theta1, var_e=var_e)"
   ]
  },
  {
   "cell_type": "code",
   "execution_count": null,
   "id": "6aa6fd64-a6af-43bb-a907-5c92f8a73d5d",
   "metadata": {},
   "outputs": [],
   "source": [
    "phi1=0.4\n",
    "theta1=0.5\n",
    "var=4\n",
    "print(\"gamma_0\", '%.4f' % gamma_k(0,phi1,theta1,var), sep='\\t')\n",
    "print(\"rho_1\", '%.4f' % rho_k(1,phi1,theta1,var), sep='\\t')"
   ]
  },
  {
   "cell_type": "code",
   "execution_count": null,
   "id": "9074bb3d-bd85-4e51-9bdc-05ff5f2e2843",
   "metadata": {},
   "outputs": [],
   "source": []
  },
  {
   "cell_type": "code",
   "execution_count": null,
   "id": "250803ac-bd59-4a3e-a3f2-bb10951097cd",
   "metadata": {},
   "outputs": [],
   "source": [
    "gamma_k(0,0.4,-0.5,4)"
   ]
  },
  {
   "cell_type": "code",
   "execution_count": null,
   "id": "8c5bf7d9-a486-4155-ada7-d10c0773a099",
   "metadata": {},
   "outputs": [],
   "source": [
    "rho_k(1,0.6,0.3)"
   ]
  },
  {
   "cell_type": "code",
   "execution_count": null,
   "id": "82f3e023-b0ef-4dfe-b194-9e72036ddf36",
   "metadata": {},
   "outputs": [],
   "source": []
  }
 ],
 "metadata": {
  "kernelspec": {
   "display_name": "Python 3 (ipykernel)",
   "language": "python",
   "name": "python3"
  },
  "language_info": {
   "codemirror_mode": {
    "name": "ipython",
    "version": 3
   },
   "file_extension": ".py",
   "mimetype": "text/x-python",
   "name": "python",
   "nbconvert_exporter": "python",
   "pygments_lexer": "ipython3",
   "version": "3.10.14"
  }
 },
 "nbformat": 4,
 "nbformat_minor": 5
}
