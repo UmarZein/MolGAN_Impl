{
 "cells": [
  {
   "cell_type": "code",
   "execution_count": 1,
   "id": "2492407f-2213-45ed-82b1-669b2129cabf",
   "metadata": {},
   "outputs": [],
   "source": [
    "import torch\n",
    "from torch import nn\n",
    "import rdkit\n",
    "from tqdm import tqdm\n",
    "from rdkit import Chem\n",
    "import pandas as pd\n",
    "from importlib import reload\n",
    "import matplotlib.pyplot as plt\n",
    "from rdkit import RDLogger\n",
    "from torch.utils.data import Dataset, DataLoader\n",
    "# Suppress RDKit warnings\n",
    "RDLogger.DisableLog('rdApp.*')"
   ]
  },
  {
   "cell_type": "code",
   "execution_count": 2,
   "id": "0bba6332-8694-46c8-b5df-d4bc05c50396",
   "metadata": {},
   "outputs": [],
   "source": [
    "import sascorer"
   ]
  },
  {
   "cell_type": "code",
   "execution_count": 3,
   "id": "3e112759-f9b6-49cd-88f6-0c944795356a",
   "metadata": {},
   "outputs": [],
   "source": [
    "torch.set_default_device('cuda')"
   ]
  },
  {
   "cell_type": "code",
   "execution_count": 4,
   "id": "2e4df6fa-eb31-485d-b022-230551894ea0",
   "metadata": {},
   "outputs": [],
   "source": [
    "from constants import *"
   ]
  },
  {
   "cell_type": "code",
   "execution_count": 5,
   "id": "9243c36d-5be6-48ad-b9e0-9bfa03f3800b",
   "metadata": {},
   "outputs": [],
   "source": [
    "import  generator as G\n",
    "import discriminator as D\n",
    "import rewardnet as R\n",
    "import mlp as M\n",
    "import rgcn\n",
    "from molecularmetrics import MolecularMetrics"
   ]
  },
  {
   "cell_type": "code",
   "execution_count": 6,
   "id": "08551e9e-08e2-4d53-85b6-30d79fdad4a1",
   "metadata": {},
   "outputs": [],
   "source": [
    "zinc250k=pd.read_csv(\"250k_rndm_zinc_drugs_clean.csv\", nrows=10_000)\n",
    "gdb9=pd.read_csv(\"gdb9_shuffled.csv\", nrows=10_000)\n",
    "sampled=zinc250k.sample(1000).reset_index(drop=True)"
   ]
  },
  {
   "cell_type": "code",
   "execution_count": 54,
   "id": "d3619f93-7add-4e55-8a83-e20ae9508e28",
   "metadata": {},
   "outputs": [],
   "source": [
    "def filter_dataset(dataset, max_size=MAX_N):\n",
    "    dataset=dataset.copy()\n",
    "    dataset['n_mols']=dataset['smiles'].apply(lambda x: Chem.MolFromSmiles(x).GetNumAtoms())\n",
    "    return dataset.loc[dataset['n_mols']<=max_size]"
   ]
  },
  {
   "cell_type": "code",
   "execution_count": 58,
   "id": "6e8d5d0b-30f3-4469-abfd-ddc3a63844d6",
   "metadata": {},
   "outputs": [],
   "source": [
    "zinc250k_filtered=filter_dataset(zinc250k)"
   ]
  },
  {
   "cell_type": "code",
   "execution_count": 59,
   "id": "de85b279-0569-4f6f-bf4e-5a98fcb3e0e5",
   "metadata": {},
   "outputs": [
    {
     "data": {
      "text/html": [
       "<div>\n",
       "<style scoped>\n",
       "    .dataframe tbody tr th:only-of-type {\n",
       "        vertical-align: middle;\n",
       "    }\n",
       "\n",
       "    .dataframe tbody tr th {\n",
       "        vertical-align: top;\n",
       "    }\n",
       "\n",
       "    .dataframe thead th {\n",
       "        text-align: right;\n",
       "    }\n",
       "</style>\n",
       "<table border=\"1\" class=\"dataframe\">\n",
       "  <thead>\n",
       "    <tr style=\"text-align: right;\">\n",
       "      <th></th>\n",
       "      <th>smiles</th>\n",
       "      <th>logP</th>\n",
       "      <th>qed</th>\n",
       "      <th>SAS</th>\n",
       "      <th>n_mols</th>\n",
       "    </tr>\n",
       "  </thead>\n",
       "  <tbody>\n",
       "    <tr>\n",
       "      <th>1122</th>\n",
       "      <td>Cc1ccc(F)c(Br)n1\\n</td>\n",
       "      <td>2.29162</td>\n",
       "      <td>0.572587</td>\n",
       "      <td>2.441051</td>\n",
       "      <td>9</td>\n",
       "    </tr>\n",
       "    <tr>\n",
       "      <th>4465</th>\n",
       "      <td>OC[C@@H](Br)C(F)(F)Br\\n</td>\n",
       "      <td>1.72990</td>\n",
       "      <td>0.749381</td>\n",
       "      <td>4.183479</td>\n",
       "      <td>8</td>\n",
       "    </tr>\n",
       "    <tr>\n",
       "      <th>5792</th>\n",
       "      <td>NC(=S)c1n[nH]cc1Br\\n</td>\n",
       "      <td>0.80640</td>\n",
       "      <td>0.678925</td>\n",
       "      <td>3.660626</td>\n",
       "      <td>9</td>\n",
       "    </tr>\n",
       "  </tbody>\n",
       "</table>\n",
       "</div>"
      ],
      "text/plain": [
       "                       smiles     logP       qed       SAS  n_mols\n",
       "1122       Cc1ccc(F)c(Br)n1\\n  2.29162  0.572587  2.441051       9\n",
       "4465  OC[C@@H](Br)C(F)(F)Br\\n  1.72990  0.749381  4.183479       8\n",
       "5792     NC(=S)c1n[nH]cc1Br\\n  0.80640  0.678925  3.660626       9"
      ]
     },
     "execution_count": 59,
     "metadata": {},
     "output_type": "execute_result"
    }
   ],
   "source": [
    "zinc250k_filtered"
   ]
  },
  {
   "cell_type": "code",
   "execution_count": 9,
   "id": "3d07bd12-38e1-4693-b8e5-37055de505ff",
   "metadata": {},
   "outputs": [],
   "source": [
    "logp_scale=zinc250k['logP'].quantile([0.05,0.95]).values\n",
    "qed_scale=zinc250k['qed'].quantile([0.05,0.95]).values\n",
    "sas_scale=zinc250k['SAS'].quantile([0.05,0.95]).values"
   ]
  },
  {
   "cell_type": "markdown",
   "id": "4c95a161-d15b-4481-8369-1a89a5ed1290",
   "metadata": {},
   "source": [
    "# Atom count (with atomic numbers)\n",
    "![atom_count](atom_counts.png \"Atom Count\")"
   ]
  },
  {
   "cell_type": "code",
   "execution_count": 10,
   "id": "d6d607a4-cf0d-493a-a080-50298db17219",
   "metadata": {},
   "outputs": [],
   "source": [
    "def graph_from_smiles(smiles,return_mol=False,typ=None):\n",
    "    rdkit_mol=Chem.MolFromSmiles(smiles)\n",
    "    X=[list(MOLS.keys()).index(i.GetAtomicNum()) for i in rdkit_mol.GetAtoms() if i.GetAtomicNum()!=1]\n",
    "    N=len(X)\n",
    "    A=torch.zeros(N,N)\n",
    "    for i in range(N):\n",
    "        for j in range(N):\n",
    "            try:\n",
    "                A[i,j]=BONDS[rdkit_mol.GetBondBetweenAtoms(i,j).GetBondType()]\n",
    "            except:\n",
    "                pass\n",
    "    X=nn.functional.one_hot(torch.tensor(X), num_classes=len(MOLS))\n",
    "    A=nn.functional.one_hot(A.to(int), num_classes=len(BONDS)).permute(-1,0,1)\n",
    "    if typ is not None:\n",
    "        X = X.to(typ)\n",
    "        A = A.to(typ)\n",
    "    if return_mol: \n",
    "        return X,A,rdkit_mol\n",
    "    return X,A"
   ]
  },
  {
   "cell_type": "code",
   "execution_count": 11,
   "id": "e1d9738c-67c7-4ac3-9048-f05d067ec829",
   "metadata": {},
   "outputs": [],
   "source": [
    "def expand_graph(x,a,typ=torch.float32):\n",
    "    assert len(x.shape)==2, \"only unbatched single graphs are supported\"\n",
    "    a_has_zero_bonds=a.shape[-3]==len(BONDS)\n",
    "    assert a_has_zero_bonds or a.shape[-3]==len(BONDS)-1\n",
    "    \n",
    "    new_a=torch.zeros(len(BONDS),MAX_N,MAX_N).to(typ)\n",
    "    if a_has_zero_bonds:\n",
    "        t,r,c = a.nonzero().t()\n",
    "        new_a[...,t,r,c]=1.0\n",
    "    else:\n",
    "        t,r,c = a.nonzero().t()\n",
    "        new_a[...,t+1,r,c]=1.0\n",
    "        new_a[...,0,:,:]=1-new_a[...,1:,:,:].sum(-3)\n",
    "    new_x = torch.zeros(MAX_N,x.shape[-1])\n",
    "    new_x[:x.shape[0]]=x\n",
    "    return new_x,new_a"
   ]
  },
  {
   "cell_type": "code",
   "execution_count": 12,
   "id": "49d0d85e-b983-444e-bc35-ae624733005a",
   "metadata": {},
   "outputs": [],
   "source": [
    "def mol_from_graph(x,a,strict=True,print_errors=False):\n",
    "    def inner(x,a,strict,print_errors):\n",
    "        assert a.shape[-3]==len(BONDS), \"a: [N_BONDS, N_ATOMS, N_ATOMS]\"\n",
    "        assert len(a.shape)==3 or (len(a.shape)==4 and a.shape[0]==1), \"batched operation not supported\"\n",
    "        if len(a.shape)==4:\n",
    "            a=a[0]\n",
    "            x=x[0]\n",
    "        X_map=[*MOLS.keys()]\n",
    "        iBOND = {BONDS[k]:k for k in BONDS}\n",
    "        mol = Chem.RWMol()\n",
    "        bonds=frozenset([])\n",
    "        for node_label in x:\n",
    "            mol.AddAtom(Chem.Atom(X_map[node_label.argmax().detach().cpu().numpy()]))\n",
    "    \n",
    "        for t,r,c in a[1:,:,:].argwhere().detach().cpu().numpy().tolist():\n",
    "            if frozenset([r,c]) in bonds: continue\n",
    "            if r==c: continue\n",
    "            mol.AddBond(r, c, iBOND[t+1])#t+1 because t=0 now maps to SINGLEBOND because of a[1:,:,:]\n",
    "            bonds |= frozenset([frozenset([r,c])])\n",
    "            \n",
    "        if strict:\n",
    "            try:\n",
    "                Chem.SanitizeMol(mol)\n",
    "            except:\n",
    "                mol = None\n",
    "                if print_errors:\n",
    "                    print(\"error in Chem.SanitizeMol\")\n",
    "        return mol\n",
    "    if len(x.shape)==2:\n",
    "        return inner(x,a,strict,print_errors)\n",
    "    else:\n",
    "        assert len(x.shape)==3\n",
    "        return [inner(x_,a_,strict,print_errors) for x_,a_ in zip(x,a)]"
   ]
  },
  {
   "cell_type": "code",
   "execution_count": 13,
   "id": "47d0558b-602a-4c34-893c-7f8d17295732",
   "metadata": {},
   "outputs": [],
   "source": [
    "def sample_gumbel(x,a,temperature=1.0,hard=False,method=None):\n",
    "    x = nn.functional.gumbel_softmax(x,tau=temperature,hard=hard,dim=-1)\n",
    "    a = nn.functional.gumbel_softmax(a,tau=temperature,hard=hard,dim=-3)\n",
    "    return (x,a)"
   ]
  },
  {
   "cell_type": "code",
   "execution_count": 14,
   "id": "a3dc8d3f-b1d9-4412-b5b7-ac89e7f299b0",
   "metadata": {},
   "outputs": [],
   "source": [
    "def reward(mol,norm=True):\n",
    "    def reward_(mol, norm):\n",
    "        rr=1\n",
    "        for m in ('logp','sas','qed'):\n",
    "            if m == 'logp':\n",
    "                rr *= MolecularMetrics.water_octanol_partition_coefficient_scores([mol], norm=norm)\n",
    "            elif m == 'sas':\n",
    "                rr *= MolecularMetrics.synthetic_accessibility_score_scores([mol], norm=norm)\n",
    "            elif m == 'qed':\n",
    "                rr *= MolecularMetrics.quantitative_estimation_druglikeness_scores([mol], norm=norm)\n",
    "        return torch.tensor(rr[0])\n",
    "    if isinstance(mol, rdkit.Chem.Mol):\n",
    "        return reward_(mol, norm)\n",
    "    else:\n",
    "        return torch.stack([reward_(m, norm) for m in mol])"
   ]
  },
  {
   "cell_type": "code",
   "execution_count": 15,
   "id": "08cb5069-20c7-4afc-a9c6-5ab809c5cd13",
   "metadata": {},
   "outputs": [],
   "source": [
    "def gradient_penalty(y, x):\n",
    "    \"\"\"Compute gradient penalty: (L2_norm(dy/dx) - 1)**2.\"\"\"\n",
    "    weight = torch.ones(y.size())\n",
    "    dydx = torch.autograd.grad(outputs=y,\n",
    "                               inputs=x,\n",
    "                               grad_outputs=weight,\n",
    "                               retain_graph=True,\n",
    "                               create_graph=True,\n",
    "                               only_inputs=True)[0]\n",
    "    #print('dydx',dydx.sum().detach().item())\n",
    "    dydx = dydx.view(dydx.size(0), -1)\n",
    "    dydx_l2norm = torch.linalg.norm(dydx, dim=1, ord=2)\n",
    "    res = ((dydx_l2norm - 1) ** 2).mean()\n",
    "    #print('res',res.detach().item())\n",
    "    return res"
   ]
  },
  {
   "cell_type": "code",
   "execution_count": 16,
   "id": "90b6b15f-c4fc-4a91-b27a-1a12a9ef2ecd",
   "metadata": {},
   "outputs": [],
   "source": [
    "class MolDataset(Dataset):\n",
    "    def __init__(self, smiles):        \n",
    "        self.X=list()\n",
    "        self.A=list()\n",
    "        self.mols=list()\n",
    "\n",
    "        for s in tqdm(smiles,desc='converting smiles...'):\n",
    "            x,a,mol = graph_from_smiles(s, return_mol=True)\n",
    "            x,a=expand_graph(x,a)\n",
    "            self.X.append(x)\n",
    "            self.A.append(a)\n",
    "            self.mols.append(mol)\n",
    "        \n",
    "    def __getitem__(self, i):\n",
    "        return (self.X[i], self.A[i], self.mols[i])\n",
    "\n",
    "    def __len__(self):\n",
    "        return len(self.X)"
   ]
  },
  {
   "cell_type": "code",
   "execution_count": 17,
   "id": "1f558c42-7342-417b-a605-e2b132da2192",
   "metadata": {},
   "outputs": [],
   "source": [
    "def custom_collate(batch):\n",
    "    node_features = [item[0] for item in batch]\n",
    "    adj_matrices = [item[1] for item in batch]\n",
    "    mol_objects = [item[2] for item in batch]\n",
    "    \n",
    "    # Batch the tensors\n",
    "    node_features_batch = torch.stack(node_features)\n",
    "    adj_matrices_batch = torch.stack(adj_matrices)\n",
    "    \n",
    "    # Return batched tensors and the list of RDKit Mol objects\n",
    "    return node_features_batch, adj_matrices_batch, mol_objects"
   ]
  },
  {
   "cell_type": "code",
   "execution_count": 34,
   "id": "9b0bc902-ea9a-4f47-a214-aa4915124da4",
   "metadata": {},
   "outputs": [],
   "source": [
    "class Solver:\n",
    "    def __init__(self, G, D, R, z_dim, generator_steps=1, lr=1e-3, lambda_wgan=WGAN_BIAS_LAMBDA, lambda_gp=GP_LAMBDA):\n",
    "        self.G=G\n",
    "        self.D=D\n",
    "        self.R=R\n",
    "        self.G_opt=torch.optim.AdamW(self.G.parameters(),lr=lr)\n",
    "        self.D_opt=torch.optim.AdamW(self.D.parameters(),lr=lr)\n",
    "        self.R_opt=torch.optim.AdamW(self.R.parameters(),lr=lr)\n",
    "        self.z_dim=z_dim\n",
    "        self.generator_steps=generator_steps\n",
    "        self.lambda_wgan=lambda_wgan\n",
    "        self.lambda_gp=lambda_gp\n",
    "    def train(self, smiles, ema_n=200, max_iters=-1):\n",
    "        dataloader = DataLoader(MolDataset(smiles[:max_iters]),batch_size=BATCH_SIZE, collate_fn=custom_collate)\n",
    "        iterator = tqdm(enumerate(dataloader), desc='training', total=max_iters if max_iters>=0 else len(dataloader))\n",
    "        loss_ema=0\n",
    "        las=[]\n",
    "        lbs=[]\n",
    "        lcs=[]\n",
    "        lds=[]\n",
    "        les=[]\n",
    "        loss_sums=[]\n",
    "        train_with_rl=False\n",
    "        for i,(real_x,real_a,real_mol) in iterator:#graphs:\n",
    "            if max_iters==0: break\n",
    "            max_iters-=1\n",
    "            if i>len(dataloader)//2:\n",
    "                train_with_rl=True\n",
    "            assert real_x.shape[0]==real_x.shape[-3]\n",
    "            cur_batch_size=real_x.shape[-3]\n",
    "            z=sample(cur_batch_size, self.z_dim)\n",
    "            \n",
    "            # =======================\n",
    "            #   train discriminator\n",
    "            # =======================\n",
    "            #print(\"=== train discriminator\")\n",
    "\n",
    "            # TODO: graph reward\n",
    "            \n",
    "            D_x = self.D((real_x,real_a))\n",
    "            #print(\"D_x\",D_x)\n",
    "            (fake_x, fake_a) = self.G(z)\n",
    "            fake_x = fake_x.detach()#detach because we dont want to nudge generator parameter in this part\n",
    "            fake_a = fake_a.detach()\n",
    "            #print('fake.sum()',fake_x.sum().item(), fake_a.sum().item())\n",
    "            (sampled_fake_x, sampled_fake_a) = sample_gumbel(fake_x, fake_a)\n",
    "            D_G_z = self.D((sampled_fake_x, sampled_fake_a))\n",
    "            #print(\"D_G_z\",D_G_z.detach().item(),sampled_fake_x.sum().detach().item(), sampled_fake_a.sum().detach().item())\n",
    "            eps = torch.rand(cur_batch_size)\n",
    "            eps_for_x = eps.view(-1,1,1)\n",
    "            eps_for_a = eps.view(-1,1,1,1)\n",
    "            #fake_n=sampled_fake_a.shape[-1]\n",
    "            #real_n=real_a.shape[-1]\n",
    "            #if real_n>fake_n:\n",
    "            #    fake_a_tmp = torch.zeros_like(real_a)\n",
    "            #    fake_a_tmp[...,:,:fake_n,:fake_n]=fake_a\n",
    "            #    fake_x_tmp = torch.rand_like(real_x)/1e9\n",
    "            #    fake_x_tmp[...,:fake_x.shape[-2],:]=fake_x\n",
    "            #    sampled_fake_a=fake_a_tmp\n",
    "            #    sampled_fake_x=fake_x_tmp\n",
    "            #elif real_n!=fake_n:\n",
    "            #    real_a_tmp = torch.zeros_like(sampled_fake_a)\n",
    "            #    real_a_tmp[...,:,:real_n,:real_n]=real_a\n",
    "            #    real_x_tmp = torch.rand_like(sampled_fake_x)/1e9\n",
    "            #    real_x_tmp[...,:real_x.shape[-2],:]=real_x\n",
    "            #    real_a=real_a_tmp\n",
    "            #    real_x=real_x_tmp\n",
    "            #print('real',real_x.shape,real_a.shape)\n",
    "            #print('sampled_fake',sampled_fake_x.shape,sampled_fake_a.shape)\n",
    "            (x_hat_x, x_hat_a) = ( #x_hat = e*fake+(1-e)*real where e~U(0,1)\n",
    "                (eps_for_x*sampled_fake_x + (1-eps_for_x)*real_x).detach().requires_grad_(True),# \n",
    "                (eps_for_a*sampled_fake_a + (1-eps_for_a)*real_a).detach().requires_grad_(True),# \n",
    "            )\n",
    "            D_x_hat = self.D((x_hat_x, x_hat_a))\n",
    "            gp_loss = self.lambda_gp*(gradient_penalty(D_x_hat,x_hat_x))+gradient_penalty(D_x_hat,x_hat_a)\n",
    "            loss_D = (D_G_z-D_x+gp_loss).sum() #GRADIENT PENALTY LOSS IS MAIN CULPRIT FOR NAN\n",
    "            #if it errors because loss_D is not a scalar, then gp_loss calculations needs a .mean()\n",
    "            #although, it shouldn't happen when batching has not been implemented\n",
    "            self.D.zero_grad(set_to_none=True)\n",
    "            loss_D.backward()\n",
    "            self.D_opt.step()\n",
    "            \n",
    "            # ===================\n",
    "            #   train rewardnet\n",
    "            # ===================\n",
    "            #print(\"=== train rewardnet\")\n",
    "\n",
    "            real_reward = reward(real_mol)\n",
    "            fake_reward = reward(mol_from_graph(sampled_fake_x, sampled_fake_a))\n",
    "\n",
    "            R_x = self.R((real_x, real_a))\n",
    "            R_G_z = self.R((sampled_fake_x, sampled_fake_a))\n",
    "            \n",
    "            loss_V = (R_x - real_reward).abs() + (R_G_z - fake_reward).abs()# <- I'm half afraid that this part will induce too much noice.\n",
    "                                              # Isn't |R(x)-reward(x)| enough? Can't find it in the paper about this\n",
    "            loss_V = loss_V.sum()\n",
    "            \n",
    "            self.R.zero_grad(set_to_none=True)\n",
    "            loss_V.backward()\n",
    "            self.R_opt.step()\n",
    "            \n",
    "            # ===================\n",
    "            #   train generator\n",
    "            # =================== \n",
    "            #print(\"=== train generator\")\n",
    "            for param in self.D.parameters():\n",
    "                param.requires_grad = False\n",
    "            for param in self.R.parameters():\n",
    "                param.requires_grad = False\n",
    "                \n",
    "            for _ in range(self.generator_steps):\n",
    "                z=sample(self.z_dim)\n",
    "                (fake_x, fake_a) = self.G(z)\n",
    "                #print('fake.sum()',fake_x.sum().detach().item(), fake_a.sum().detach().item())\n",
    "                (sampled_fake_x, sampled_fake_a) = sample_gumbel(fake_x, fake_a)\n",
    "                D_G_z = self.D((sampled_fake_x, sampled_fake_a))\n",
    "                #print(\"D_G_z\",D_G_z.detach().item(),sampled_fake_x.sum().detach().item(), sampled_fake_a.sum().detach().item())\n",
    "                #print(fake_x.sum(),sampled_fake_x.sum())\n",
    "                loss_G_wgan = -D_G_z\n",
    "\n",
    "                if train_with_rl:\n",
    "                    R_G_z = self.R((sampled_fake_x, sampled_fake_a))\n",
    "                    \n",
    "                    loss_RL = -R_G_z\n",
    "        \n",
    "                    # I have no idea what alpha is. I dont think it's in the paper\n",
    "                    alpha = 1#torch.abs(loss_G_wgan.detach() / (loss_RL.detach()+1e-9)).detach()\n",
    "                    loss_molgan = self.lambda_wgan * loss_G_wgan + (1 - self.lambda_wgan) * loss_RL\n",
    "                    la,lb,lc,ld,le=(loss_molgan.detach().cpu(), loss_V.detach().cpu(), loss_D.detach().cpu(), loss_G_wgan.detach().cpu(), loss_RL.detach().cpu())\n",
    "                else:\n",
    "                    loss_molgan = loss_G_wgan\n",
    "                    la,lb,lc,ld,le=(loss_molgan.detach().cpu(), loss_V.detach().cpu(), loss_D.detach().cpu(), loss_G_wgan.detach().cpu(), float('nan'))\n",
    "                self.G.zero_grad(set_to_none=True)\n",
    "                loss_molgan.backward()\n",
    "                self.G_opt.step()\n",
    "            \n",
    "            for param in self.D.parameters():\n",
    "                param.requires_grad = True\n",
    "            for param in self.R.parameters():\n",
    "                param.requires_grad = True\n",
    "                \n",
    "            la=float(la)\n",
    "            lb=float(lb)\n",
    "            lc=float(lc)\n",
    "            ld=float(ld)\n",
    "            le=float(le)\n",
    "            loss_sum = float(loss_molgan.detach().cpu()+loss_V.detach().cpu()+loss_D.detach().cpu())\n",
    "            \n",
    "            loss_ema = (1-1/ema_n)*loss_ema + loss_sum/ema_n\n",
    "            #print(f\"loss:{loss_ema:.2f} loss_molgan:{la:.2f} loss_V:{lb:.2f} loss_D:{lc:.2f} loss_G_wgan:{ld:.2f} loss_RL:{le:.2f}\")\n",
    "\n",
    "\n",
    "            las.append(la)\n",
    "            lbs.append(lb)\n",
    "            lcs.append(lc)\n",
    "            lds.append(ld)\n",
    "            les.append(le)\n",
    "            loss_sums.append(loss_sum)\n",
    "\n",
    "            \n",
    "            iterator.set_description(f\"loss:{loss_ema:.2f} RL loss:{le:.2f}\")# loss_molgan:{la:.2f} loss_V:{lb:.2f} loss_D:{lc:.2f} loss_G_wgan:{ld:.2f} loss_RL:{le:.2f}\")\n",
    "        return las, lbs, lcs, lds, les, loss_sums\n"
   ]
  },
  {
   "cell_type": "code",
   "execution_count": 35,
   "id": "950babe5-1ffb-47e7-8d93-746b6def89f5",
   "metadata": {},
   "outputs": [],
   "source": [
    "rgcn=reload(rgcn)\n",
    "D=reload(D)\n",
    "G=reload(G)\n",
    "R=reload(R)"
   ]
  },
  {
   "cell_type": "code",
   "execution_count": 36,
   "id": "56d85b8b-0d68-4e63-b6dd-5c8b83d06ae9",
   "metadata": {},
   "outputs": [],
   "source": [
    "Z_DIM=32\n",
    "g = G.Generator(Z_DIM, [128, 256, 512], [256], [256], 9)\n",
    "#input_dim, rgcn_dims, i_dims, j_dims, final_mlp_dims\n",
    "d = D.Discriminator([128, 64], [128], [128], [128, 64])\n",
    "r = R.Rewarder([128, 64], [128], [128], [128, 64])\n",
    "\n",
    "#g = G.Generator(32, [128, 256, 512], [], [], 9)\n",
    "##input_dim, rgcn_dims, i_dims, j_dims, final_mlp_dims\n",
    "#d = D.Discriminator([128, 256, 128, 128, 64], [128, 64], [128, 64], [128, 64])\n",
    "#r = R.Rewarder([128, 256, 128, 128, 64], [128, 64], [128, 64], [128, 64])"
   ]
  },
  {
   "cell_type": "code",
   "execution_count": 37,
   "id": "125ddee7-7a7e-4b7c-b728-acd51b592afd",
   "metadata": {},
   "outputs": [],
   "source": [
    "solver = Solver(g,d,r,Z_DIM,generator_steps=1,lr=1e-3)"
   ]
  },
  {
   "cell_type": "code",
   "execution_count": 39,
   "id": "344a69ef-17d2-4c00-ae18-8df0384a3c62",
   "metadata": {},
   "outputs": [
    {
     "name": "stderr",
     "output_type": "stream",
     "text": [
      "converting smiles...: 100%|███████████████████████████████████████████████████████| 9999/9999 [00:21<00:00, 459.58it/s]\n",
      "loss:326.10 RL loss:-0.00: 100%|█████████████████████████████████████████████████████| 313/313 [00:43<00:00,  7.14it/s]\n"
     ]
    }
   ],
   "source": [
    "result=solver.train(gdb9['smiles'])"
   ]
  },
  {
   "cell_type": "raw",
   "id": "13c3a712-93e0-4eeb-8f06-2ddfbb49a80d",
   "metadata": {
    "scrolled": true
   },
   "source": [
    "import cProfile, pstats, io\n",
    "from pstats import SortKey\n",
    "pr = cProfile.Profile()\n",
    "pr.enable()\n",
    "result=solver.train(zinc250k,max_iters=5000)\n",
    "pr.disable()\n",
    "s = io.StringIO()\n",
    "sortby = SortKey.TIME\n",
    "ps = pstats.Stats(pr, stream=s).sort_stats(sortby)\n",
    "ps.print_stats()\n",
    "print(s.getvalue())"
   ]
  },
  {
   "cell_type": "code",
   "execution_count": 40,
   "id": "1e8c7692-9344-4d77-9694-478ff3dd4e4d",
   "metadata": {},
   "outputs": [
    {
     "data": {
      "text/plain": [
       "Text(0.5, 0, 'iteration')"
      ]
     },
     "execution_count": 40,
     "metadata": {},
     "output_type": "execute_result"
    },
    {
     "data": {
      "image/png": "[encoded data removed]",
      "text/plain": [
       "<Figure size 640x480 with 1 Axes>"
      ]
     },
     "metadata": {},
     "output_type": "display_data"
    }
   ],
   "source": [
    "result_df=pd.DataFrame(result,index=[\"loss_molgan\", \"loss_V\", \"loss_D\", \"loss_G_wgan\", \"loss_RL\", \"loss_sum\"]).T\n",
    "ax=result_df.drop(columns=['loss_sum','loss_V','loss_RL']).rolling(window=10).mean().plot()\n",
    "ax.set_xscale('log')\n",
    "#ax.set_ylim((-8,8))\n",
    "ax.set_xlabel(\"iteration\")"
   ]
  },
  {
   "cell_type": "code",
   "execution_count": 41,
   "id": "2940a610-69df-4c2c-be56-16b97f07b337",
   "metadata": {},
   "outputs": [
    {
     "data": {
      "text/plain": [
       "Text(0.5, 0, 'iteration')"
      ]
     },
     "execution_count": 41,
     "metadata": {},
     "output_type": "execute_result"
    },
    {
     "data": {
      "image/png": "[encoded data removed]",
      "text/plain": [
       "<Figure size 640x480 with 1 Axes>"
      ]
     },
     "metadata": {},
     "output_type": "display_data"
    }
   ],
   "source": [
    "ax=result_df[['loss_V','loss_RL']].rolling(window=10).mean().plot()\n",
    "ax.set_xscale('log')\n",
    "#ax.set_ylim((-.6,.3))\n",
    "ax.set_xlabel(\"iteration\")"
   ]
  },
  {
   "cell_type": "code",
   "execution_count": 45,
   "id": "72bfe847-4eab-4917-901e-ddc8e74139ce",
   "metadata": {},
   "outputs": [
    {
     "data": {
      "text/plain": [
       "'2.2.2'"
      ]
     },
     "execution_count": 45,
     "metadata": {},
     "output_type": "execute_result"
    }
   ],
   "source": [
    "torch.__version__"
   ]
  },
  {
   "cell_type": "code",
   "execution_count": 42,
   "id": "d484cfe0-97cd-4816-aebb-53e83814600a",
   "metadata": {},
   "outputs": [
    {
     "data": {
      "text/plain": [
       "Text(0.5, 1.0, 'loss_molgan')"
      ]
     },
     "execution_count": 42,
     "metadata": {},
     "output_type": "execute_result"
    },
    {
     "data": {
      "image/png": "[encoded data removed]",
      "text/plain": [
       "<Figure size 640x480 with 1 Axes>"
      ]
     },
     "metadata": {},
     "output_type": "display_data"
    }
   ],
   "source": [
    "ax=result_df['loss_molgan'].rolling(window=10).mean().plot()\n",
    "ax.set_xscale('log')\n",
    "#ax.set_ylim((-10,10))\n",
    "ax.set_xlabel(\"iteration\")\n",
    "ax.set_title(\"loss_molgan\")"
   ]
  },
  {
   "cell_type": "code",
   "execution_count": 43,
   "id": "9f469f79-351a-41a5-b620-b886942b9d87",
   "metadata": {},
   "outputs": [
    {
     "data": {
      "text/plain": [
       "Text(0.5, 0, 'iteration')"
      ]
     },
     "execution_count": 43,
     "metadata": {},
     "output_type": "execute_result"
    },
    {
     "data": {
      "image/png": "[encoded data removed]",
      "text/plain": [
       "<Figure size 640x480 with 1 Axes>"
      ]
     },
     "metadata": {},
     "output_type": "display_data"
    }
   ],
   "source": [
    "ax=result_df[['loss_D','loss_molgan']].rolling(window=10).mean().plot()\n",
    "ax.set_xscale('log')\n",
    "#ax.set_ylim((-.6,.3))\n",
    "ax.set_xlabel(\"iteration\")"
   ]
  },
  {
   "cell_type": "code",
   "execution_count": null,
   "id": "f0b4c205-0a92-42ed-aa7e-9f42e0932610",
   "metadata": {},
   "outputs": [],
   "source": [
    "GP_LAMBDA"
   ]
  },
  {
   "cell_type": "code",
   "execution_count": 27,
   "id": "42d68b03-e0d7-4b7e-b1cd-c6ebeabcad09",
   "metadata": {
    "scrolled": true
   },
   "outputs": [
    {
     "name": "stderr",
     "output_type": "stream",
     "text": [
      "60.0:   0%|                                                                                  | 0/10000 [00:00<?, ?it/s]"
     ]
    },
    {
     "data": {
      "text/plain": [
       "[None]"
      ]
     },
     "metadata": {},
     "output_type": "display_data"
    },
    {
     "name": "stderr",
     "output_type": "stream",
     "text": [
      "62.0:   0%|                                                                                  | 0/10000 [00:00<?, ?it/s]"
     ]
    },
    {
     "data": {
      "text/plain": [
       "[None]"
      ]
     },
     "metadata": {},
     "output_type": "display_data"
    },
    {
     "name": "stderr",
     "output_type": "stream",
     "text": [
      "59.0:   0%|                                                                                  | 0/10000 [00:00<?, ?it/s]"
     ]
    },
    {
     "data": {
      "text/plain": [
       "[None]"
      ]
     },
     "metadata": {},
     "output_type": "display_data"
    },
    {
     "name": "stderr",
     "output_type": "stream",
     "text": [
      "66.0:   0%|                                                                                  | 0/10000 [00:00<?, ?it/s]"
     ]
    },
    {
     "data": {
      "text/plain": [
       "[None]"
      ]
     },
     "metadata": {},
     "output_type": "display_data"
    },
    {
     "name": "stderr",
     "output_type": "stream",
     "text": [
      "64.0:   0%|                                                                                  | 0/10000 [00:00<?, ?it/s]"
     ]
    },
    {
     "data": {
      "text/plain": [
       "[None]"
      ]
     },
     "metadata": {},
     "output_type": "display_data"
    },
    {
     "name": "stderr",
     "output_type": "stream",
     "text": [
      "53.0:   0%|                                                                                  | 0/10000 [00:00<?, ?it/s]"
     ]
    },
    {
     "data": {
      "text/plain": [
       "[None]"
      ]
     },
     "metadata": {},
     "output_type": "display_data"
    },
    {
     "name": "stderr",
     "output_type": "stream",
     "text": [
      "59.0:   0%|                                                                                  | 0/10000 [00:00<?, ?it/s]"
     ]
    },
    {
     "data": {
      "text/plain": [
       "[None]"
      ]
     },
     "metadata": {},
     "output_type": "display_data"
    },
    {
     "name": "stderr",
     "output_type": "stream",
     "text": [
      "54.0:   0%|                                                                          | 7/10000 [00:00<02:30, 66.32it/s]"
     ]
    },
    {
     "data": {
      "text/plain": [
       "[None]"
      ]
     },
     "metadata": {},
     "output_type": "display_data"
    },
    {
     "name": "stderr",
     "output_type": "stream",
     "text": [
      "64.0:   0%|                                                                          | 7/10000 [00:00<02:30, 66.32it/s]"
     ]
    },
    {
     "data": {
      "text/plain": [
       "[None]"
      ]
     },
     "metadata": {},
     "output_type": "display_data"
    },
    {
     "name": "stderr",
     "output_type": "stream",
     "text": [
      "61.0:   0%|                                                                          | 7/10000 [00:00<02:30, 66.32it/s]"
     ]
    },
    {
     "data": {
      "text/plain": [
       "[None]"
      ]
     },
     "metadata": {},
     "output_type": "display_data"
    },
    {
     "name": "stderr",
     "output_type": "stream",
     "text": [
      "64.0:   0%|                                                                          | 7/10000 [00:00<02:30, 66.32it/s]"
     ]
    },
    {
     "data": {
      "text/plain": [
       "[None]"
      ]
     },
     "metadata": {},
     "output_type": "display_data"
    },
    {
     "name": "stderr",
     "output_type": "stream",
     "text": [
      "55.0:   0%|                                                                          | 7/10000 [00:00<02:30, 66.32it/s]"
     ]
    },
    {
     "data": {
      "text/plain": [
       "[None]"
      ]
     },
     "metadata": {},
     "output_type": "display_data"
    },
    {
     "name": "stderr",
     "output_type": "stream",
     "text": [
      "53.0:   0%|                                                                          | 7/10000 [00:00<02:30, 66.32it/s]"
     ]
    },
    {
     "data": {
      "text/plain": [
       "[None]"
      ]
     },
     "metadata": {},
     "output_type": "display_data"
    },
    {
     "name": "stderr",
     "output_type": "stream",
     "text": [
      "67.0:   0%|                                                                          | 7/10000 [00:00<02:30, 66.32it/s]"
     ]
    },
    {
     "data": {
      "text/plain": [
       "[None]"
      ]
     },
     "metadata": {},
     "output_type": "display_data"
    },
    {
     "name": "stderr",
     "output_type": "stream",
     "text": [
      "57.0:   0%|                                                                          | 7/10000 [00:00<02:30, 66.32it/s]"
     ]
    },
    {
     "data": {
      "text/plain": [
       "[None]"
      ]
     },
     "metadata": {},
     "output_type": "display_data"
    },
    {
     "name": "stderr",
     "output_type": "stream",
     "text": [
      "61.0:   0%|                                                                          | 7/10000 [00:00<02:30, 66.32it/s]"
     ]
    },
    {
     "data": {
      "text/plain": [
       "[None]"
      ]
     },
     "metadata": {},
     "output_type": "display_data"
    },
    {
     "name": "stderr",
     "output_type": "stream",
     "text": [
      "59.0:   0%|                                                                          | 7/10000 [00:00<02:30, 66.32it/s]"
     ]
    },
    {
     "data": {
      "text/plain": [
       "[None]"
      ]
     },
     "metadata": {},
     "output_type": "display_data"
    },
    {
     "name": "stderr",
     "output_type": "stream",
     "text": [
      "61.0:   0%|                                                                          | 7/10000 [00:00<02:30, 66.32it/s]"
     ]
    },
    {
     "data": {
      "text/plain": [
       "[None]"
      ]
     },
     "metadata": {},
     "output_type": "display_data"
    },
    {
     "name": "stderr",
     "output_type": "stream",
     "text": [
      "57.0:   0%|                                                                          | 7/10000 [00:00<02:30, 66.32it/s]"
     ]
    },
    {
     "data": {
      "text/plain": [
       "[None]"
      ]
     },
     "metadata": {},
     "output_type": "display_data"
    },
    {
     "name": "stderr",
     "output_type": "stream",
     "text": [
      "63.0:   0%|                                                                          | 7/10000 [00:00<02:30, 66.32it/s]"
     ]
    },
    {
     "data": {
      "text/plain": [
       "[None]"
      ]
     },
     "metadata": {},
     "output_type": "display_data"
    },
    {
     "name": "stderr",
     "output_type": "stream",
     "text": [
      "58.0:   0%|                                                                          | 7/10000 [00:00<02:30, 66.32it/s]"
     ]
    },
    {
     "data": {
      "text/plain": [
       "[None]"
      ]
     },
     "metadata": {},
     "output_type": "display_data"
    },
    {
     "name": "stderr",
     "output_type": "stream",
     "text": [
      "61.0:   0%|                                                                          | 7/10000 [00:00<02:30, 66.32it/s]"
     ]
    },
    {
     "data": {
      "text/plain": [
       "[None]"
      ]
     },
     "metadata": {},
     "output_type": "display_data"
    },
    {
     "name": "stderr",
     "output_type": "stream",
     "text": [
      "62.0:   0%|                                                                          | 7/10000 [00:00<02:30, 66.32it/s]"
     ]
    },
    {
     "data": {
      "text/plain": [
       "[None]"
      ]
     },
     "metadata": {},
     "output_type": "display_data"
    },
    {
     "name": "stderr",
     "output_type": "stream",
     "text": [
      "65.0:   0%|                                                                          | 7/10000 [00:00<02:30, 66.32it/s]"
     ]
    },
    {
     "data": {
      "text/plain": [
       "[None]"
      ]
     },
     "metadata": {},
     "output_type": "display_data"
    },
    {
     "name": "stderr",
     "output_type": "stream",
     "text": [
      "59.0:   0%|▏                                                                       | 24/10000 [00:00<01:20, 123.33it/s]"
     ]
    },
    {
     "data": {
      "text/plain": [
       "[None]"
      ]
     },
     "metadata": {},
     "output_type": "display_data"
    },
    {
     "name": "stderr",
     "output_type": "stream",
     "text": [
      "60.0:   0%|▏                                                                       | 24/10000 [00:00<01:20, 123.33it/s]"
     ]
    },
    {
     "data": {
      "text/plain": [
       "[None]"
      ]
     },
     "metadata": {},
     "output_type": "display_data"
    },
    {
     "name": "stderr",
     "output_type": "stream",
     "text": [
      "55.0:   0%|▏                                                                       | 24/10000 [00:00<01:20, 123.33it/s]"
     ]
    },
    {
     "data": {
      "text/plain": [
       "[None]"
      ]
     },
     "metadata": {},
     "output_type": "display_data"
    },
    {
     "name": "stderr",
     "output_type": "stream",
     "text": [
      "60.0:   0%|▏                                                                       | 24/10000 [00:00<01:20, 123.33it/s]"
     ]
    },
    {
     "data": {
      "text/plain": [
       "[None]"
      ]
     },
     "metadata": {},
     "output_type": "display_data"
    },
    {
     "name": "stderr",
     "output_type": "stream",
     "text": [
      "62.0:   0%|▏                                                                       | 24/10000 [00:00<01:20, 123.33it/s]"
     ]
    },
    {
     "data": {
      "text/plain": [
       "[None]"
      ]
     },
     "metadata": {},
     "output_type": "display_data"
    },
    {
     "name": "stderr",
     "output_type": "stream",
     "text": [
      "59.0:   0%|▏                                                                       | 24/10000 [00:00<01:20, 123.33it/s]"
     ]
    },
    {
     "data": {
      "text/plain": [
       "[None]"
      ]
     },
     "metadata": {},
     "output_type": "display_data"
    },
    {
     "name": "stderr",
     "output_type": "stream",
     "text": [
      "59.0:   0%|▏                                                                       | 24/10000 [00:00<01:20, 123.33it/s]"
     ]
    },
    {
     "data": {
      "text/plain": [
       "[None]"
      ]
     },
     "metadata": {},
     "output_type": "display_data"
    },
    {
     "name": "stderr",
     "output_type": "stream",
     "text": [
      "65.0:   0%|▏                                                                       | 24/10000 [00:00<01:20, 123.33it/s]"
     ]
    },
    {
     "data": {
      "text/plain": [
       "[None]"
      ]
     },
     "metadata": {},
     "output_type": "display_data"
    },
    {
     "name": "stderr",
     "output_type": "stream",
     "text": [
      "59.0:   0%|▏                                                                       | 24/10000 [00:00<01:20, 123.33it/s]"
     ]
    },
    {
     "data": {
      "text/plain": [
       "[None]"
      ]
     },
     "metadata": {},
     "output_type": "display_data"
    },
    {
     "name": "stderr",
     "output_type": "stream",
     "text": [
      "61.0:   0%|▏                                                                       | 24/10000 [00:00<01:20, 123.33it/s]"
     ]
    },
    {
     "data": {
      "text/plain": [
       "[None]"
      ]
     },
     "metadata": {},
     "output_type": "display_data"
    },
    {
     "name": "stderr",
     "output_type": "stream",
     "text": [
      "56.0:   0%|▏                                                                       | 24/10000 [00:00<01:20, 123.33it/s]"
     ]
    },
    {
     "data": {
      "text/plain": [
       "[None]"
      ]
     },
     "metadata": {},
     "output_type": "display_data"
    },
    {
     "name": "stderr",
     "output_type": "stream",
     "text": [
      "57.0:   0%|▏                                                                       | 24/10000 [00:00<01:20, 123.33it/s]"
     ]
    },
    {
     "data": {
      "text/plain": [
       "[None]"
      ]
     },
     "metadata": {},
     "output_type": "display_data"
    },
    {
     "name": "stderr",
     "output_type": "stream",
     "text": [
      "63.0:   0%|▏                                                                       | 24/10000 [00:00<01:20, 123.33it/s]"
     ]
    },
    {
     "data": {
      "text/plain": [
       "[None]"
      ]
     },
     "metadata": {},
     "output_type": "display_data"
    },
    {
     "name": "stderr",
     "output_type": "stream",
     "text": [
      "67.0:   0%|▏                                                                       | 24/10000 [00:00<01:20, 123.33it/s]"
     ]
    },
    {
     "data": {
      "text/plain": [
       "[None]"
      ]
     },
     "metadata": {},
     "output_type": "display_data"
    },
    {
     "name": "stderr",
     "output_type": "stream",
     "text": [
      "59.0:   0%|▏                                                                       | 24/10000 [00:00<01:20, 123.33it/s]"
     ]
    },
    {
     "data": {
      "text/plain": [
       "[None]"
      ]
     },
     "metadata": {},
     "output_type": "display_data"
    },
    {
     "name": "stderr",
     "output_type": "stream",
     "text": [
      "64.0:   0%|▏                                                                       | 24/10000 [00:00<01:20, 123.33it/s]"
     ]
    },
    {
     "data": {
      "text/plain": [
       "[None]"
      ]
     },
     "metadata": {},
     "output_type": "display_data"
    },
    {
     "name": "stderr",
     "output_type": "stream",
     "text": [
      "56.0:   0%|▏                                                                       | 24/10000 [00:00<01:20, 123.33it/s]"
     ]
    },
    {
     "data": {
      "text/plain": [
       "[None]"
      ]
     },
     "metadata": {},
     "output_type": "display_data"
    },
    {
     "name": "stderr",
     "output_type": "stream",
     "text": [
      "64.0:   0%|▏                                                                       | 24/10000 [00:00<01:20, 123.33it/s]"
     ]
    },
    {
     "data": {
      "text/plain": [
       "[None]"
      ]
     },
     "metadata": {},
     "output_type": "display_data"
    },
    {
     "name": "stderr",
     "output_type": "stream",
     "text": [
      "59.0:   0%|▏                                                                       | 24/10000 [00:00<01:20, 123.33it/s]"
     ]
    },
    {
     "data": {
      "text/plain": [
       "[None]"
      ]
     },
     "metadata": {},
     "output_type": "display_data"
    },
    {
     "name": "stderr",
     "output_type": "stream",
     "text": [
      "58.0:   0%|▏                                                                       | 24/10000 [00:00<01:20, 123.33it/s]"
     ]
    },
    {
     "data": {
      "text/plain": [
       "[None]"
      ]
     },
     "metadata": {},
     "output_type": "display_data"
    },
    {
     "name": "stderr",
     "output_type": "stream",
     "text": [
      "64.0:   0%|▏                                                                       | 24/10000 [00:00<01:20, 123.33it/s]"
     ]
    },
    {
     "data": {
      "text/plain": [
       "[None]"
      ]
     },
     "metadata": {},
     "output_type": "display_data"
    },
    {
     "name": "stderr",
     "output_type": "stream",
     "text": [
      "57.0:   0%|▏                                                                       | 24/10000 [00:00<01:20, 123.33it/s]"
     ]
    },
    {
     "data": {
      "text/plain": [
       "[None]"
      ]
     },
     "metadata": {},
     "output_type": "display_data"
    },
    {
     "name": "stderr",
     "output_type": "stream",
     "text": [
      "62.0:   0%|▏                                                                       | 24/10000 [00:00<01:20, 123.33it/s]"
     ]
    },
    {
     "data": {
      "text/plain": [
       "[None]"
      ]
     },
     "metadata": {},
     "output_type": "display_data"
    },
    {
     "name": "stderr",
     "output_type": "stream",
     "text": [
      "63.0:   0%|▎                                                                       | 47/10000 [00:00<00:58, 170.28it/s]"
     ]
    },
    {
     "data": {
      "text/plain": [
       "[None]"
      ]
     },
     "metadata": {},
     "output_type": "display_data"
    },
    {
     "name": "stderr",
     "output_type": "stream",
     "text": [
      "58.0:   0%|▎                                                                       | 47/10000 [00:00<00:58, 170.28it/s]"
     ]
    },
    {
     "data": {
      "text/plain": [
       "[None]"
      ]
     },
     "metadata": {},
     "output_type": "display_data"
    },
    {
     "name": "stderr",
     "output_type": "stream",
     "text": [
      "57.0:   0%|▎                                                                       | 47/10000 [00:00<00:58, 170.28it/s]"
     ]
    },
    {
     "data": {
      "text/plain": [
       "[None]"
      ]
     },
     "metadata": {},
     "output_type": "display_data"
    },
    {
     "name": "stderr",
     "output_type": "stream",
     "text": [
      "61.0:   0%|▎                                                                       | 47/10000 [00:00<00:58, 170.28it/s]"
     ]
    },
    {
     "data": {
      "text/plain": [
       "[None]"
      ]
     },
     "metadata": {},
     "output_type": "display_data"
    },
    {
     "name": "stderr",
     "output_type": "stream",
     "text": [
      "60.0:   0%|▎                                                                       | 47/10000 [00:00<00:58, 170.28it/s]"
     ]
    },
    {
     "data": {
      "text/plain": [
       "[None]"
      ]
     },
     "metadata": {},
     "output_type": "display_data"
    },
    {
     "name": "stderr",
     "output_type": "stream",
     "text": [
      "63.0:   0%|▎                                                                       | 47/10000 [00:00<00:58, 170.28it/s]"
     ]
    },
    {
     "data": {
      "text/plain": [
       "[None]"
      ]
     },
     "metadata": {},
     "output_type": "display_data"
    },
    {
     "name": "stderr",
     "output_type": "stream",
     "text": [
      "63.0:   0%|▎                                                                       | 47/10000 [00:00<00:58, 170.28it/s]"
     ]
    },
    {
     "data": {
      "text/plain": [
       "[None]"
      ]
     },
     "metadata": {},
     "output_type": "display_data"
    },
    {
     "name": "stderr",
     "output_type": "stream",
     "text": [
      "61.0:   0%|▎                                                                       | 47/10000 [00:00<00:58, 170.28it/s]"
     ]
    },
    {
     "data": {
      "text/plain": [
       "[None]"
      ]
     },
     "metadata": {},
     "output_type": "display_data"
    },
    {
     "name": "stderr",
     "output_type": "stream",
     "text": [
      "70.0:   0%|▎                                                                       | 47/10000 [00:00<00:58, 170.28it/s]"
     ]
    },
    {
     "data": {
      "text/plain": [
       "[None]"
      ]
     },
     "metadata": {},
     "output_type": "display_data"
    },
    {
     "name": "stderr",
     "output_type": "stream",
     "text": [
      "63.0:   0%|▎                                                                       | 47/10000 [00:00<00:58, 170.28it/s]"
     ]
    },
    {
     "data": {
      "text/plain": [
       "[None]"
      ]
     },
     "metadata": {},
     "output_type": "display_data"
    },
    {
     "name": "stderr",
     "output_type": "stream",
     "text": [
      "66.0:   0%|▎                                                                       | 47/10000 [00:00<00:58, 170.28it/s]"
     ]
    },
    {
     "data": {
      "text/plain": [
       "[None]"
      ]
     },
     "metadata": {},
     "output_type": "display_data"
    },
    {
     "name": "stderr",
     "output_type": "stream",
     "text": [
      "55.0:   0%|▎                                                                       | 47/10000 [00:00<00:58, 170.28it/s]"
     ]
    },
    {
     "data": {
      "text/plain": [
       "[None]"
      ]
     },
     "metadata": {},
     "output_type": "display_data"
    },
    {
     "name": "stderr",
     "output_type": "stream",
     "text": [
      "57.0:   0%|▎                                                                       | 47/10000 [00:00<00:58, 170.28it/s]"
     ]
    },
    {
     "data": {
      "text/plain": [
       "[None]"
      ]
     },
     "metadata": {},
     "output_type": "display_data"
    },
    {
     "name": "stderr",
     "output_type": "stream",
     "text": [
      "60.0:   0%|▎                                                                       | 47/10000 [00:00<00:58, 170.28it/s]"
     ]
    },
    {
     "data": {
      "text/plain": [
       "[None]"
      ]
     },
     "metadata": {},
     "output_type": "display_data"
    },
    {
     "name": "stderr",
     "output_type": "stream",
     "text": [
      "62.0:   0%|▎                                                                       | 47/10000 [00:00<00:58, 170.28it/s]"
     ]
    },
    {
     "data": {
      "text/plain": [
       "[None]"
      ]
     },
     "metadata": {},
     "output_type": "display_data"
    },
    {
     "name": "stderr",
     "output_type": "stream",
     "text": [
      "62.0:   0%|▎                                                                       | 47/10000 [00:00<00:58, 170.28it/s]"
     ]
    },
    {
     "data": {
      "text/plain": [
       "[None]"
      ]
     },
     "metadata": {},
     "output_type": "display_data"
    },
    {
     "name": "stderr",
     "output_type": "stream",
     "text": [
      "64.0:   0%|▎                                                                       | 47/10000 [00:00<00:58, 170.28it/s]"
     ]
    },
    {
     "data": {
      "text/plain": [
       "[None]"
      ]
     },
     "metadata": {},
     "output_type": "display_data"
    },
    {
     "name": "stderr",
     "output_type": "stream",
     "text": [
      "51.0:   0%|▎                                                                       | 47/10000 [00:00<00:58, 170.28it/s]"
     ]
    },
    {
     "data": {
      "text/plain": [
       "[None]"
      ]
     },
     "metadata": {},
     "output_type": "display_data"
    },
    {
     "name": "stderr",
     "output_type": "stream",
     "text": [
      "57.0:   0%|▎                                                                       | 47/10000 [00:00<00:58, 170.28it/s]"
     ]
    },
    {
     "data": {
      "text/plain": [
       "[None]"
      ]
     },
     "metadata": {},
     "output_type": "display_data"
    },
    {
     "name": "stderr",
     "output_type": "stream",
     "text": [
      "55.0:   0%|▎                                                                       | 47/10000 [00:00<00:58, 170.28it/s]"
     ]
    },
    {
     "data": {
      "text/plain": [
       "[None]"
      ]
     },
     "metadata": {},
     "output_type": "display_data"
    },
    {
     "name": "stderr",
     "output_type": "stream",
     "text": [
      "63.0:   0%|▎                                                                       | 47/10000 [00:00<00:58, 170.28it/s]"
     ]
    },
    {
     "data": {
      "text/plain": [
       "[None]"
      ]
     },
     "metadata": {},
     "output_type": "display_data"
    },
    {
     "name": "stderr",
     "output_type": "stream",
     "text": [
      "61.0:   0%|▎                                                                       | 47/10000 [00:00<00:58, 170.28it/s]"
     ]
    },
    {
     "data": {
      "text/plain": [
       "[None]"
      ]
     },
     "metadata": {},
     "output_type": "display_data"
    },
    {
     "name": "stderr",
     "output_type": "stream",
     "text": [
      "59.0:   0%|▎                                                                       | 47/10000 [00:00<00:58, 170.28it/s]"
     ]
    },
    {
     "data": {
      "text/plain": [
       "[None]"
      ]
     },
     "metadata": {},
     "output_type": "display_data"
    },
    {
     "name": "stderr",
     "output_type": "stream",
     "text": [
      "61.0:   0%|▎                                                                       | 47/10000 [00:00<00:58, 170.28it/s]"
     ]
    },
    {
     "data": {
      "text/plain": [
       "[None]"
      ]
     },
     "metadata": {},
     "output_type": "display_data"
    },
    {
     "name": "stderr",
     "output_type": "stream",
     "text": [
      "59.0:   0%|▎                                                                       | 47/10000 [00:00<00:58, 170.28it/s]"
     ]
    },
    {
     "data": {
      "text/plain": [
       "[None]"
      ]
     },
     "metadata": {},
     "output_type": "display_data"
    },
    {
     "name": "stderr",
     "output_type": "stream",
     "text": [
      "67.0:   1%|▌                                                                       | 72/10000 [00:00<00:50, 198.44it/s]"
     ]
    },
    {
     "data": {
      "text/plain": [
       "[None]"
      ]
     },
     "metadata": {},
     "output_type": "display_data"
    },
    {
     "name": "stderr",
     "output_type": "stream",
     "text": [
      "68.0:   1%|▌                                                                       | 72/10000 [00:00<00:50, 198.44it/s]"
     ]
    },
    {
     "data": {
      "text/plain": [
       "[None]"
      ]
     },
     "metadata": {},
     "output_type": "display_data"
    },
    {
     "name": "stderr",
     "output_type": "stream",
     "text": [
      "60.0:   1%|▌                                                                       | 72/10000 [00:00<00:50, 198.44it/s]"
     ]
    },
    {
     "data": {
      "text/plain": [
       "[None]"
      ]
     },
     "metadata": {},
     "output_type": "display_data"
    },
    {
     "name": "stderr",
     "output_type": "stream",
     "text": [
      "61.0:   1%|▌                                                                       | 72/10000 [00:00<00:50, 198.44it/s]"
     ]
    },
    {
     "data": {
      "text/plain": [
       "[None]"
      ]
     },
     "metadata": {},
     "output_type": "display_data"
    },
    {
     "name": "stderr",
     "output_type": "stream",
     "text": [
      "59.0:   1%|▌                                                                       | 72/10000 [00:00<00:50, 198.44it/s]"
     ]
    },
    {
     "data": {
      "text/plain": [
       "[None]"
      ]
     },
     "metadata": {},
     "output_type": "display_data"
    },
    {
     "name": "stderr",
     "output_type": "stream",
     "text": [
      "64.0:   1%|▌                                                                       | 72/10000 [00:00<00:50, 198.44it/s]"
     ]
    },
    {
     "data": {
      "text/plain": [
       "[None]"
      ]
     },
     "metadata": {},
     "output_type": "display_data"
    },
    {
     "name": "stderr",
     "output_type": "stream",
     "text": [
      "66.0:   1%|▌                                                                       | 72/10000 [00:00<00:50, 198.44it/s]"
     ]
    },
    {
     "data": {
      "text/plain": [
       "[None]"
      ]
     },
     "metadata": {},
     "output_type": "display_data"
    },
    {
     "name": "stderr",
     "output_type": "stream",
     "text": [
      "67.0:   1%|▌                                                                       | 72/10000 [00:00<00:50, 198.44it/s]"
     ]
    },
    {
     "data": {
      "text/plain": [
       "[None]"
      ]
     },
     "metadata": {},
     "output_type": "display_data"
    },
    {
     "name": "stderr",
     "output_type": "stream",
     "text": [
      "61.0:   1%|▌                                                                       | 72/10000 [00:00<00:50, 198.44it/s]"
     ]
    },
    {
     "data": {
      "text/plain": [
       "[None]"
      ]
     },
     "metadata": {},
     "output_type": "display_data"
    },
    {
     "name": "stderr",
     "output_type": "stream",
     "text": [
      "60.0:   1%|▌                                                                       | 72/10000 [00:00<00:50, 198.44it/s]"
     ]
    },
    {
     "data": {
      "text/plain": [
       "[None]"
      ]
     },
     "metadata": {},
     "output_type": "display_data"
    },
    {
     "name": "stderr",
     "output_type": "stream",
     "text": [
      "60.0:   1%|▌                                                                       | 72/10000 [00:00<00:50, 198.44it/s]"
     ]
    },
    {
     "data": {
      "text/plain": [
       "[None]"
      ]
     },
     "metadata": {},
     "output_type": "display_data"
    },
    {
     "name": "stderr",
     "output_type": "stream",
     "text": [
      "61.0:   1%|▌                                                                       | 72/10000 [00:00<00:50, 198.44it/s]"
     ]
    },
    {
     "data": {
      "text/plain": [
       "[None]"
      ]
     },
     "metadata": {},
     "output_type": "display_data"
    },
    {
     "name": "stderr",
     "output_type": "stream",
     "text": [
      "59.0:   1%|▌                                                                       | 72/10000 [00:00<00:50, 198.44it/s]"
     ]
    },
    {
     "data": {
      "text/plain": [
       "[None]"
      ]
     },
     "metadata": {},
     "output_type": "display_data"
    },
    {
     "name": "stderr",
     "output_type": "stream",
     "text": [
      "59.0:   1%|▌                                                                       | 72/10000 [00:00<00:50, 198.44it/s]"
     ]
    },
    {
     "data": {
      "text/plain": [
       "[None]"
      ]
     },
     "metadata": {},
     "output_type": "display_data"
    },
    {
     "name": "stderr",
     "output_type": "stream",
     "text": [
      "54.0:   1%|▌                                                                       | 72/10000 [00:00<00:50, 198.44it/s]"
     ]
    },
    {
     "data": {
      "text/plain": [
       "[None]"
      ]
     },
     "metadata": {},
     "output_type": "display_data"
    },
    {
     "name": "stderr",
     "output_type": "stream",
     "text": [
      "60.0:   1%|▌                                                                       | 72/10000 [00:00<00:50, 198.44it/s]"
     ]
    },
    {
     "data": {
      "text/plain": [
       "[None]"
      ]
     },
     "metadata": {},
     "output_type": "display_data"
    },
    {
     "name": "stderr",
     "output_type": "stream",
     "text": [
      "58.0:   1%|▌                                                                       | 72/10000 [00:00<00:50, 198.44it/s]"
     ]
    },
    {
     "data": {
      "text/plain": [
       "[None]"
      ]
     },
     "metadata": {},
     "output_type": "display_data"
    },
    {
     "name": "stderr",
     "output_type": "stream",
     "text": [
      "61.0:   1%|▌                                                                       | 72/10000 [00:00<00:50, 198.44it/s]"
     ]
    },
    {
     "data": {
      "text/plain": [
       "[None]"
      ]
     },
     "metadata": {},
     "output_type": "display_data"
    },
    {
     "name": "stderr",
     "output_type": "stream",
     "text": [
      "58.0:   1%|▌                                                                       | 72/10000 [00:00<00:50, 198.44it/s]"
     ]
    },
    {
     "data": {
      "text/plain": [
       "[None]"
      ]
     },
     "metadata": {},
     "output_type": "display_data"
    },
    {
     "name": "stderr",
     "output_type": "stream",
     "text": [
      "64.0:   1%|▌                                                                       | 72/10000 [00:00<00:50, 198.44it/s]"
     ]
    },
    {
     "data": {
      "text/plain": [
       "[None]"
      ]
     },
     "metadata": {},
     "output_type": "display_data"
    },
    {
     "name": "stderr",
     "output_type": "stream",
     "text": [
      "60.0:   1%|▌                                                                       | 72/10000 [00:00<00:50, 198.44it/s]"
     ]
    },
    {
     "data": {
      "text/plain": [
       "[None]"
      ]
     },
     "metadata": {},
     "output_type": "display_data"
    },
    {
     "name": "stderr",
     "output_type": "stream",
     "text": [
      "56.0:   1%|▌                                                                       | 72/10000 [00:00<00:50, 198.44it/s]"
     ]
    },
    {
     "data": {
      "text/plain": [
       "[None]"
      ]
     },
     "metadata": {},
     "output_type": "display_data"
    },
    {
     "name": "stderr",
     "output_type": "stream",
     "text": [
      "63.0:   1%|▌                                                                       | 72/10000 [00:00<00:50, 198.44it/s]"
     ]
    },
    {
     "data": {
      "text/plain": [
       "[None]"
      ]
     },
     "metadata": {},
     "output_type": "display_data"
    },
    {
     "name": "stderr",
     "output_type": "stream",
     "text": [
      "55.0:   1%|▌                                                                       | 72/10000 [00:00<00:50, 198.44it/s]"
     ]
    },
    {
     "data": {
      "text/plain": [
       "[None]"
      ]
     },
     "metadata": {},
     "output_type": "display_data"
    },
    {
     "name": "stderr",
     "output_type": "stream",
     "text": [
      "54.0:   1%|▌                                                                       | 72/10000 [00:00<00:50, 198.44it/s]"
     ]
    },
    {
     "data": {
      "text/plain": [
       "[None]"
      ]
     },
     "metadata": {},
     "output_type": "display_data"
    },
    {
     "name": "stderr",
     "output_type": "stream",
     "text": [
      "61.0:   1%|▋                                                                       | 97/10000 [00:00<00:46, 214.74it/s]"
     ]
    },
    {
     "data": {
      "text/plain": [
       "[None]"
      ]
     },
     "metadata": {},
     "output_type": "display_data"
    },
    {
     "name": "stderr",
     "output_type": "stream",
     "text": [
      "62.0:   1%|▋                                                                       | 97/10000 [00:00<00:46, 214.74it/s]"
     ]
    },
    {
     "data": {
      "text/plain": [
       "[None]"
      ]
     },
     "metadata": {},
     "output_type": "display_data"
    },
    {
     "name": "stderr",
     "output_type": "stream",
     "text": [
      "63.0:   1%|▋                                                                       | 97/10000 [00:00<00:46, 214.74it/s]"
     ]
    },
    {
     "data": {
      "text/plain": [
       "[None]"
      ]
     },
     "metadata": {},
     "output_type": "display_data"
    },
    {
     "name": "stderr",
     "output_type": "stream",
     "text": [
      "55.0:   1%|▋                                                                       | 97/10000 [00:00<00:46, 214.74it/s]"
     ]
    },
    {
     "data": {
      "text/plain": [
       "[None]"
      ]
     },
     "metadata": {},
     "output_type": "display_data"
    },
    {
     "name": "stderr",
     "output_type": "stream",
     "text": [
      "56.0:   1%|▋                                                                       | 97/10000 [00:00<00:46, 214.74it/s]"
     ]
    },
    {
     "data": {
      "text/plain": [
       "[None]"
      ]
     },
     "metadata": {},
     "output_type": "display_data"
    },
    {
     "name": "stderr",
     "output_type": "stream",
     "text": [
      "64.0:   1%|▋                                                                       | 97/10000 [00:00<00:46, 214.74it/s]"
     ]
    },
    {
     "data": {
      "text/plain": [
       "[None]"
      ]
     },
     "metadata": {},
     "output_type": "display_data"
    },
    {
     "name": "stderr",
     "output_type": "stream",
     "text": [
      "59.0:   1%|▋                                                                       | 97/10000 [00:00<00:46, 214.74it/s]"
     ]
    },
    {
     "data": {
      "text/plain": [
       "[None]"
      ]
     },
     "metadata": {},
     "output_type": "display_data"
    },
    {
     "name": "stderr",
     "output_type": "stream",
     "text": [
      "60.0:   1%|▋                                                                       | 97/10000 [00:00<00:46, 214.74it/s]"
     ]
    },
    {
     "data": {
      "text/plain": [
       "[None]"
      ]
     },
     "metadata": {},
     "output_type": "display_data"
    },
    {
     "name": "stderr",
     "output_type": "stream",
     "text": [
      "64.0:   1%|▋                                                                       | 97/10000 [00:00<00:46, 214.74it/s]"
     ]
    },
    {
     "data": {
      "text/plain": [
       "[None]"
      ]
     },
     "metadata": {},
     "output_type": "display_data"
    },
    {
     "name": "stderr",
     "output_type": "stream",
     "text": [
      "56.0:   1%|▋                                                                       | 97/10000 [00:00<00:46, 214.74it/s]"
     ]
    },
    {
     "data": {
      "text/plain": [
       "[None]"
      ]
     },
     "metadata": {},
     "output_type": "display_data"
    },
    {
     "name": "stderr",
     "output_type": "stream",
     "text": [
      "56.0:   1%|▋                                                                       | 97/10000 [00:00<00:46, 214.74it/s]"
     ]
    },
    {
     "data": {
      "text/plain": [
       "[None]"
      ]
     },
     "metadata": {},
     "output_type": "display_data"
    },
    {
     "name": "stderr",
     "output_type": "stream",
     "text": [
      "61.0:   1%|▋                                                                       | 97/10000 [00:00<00:46, 214.74it/s]"
     ]
    },
    {
     "data": {
      "text/plain": [
       "[None]"
      ]
     },
     "metadata": {},
     "output_type": "display_data"
    },
    {
     "name": "stderr",
     "output_type": "stream",
     "text": [
      "59.0:   1%|▋                                                                       | 97/10000 [00:00<00:46, 214.74it/s]"
     ]
    },
    {
     "data": {
      "text/plain": [
       "[None]"
      ]
     },
     "metadata": {},
     "output_type": "display_data"
    },
    {
     "name": "stderr",
     "output_type": "stream",
     "text": [
      "66.0:   1%|▋                                                                       | 97/10000 [00:00<00:46, 214.74it/s]"
     ]
    },
    {
     "data": {
      "text/plain": [
       "[None]"
      ]
     },
     "metadata": {},
     "output_type": "display_data"
    },
    {
     "name": "stderr",
     "output_type": "stream",
     "text": [
      "64.0:   1%|▋                                                                       | 97/10000 [00:00<00:46, 214.74it/s]"
     ]
    },
    {
     "data": {
      "text/plain": [
       "[None]"
      ]
     },
     "metadata": {},
     "output_type": "display_data"
    },
    {
     "name": "stderr",
     "output_type": "stream",
     "text": [
      "66.0:   1%|▋                                                                       | 97/10000 [00:00<00:46, 214.74it/s]"
     ]
    },
    {
     "data": {
      "text/plain": [
       "[None]"
      ]
     },
     "metadata": {},
     "output_type": "display_data"
    },
    {
     "name": "stderr",
     "output_type": "stream",
     "text": [
      "66.0:   1%|▋                                                                       | 97/10000 [00:00<00:46, 214.74it/s]"
     ]
    },
    {
     "data": {
      "text/plain": [
       "[None]"
      ]
     },
     "metadata": {},
     "output_type": "display_data"
    },
    {
     "name": "stderr",
     "output_type": "stream",
     "text": [
      "61.0:   1%|▋                                                                       | 97/10000 [00:00<00:46, 214.74it/s]"
     ]
    },
    {
     "data": {
      "text/plain": [
       "[None]"
      ]
     },
     "metadata": {},
     "output_type": "display_data"
    },
    {
     "name": "stderr",
     "output_type": "stream",
     "text": [
      "56.0:   1%|▋                                                                       | 97/10000 [00:00<00:46, 214.74it/s]"
     ]
    },
    {
     "data": {
      "text/plain": [
       "[None]"
      ]
     },
     "metadata": {},
     "output_type": "display_data"
    },
    {
     "name": "stderr",
     "output_type": "stream",
     "text": [
      "64.0:   1%|▋                                                                       | 97/10000 [00:00<00:46, 214.74it/s]"
     ]
    },
    {
     "data": {
      "text/plain": [
       "[None]"
      ]
     },
     "metadata": {},
     "output_type": "display_data"
    },
    {
     "name": "stderr",
     "output_type": "stream",
     "text": [
      "57.0:   1%|▋                                                                       | 97/10000 [00:00<00:46, 214.74it/s]"
     ]
    },
    {
     "data": {
      "text/plain": [
       "[None]"
      ]
     },
     "metadata": {},
     "output_type": "display_data"
    },
    {
     "name": "stderr",
     "output_type": "stream",
     "text": [
      "68.0:   1%|▋                                                                       | 97/10000 [00:00<00:46, 214.74it/s]"
     ]
    },
    {
     "data": {
      "text/plain": [
       "[None]"
      ]
     },
     "metadata": {},
     "output_type": "display_data"
    },
    {
     "name": "stderr",
     "output_type": "stream",
     "text": [
      "56.0:   1%|▋                                                                       | 97/10000 [00:00<00:46, 214.74it/s]"
     ]
    },
    {
     "data": {
      "text/plain": [
       "[None]"
      ]
     },
     "metadata": {},
     "output_type": "display_data"
    },
    {
     "name": "stderr",
     "output_type": "stream",
     "text": [
      "57.0:   1%|▋                                                                       | 97/10000 [00:00<00:46, 214.74it/s]"
     ]
    },
    {
     "data": {
      "text/plain": [
       "[None]"
      ]
     },
     "metadata": {},
     "output_type": "display_data"
    },
    {
     "name": "stderr",
     "output_type": "stream",
     "text": [
      "68.0:   1%|▊                                                                      | 121/10000 [00:00<00:44, 222.14it/s]"
     ]
    },
    {
     "data": {
      "text/plain": [
       "[None]"
      ]
     },
     "metadata": {},
     "output_type": "display_data"
    },
    {
     "name": "stderr",
     "output_type": "stream",
     "text": [
      "64.0:   1%|▊                                                                      | 121/10000 [00:00<00:44, 222.14it/s]"
     ]
    },
    {
     "data": {
      "text/plain": [
       "[None]"
      ]
     },
     "metadata": {},
     "output_type": "display_data"
    },
    {
     "name": "stderr",
     "output_type": "stream",
     "text": [
      "64.0:   1%|▊                                                                      | 121/10000 [00:00<00:44, 222.14it/s]"
     ]
    },
    {
     "data": {
      "text/plain": [
       "[None]"
      ]
     },
     "metadata": {},
     "output_type": "display_data"
    },
    {
     "name": "stderr",
     "output_type": "stream",
     "text": [
      "65.0:   1%|▊                                                                      | 121/10000 [00:00<00:44, 222.14it/s]"
     ]
    },
    {
     "data": {
      "text/plain": [
       "[None]"
      ]
     },
     "metadata": {},
     "output_type": "display_data"
    },
    {
     "name": "stderr",
     "output_type": "stream",
     "text": [
      "58.0:   1%|▊                                                                      | 121/10000 [00:00<00:44, 222.14it/s]"
     ]
    },
    {
     "data": {
      "text/plain": [
       "[None]"
      ]
     },
     "metadata": {},
     "output_type": "display_data"
    },
    {
     "name": "stderr",
     "output_type": "stream",
     "text": [
      "60.0:   1%|▊                                                                      | 121/10000 [00:00<00:44, 222.14it/s]"
     ]
    },
    {
     "data": {
      "text/plain": [
       "[None]"
      ]
     },
     "metadata": {},
     "output_type": "display_data"
    },
    {
     "name": "stderr",
     "output_type": "stream",
     "text": [
      "61.0:   1%|▊                                                                      | 121/10000 [00:00<00:44, 222.14it/s]"
     ]
    },
    {
     "data": {
      "text/plain": [
       "[None]"
      ]
     },
     "metadata": {},
     "output_type": "display_data"
    },
    {
     "name": "stderr",
     "output_type": "stream",
     "text": [
      "60.0:   1%|▊                                                                      | 121/10000 [00:00<00:44, 222.14it/s]"
     ]
    },
    {
     "data": {
      "text/plain": [
       "[None]"
      ]
     },
     "metadata": {},
     "output_type": "display_data"
    },
    {
     "name": "stderr",
     "output_type": "stream",
     "text": [
      "66.0:   1%|▊                                                                      | 121/10000 [00:00<00:44, 222.14it/s]"
     ]
    },
    {
     "data": {
      "text/plain": [
       "[None]"
      ]
     },
     "metadata": {},
     "output_type": "display_data"
    },
    {
     "name": "stderr",
     "output_type": "stream",
     "text": [
      "61.0:   1%|▊                                                                      | 121/10000 [00:00<00:44, 222.14it/s]"
     ]
    },
    {
     "data": {
      "text/plain": [
       "[None]"
      ]
     },
     "metadata": {},
     "output_type": "display_data"
    },
    {
     "name": "stderr",
     "output_type": "stream",
     "text": [
      "61.0:   1%|▊                                                                      | 121/10000 [00:00<00:44, 222.14it/s]"
     ]
    },
    {
     "data": {
      "text/plain": [
       "[None]"
      ]
     },
     "metadata": {},
     "output_type": "display_data"
    },
    {
     "name": "stderr",
     "output_type": "stream",
     "text": [
      "62.0:   1%|▊                                                                      | 121/10000 [00:00<00:44, 222.14it/s]"
     ]
    },
    {
     "data": {
      "text/plain": [
       "[None]"
      ]
     },
     "metadata": {},
     "output_type": "display_data"
    },
    {
     "name": "stderr",
     "output_type": "stream",
     "text": [
      "64.0:   1%|▊                                                                      | 121/10000 [00:00<00:44, 222.14it/s]"
     ]
    },
    {
     "data": {
      "text/plain": [
       "[None]"
      ]
     },
     "metadata": {},
     "output_type": "display_data"
    },
    {
     "name": "stderr",
     "output_type": "stream",
     "text": [
      "65.0:   1%|▊                                                                      | 121/10000 [00:00<00:44, 222.14it/s]"
     ]
    },
    {
     "data": {
      "text/plain": [
       "[None]"
      ]
     },
     "metadata": {},
     "output_type": "display_data"
    },
    {
     "name": "stderr",
     "output_type": "stream",
     "text": [
      "53.0:   1%|▊                                                                      | 121/10000 [00:00<00:44, 222.14it/s]"
     ]
    },
    {
     "data": {
      "text/plain": [
       "[None]"
      ]
     },
     "metadata": {},
     "output_type": "display_data"
    },
    {
     "name": "stderr",
     "output_type": "stream",
     "text": [
      "57.0:   1%|▊                                                                      | 121/10000 [00:00<00:44, 222.14it/s]"
     ]
    },
    {
     "data": {
      "text/plain": [
       "[None]"
      ]
     },
     "metadata": {},
     "output_type": "display_data"
    },
    {
     "name": "stderr",
     "output_type": "stream",
     "text": [
      "62.0:   1%|▊                                                                      | 121/10000 [00:00<00:44, 222.14it/s]"
     ]
    },
    {
     "data": {
      "text/plain": [
       "[None]"
      ]
     },
     "metadata": {},
     "output_type": "display_data"
    },
    {
     "name": "stderr",
     "output_type": "stream",
     "text": [
      "65.0:   1%|▊                                                                      | 121/10000 [00:00<00:44, 222.14it/s]"
     ]
    },
    {
     "data": {
      "text/plain": [
       "[None]"
      ]
     },
     "metadata": {},
     "output_type": "display_data"
    },
    {
     "name": "stderr",
     "output_type": "stream",
     "text": [
      "64.0:   1%|▊                                                                      | 121/10000 [00:00<00:44, 222.14it/s]"
     ]
    },
    {
     "data": {
      "text/plain": [
       "[None]"
      ]
     },
     "metadata": {},
     "output_type": "display_data"
    },
    {
     "name": "stderr",
     "output_type": "stream",
     "text": [
      "55.0:   1%|▊                                                                      | 121/10000 [00:00<00:44, 222.14it/s]"
     ]
    },
    {
     "data": {
      "text/plain": [
       "[None]"
      ]
     },
     "metadata": {},
     "output_type": "display_data"
    },
    {
     "name": "stderr",
     "output_type": "stream",
     "text": [
      "67.0:   1%|▊                                                                      | 121/10000 [00:00<00:44, 222.14it/s]"
     ]
    },
    {
     "data": {
      "text/plain": [
       "[None]"
      ]
     },
     "metadata": {},
     "output_type": "display_data"
    },
    {
     "name": "stderr",
     "output_type": "stream",
     "text": [
      "58.0:   1%|▊                                                                      | 121/10000 [00:00<00:44, 222.14it/s]"
     ]
    },
    {
     "data": {
      "text/plain": [
       "[None]"
      ]
     },
     "metadata": {},
     "output_type": "display_data"
    },
    {
     "name": "stderr",
     "output_type": "stream",
     "text": [
      "55.0:   1%|▊                                                                      | 121/10000 [00:00<00:44, 222.14it/s]"
     ]
    },
    {
     "data": {
      "text/plain": [
       "[None]"
      ]
     },
     "metadata": {},
     "output_type": "display_data"
    },
    {
     "name": "stderr",
     "output_type": "stream",
     "text": [
      "70.0:   1%|█                                                                      | 144/10000 [00:00<00:44, 221.68it/s]"
     ]
    },
    {
     "data": {
      "text/plain": [
       "[None]"
      ]
     },
     "metadata": {},
     "output_type": "display_data"
    },
    {
     "name": "stderr",
     "output_type": "stream",
     "text": [
      "62.0:   1%|█                                                                      | 144/10000 [00:00<00:44, 221.68it/s]"
     ]
    },
    {
     "data": {
      "text/plain": [
       "[None]"
      ]
     },
     "metadata": {},
     "output_type": "display_data"
    },
    {
     "name": "stderr",
     "output_type": "stream",
     "text": [
      "53.0:   1%|█                                                                      | 144/10000 [00:00<00:44, 221.68it/s]"
     ]
    },
    {
     "data": {
      "text/plain": [
       "[None]"
      ]
     },
     "metadata": {},
     "output_type": "display_data"
    },
    {
     "name": "stderr",
     "output_type": "stream",
     "text": [
      "65.0:   1%|█                                                                      | 144/10000 [00:00<00:44, 221.68it/s]"
     ]
    },
    {
     "data": {
      "text/plain": [
       "[None]"
      ]
     },
     "metadata": {},
     "output_type": "display_data"
    },
    {
     "name": "stderr",
     "output_type": "stream",
     "text": [
      "65.0:   1%|█                                                                      | 144/10000 [00:00<00:44, 221.68it/s]"
     ]
    },
    {
     "data": {
      "text/plain": [
       "[None]"
      ]
     },
     "metadata": {},
     "output_type": "display_data"
    },
    {
     "name": "stderr",
     "output_type": "stream",
     "text": [
      "61.0:   1%|█                                                                      | 144/10000 [00:00<00:44, 221.68it/s]"
     ]
    },
    {
     "data": {
      "text/plain": [
       "[None]"
      ]
     },
     "metadata": {},
     "output_type": "display_data"
    },
    {
     "name": "stderr",
     "output_type": "stream",
     "text": [
      "63.0:   1%|█                                                                      | 144/10000 [00:00<00:44, 221.68it/s]"
     ]
    },
    {
     "data": {
      "text/plain": [
       "[None]"
      ]
     },
     "metadata": {},
     "output_type": "display_data"
    },
    {
     "name": "stderr",
     "output_type": "stream",
     "text": [
      "63.0:   1%|█                                                                      | 144/10000 [00:00<00:44, 221.68it/s]"
     ]
    },
    {
     "data": {
      "text/plain": [
       "[None]"
      ]
     },
     "metadata": {},
     "output_type": "display_data"
    },
    {
     "name": "stderr",
     "output_type": "stream",
     "text": [
      "64.0:   1%|█                                                                      | 144/10000 [00:00<00:44, 221.68it/s]"
     ]
    },
    {
     "data": {
      "text/plain": [
       "[None]"
      ]
     },
     "metadata": {},
     "output_type": "display_data"
    },
    {
     "name": "stderr",
     "output_type": "stream",
     "text": [
      "64.0:   1%|█                                                                      | 144/10000 [00:00<00:44, 221.68it/s]"
     ]
    },
    {
     "data": {
      "text/plain": [
       "[None]"
      ]
     },
     "metadata": {},
     "output_type": "display_data"
    },
    {
     "name": "stderr",
     "output_type": "stream",
     "text": [
      "66.0:   1%|█                                                                      | 144/10000 [00:00<00:44, 221.68it/s]"
     ]
    },
    {
     "data": {
      "text/plain": [
       "[None]"
      ]
     },
     "metadata": {},
     "output_type": "display_data"
    },
    {
     "name": "stderr",
     "output_type": "stream",
     "text": [
      "58.0:   1%|█                                                                      | 144/10000 [00:00<00:44, 221.68it/s]"
     ]
    },
    {
     "data": {
      "text/plain": [
       "[None]"
      ]
     },
     "metadata": {},
     "output_type": "display_data"
    },
    {
     "name": "stderr",
     "output_type": "stream",
     "text": [
      "56.0:   1%|█                                                                      | 144/10000 [00:00<00:44, 221.68it/s]"
     ]
    },
    {
     "data": {
      "text/plain": [
       "[None]"
      ]
     },
     "metadata": {},
     "output_type": "display_data"
    },
    {
     "name": "stderr",
     "output_type": "stream",
     "text": [
      "58.0:   1%|█                                                                      | 144/10000 [00:00<00:44, 221.68it/s]"
     ]
    },
    {
     "data": {
      "text/plain": [
       "[None]"
      ]
     },
     "metadata": {},
     "output_type": "display_data"
    },
    {
     "name": "stderr",
     "output_type": "stream",
     "text": [
      "64.0:   1%|█                                                                      | 144/10000 [00:00<00:44, 221.68it/s]"
     ]
    },
    {
     "data": {
      "text/plain": [
       "[None]"
      ]
     },
     "metadata": {},
     "output_type": "display_data"
    },
    {
     "name": "stderr",
     "output_type": "stream",
     "text": [
      "56.0:   1%|█                                                                      | 144/10000 [00:00<00:44, 221.68it/s]"
     ]
    },
    {
     "data": {
      "text/plain": [
       "[None]"
      ]
     },
     "metadata": {},
     "output_type": "display_data"
    },
    {
     "name": "stderr",
     "output_type": "stream",
     "text": [
      "65.0:   1%|█                                                                      | 144/10000 [00:00<00:44, 221.68it/s]"
     ]
    },
    {
     "data": {
      "text/plain": [
       "[None]"
      ]
     },
     "metadata": {},
     "output_type": "display_data"
    },
    {
     "name": "stderr",
     "output_type": "stream",
     "text": [
      "64.0:   1%|█                                                                      | 144/10000 [00:00<00:44, 221.68it/s]"
     ]
    },
    {
     "data": {
      "text/plain": [
       "[None]"
      ]
     },
     "metadata": {},
     "output_type": "display_data"
    },
    {
     "name": "stderr",
     "output_type": "stream",
     "text": [
      "68.0:   1%|█                                                                      | 144/10000 [00:00<00:44, 221.68it/s]"
     ]
    },
    {
     "data": {
      "text/plain": [
       "[None]"
      ]
     },
     "metadata": {},
     "output_type": "display_data"
    },
    {
     "name": "stderr",
     "output_type": "stream",
     "text": [
      "55.0:   1%|█                                                                      | 144/10000 [00:00<00:44, 221.68it/s]"
     ]
    },
    {
     "data": {
      "text/plain": [
       "[None]"
      ]
     },
     "metadata": {},
     "output_type": "display_data"
    },
    {
     "name": "stderr",
     "output_type": "stream",
     "text": [
      "61.0:   1%|█                                                                      | 144/10000 [00:00<00:44, 221.68it/s]"
     ]
    },
    {
     "data": {
      "text/plain": [
       "[None]"
      ]
     },
     "metadata": {},
     "output_type": "display_data"
    },
    {
     "name": "stderr",
     "output_type": "stream",
     "text": [
      "62.0:   1%|█                                                                      | 144/10000 [00:00<00:44, 221.68it/s]"
     ]
    },
    {
     "data": {
      "text/plain": [
       "[None]"
      ]
     },
     "metadata": {},
     "output_type": "display_data"
    },
    {
     "name": "stderr",
     "output_type": "stream",
     "text": [
      "58.0:   1%|█                                                                      | 144/10000 [00:00<00:44, 221.68it/s]"
     ]
    },
    {
     "data": {
      "text/plain": [
       "[None]"
      ]
     },
     "metadata": {},
     "output_type": "display_data"
    },
    {
     "name": "stderr",
     "output_type": "stream",
     "text": [
      "62.0:   1%|█                                                                      | 144/10000 [00:00<00:44, 221.68it/s]"
     ]
    },
    {
     "data": {
      "text/plain": [
       "[None]"
      ]
     },
     "metadata": {},
     "output_type": "display_data"
    },
    {
     "name": "stderr",
     "output_type": "stream",
     "text": [
      "59.0:   1%|█                                                                      | 144/10000 [00:00<00:44, 221.68it/s]"
     ]
    },
    {
     "data": {
      "text/plain": [
       "[None]"
      ]
     },
     "metadata": {},
     "output_type": "display_data"
    },
    {
     "name": "stderr",
     "output_type": "stream",
     "text": [
      "60.0:   2%|█▏                                                                     | 169/10000 [00:00<00:43, 228.53it/s]"
     ]
    },
    {
     "data": {
      "text/plain": [
       "[None]"
      ]
     },
     "metadata": {},
     "output_type": "display_data"
    },
    {
     "name": "stderr",
     "output_type": "stream",
     "text": [
      "56.0:   2%|█▏                                                                     | 169/10000 [00:00<00:43, 228.53it/s]"
     ]
    },
    {
     "data": {
      "text/plain": [
       "[None]"
      ]
     },
     "metadata": {},
     "output_type": "display_data"
    },
    {
     "name": "stderr",
     "output_type": "stream",
     "text": [
      "60.0:   2%|█▏                                                                     | 169/10000 [00:00<00:43, 228.53it/s]"
     ]
    },
    {
     "data": {
      "text/plain": [
       "[None]"
      ]
     },
     "metadata": {},
     "output_type": "display_data"
    },
    {
     "name": "stderr",
     "output_type": "stream",
     "text": [
      "53.0:   2%|█▏                                                                     | 169/10000 [00:00<00:43, 228.53it/s]"
     ]
    },
    {
     "data": {
      "text/plain": [
       "[None]"
      ]
     },
     "metadata": {},
     "output_type": "display_data"
    },
    {
     "name": "stderr",
     "output_type": "stream",
     "text": [
      "60.0:   2%|█▏                                                                     | 169/10000 [00:00<00:43, 228.53it/s]"
     ]
    },
    {
     "data": {
      "text/plain": [
       "[None]"
      ]
     },
     "metadata": {},
     "output_type": "display_data"
    },
    {
     "name": "stderr",
     "output_type": "stream",
     "text": [
      "48.0:   2%|█▏                                                                     | 169/10000 [00:00<00:43, 228.53it/s]"
     ]
    },
    {
     "data": {
      "text/plain": [
       "[None]"
      ]
     },
     "metadata": {},
     "output_type": "display_data"
    },
    {
     "name": "stderr",
     "output_type": "stream",
     "text": [
      "57.0:   2%|█▏                                                                     | 169/10000 [00:00<00:43, 228.53it/s]"
     ]
    },
    {
     "data": {
      "text/plain": [
       "[None]"
      ]
     },
     "metadata": {},
     "output_type": "display_data"
    },
    {
     "name": "stderr",
     "output_type": "stream",
     "text": [
      "58.0:   2%|█▏                                                                     | 169/10000 [00:00<00:43, 228.53it/s]"
     ]
    },
    {
     "data": {
      "text/plain": [
       "[None]"
      ]
     },
     "metadata": {},
     "output_type": "display_data"
    },
    {
     "name": "stderr",
     "output_type": "stream",
     "text": [
      "62.0:   2%|█▏                                                                     | 169/10000 [00:00<00:43, 228.53it/s]"
     ]
    },
    {
     "data": {
      "text/plain": [
       "[None]"
      ]
     },
     "metadata": {},
     "output_type": "display_data"
    },
    {
     "name": "stderr",
     "output_type": "stream",
     "text": [
      "64.0:   2%|█▏                                                                     | 169/10000 [00:00<00:43, 228.53it/s]"
     ]
    },
    {
     "data": {
      "text/plain": [
       "[None]"
      ]
     },
     "metadata": {},
     "output_type": "display_data"
    },
    {
     "name": "stderr",
     "output_type": "stream",
     "text": [
      "60.0:   2%|█▏                                                                     | 169/10000 [00:00<00:43, 228.53it/s]"
     ]
    },
    {
     "data": {
      "text/plain": [
       "[None]"
      ]
     },
     "metadata": {},
     "output_type": "display_data"
    },
    {
     "name": "stderr",
     "output_type": "stream",
     "text": [
      "59.0:   2%|█▏                                                                     | 169/10000 [00:00<00:43, 228.53it/s]"
     ]
    },
    {
     "data": {
      "text/plain": [
       "[None]"
      ]
     },
     "metadata": {},
     "output_type": "display_data"
    },
    {
     "name": "stderr",
     "output_type": "stream",
     "text": [
      "60.0:   2%|█▏                                                                     | 169/10000 [00:00<00:43, 228.53it/s]"
     ]
    },
    {
     "data": {
      "text/plain": [
       "[None]"
      ]
     },
     "metadata": {},
     "output_type": "display_data"
    },
    {
     "name": "stderr",
     "output_type": "stream",
     "text": [
      "64.0:   2%|█▏                                                                     | 169/10000 [00:00<00:43, 228.53it/s]"
     ]
    },
    {
     "data": {
      "text/plain": [
       "[None]"
      ]
     },
     "metadata": {},
     "output_type": "display_data"
    },
    {
     "name": "stderr",
     "output_type": "stream",
     "text": [
      "55.0:   2%|█▏                                                                     | 169/10000 [00:00<00:43, 228.53it/s]"
     ]
    },
    {
     "data": {
      "text/plain": [
       "[None]"
      ]
     },
     "metadata": {},
     "output_type": "display_data"
    },
    {
     "name": "stderr",
     "output_type": "stream",
     "text": [
      "62.0:   2%|█▏                                                                     | 169/10000 [00:00<00:43, 228.53it/s]"
     ]
    },
    {
     "data": {
      "text/plain": [
       "[None]"
      ]
     },
     "metadata": {},
     "output_type": "display_data"
    },
    {
     "name": "stderr",
     "output_type": "stream",
     "text": [
      "71.0:   2%|█▏                                                                     | 169/10000 [00:00<00:43, 228.53it/s]"
     ]
    },
    {
     "data": {
      "text/plain": [
       "[None]"
      ]
     },
     "metadata": {},
     "output_type": "display_data"
    },
    {
     "name": "stderr",
     "output_type": "stream",
     "text": [
      "62.0:   2%|█▏                                                                     | 169/10000 [00:00<00:43, 228.53it/s]"
     ]
    },
    {
     "data": {
      "text/plain": [
       "[None]"
      ]
     },
     "metadata": {},
     "output_type": "display_data"
    },
    {
     "name": "stderr",
     "output_type": "stream",
     "text": [
      "60.0:   2%|█▏                                                                     | 169/10000 [00:00<00:43, 228.53it/s]"
     ]
    },
    {
     "data": {
      "text/plain": [
       "[None]"
      ]
     },
     "metadata": {},
     "output_type": "display_data"
    },
    {
     "name": "stderr",
     "output_type": "stream",
     "text": [
      "62.0:   2%|█▏                                                                     | 169/10000 [00:00<00:43, 228.53it/s]"
     ]
    },
    {
     "data": {
      "text/plain": [
       "[None]"
      ]
     },
     "metadata": {},
     "output_type": "display_data"
    },
    {
     "name": "stderr",
     "output_type": "stream",
     "text": [
      "60.0:   2%|█▏                                                                     | 169/10000 [00:00<00:43, 228.53it/s]"
     ]
    },
    {
     "data": {
      "text/plain": [
       "[None]"
      ]
     },
     "metadata": {},
     "output_type": "display_data"
    },
    {
     "name": "stderr",
     "output_type": "stream",
     "text": [
      "62.0:   2%|█▏                                                                     | 169/10000 [00:00<00:43, 228.53it/s]"
     ]
    },
    {
     "data": {
      "text/plain": [
       "[None]"
      ]
     },
     "metadata": {},
     "output_type": "display_data"
    },
    {
     "name": "stderr",
     "output_type": "stream",
     "text": [
      "58.0:   2%|█▏                                                                     | 169/10000 [00:00<00:43, 228.53it/s]"
     ]
    },
    {
     "data": {
      "text/plain": [
       "[None]"
      ]
     },
     "metadata": {},
     "output_type": "display_data"
    },
    {
     "name": "stderr",
     "output_type": "stream",
     "text": [
      "58.0:   2%|█▏                                                                     | 169/10000 [00:00<00:43, 228.53it/s]"
     ]
    },
    {
     "data": {
      "text/plain": [
       "[None]"
      ]
     },
     "metadata": {},
     "output_type": "display_data"
    },
    {
     "name": "stderr",
     "output_type": "stream",
     "text": [
      "58.0:   2%|█▏                                                                     | 169/10000 [00:00<00:43, 228.53it/s]"
     ]
    },
    {
     "data": {
      "text/plain": [
       "[None]"
      ]
     },
     "metadata": {},
     "output_type": "display_data"
    },
    {
     "name": "stderr",
     "output_type": "stream",
     "text": [
      "67.0:   2%|█▍                                                                     | 194/10000 [00:00<00:41, 233.73it/s]"
     ]
    },
    {
     "data": {
      "text/plain": [
       "[None]"
      ]
     },
     "metadata": {},
     "output_type": "display_data"
    },
    {
     "name": "stderr",
     "output_type": "stream",
     "text": [
      "61.0:   2%|█▍                                                                     | 194/10000 [00:00<00:41, 233.73it/s]"
     ]
    },
    {
     "data": {
      "text/plain": [
       "[None]"
      ]
     },
     "metadata": {},
     "output_type": "display_data"
    },
    {
     "name": "stderr",
     "output_type": "stream",
     "text": [
      "62.0:   2%|█▍                                                                     | 194/10000 [00:00<00:41, 233.73it/s]"
     ]
    },
    {
     "data": {
      "text/plain": [
       "[None]"
      ]
     },
     "metadata": {},
     "output_type": "display_data"
    },
    {
     "name": "stderr",
     "output_type": "stream",
     "text": [
      "59.0:   2%|█▍                                                                     | 194/10000 [00:00<00:41, 233.73it/s]"
     ]
    },
    {
     "data": {
      "text/plain": [
       "[None]"
      ]
     },
     "metadata": {},
     "output_type": "display_data"
    },
    {
     "name": "stderr",
     "output_type": "stream",
     "text": [
      "62.0:   2%|█▍                                                                     | 194/10000 [00:00<00:41, 233.73it/s]"
     ]
    },
    {
     "data": {
      "text/plain": [
       "[None]"
      ]
     },
     "metadata": {},
     "output_type": "display_data"
    },
    {
     "name": "stderr",
     "output_type": "stream",
     "text": [
      "66.0:   2%|█▍                                                                     | 194/10000 [00:00<00:41, 233.73it/s]"
     ]
    },
    {
     "data": {
      "text/plain": [
       "[None]"
      ]
     },
     "metadata": {},
     "output_type": "display_data"
    },
    {
     "name": "stderr",
     "output_type": "stream",
     "text": [
      "61.0:   2%|█▍                                                                     | 194/10000 [00:00<00:41, 233.73it/s]"
     ]
    },
    {
     "data": {
      "text/plain": [
       "[None]"
      ]
     },
     "metadata": {},
     "output_type": "display_data"
    },
    {
     "name": "stderr",
     "output_type": "stream",
     "text": [
      "64.0:   2%|█▍                                                                     | 194/10000 [00:00<00:41, 233.73it/s]"
     ]
    },
    {
     "data": {
      "text/plain": [
       "[None]"
      ]
     },
     "metadata": {},
     "output_type": "display_data"
    },
    {
     "name": "stderr",
     "output_type": "stream",
     "text": [
      "68.0:   2%|█▍                                                                     | 194/10000 [00:00<00:41, 233.73it/s]"
     ]
    },
    {
     "data": {
      "text/plain": [
       "[None]"
      ]
     },
     "metadata": {},
     "output_type": "display_data"
    },
    {
     "name": "stderr",
     "output_type": "stream",
     "text": [
      "62.0:   2%|█▍                                                                     | 194/10000 [00:00<00:41, 233.73it/s]"
     ]
    },
    {
     "data": {
      "text/plain": [
       "[None]"
      ]
     },
     "metadata": {},
     "output_type": "display_data"
    },
    {
     "name": "stderr",
     "output_type": "stream",
     "text": [
      "60.0:   2%|█▍                                                                     | 194/10000 [00:00<00:41, 233.73it/s]"
     ]
    },
    {
     "data": {
      "text/plain": [
       "[None]"
      ]
     },
     "metadata": {},
     "output_type": "display_data"
    },
    {
     "name": "stderr",
     "output_type": "stream",
     "text": [
      "62.0:   2%|█▍                                                                     | 194/10000 [00:00<00:41, 233.73it/s]"
     ]
    },
    {
     "data": {
      "text/plain": [
       "[None]"
      ]
     },
     "metadata": {},
     "output_type": "display_data"
    },
    {
     "name": "stderr",
     "output_type": "stream",
     "text": [
      "63.0:   2%|█▍                                                                     | 194/10000 [00:00<00:41, 233.73it/s]"
     ]
    },
    {
     "data": {
      "text/plain": [
       "[None]"
      ]
     },
     "metadata": {},
     "output_type": "display_data"
    },
    {
     "name": "stderr",
     "output_type": "stream",
     "text": [
      "61.0:   2%|█▍                                                                     | 194/10000 [00:00<00:41, 233.73it/s]"
     ]
    },
    {
     "data": {
      "text/plain": [
       "[None]"
      ]
     },
     "metadata": {},
     "output_type": "display_data"
    },
    {
     "name": "stderr",
     "output_type": "stream",
     "text": [
      "60.0:   2%|█▍                                                                     | 194/10000 [00:00<00:41, 233.73it/s]"
     ]
    },
    {
     "data": {
      "text/plain": [
       "[None]"
      ]
     },
     "metadata": {},
     "output_type": "display_data"
    },
    {
     "name": "stderr",
     "output_type": "stream",
     "text": [
      "57.0:   2%|█▍                                                                     | 194/10000 [00:00<00:41, 233.73it/s]"
     ]
    },
    {
     "data": {
      "text/plain": [
       "[None]"
      ]
     },
     "metadata": {},
     "output_type": "display_data"
    },
    {
     "name": "stderr",
     "output_type": "stream",
     "text": [
      "58.0:   2%|█▍                                                                     | 194/10000 [00:00<00:41, 233.73it/s]"
     ]
    },
    {
     "data": {
      "text/plain": [
       "[None]"
      ]
     },
     "metadata": {},
     "output_type": "display_data"
    },
    {
     "name": "stderr",
     "output_type": "stream",
     "text": [
      "64.0:   2%|█▍                                                                     | 194/10000 [00:00<00:41, 233.73it/s]"
     ]
    },
    {
     "data": {
      "text/plain": [
       "[None]"
      ]
     },
     "metadata": {},
     "output_type": "display_data"
    },
    {
     "name": "stderr",
     "output_type": "stream",
     "text": [
      "61.0:   2%|█▍                                                                     | 194/10000 [00:01<00:41, 233.73it/s]"
     ]
    },
    {
     "data": {
      "text/plain": [
       "[None]"
      ]
     },
     "metadata": {},
     "output_type": "display_data"
    },
    {
     "name": "stderr",
     "output_type": "stream",
     "text": [
      "59.0:   2%|█▍                                                                     | 194/10000 [00:01<00:41, 233.73it/s]"
     ]
    },
    {
     "data": {
      "text/plain": [
       "[None]"
      ]
     },
     "metadata": {},
     "output_type": "display_data"
    },
    {
     "name": "stderr",
     "output_type": "stream",
     "text": [
      "64.0:   2%|█▍                                                                     | 194/10000 [00:01<00:41, 233.73it/s]"
     ]
    },
    {
     "data": {
      "text/plain": [
       "[None]"
      ]
     },
     "metadata": {},
     "output_type": "display_data"
    },
    {
     "name": "stderr",
     "output_type": "stream",
     "text": [
      "62.0:   2%|█▍                                                                     | 194/10000 [00:01<00:41, 233.73it/s]"
     ]
    },
    {
     "data": {
      "text/plain": [
       "[None]"
      ]
     },
     "metadata": {},
     "output_type": "display_data"
    },
    {
     "name": "stderr",
     "output_type": "stream",
     "text": [
      "65.0:   2%|█▍                                                                     | 194/10000 [00:01<00:41, 233.73it/s]"
     ]
    },
    {
     "data": {
      "text/plain": [
       "[None]"
      ]
     },
     "metadata": {},
     "output_type": "display_data"
    },
    {
     "name": "stderr",
     "output_type": "stream",
     "text": [
      "67.0:   2%|█▍                                                                     | 194/10000 [00:01<00:41, 233.73it/s]"
     ]
    },
    {
     "data": {
      "text/plain": [
       "[None]"
      ]
     },
     "metadata": {},
     "output_type": "display_data"
    },
    {
     "name": "stderr",
     "output_type": "stream",
     "text": [
      "57.0:   2%|█▍                                                                     | 194/10000 [00:01<00:41, 233.73it/s]"
     ]
    },
    {
     "data": {
      "text/plain": [
       "[None]"
      ]
     },
     "metadata": {},
     "output_type": "display_data"
    },
    {
     "name": "stderr",
     "output_type": "stream",
     "text": [
      "57.0:   2%|█▌                                                                     | 219/10000 [00:01<00:41, 236.24it/s]"
     ]
    },
    {
     "data": {
      "text/plain": [
       "[None]"
      ]
     },
     "metadata": {},
     "output_type": "display_data"
    },
    {
     "name": "stderr",
     "output_type": "stream",
     "text": [
      "61.0:   2%|█▌                                                                     | 219/10000 [00:01<00:41, 236.24it/s]"
     ]
    },
    {
     "data": {
      "text/plain": [
       "[None]"
      ]
     },
     "metadata": {},
     "output_type": "display_data"
    },
    {
     "name": "stderr",
     "output_type": "stream",
     "text": [
      "57.0:   2%|█▌                                                                     | 219/10000 [00:01<00:41, 236.24it/s]"
     ]
    },
    {
     "data": {
      "text/plain": [
       "[None]"
      ]
     },
     "metadata": {},
     "output_type": "display_data"
    },
    {
     "name": "stderr",
     "output_type": "stream",
     "text": [
      "67.0:   2%|█▌                                                                     | 219/10000 [00:01<00:41, 236.24it/s]"
     ]
    },
    {
     "data": {
      "text/plain": [
       "[None]"
      ]
     },
     "metadata": {},
     "output_type": "display_data"
    },
    {
     "name": "stderr",
     "output_type": "stream",
     "text": [
      "52.0:   2%|█▌                                                                     | 219/10000 [00:01<00:41, 236.24it/s]"
     ]
    },
    {
     "data": {
      "text/plain": [
       "[None]"
      ]
     },
     "metadata": {},
     "output_type": "display_data"
    },
    {
     "name": "stderr",
     "output_type": "stream",
     "text": [
      "53.0:   2%|█▌                                                                     | 219/10000 [00:01<00:41, 236.24it/s]"
     ]
    },
    {
     "data": {
      "text/plain": [
       "[None]"
      ]
     },
     "metadata": {},
     "output_type": "display_data"
    },
    {
     "name": "stderr",
     "output_type": "stream",
     "text": [
      "61.0:   2%|█▌                                                                     | 219/10000 [00:01<00:41, 236.24it/s]"
     ]
    },
    {
     "data": {
      "text/plain": [
       "[None]"
      ]
     },
     "metadata": {},
     "output_type": "display_data"
    },
    {
     "name": "stderr",
     "output_type": "stream",
     "text": [
      "65.0:   2%|█▌                                                                     | 219/10000 [00:01<00:41, 236.24it/s]"
     ]
    },
    {
     "data": {
      "text/plain": [
       "[None]"
      ]
     },
     "metadata": {},
     "output_type": "display_data"
    },
    {
     "name": "stderr",
     "output_type": "stream",
     "text": [
      "61.0:   2%|█▌                                                                     | 219/10000 [00:01<00:41, 236.24it/s]"
     ]
    },
    {
     "data": {
      "text/plain": [
       "[None]"
      ]
     },
     "metadata": {},
     "output_type": "display_data"
    },
    {
     "name": "stderr",
     "output_type": "stream",
     "text": [
      "61.0:   2%|█▌                                                                     | 219/10000 [00:01<00:41, 236.24it/s]"
     ]
    },
    {
     "data": {
      "text/plain": [
       "[None]"
      ]
     },
     "metadata": {},
     "output_type": "display_data"
    },
    {
     "name": "stderr",
     "output_type": "stream",
     "text": [
      "61.0:   2%|█▌                                                                     | 219/10000 [00:01<00:41, 236.24it/s]"
     ]
    },
    {
     "data": {
      "text/plain": [
       "[None]"
      ]
     },
     "metadata": {},
     "output_type": "display_data"
    },
    {
     "name": "stderr",
     "output_type": "stream",
     "text": [
      "67.0:   2%|█▌                                                                     | 219/10000 [00:01<00:41, 236.24it/s]"
     ]
    },
    {
     "data": {
      "text/plain": [
       "[None]"
      ]
     },
     "metadata": {},
     "output_type": "display_data"
    },
    {
     "name": "stderr",
     "output_type": "stream",
     "text": [
      "56.0:   2%|█▌                                                                     | 219/10000 [00:01<00:41, 236.24it/s]"
     ]
    },
    {
     "data": {
      "text/plain": [
       "[None]"
      ]
     },
     "metadata": {},
     "output_type": "display_data"
    },
    {
     "name": "stderr",
     "output_type": "stream",
     "text": [
      "63.0:   2%|█▌                                                                     | 219/10000 [00:01<00:41, 236.24it/s]"
     ]
    },
    {
     "data": {
      "text/plain": [
       "[None]"
      ]
     },
     "metadata": {},
     "output_type": "display_data"
    },
    {
     "name": "stderr",
     "output_type": "stream",
     "text": [
      "61.0:   2%|█▌                                                                     | 219/10000 [00:01<00:41, 236.24it/s]"
     ]
    },
    {
     "data": {
      "text/plain": [
       "[None]"
      ]
     },
     "metadata": {},
     "output_type": "display_data"
    },
    {
     "name": "stderr",
     "output_type": "stream",
     "text": [
      "55.0:   2%|█▌                                                                     | 219/10000 [00:01<00:41, 236.24it/s]"
     ]
    },
    {
     "data": {
      "text/plain": [
       "[None]"
      ]
     },
     "metadata": {},
     "output_type": "display_data"
    },
    {
     "name": "stderr",
     "output_type": "stream",
     "text": [
      "56.0:   2%|█▌                                                                     | 219/10000 [00:01<00:41, 236.24it/s]"
     ]
    },
    {
     "data": {
      "text/plain": [
       "[None]"
      ]
     },
     "metadata": {},
     "output_type": "display_data"
    },
    {
     "name": "stderr",
     "output_type": "stream",
     "text": [
      "66.0:   2%|█▌                                                                     | 219/10000 [00:01<00:41, 236.24it/s]"
     ]
    },
    {
     "data": {
      "text/plain": [
       "[None]"
      ]
     },
     "metadata": {},
     "output_type": "display_data"
    },
    {
     "name": "stderr",
     "output_type": "stream",
     "text": [
      "66.0:   2%|█▌                                                                     | 219/10000 [00:01<00:41, 236.24it/s]"
     ]
    },
    {
     "data": {
      "text/plain": [
       "[None]"
      ]
     },
     "metadata": {},
     "output_type": "display_data"
    },
    {
     "name": "stderr",
     "output_type": "stream",
     "text": [
      "57.0:   2%|█▌                                                                     | 219/10000 [00:01<00:41, 236.24it/s]"
     ]
    },
    {
     "data": {
      "text/plain": [
       "[None]"
      ]
     },
     "metadata": {},
     "output_type": "display_data"
    },
    {
     "name": "stderr",
     "output_type": "stream",
     "text": [
      "52.0:   2%|█▌                                                                     | 219/10000 [00:01<00:41, 236.24it/s]"
     ]
    },
    {
     "data": {
      "text/plain": [
       "[None]"
      ]
     },
     "metadata": {},
     "output_type": "display_data"
    },
    {
     "name": "stderr",
     "output_type": "stream",
     "text": [
      "66.0:   2%|█▌                                                                     | 219/10000 [00:01<00:41, 236.24it/s]"
     ]
    },
    {
     "data": {
      "text/plain": [
       "[None]"
      ]
     },
     "metadata": {},
     "output_type": "display_data"
    },
    {
     "name": "stderr",
     "output_type": "stream",
     "text": [
      "59.0:   2%|█▌                                                                     | 219/10000 [00:01<00:41, 236.24it/s]"
     ]
    },
    {
     "data": {
      "text/plain": [
       "[None]"
      ]
     },
     "metadata": {},
     "output_type": "display_data"
    },
    {
     "name": "stderr",
     "output_type": "stream",
     "text": [
      "62.0:   2%|█▌                                                                     | 219/10000 [00:01<00:41, 236.24it/s]"
     ]
    },
    {
     "data": {
      "text/plain": [
       "[None]"
      ]
     },
     "metadata": {},
     "output_type": "display_data"
    },
    {
     "name": "stderr",
     "output_type": "stream",
     "text": [
      "56.0:   2%|█▌                                                                     | 219/10000 [00:01<00:41, 236.24it/s]"
     ]
    },
    {
     "data": {
      "text/plain": [
       "[None]"
      ]
     },
     "metadata": {},
     "output_type": "display_data"
    },
    {
     "name": "stderr",
     "output_type": "stream",
     "text": [
      "61.0:   2%|█▋                                                                     | 244/10000 [00:01<00:41, 237.61it/s]"
     ]
    },
    {
     "data": {
      "text/plain": [
       "[None]"
      ]
     },
     "metadata": {},
     "output_type": "display_data"
    },
    {
     "name": "stderr",
     "output_type": "stream",
     "text": [
      "58.0:   2%|█▋                                                                     | 244/10000 [00:01<00:41, 237.61it/s]"
     ]
    },
    {
     "data": {
      "text/plain": [
       "[None]"
      ]
     },
     "metadata": {},
     "output_type": "display_data"
    },
    {
     "name": "stderr",
     "output_type": "stream",
     "text": [
      "65.0:   2%|█▋                                                                     | 244/10000 [00:01<00:41, 237.61it/s]"
     ]
    },
    {
     "data": {
      "text/plain": [
       "[None]"
      ]
     },
     "metadata": {},
     "output_type": "display_data"
    },
    {
     "name": "stderr",
     "output_type": "stream",
     "text": [
      "68.0:   2%|█▋                                                                     | 244/10000 [00:01<00:41, 237.61it/s]"
     ]
    },
    {
     "data": {
      "text/plain": [
       "[None]"
      ]
     },
     "metadata": {},
     "output_type": "display_data"
    },
    {
     "name": "stderr",
     "output_type": "stream",
     "text": [
      "63.0:   2%|█▋                                                                     | 244/10000 [00:01<00:41, 237.61it/s]"
     ]
    },
    {
     "data": {
      "text/plain": [
       "[None]"
      ]
     },
     "metadata": {},
     "output_type": "display_data"
    },
    {
     "name": "stderr",
     "output_type": "stream",
     "text": [
      "66.0:   2%|█▋                                                                     | 244/10000 [00:01<00:41, 237.61it/s]"
     ]
    },
    {
     "data": {
      "text/plain": [
       "[None]"
      ]
     },
     "metadata": {},
     "output_type": "display_data"
    },
    {
     "name": "stderr",
     "output_type": "stream",
     "text": [
      "62.0:   2%|█▋                                                                     | 244/10000 [00:01<00:41, 237.61it/s]"
     ]
    },
    {
     "data": {
      "text/plain": [
       "[None]"
      ]
     },
     "metadata": {},
     "output_type": "display_data"
    },
    {
     "name": "stderr",
     "output_type": "stream",
     "text": [
      "61.0:   2%|█▋                                                                     | 244/10000 [00:01<00:41, 237.61it/s]"
     ]
    },
    {
     "data": {
      "text/plain": [
       "[None]"
      ]
     },
     "metadata": {},
     "output_type": "display_data"
    },
    {
     "name": "stderr",
     "output_type": "stream",
     "text": [
      "60.0:   2%|█▋                                                                     | 244/10000 [00:01<00:41, 237.61it/s]"
     ]
    },
    {
     "data": {
      "text/plain": [
       "[None]"
      ]
     },
     "metadata": {},
     "output_type": "display_data"
    },
    {
     "name": "stderr",
     "output_type": "stream",
     "text": [
      "61.0:   2%|█▋                                                                     | 244/10000 [00:01<00:41, 237.61it/s]"
     ]
    },
    {
     "data": {
      "text/plain": [
       "[None]"
      ]
     },
     "metadata": {},
     "output_type": "display_data"
    },
    {
     "name": "stderr",
     "output_type": "stream",
     "text": [
      "63.0:   2%|█▋                                                                     | 244/10000 [00:01<00:41, 237.61it/s]"
     ]
    },
    {
     "data": {
      "text/plain": [
       "[None]"
      ]
     },
     "metadata": {},
     "output_type": "display_data"
    },
    {
     "name": "stderr",
     "output_type": "stream",
     "text": [
      "53.0:   2%|█▋                                                                     | 244/10000 [00:01<00:41, 237.61it/s]"
     ]
    },
    {
     "data": {
      "text/plain": [
       "[None]"
      ]
     },
     "metadata": {},
     "output_type": "display_data"
    },
    {
     "name": "stderr",
     "output_type": "stream",
     "text": [
      "65.0:   2%|█▋                                                                     | 244/10000 [00:01<00:41, 237.61it/s]"
     ]
    },
    {
     "data": {
      "text/plain": [
       "[None]"
      ]
     },
     "metadata": {},
     "output_type": "display_data"
    },
    {
     "name": "stderr",
     "output_type": "stream",
     "text": [
      "58.0:   2%|█▋                                                                     | 244/10000 [00:01<00:41, 237.61it/s]"
     ]
    },
    {
     "data": {
      "text/plain": [
       "[None]"
      ]
     },
     "metadata": {},
     "output_type": "display_data"
    },
    {
     "name": "stderr",
     "output_type": "stream",
     "text": [
      "63.0:   2%|█▋                                                                     | 244/10000 [00:01<00:41, 237.61it/s]"
     ]
    },
    {
     "data": {
      "text/plain": [
       "[None]"
      ]
     },
     "metadata": {},
     "output_type": "display_data"
    },
    {
     "name": "stderr",
     "output_type": "stream",
     "text": [
      "60.0:   2%|█▋                                                                     | 244/10000 [00:01<00:41, 237.61it/s]"
     ]
    },
    {
     "data": {
      "text/plain": [
       "[None]"
      ]
     },
     "metadata": {},
     "output_type": "display_data"
    },
    {
     "name": "stderr",
     "output_type": "stream",
     "text": [
      "60.0:   2%|█▋                                                                     | 244/10000 [00:01<00:41, 237.61it/s]"
     ]
    },
    {
     "data": {
      "text/plain": [
       "[None]"
      ]
     },
     "metadata": {},
     "output_type": "display_data"
    },
    {
     "name": "stderr",
     "output_type": "stream",
     "text": [
      "53.0:   2%|█▋                                                                     | 244/10000 [00:01<00:41, 237.61it/s]"
     ]
    },
    {
     "data": {
      "text/plain": [
       "[None]"
      ]
     },
     "metadata": {},
     "output_type": "display_data"
    },
    {
     "name": "stderr",
     "output_type": "stream",
     "text": [
      "57.0:   2%|█▋                                                                     | 244/10000 [00:01<00:41, 237.61it/s]"
     ]
    },
    {
     "data": {
      "text/plain": [
       "[None]"
      ]
     },
     "metadata": {},
     "output_type": "display_data"
    },
    {
     "name": "stderr",
     "output_type": "stream",
     "text": [
      "63.0:   2%|█▋                                                                     | 244/10000 [00:01<00:41, 237.61it/s]"
     ]
    },
    {
     "data": {
      "text/plain": [
       "[None]"
      ]
     },
     "metadata": {},
     "output_type": "display_data"
    },
    {
     "name": "stderr",
     "output_type": "stream",
     "text": [
      "56.0:   2%|█▋                                                                     | 244/10000 [00:01<00:41, 237.61it/s]"
     ]
    },
    {
     "data": {
      "text/plain": [
       "[None]"
      ]
     },
     "metadata": {},
     "output_type": "display_data"
    },
    {
     "name": "stderr",
     "output_type": "stream",
     "text": [
      "59.0:   2%|█▋                                                                     | 244/10000 [00:01<00:41, 237.61it/s]"
     ]
    },
    {
     "data": {
      "text/plain": [
       "[None]"
      ]
     },
     "metadata": {},
     "output_type": "display_data"
    },
    {
     "name": "stderr",
     "output_type": "stream",
     "text": [
      "68.0:   2%|█▋                                                                     | 244/10000 [00:01<00:41, 237.61it/s]"
     ]
    },
    {
     "data": {
      "text/plain": [
       "[None]"
      ]
     },
     "metadata": {},
     "output_type": "display_data"
    },
    {
     "name": "stderr",
     "output_type": "stream",
     "text": [
      "53.0:   2%|█▋                                                                     | 244/10000 [00:01<00:41, 237.61it/s]"
     ]
    },
    {
     "data": {
      "text/plain": [
       "[None]"
      ]
     },
     "metadata": {},
     "output_type": "display_data"
    },
    {
     "name": "stderr",
     "output_type": "stream",
     "text": [
      "67.0:   2%|█▋                                                                     | 244/10000 [00:01<00:41, 237.61it/s]"
     ]
    },
    {
     "data": {
      "text/plain": [
       "[None]"
      ]
     },
     "metadata": {},
     "output_type": "display_data"
    },
    {
     "name": "stderr",
     "output_type": "stream",
     "text": [
      "58.0:   3%|█▉                                                                     | 269/10000 [00:01<00:40, 240.11it/s]"
     ]
    },
    {
     "data": {
      "text/plain": [
       "[None]"
      ]
     },
     "metadata": {},
     "output_type": "display_data"
    },
    {
     "name": "stderr",
     "output_type": "stream",
     "text": [
      "68.0:   3%|█▉                                                                     | 269/10000 [00:01<00:40, 240.11it/s]"
     ]
    },
    {
     "data": {
      "text/plain": [
       "[None]"
      ]
     },
     "metadata": {},
     "output_type": "display_data"
    },
    {
     "name": "stderr",
     "output_type": "stream",
     "text": [
      "55.0:   3%|█▉                                                                     | 269/10000 [00:01<00:40, 240.11it/s]"
     ]
    },
    {
     "data": {
      "text/plain": [
       "[None]"
      ]
     },
     "metadata": {},
     "output_type": "display_data"
    },
    {
     "name": "stderr",
     "output_type": "stream",
     "text": [
      "64.0:   3%|█▉                                                                     | 269/10000 [00:01<00:40, 240.11it/s]"
     ]
    },
    {
     "data": {
      "text/plain": [
       "[None]"
      ]
     },
     "metadata": {},
     "output_type": "display_data"
    },
    {
     "name": "stderr",
     "output_type": "stream",
     "text": [
      "59.0:   3%|█▉                                                                     | 269/10000 [00:01<00:40, 240.11it/s]"
     ]
    },
    {
     "data": {
      "text/plain": [
       "[None]"
      ]
     },
     "metadata": {},
     "output_type": "display_data"
    },
    {
     "name": "stderr",
     "output_type": "stream",
     "text": [
      "67.0:   3%|█▉                                                                     | 269/10000 [00:01<00:40, 240.11it/s]"
     ]
    },
    {
     "data": {
      "text/plain": [
       "[None]"
      ]
     },
     "metadata": {},
     "output_type": "display_data"
    },
    {
     "name": "stderr",
     "output_type": "stream",
     "text": [
      "59.0:   3%|█▉                                                                     | 269/10000 [00:01<00:40, 240.11it/s]"
     ]
    },
    {
     "data": {
      "text/plain": [
       "[None]"
      ]
     },
     "metadata": {},
     "output_type": "display_data"
    },
    {
     "name": "stderr",
     "output_type": "stream",
     "text": [
      "55.0:   3%|█▉                                                                     | 269/10000 [00:01<00:40, 240.11it/s]"
     ]
    },
    {
     "data": {
      "text/plain": [
       "[None]"
      ]
     },
     "metadata": {},
     "output_type": "display_data"
    },
    {
     "name": "stderr",
     "output_type": "stream",
     "text": [
      "55.0:   3%|█▉                                                                     | 269/10000 [00:01<00:40, 240.11it/s]"
     ]
    },
    {
     "data": {
      "text/plain": [
       "[None]"
      ]
     },
     "metadata": {},
     "output_type": "display_data"
    },
    {
     "name": "stderr",
     "output_type": "stream",
     "text": [
      "54.0:   3%|█▉                                                                     | 269/10000 [00:01<00:40, 240.11it/s]"
     ]
    },
    {
     "data": {
      "text/plain": [
       "[None]"
      ]
     },
     "metadata": {},
     "output_type": "display_data"
    },
    {
     "name": "stderr",
     "output_type": "stream",
     "text": [
      "61.0:   3%|█▉                                                                     | 269/10000 [00:01<00:40, 240.11it/s]"
     ]
    },
    {
     "data": {
      "text/plain": [
       "[None]"
      ]
     },
     "metadata": {},
     "output_type": "display_data"
    },
    {
     "name": "stderr",
     "output_type": "stream",
     "text": [
      "63.0:   3%|█▉                                                                     | 269/10000 [00:01<00:40, 240.11it/s]"
     ]
    },
    {
     "data": {
      "text/plain": [
       "[None]"
      ]
     },
     "metadata": {},
     "output_type": "display_data"
    },
    {
     "name": "stderr",
     "output_type": "stream",
     "text": [
      "58.0:   3%|█▉                                                                     | 269/10000 [00:01<00:40, 240.11it/s]"
     ]
    },
    {
     "data": {
      "text/plain": [
       "[None]"
      ]
     },
     "metadata": {},
     "output_type": "display_data"
    },
    {
     "name": "stderr",
     "output_type": "stream",
     "text": [
      "63.0:   3%|█▉                                                                     | 269/10000 [00:01<00:40, 240.11it/s]"
     ]
    },
    {
     "data": {
      "text/plain": [
       "[None]"
      ]
     },
     "metadata": {},
     "output_type": "display_data"
    },
    {
     "name": "stderr",
     "output_type": "stream",
     "text": [
      "71.0:   3%|█▉                                                                     | 269/10000 [00:01<00:40, 240.11it/s]"
     ]
    },
    {
     "data": {
      "text/plain": [
       "[None]"
      ]
     },
     "metadata": {},
     "output_type": "display_data"
    },
    {
     "name": "stderr",
     "output_type": "stream",
     "text": [
      "63.0:   3%|█▉                                                                     | 269/10000 [00:01<00:40, 240.11it/s]"
     ]
    },
    {
     "data": {
      "text/plain": [
       "[None]"
      ]
     },
     "metadata": {},
     "output_type": "display_data"
    },
    {
     "name": "stderr",
     "output_type": "stream",
     "text": [
      "64.0:   3%|█▉                                                                     | 269/10000 [00:01<00:40, 240.11it/s]"
     ]
    },
    {
     "data": {
      "text/plain": [
       "[None]"
      ]
     },
     "metadata": {},
     "output_type": "display_data"
    },
    {
     "name": "stderr",
     "output_type": "stream",
     "text": [
      "63.0:   3%|█▉                                                                     | 269/10000 [00:01<00:40, 240.11it/s]"
     ]
    },
    {
     "data": {
      "text/plain": [
       "[None]"
      ]
     },
     "metadata": {},
     "output_type": "display_data"
    },
    {
     "name": "stderr",
     "output_type": "stream",
     "text": [
      "55.0:   3%|█▉                                                                     | 269/10000 [00:01<00:40, 240.11it/s]"
     ]
    },
    {
     "data": {
      "text/plain": [
       "[None]"
      ]
     },
     "metadata": {},
     "output_type": "display_data"
    },
    {
     "name": "stderr",
     "output_type": "stream",
     "text": [
      "62.0:   3%|█▉                                                                     | 269/10000 [00:01<00:40, 240.11it/s]"
     ]
    },
    {
     "data": {
      "text/plain": [
       "[None]"
      ]
     },
     "metadata": {},
     "output_type": "display_data"
    },
    {
     "name": "stderr",
     "output_type": "stream",
     "text": [
      "58.0:   3%|█▉                                                                     | 269/10000 [00:01<00:40, 240.11it/s]"
     ]
    },
    {
     "data": {
      "text/plain": [
       "[None]"
      ]
     },
     "metadata": {},
     "output_type": "display_data"
    },
    {
     "name": "stderr",
     "output_type": "stream",
     "text": [
      "60.0:   3%|█▉                                                                     | 269/10000 [00:01<00:40, 240.11it/s]"
     ]
    },
    {
     "data": {
      "text/plain": [
       "[None]"
      ]
     },
     "metadata": {},
     "output_type": "display_data"
    },
    {
     "name": "stderr",
     "output_type": "stream",
     "text": [
      "58.0:   3%|█▉                                                                     | 269/10000 [00:01<00:40, 240.11it/s]"
     ]
    },
    {
     "data": {
      "text/plain": [
       "[None]"
      ]
     },
     "metadata": {},
     "output_type": "display_data"
    },
    {
     "name": "stderr",
     "output_type": "stream",
     "text": [
      "66.0:   3%|█▉                                                                     | 269/10000 [00:01<00:40, 240.11it/s]"
     ]
    },
    {
     "data": {
      "text/plain": [
       "[None]"
      ]
     },
     "metadata": {},
     "output_type": "display_data"
    },
    {
     "name": "stderr",
     "output_type": "stream",
     "text": [
      "60.0:   3%|█▉                                                                     | 269/10000 [00:01<00:40, 240.11it/s]"
     ]
    },
    {
     "data": {
      "text/plain": [
       "[None]"
      ]
     },
     "metadata": {},
     "output_type": "display_data"
    },
    {
     "name": "stderr",
     "output_type": "stream",
     "text": [
      "62.0:   3%|██                                                                     | 294/10000 [00:01<00:39, 242.85it/s]"
     ]
    },
    {
     "data": {
      "text/plain": [
       "[None]"
      ]
     },
     "metadata": {},
     "output_type": "display_data"
    },
    {
     "name": "stderr",
     "output_type": "stream",
     "text": [
      "57.0:   3%|██                                                                     | 294/10000 [00:01<00:39, 242.85it/s]"
     ]
    },
    {
     "data": {
      "text/plain": [
       "[None]"
      ]
     },
     "metadata": {},
     "output_type": "display_data"
    },
    {
     "name": "stderr",
     "output_type": "stream",
     "text": [
      "62.0:   3%|██                                                                     | 294/10000 [00:01<00:39, 242.85it/s]"
     ]
    },
    {
     "data": {
      "text/plain": [
       "[None]"
      ]
     },
     "metadata": {},
     "output_type": "display_data"
    },
    {
     "name": "stderr",
     "output_type": "stream",
     "text": [
      "67.0:   3%|██                                                                     | 294/10000 [00:01<00:39, 242.85it/s]"
     ]
    },
    {
     "data": {
      "text/plain": [
       "[None]"
      ]
     },
     "metadata": {},
     "output_type": "display_data"
    },
    {
     "name": "stderr",
     "output_type": "stream",
     "text": [
      "61.0:   3%|██                                                                     | 294/10000 [00:01<00:39, 242.85it/s]"
     ]
    },
    {
     "data": {
      "text/plain": [
       "[None]"
      ]
     },
     "metadata": {},
     "output_type": "display_data"
    },
    {
     "name": "stderr",
     "output_type": "stream",
     "text": [
      "64.0:   3%|██                                                                     | 294/10000 [00:01<00:39, 242.85it/s]"
     ]
    },
    {
     "data": {
      "text/plain": [
       "[None]"
      ]
     },
     "metadata": {},
     "output_type": "display_data"
    },
    {
     "name": "stderr",
     "output_type": "stream",
     "text": [
      "65.0:   3%|██                                                                     | 294/10000 [00:01<00:39, 242.85it/s]"
     ]
    },
    {
     "data": {
      "text/plain": [
       "[None]"
      ]
     },
     "metadata": {},
     "output_type": "display_data"
    },
    {
     "name": "stderr",
     "output_type": "stream",
     "text": [
      "60.0:   3%|██                                                                     | 294/10000 [00:01<00:39, 242.85it/s]"
     ]
    },
    {
     "data": {
      "text/plain": [
       "[None]"
      ]
     },
     "metadata": {},
     "output_type": "display_data"
    },
    {
     "name": "stderr",
     "output_type": "stream",
     "text": [
      "69.0:   3%|██                                                                     | 294/10000 [00:01<00:39, 242.85it/s]"
     ]
    },
    {
     "data": {
      "text/plain": [
       "[None]"
      ]
     },
     "metadata": {},
     "output_type": "display_data"
    },
    {
     "name": "stderr",
     "output_type": "stream",
     "text": [
      "60.0:   3%|██                                                                     | 294/10000 [00:01<00:39, 242.85it/s]"
     ]
    },
    {
     "data": {
      "text/plain": [
       "[None]"
      ]
     },
     "metadata": {},
     "output_type": "display_data"
    },
    {
     "name": "stderr",
     "output_type": "stream",
     "text": [
      "63.0:   3%|██                                                                     | 294/10000 [00:01<00:39, 242.85it/s]"
     ]
    },
    {
     "data": {
      "text/plain": [
       "[None]"
      ]
     },
     "metadata": {},
     "output_type": "display_data"
    },
    {
     "name": "stderr",
     "output_type": "stream",
     "text": [
      "60.0:   3%|██                                                                     | 294/10000 [00:01<00:39, 242.85it/s]"
     ]
    },
    {
     "data": {
      "text/plain": [
       "[None]"
      ]
     },
     "metadata": {},
     "output_type": "display_data"
    },
    {
     "name": "stderr",
     "output_type": "stream",
     "text": [
      "63.0:   3%|██                                                                     | 294/10000 [00:01<00:39, 242.85it/s]"
     ]
    },
    {
     "data": {
      "text/plain": [
       "[None]"
      ]
     },
     "metadata": {},
     "output_type": "display_data"
    },
    {
     "name": "stderr",
     "output_type": "stream",
     "text": [
      "68.0:   3%|██                                                                     | 294/10000 [00:01<00:39, 242.85it/s]"
     ]
    },
    {
     "data": {
      "text/plain": [
       "[None]"
      ]
     },
     "metadata": {},
     "output_type": "display_data"
    },
    {
     "name": "stderr",
     "output_type": "stream",
     "text": [
      "63.0:   3%|██                                                                     | 294/10000 [00:01<00:39, 242.85it/s]"
     ]
    },
    {
     "data": {
      "text/plain": [
       "[None]"
      ]
     },
     "metadata": {},
     "output_type": "display_data"
    },
    {
     "name": "stderr",
     "output_type": "stream",
     "text": [
      "65.0:   3%|██                                                                     | 294/10000 [00:01<00:39, 242.85it/s]"
     ]
    },
    {
     "data": {
      "text/plain": [
       "[None]"
      ]
     },
     "metadata": {},
     "output_type": "display_data"
    },
    {
     "name": "stderr",
     "output_type": "stream",
     "text": [
      "56.0:   3%|██                                                                     | 294/10000 [00:01<00:39, 242.85it/s]"
     ]
    },
    {
     "data": {
      "text/plain": [
       "[None]"
      ]
     },
     "metadata": {},
     "output_type": "display_data"
    },
    {
     "name": "stderr",
     "output_type": "stream",
     "text": [
      "59.0:   3%|██                                                                     | 294/10000 [00:01<00:39, 242.85it/s]"
     ]
    },
    {
     "data": {
      "text/plain": [
       "[None]"
      ]
     },
     "metadata": {},
     "output_type": "display_data"
    },
    {
     "name": "stderr",
     "output_type": "stream",
     "text": [
      "57.0:   3%|██                                                                     | 294/10000 [00:01<00:39, 242.85it/s]"
     ]
    },
    {
     "data": {
      "text/plain": [
       "[None]"
      ]
     },
     "metadata": {},
     "output_type": "display_data"
    },
    {
     "name": "stderr",
     "output_type": "stream",
     "text": [
      "57.0:   3%|██                                                                     | 294/10000 [00:01<00:39, 242.85it/s]"
     ]
    },
    {
     "data": {
      "text/plain": [
       "[None]"
      ]
     },
     "metadata": {},
     "output_type": "display_data"
    },
    {
     "name": "stderr",
     "output_type": "stream",
     "text": [
      "62.0:   3%|██                                                                     | 294/10000 [00:01<00:39, 242.85it/s]"
     ]
    },
    {
     "data": {
      "text/plain": [
       "[None]"
      ]
     },
     "metadata": {},
     "output_type": "display_data"
    },
    {
     "name": "stderr",
     "output_type": "stream",
     "text": [
      "62.0:   3%|██                                                                     | 294/10000 [00:01<00:39, 242.85it/s]"
     ]
    },
    {
     "data": {
      "text/plain": [
       "[None]"
      ]
     },
     "metadata": {},
     "output_type": "display_data"
    },
    {
     "name": "stderr",
     "output_type": "stream",
     "text": [
      "57.0:   3%|██                                                                     | 294/10000 [00:01<00:39, 242.85it/s]"
     ]
    },
    {
     "data": {
      "text/plain": [
       "[None]"
      ]
     },
     "metadata": {},
     "output_type": "display_data"
    },
    {
     "name": "stderr",
     "output_type": "stream",
     "text": [
      "60.0:   3%|██                                                                     | 294/10000 [00:01<00:39, 242.85it/s]"
     ]
    },
    {
     "data": {
      "text/plain": [
       "[None]"
      ]
     },
     "metadata": {},
     "output_type": "display_data"
    },
    {
     "name": "stderr",
     "output_type": "stream",
     "text": [
      "54.0:   3%|██                                                                     | 294/10000 [00:01<00:39, 242.85it/s]"
     ]
    },
    {
     "data": {
      "text/plain": [
       "[None]"
      ]
     },
     "metadata": {},
     "output_type": "display_data"
    },
    {
     "name": "stderr",
     "output_type": "stream",
     "text": [
      "56.0:   3%|██▎                                                                    | 319/10000 [00:01<00:39, 244.68it/s]"
     ]
    },
    {
     "data": {
      "text/plain": [
       "[None]"
      ]
     },
     "metadata": {},
     "output_type": "display_data"
    },
    {
     "name": "stderr",
     "output_type": "stream",
     "text": [
      "63.0:   3%|██▎                                                                    | 319/10000 [00:01<00:39, 244.68it/s]"
     ]
    },
    {
     "data": {
      "text/plain": [
       "[None]"
      ]
     },
     "metadata": {},
     "output_type": "display_data"
    },
    {
     "name": "stderr",
     "output_type": "stream",
     "text": [
      "61.0:   3%|██▎                                                                    | 319/10000 [00:01<00:39, 244.68it/s]"
     ]
    },
    {
     "data": {
      "text/plain": [
       "[None]"
      ]
     },
     "metadata": {},
     "output_type": "display_data"
    },
    {
     "name": "stderr",
     "output_type": "stream",
     "text": [
      "59.0:   3%|██▎                                                                    | 319/10000 [00:01<00:39, 244.68it/s]"
     ]
    },
    {
     "data": {
      "text/plain": [
       "[None]"
      ]
     },
     "metadata": {},
     "output_type": "display_data"
    },
    {
     "name": "stderr",
     "output_type": "stream",
     "text": [
      "64.0:   3%|██▎                                                                    | 319/10000 [00:01<00:39, 244.68it/s]"
     ]
    },
    {
     "data": {
      "text/plain": [
       "[None]"
      ]
     },
     "metadata": {},
     "output_type": "display_data"
    },
    {
     "name": "stderr",
     "output_type": "stream",
     "text": [
      "65.0:   3%|██▎                                                                    | 319/10000 [00:01<00:39, 244.68it/s]"
     ]
    },
    {
     "data": {
      "text/plain": [
       "[None]"
      ]
     },
     "metadata": {},
     "output_type": "display_data"
    },
    {
     "name": "stderr",
     "output_type": "stream",
     "text": [
      "56.0:   3%|██▎                                                                    | 319/10000 [00:01<00:39, 244.68it/s]"
     ]
    },
    {
     "data": {
      "text/plain": [
       "[None]"
      ]
     },
     "metadata": {},
     "output_type": "display_data"
    },
    {
     "name": "stderr",
     "output_type": "stream",
     "text": [
      "58.0:   3%|██▎                                                                    | 319/10000 [00:01<00:39, 244.68it/s]"
     ]
    },
    {
     "data": {
      "text/plain": [
       "[None]"
      ]
     },
     "metadata": {},
     "output_type": "display_data"
    },
    {
     "name": "stderr",
     "output_type": "stream",
     "text": [
      "66.0:   3%|██▎                                                                    | 319/10000 [00:01<00:39, 244.68it/s]"
     ]
    },
    {
     "data": {
      "text/plain": [
       "[None]"
      ]
     },
     "metadata": {},
     "output_type": "display_data"
    },
    {
     "name": "stderr",
     "output_type": "stream",
     "text": [
      "55.0:   3%|██▎                                                                    | 319/10000 [00:01<00:39, 244.68it/s]"
     ]
    },
    {
     "data": {
      "text/plain": [
       "[None]"
      ]
     },
     "metadata": {},
     "output_type": "display_data"
    },
    {
     "name": "stderr",
     "output_type": "stream",
     "text": [
      "63.0:   3%|██▎                                                                    | 319/10000 [00:01<00:39, 244.68it/s]"
     ]
    },
    {
     "data": {
      "text/plain": [
       "[None]"
      ]
     },
     "metadata": {},
     "output_type": "display_data"
    },
    {
     "name": "stderr",
     "output_type": "stream",
     "text": [
      "51.0:   3%|██▎                                                                    | 319/10000 [00:01<00:39, 244.68it/s]"
     ]
    },
    {
     "data": {
      "text/plain": [
       "[None]"
      ]
     },
     "metadata": {},
     "output_type": "display_data"
    },
    {
     "name": "stderr",
     "output_type": "stream",
     "text": [
      "70.0:   3%|██▎                                                                    | 319/10000 [00:01<00:39, 244.68it/s]"
     ]
    },
    {
     "data": {
      "text/plain": [
       "[None]"
      ]
     },
     "metadata": {},
     "output_type": "display_data"
    },
    {
     "name": "stderr",
     "output_type": "stream",
     "text": [
      "64.0:   3%|██▎                                                                    | 319/10000 [00:01<00:39, 244.68it/s]"
     ]
    },
    {
     "data": {
      "text/plain": [
       "[None]"
      ]
     },
     "metadata": {},
     "output_type": "display_data"
    },
    {
     "name": "stderr",
     "output_type": "stream",
     "text": [
      "64.0:   3%|██▎                                                                    | 319/10000 [00:01<00:39, 244.68it/s]"
     ]
    },
    {
     "data": {
      "text/plain": [
       "[None]"
      ]
     },
     "metadata": {},
     "output_type": "display_data"
    },
    {
     "name": "stderr",
     "output_type": "stream",
     "text": [
      "58.0:   3%|██▎                                                                    | 319/10000 [00:01<00:39, 244.68it/s]"
     ]
    },
    {
     "data": {
      "text/plain": [
       "[None]"
      ]
     },
     "metadata": {},
     "output_type": "display_data"
    },
    {
     "name": "stderr",
     "output_type": "stream",
     "text": [
      "66.0:   3%|██▎                                                                    | 319/10000 [00:01<00:39, 244.68it/s]"
     ]
    },
    {
     "data": {
      "text/plain": [
       "[None]"
      ]
     },
     "metadata": {},
     "output_type": "display_data"
    },
    {
     "name": "stderr",
     "output_type": "stream",
     "text": [
      "64.0:   3%|██▎                                                                    | 319/10000 [00:01<00:39, 244.68it/s]"
     ]
    },
    {
     "data": {
      "text/plain": [
       "[None]"
      ]
     },
     "metadata": {},
     "output_type": "display_data"
    },
    {
     "name": "stderr",
     "output_type": "stream",
     "text": [
      "60.0:   3%|██▎                                                                    | 319/10000 [00:01<00:39, 244.68it/s]"
     ]
    },
    {
     "data": {
      "text/plain": [
       "[None]"
      ]
     },
     "metadata": {},
     "output_type": "display_data"
    },
    {
     "name": "stderr",
     "output_type": "stream",
     "text": [
      "60.0:   3%|██▎                                                                    | 319/10000 [00:01<00:39, 244.68it/s]"
     ]
    },
    {
     "data": {
      "text/plain": [
       "[None]"
      ]
     },
     "metadata": {},
     "output_type": "display_data"
    },
    {
     "name": "stderr",
     "output_type": "stream",
     "text": [
      "64.0:   3%|██▎                                                                    | 319/10000 [00:01<00:39, 244.68it/s]"
     ]
    },
    {
     "data": {
      "text/plain": [
       "[None]"
      ]
     },
     "metadata": {},
     "output_type": "display_data"
    },
    {
     "name": "stderr",
     "output_type": "stream",
     "text": [
      "60.0:   3%|██▎                                                                    | 319/10000 [00:01<00:39, 244.68it/s]"
     ]
    },
    {
     "data": {
      "text/plain": [
       "[None]"
      ]
     },
     "metadata": {},
     "output_type": "display_data"
    },
    {
     "name": "stderr",
     "output_type": "stream",
     "text": [
      "62.0:   3%|██▎                                                                    | 319/10000 [00:01<00:39, 244.68it/s]"
     ]
    },
    {
     "data": {
      "text/plain": [
       "[None]"
      ]
     },
     "metadata": {},
     "output_type": "display_data"
    },
    {
     "name": "stderr",
     "output_type": "stream",
     "text": [
      "59.0:   3%|██▎                                                                    | 319/10000 [00:01<00:39, 244.68it/s]"
     ]
    },
    {
     "data": {
      "text/plain": [
       "[None]"
      ]
     },
     "metadata": {},
     "output_type": "display_data"
    },
    {
     "name": "stderr",
     "output_type": "stream",
     "text": [
      "61.0:   3%|██▎                                                                    | 319/10000 [00:01<00:39, 244.68it/s]"
     ]
    },
    {
     "data": {
      "text/plain": [
       "[None]"
      ]
     },
     "metadata": {},
     "output_type": "display_data"
    },
    {
     "name": "stderr",
     "output_type": "stream",
     "text": [
      "64.0:   3%|██▍                                                                    | 344/10000 [00:01<00:40, 238.66it/s]"
     ]
    },
    {
     "data": {
      "text/plain": [
       "[None]"
      ]
     },
     "metadata": {},
     "output_type": "display_data"
    },
    {
     "name": "stderr",
     "output_type": "stream",
     "text": [
      "62.0:   3%|██▍                                                                    | 344/10000 [00:01<00:40, 238.66it/s]"
     ]
    },
    {
     "data": {
      "text/plain": [
       "[None]"
      ]
     },
     "metadata": {},
     "output_type": "display_data"
    },
    {
     "name": "stderr",
     "output_type": "stream",
     "text": [
      "60.0:   3%|██▍                                                                    | 344/10000 [00:01<00:40, 238.66it/s]"
     ]
    },
    {
     "data": {
      "text/plain": [
       "[None]"
      ]
     },
     "metadata": {},
     "output_type": "display_data"
    },
    {
     "name": "stderr",
     "output_type": "stream",
     "text": [
      "59.0:   3%|██▍                                                                    | 344/10000 [00:01<00:40, 238.66it/s]"
     ]
    },
    {
     "data": {
      "text/plain": [
       "[None]"
      ]
     },
     "metadata": {},
     "output_type": "display_data"
    },
    {
     "name": "stderr",
     "output_type": "stream",
     "text": [
      "53.0:   3%|██▍                                                                    | 344/10000 [00:01<00:40, 238.66it/s]"
     ]
    },
    {
     "data": {
      "text/plain": [
       "[None]"
      ]
     },
     "metadata": {},
     "output_type": "display_data"
    },
    {
     "name": "stderr",
     "output_type": "stream",
     "text": [
      "69.0:   3%|██▍                                                                    | 344/10000 [00:01<00:40, 238.66it/s]"
     ]
    },
    {
     "data": {
      "text/plain": [
       "[None]"
      ]
     },
     "metadata": {},
     "output_type": "display_data"
    },
    {
     "name": "stderr",
     "output_type": "stream",
     "text": [
      "55.0:   3%|██▍                                                                    | 344/10000 [00:01<00:40, 238.66it/s]"
     ]
    },
    {
     "data": {
      "text/plain": [
       "[None]"
      ]
     },
     "metadata": {},
     "output_type": "display_data"
    },
    {
     "name": "stderr",
     "output_type": "stream",
     "text": [
      "65.0:   3%|██▍                                                                    | 344/10000 [00:01<00:40, 238.66it/s]"
     ]
    },
    {
     "data": {
      "text/plain": [
       "[None]"
      ]
     },
     "metadata": {},
     "output_type": "display_data"
    },
    {
     "name": "stderr",
     "output_type": "stream",
     "text": [
      "58.0:   3%|██▍                                                                    | 344/10000 [00:01<00:40, 238.66it/s]"
     ]
    },
    {
     "data": {
      "text/plain": [
       "[None]"
      ]
     },
     "metadata": {},
     "output_type": "display_data"
    },
    {
     "name": "stderr",
     "output_type": "stream",
     "text": [
      "61.0:   3%|██▍                                                                    | 344/10000 [00:01<00:40, 238.66it/s]"
     ]
    },
    {
     "data": {
      "text/plain": [
       "[None]"
      ]
     },
     "metadata": {},
     "output_type": "display_data"
    },
    {
     "name": "stderr",
     "output_type": "stream",
     "text": [
      "59.0:   3%|██▍                                                                    | 344/10000 [00:01<00:40, 238.66it/s]"
     ]
    },
    {
     "data": {
      "text/plain": [
       "[None]"
      ]
     },
     "metadata": {},
     "output_type": "display_data"
    },
    {
     "name": "stderr",
     "output_type": "stream",
     "text": [
      "57.0:   3%|██▍                                                                    | 344/10000 [00:01<00:40, 238.66it/s]"
     ]
    },
    {
     "data": {
      "text/plain": [
       "[None]"
      ]
     },
     "metadata": {},
     "output_type": "display_data"
    },
    {
     "name": "stderr",
     "output_type": "stream",
     "text": [
      "69.0:   3%|██▍                                                                    | 344/10000 [00:01<00:40, 238.66it/s]"
     ]
    },
    {
     "data": {
      "text/plain": [
       "[None]"
      ]
     },
     "metadata": {},
     "output_type": "display_data"
    },
    {
     "name": "stderr",
     "output_type": "stream",
     "text": [
      "59.0:   3%|██▍                                                                    | 344/10000 [00:01<00:40, 238.66it/s]"
     ]
    },
    {
     "data": {
      "text/plain": [
       "[None]"
      ]
     },
     "metadata": {},
     "output_type": "display_data"
    },
    {
     "name": "stderr",
     "output_type": "stream",
     "text": [
      "61.0:   3%|██▍                                                                    | 344/10000 [00:01<00:40, 238.66it/s]"
     ]
    },
    {
     "data": {
      "text/plain": [
       "[None]"
      ]
     },
     "metadata": {},
     "output_type": "display_data"
    },
    {
     "name": "stderr",
     "output_type": "stream",
     "text": [
      "60.0:   3%|██▍                                                                    | 344/10000 [00:01<00:40, 238.66it/s]"
     ]
    },
    {
     "data": {
      "text/plain": [
       "[None]"
      ]
     },
     "metadata": {},
     "output_type": "display_data"
    },
    {
     "name": "stderr",
     "output_type": "stream",
     "text": [
      "60.0:   3%|██▍                                                                    | 344/10000 [00:01<00:40, 238.66it/s]"
     ]
    },
    {
     "data": {
      "text/plain": [
       "[None]"
      ]
     },
     "metadata": {},
     "output_type": "display_data"
    },
    {
     "name": "stderr",
     "output_type": "stream",
     "text": [
      "55.0:   3%|██▍                                                                    | 344/10000 [00:01<00:40, 238.66it/s]"
     ]
    },
    {
     "data": {
      "text/plain": [
       "[None]"
      ]
     },
     "metadata": {},
     "output_type": "display_data"
    },
    {
     "name": "stderr",
     "output_type": "stream",
     "text": [
      "58.0:   3%|██▍                                                                    | 344/10000 [00:01<00:40, 238.66it/s]"
     ]
    },
    {
     "data": {
      "text/plain": [
       "[None]"
      ]
     },
     "metadata": {},
     "output_type": "display_data"
    },
    {
     "name": "stderr",
     "output_type": "stream",
     "text": [
      "64.0:   3%|██▍                                                                    | 344/10000 [00:01<00:40, 238.66it/s]"
     ]
    },
    {
     "data": {
      "text/plain": [
       "[None]"
      ]
     },
     "metadata": {},
     "output_type": "display_data"
    },
    {
     "name": "stderr",
     "output_type": "stream",
     "text": [
      "65.0:   3%|██▍                                                                    | 344/10000 [00:01<00:40, 238.66it/s]"
     ]
    },
    {
     "data": {
      "text/plain": [
       "[None]"
      ]
     },
     "metadata": {},
     "output_type": "display_data"
    },
    {
     "name": "stderr",
     "output_type": "stream",
     "text": [
      "67.0:   3%|██▍                                                                    | 344/10000 [00:01<00:40, 238.66it/s]"
     ]
    },
    {
     "data": {
      "text/plain": [
       "[None]"
      ]
     },
     "metadata": {},
     "output_type": "display_data"
    },
    {
     "name": "stderr",
     "output_type": "stream",
     "text": [
      "61.0:   3%|██▍                                                                    | 344/10000 [00:01<00:40, 238.66it/s]"
     ]
    },
    {
     "data": {
      "text/plain": [
       "[None]"
      ]
     },
     "metadata": {},
     "output_type": "display_data"
    },
    {
     "name": "stderr",
     "output_type": "stream",
     "text": [
      "57.0:   3%|██▍                                                                    | 344/10000 [00:01<00:40, 238.66it/s]"
     ]
    },
    {
     "data": {
      "text/plain": [
       "[None]"
      ]
     },
     "metadata": {},
     "output_type": "display_data"
    },
    {
     "name": "stderr",
     "output_type": "stream",
     "text": [
      "61.0:   4%|██▌                                                                    | 368/10000 [00:01<00:42, 228.83it/s]"
     ]
    },
    {
     "data": {
      "text/plain": [
       "[None]"
      ]
     },
     "metadata": {},
     "output_type": "display_data"
    },
    {
     "name": "stderr",
     "output_type": "stream",
     "text": [
      "62.0:   4%|██▌                                                                    | 368/10000 [00:01<00:42, 228.83it/s]"
     ]
    },
    {
     "data": {
      "text/plain": [
       "[None]"
      ]
     },
     "metadata": {},
     "output_type": "display_data"
    },
    {
     "name": "stderr",
     "output_type": "stream",
     "text": [
      "64.0:   4%|██▌                                                                    | 368/10000 [00:01<00:42, 228.83it/s]"
     ]
    },
    {
     "data": {
      "text/plain": [
       "[None]"
      ]
     },
     "metadata": {},
     "output_type": "display_data"
    },
    {
     "name": "stderr",
     "output_type": "stream",
     "text": [
      "61.0:   4%|██▌                                                                    | 368/10000 [00:01<00:42, 228.83it/s]"
     ]
    },
    {
     "data": {
      "text/plain": [
       "[None]"
      ]
     },
     "metadata": {},
     "output_type": "display_data"
    },
    {
     "name": "stderr",
     "output_type": "stream",
     "text": [
      "59.0:   4%|██▌                                                                    | 368/10000 [00:01<00:42, 228.83it/s]"
     ]
    },
    {
     "data": {
      "text/plain": [
       "[None]"
      ]
     },
     "metadata": {},
     "output_type": "display_data"
    },
    {
     "name": "stderr",
     "output_type": "stream",
     "text": [
      "63.0:   4%|██▌                                                                    | 368/10000 [00:01<00:42, 228.83it/s]"
     ]
    },
    {
     "data": {
      "text/plain": [
       "[None]"
      ]
     },
     "metadata": {},
     "output_type": "display_data"
    },
    {
     "name": "stderr",
     "output_type": "stream",
     "text": [
      "54.0:   4%|██▌                                                                    | 368/10000 [00:01<00:42, 228.83it/s]"
     ]
    },
    {
     "data": {
      "text/plain": [
       "[None]"
      ]
     },
     "metadata": {},
     "output_type": "display_data"
    },
    {
     "name": "stderr",
     "output_type": "stream",
     "text": [
      "62.0:   4%|██▌                                                                    | 368/10000 [00:01<00:42, 228.83it/s]"
     ]
    },
    {
     "data": {
      "text/plain": [
       "[None]"
      ]
     },
     "metadata": {},
     "output_type": "display_data"
    },
    {
     "name": "stderr",
     "output_type": "stream",
     "text": [
      "62.0:   4%|██▌                                                                    | 368/10000 [00:01<00:42, 228.83it/s]"
     ]
    },
    {
     "data": {
      "text/plain": [
       "[None]"
      ]
     },
     "metadata": {},
     "output_type": "display_data"
    },
    {
     "name": "stderr",
     "output_type": "stream",
     "text": [
      "60.0:   4%|██▌                                                                    | 368/10000 [00:01<00:42, 228.83it/s]"
     ]
    },
    {
     "data": {
      "text/plain": [
       "[None]"
      ]
     },
     "metadata": {},
     "output_type": "display_data"
    },
    {
     "name": "stderr",
     "output_type": "stream",
     "text": [
      "60.0:   4%|██▌                                                                    | 368/10000 [00:01<00:42, 228.83it/s]"
     ]
    },
    {
     "data": {
      "text/plain": [
       "[None]"
      ]
     },
     "metadata": {},
     "output_type": "display_data"
    },
    {
     "name": "stderr",
     "output_type": "stream",
     "text": [
      "66.0:   4%|██▌                                                                    | 368/10000 [00:01<00:42, 228.83it/s]"
     ]
    },
    {
     "data": {
      "text/plain": [
       "[None]"
      ]
     },
     "metadata": {},
     "output_type": "display_data"
    },
    {
     "name": "stderr",
     "output_type": "stream",
     "text": [
      "65.0:   4%|██▌                                                                    | 368/10000 [00:01<00:42, 228.83it/s]"
     ]
    },
    {
     "data": {
      "text/plain": [
       "[None]"
      ]
     },
     "metadata": {},
     "output_type": "display_data"
    },
    {
     "name": "stderr",
     "output_type": "stream",
     "text": [
      "61.0:   4%|██▌                                                                    | 368/10000 [00:01<00:42, 228.83it/s]"
     ]
    },
    {
     "data": {
      "text/plain": [
       "[None]"
      ]
     },
     "metadata": {},
     "output_type": "display_data"
    },
    {
     "name": "stderr",
     "output_type": "stream",
     "text": [
      "65.0:   4%|██▌                                                                    | 368/10000 [00:01<00:42, 228.83it/s]"
     ]
    },
    {
     "data": {
      "text/plain": [
       "[None]"
      ]
     },
     "metadata": {},
     "output_type": "display_data"
    },
    {
     "name": "stderr",
     "output_type": "stream",
     "text": [
      "59.0:   4%|██▌                                                                    | 368/10000 [00:01<00:42, 228.83it/s]"
     ]
    },
    {
     "data": {
      "text/plain": [
       "[None]"
      ]
     },
     "metadata": {},
     "output_type": "display_data"
    },
    {
     "name": "stderr",
     "output_type": "stream",
     "text": [
      "60.0:   4%|██▌                                                                    | 368/10000 [00:01<00:42, 228.83it/s]"
     ]
    },
    {
     "data": {
      "text/plain": [
       "[None]"
      ]
     },
     "metadata": {},
     "output_type": "display_data"
    },
    {
     "name": "stderr",
     "output_type": "stream",
     "text": [
      "66.0:   4%|██▌                                                                    | 368/10000 [00:01<00:42, 228.83it/s]"
     ]
    },
    {
     "data": {
      "text/plain": [
       "[None]"
      ]
     },
     "metadata": {},
     "output_type": "display_data"
    },
    {
     "name": "stderr",
     "output_type": "stream",
     "text": [
      "65.0:   4%|██▌                                                                    | 368/10000 [00:01<00:42, 228.83it/s]"
     ]
    },
    {
     "data": {
      "text/plain": [
       "[None]"
      ]
     },
     "metadata": {},
     "output_type": "display_data"
    },
    {
     "name": "stderr",
     "output_type": "stream",
     "text": [
      "65.0:   4%|██▌                                                                    | 368/10000 [00:01<00:42, 228.83it/s]"
     ]
    },
    {
     "data": {
      "text/plain": [
       "[None]"
      ]
     },
     "metadata": {},
     "output_type": "display_data"
    },
    {
     "name": "stderr",
     "output_type": "stream",
     "text": [
      "66.0:   4%|██▌                                                                    | 368/10000 [00:01<00:42, 228.83it/s]"
     ]
    },
    {
     "data": {
      "text/plain": [
       "[None]"
      ]
     },
     "metadata": {},
     "output_type": "display_data"
    },
    {
     "name": "stderr",
     "output_type": "stream",
     "text": [
      "63.0:   4%|██▌                                                                    | 368/10000 [00:01<00:42, 228.83it/s]"
     ]
    },
    {
     "data": {
      "text/plain": [
       "[None]"
      ]
     },
     "metadata": {},
     "output_type": "display_data"
    },
    {
     "name": "stderr",
     "output_type": "stream",
     "text": [
      "65.0:   4%|██▌                                                                    | 368/10000 [00:01<00:42, 228.83it/s]"
     ]
    },
    {
     "data": {
      "text/plain": [
       "[None]"
      ]
     },
     "metadata": {},
     "output_type": "display_data"
    },
    {
     "name": "stderr",
     "output_type": "stream",
     "text": [
      "65.0:   4%|██▊                                                                    | 391/10000 [00:01<00:42, 228.13it/s]"
     ]
    },
    {
     "data": {
      "text/plain": [
       "[None]"
      ]
     },
     "metadata": {},
     "output_type": "display_data"
    },
    {
     "name": "stderr",
     "output_type": "stream",
     "text": [
      "59.0:   4%|██▊                                                                    | 391/10000 [00:01<00:42, 228.13it/s]"
     ]
    },
    {
     "data": {
      "text/plain": [
       "[None]"
      ]
     },
     "metadata": {},
     "output_type": "display_data"
    },
    {
     "name": "stderr",
     "output_type": "stream",
     "text": [
      "64.0:   4%|██▊                                                                    | 391/10000 [00:01<00:42, 228.13it/s]"
     ]
    },
    {
     "data": {
      "text/plain": [
       "[None]"
      ]
     },
     "metadata": {},
     "output_type": "display_data"
    },
    {
     "name": "stderr",
     "output_type": "stream",
     "text": [
      "61.0:   4%|██▊                                                                    | 391/10000 [00:01<00:42, 228.13it/s]"
     ]
    },
    {
     "data": {
      "text/plain": [
       "[None]"
      ]
     },
     "metadata": {},
     "output_type": "display_data"
    },
    {
     "name": "stderr",
     "output_type": "stream",
     "text": [
      "62.0:   4%|██▊                                                                    | 391/10000 [00:01<00:42, 228.13it/s]"
     ]
    },
    {
     "data": {
      "text/plain": [
       "[None]"
      ]
     },
     "metadata": {},
     "output_type": "display_data"
    },
    {
     "name": "stderr",
     "output_type": "stream",
     "text": [
      "59.0:   4%|██▊                                                                    | 391/10000 [00:01<00:42, 228.13it/s]"
     ]
    },
    {
     "data": {
      "text/plain": [
       "[None]"
      ]
     },
     "metadata": {},
     "output_type": "display_data"
    },
    {
     "name": "stderr",
     "output_type": "stream",
     "text": [
      "65.0:   4%|██▊                                                                    | 391/10000 [00:01<00:42, 228.13it/s]"
     ]
    },
    {
     "data": {
      "text/plain": [
       "[None]"
      ]
     },
     "metadata": {},
     "output_type": "display_data"
    },
    {
     "name": "stderr",
     "output_type": "stream",
     "text": [
      "61.0:   4%|██▊                                                                    | 391/10000 [00:01<00:42, 228.13it/s]"
     ]
    },
    {
     "data": {
      "text/plain": [
       "[None]"
      ]
     },
     "metadata": {},
     "output_type": "display_data"
    },
    {
     "name": "stderr",
     "output_type": "stream",
     "text": [
      "66.0:   4%|██▊                                                                    | 391/10000 [00:01<00:42, 228.13it/s]"
     ]
    },
    {
     "data": {
      "text/plain": [
       "[None]"
      ]
     },
     "metadata": {},
     "output_type": "display_data"
    },
    {
     "name": "stderr",
     "output_type": "stream",
     "text": [
      "59.0:   4%|██▊                                                                    | 391/10000 [00:01<00:42, 228.13it/s]"
     ]
    },
    {
     "data": {
      "text/plain": [
       "[None]"
      ]
     },
     "metadata": {},
     "output_type": "display_data"
    },
    {
     "name": "stderr",
     "output_type": "stream",
     "text": [
      "65.0:   4%|██▊                                                                    | 391/10000 [00:01<00:42, 228.13it/s]"
     ]
    },
    {
     "data": {
      "text/plain": [
       "[None]"
      ]
     },
     "metadata": {},
     "output_type": "display_data"
    },
    {
     "name": "stderr",
     "output_type": "stream",
     "text": [
      "67.0:   4%|██▊                                                                    | 391/10000 [00:01<00:42, 228.13it/s]"
     ]
    },
    {
     "data": {
      "text/plain": [
       "[None]"
      ]
     },
     "metadata": {},
     "output_type": "display_data"
    },
    {
     "name": "stderr",
     "output_type": "stream",
     "text": [
      "60.0:   4%|██▊                                                                    | 391/10000 [00:01<00:42, 228.13it/s]"
     ]
    },
    {
     "data": {
      "text/plain": [
       "[None]"
      ]
     },
     "metadata": {},
     "output_type": "display_data"
    },
    {
     "name": "stderr",
     "output_type": "stream",
     "text": [
      "53.0:   4%|██▊                                                                    | 391/10000 [00:01<00:42, 228.13it/s]"
     ]
    },
    {
     "data": {
      "text/plain": [
       "[None]"
      ]
     },
     "metadata": {},
     "output_type": "display_data"
    },
    {
     "name": "stderr",
     "output_type": "stream",
     "text": [
      "63.0:   4%|██▊                                                                    | 391/10000 [00:01<00:42, 228.13it/s]"
     ]
    },
    {
     "data": {
      "text/plain": [
       "[None]"
      ]
     },
     "metadata": {},
     "output_type": "display_data"
    },
    {
     "name": "stderr",
     "output_type": "stream",
     "text": [
      "67.0:   4%|██▊                                                                    | 391/10000 [00:01<00:42, 228.13it/s]"
     ]
    },
    {
     "data": {
      "text/plain": [
       "[None]"
      ]
     },
     "metadata": {},
     "output_type": "display_data"
    },
    {
     "name": "stderr",
     "output_type": "stream",
     "text": [
      "61.0:   4%|██▊                                                                    | 391/10000 [00:01<00:42, 228.13it/s]"
     ]
    },
    {
     "data": {
      "text/plain": [
       "[None]"
      ]
     },
     "metadata": {},
     "output_type": "display_data"
    },
    {
     "name": "stderr",
     "output_type": "stream",
     "text": [
      "62.0:   4%|██▊                                                                    | 391/10000 [00:01<00:42, 228.13it/s]"
     ]
    },
    {
     "data": {
      "text/plain": [
       "[None]"
      ]
     },
     "metadata": {},
     "output_type": "display_data"
    },
    {
     "name": "stderr",
     "output_type": "stream",
     "text": [
      "66.0:   4%|██▊                                                                    | 391/10000 [00:01<00:42, 228.13it/s]"
     ]
    },
    {
     "data": {
      "text/plain": [
       "[None]"
      ]
     },
     "metadata": {},
     "output_type": "display_data"
    },
    {
     "name": "stderr",
     "output_type": "stream",
     "text": [
      "64.0:   4%|██▊                                                                    | 391/10000 [00:01<00:42, 228.13it/s]"
     ]
    },
    {
     "data": {
      "text/plain": [
       "[None]"
      ]
     },
     "metadata": {},
     "output_type": "display_data"
    },
    {
     "name": "stderr",
     "output_type": "stream",
     "text": [
      "53.0:   4%|██▊                                                                    | 391/10000 [00:01<00:42, 228.13it/s]"
     ]
    },
    {
     "data": {
      "text/plain": [
       "[None]"
      ]
     },
     "metadata": {},
     "output_type": "display_data"
    },
    {
     "name": "stderr",
     "output_type": "stream",
     "text": [
      "57.0:   4%|██▊                                                                    | 391/10000 [00:01<00:42, 228.13it/s]"
     ]
    },
    {
     "data": {
      "text/plain": [
       "[None]"
      ]
     },
     "metadata": {},
     "output_type": "display_data"
    },
    {
     "name": "stderr",
     "output_type": "stream",
     "text": [
      "63.0:   4%|██▊                                                                    | 391/10000 [00:01<00:42, 228.13it/s]"
     ]
    },
    {
     "data": {
      "text/plain": [
       "[None]"
      ]
     },
     "metadata": {},
     "output_type": "display_data"
    },
    {
     "name": "stderr",
     "output_type": "stream",
     "text": [
      "53.0:   4%|██▊                                                                    | 391/10000 [00:01<00:42, 228.13it/s]"
     ]
    },
    {
     "data": {
      "text/plain": [
       "[None]"
      ]
     },
     "metadata": {},
     "output_type": "display_data"
    },
    {
     "name": "stderr",
     "output_type": "stream",
     "text": [
      "55.0:   4%|██▉                                                                    | 415/10000 [00:01<00:41, 229.03it/s]"
     ]
    },
    {
     "data": {
      "text/plain": [
       "[None]"
      ]
     },
     "metadata": {},
     "output_type": "display_data"
    },
    {
     "name": "stderr",
     "output_type": "stream",
     "text": [
      "55.0:   4%|██▉                                                                    | 415/10000 [00:01<00:41, 229.03it/s]"
     ]
    },
    {
     "data": {
      "text/plain": [
       "[None]"
      ]
     },
     "metadata": {},
     "output_type": "display_data"
    },
    {
     "name": "stderr",
     "output_type": "stream",
     "text": [
      "59.0:   4%|██▉                                                                    | 415/10000 [00:01<00:41, 229.03it/s]"
     ]
    },
    {
     "data": {
      "text/plain": [
       "[None]"
      ]
     },
     "metadata": {},
     "output_type": "display_data"
    },
    {
     "name": "stderr",
     "output_type": "stream",
     "text": [
      "62.0:   4%|██▉                                                                    | 415/10000 [00:01<00:41, 229.03it/s]"
     ]
    },
    {
     "data": {
      "text/plain": [
       "[None]"
      ]
     },
     "metadata": {},
     "output_type": "display_data"
    },
    {
     "name": "stderr",
     "output_type": "stream",
     "text": [
      "64.0:   4%|██▉                                                                    | 415/10000 [00:01<00:41, 229.03it/s]"
     ]
    },
    {
     "data": {
      "text/plain": [
       "[None]"
      ]
     },
     "metadata": {},
     "output_type": "display_data"
    },
    {
     "name": "stderr",
     "output_type": "stream",
     "text": [
      "66.0:   4%|██▉                                                                    | 415/10000 [00:01<00:41, 229.03it/s]"
     ]
    },
    {
     "data": {
      "text/plain": [
       "[None]"
      ]
     },
     "metadata": {},
     "output_type": "display_data"
    },
    {
     "name": "stderr",
     "output_type": "stream",
     "text": [
      "68.0:   4%|██▉                                                                    | 415/10000 [00:01<00:41, 229.03it/s]"
     ]
    },
    {
     "data": {
      "text/plain": [
       "[None]"
      ]
     },
     "metadata": {},
     "output_type": "display_data"
    },
    {
     "name": "stderr",
     "output_type": "stream",
     "text": [
      "64.0:   4%|██▉                                                                    | 415/10000 [00:01<00:41, 229.03it/s]"
     ]
    },
    {
     "data": {
      "text/plain": [
       "[None]"
      ]
     },
     "metadata": {},
     "output_type": "display_data"
    },
    {
     "name": "stderr",
     "output_type": "stream",
     "text": [
      "54.0:   4%|██▉                                                                    | 415/10000 [00:01<00:41, 229.03it/s]"
     ]
    },
    {
     "data": {
      "text/plain": [
       "[None]"
      ]
     },
     "metadata": {},
     "output_type": "display_data"
    },
    {
     "name": "stderr",
     "output_type": "stream",
     "text": [
      "61.0:   4%|██▉                                                                    | 415/10000 [00:01<00:41, 229.03it/s]"
     ]
    },
    {
     "data": {
      "text/plain": [
       "[None]"
      ]
     },
     "metadata": {},
     "output_type": "display_data"
    },
    {
     "name": "stderr",
     "output_type": "stream",
     "text": [
      "57.0:   4%|██▉                                                                    | 415/10000 [00:01<00:41, 229.03it/s]"
     ]
    },
    {
     "data": {
      "text/plain": [
       "[None]"
      ]
     },
     "metadata": {},
     "output_type": "display_data"
    },
    {
     "name": "stderr",
     "output_type": "stream",
     "text": [
      "65.0:   4%|██▉                                                                    | 415/10000 [00:01<00:41, 229.03it/s]"
     ]
    },
    {
     "data": {
      "text/plain": [
       "[None]"
      ]
     },
     "metadata": {},
     "output_type": "display_data"
    },
    {
     "name": "stderr",
     "output_type": "stream",
     "text": [
      "60.0:   4%|██▉                                                                    | 415/10000 [00:01<00:41, 229.03it/s]"
     ]
    },
    {
     "data": {
      "text/plain": [
       "[None]"
      ]
     },
     "metadata": {},
     "output_type": "display_data"
    },
    {
     "name": "stderr",
     "output_type": "stream",
     "text": [
      "58.0:   4%|██▉                                                                    | 415/10000 [00:01<00:41, 229.03it/s]"
     ]
    },
    {
     "data": {
      "text/plain": [
       "[None]"
      ]
     },
     "metadata": {},
     "output_type": "display_data"
    },
    {
     "name": "stderr",
     "output_type": "stream",
     "text": [
      "57.0:   4%|██▉                                                                    | 415/10000 [00:01<00:41, 229.03it/s]"
     ]
    },
    {
     "data": {
      "text/plain": [
       "[None]"
      ]
     },
     "metadata": {},
     "output_type": "display_data"
    },
    {
     "name": "stderr",
     "output_type": "stream",
     "text": [
      "61.0:   4%|██▉                                                                    | 415/10000 [00:01<00:41, 229.03it/s]"
     ]
    },
    {
     "data": {
      "text/plain": [
       "[None]"
      ]
     },
     "metadata": {},
     "output_type": "display_data"
    },
    {
     "name": "stderr",
     "output_type": "stream",
     "text": [
      "63.0:   4%|██▉                                                                    | 415/10000 [00:01<00:41, 229.03it/s]"
     ]
    },
    {
     "data": {
      "text/plain": [
       "[None]"
      ]
     },
     "metadata": {},
     "output_type": "display_data"
    },
    {
     "name": "stderr",
     "output_type": "stream",
     "text": [
      "62.0:   4%|██▉                                                                    | 415/10000 [00:01<00:41, 229.03it/s]"
     ]
    },
    {
     "data": {
      "text/plain": [
       "[None]"
      ]
     },
     "metadata": {},
     "output_type": "display_data"
    },
    {
     "name": "stderr",
     "output_type": "stream",
     "text": [
      "58.0:   4%|██▉                                                                    | 415/10000 [00:01<00:41, 229.03it/s]"
     ]
    },
    {
     "data": {
      "text/plain": [
       "[None]"
      ]
     },
     "metadata": {},
     "output_type": "display_data"
    },
    {
     "name": "stderr",
     "output_type": "stream",
     "text": [
      "66.0:   4%|██▉                                                                    | 415/10000 [00:01<00:41, 229.03it/s]"
     ]
    },
    {
     "data": {
      "text/plain": [
       "[None]"
      ]
     },
     "metadata": {},
     "output_type": "display_data"
    },
    {
     "name": "stderr",
     "output_type": "stream",
     "text": [
      "68.0:   4%|██▉                                                                    | 415/10000 [00:01<00:41, 229.03it/s]"
     ]
    },
    {
     "data": {
      "text/plain": [
       "[None]"
      ]
     },
     "metadata": {},
     "output_type": "display_data"
    },
    {
     "name": "stderr",
     "output_type": "stream",
     "text": [
      "59.0:   4%|██▉                                                                    | 415/10000 [00:01<00:41, 229.03it/s]"
     ]
    },
    {
     "data": {
      "text/plain": [
       "[None]"
      ]
     },
     "metadata": {},
     "output_type": "display_data"
    },
    {
     "name": "stderr",
     "output_type": "stream",
     "text": [
      "64.0:   4%|██▉                                                                    | 415/10000 [00:01<00:41, 229.03it/s]"
     ]
    },
    {
     "data": {
      "text/plain": [
       "[None]"
      ]
     },
     "metadata": {},
     "output_type": "display_data"
    },
    {
     "name": "stderr",
     "output_type": "stream",
     "text": [
      "62.0:   4%|███                                                                    | 438/10000 [00:01<00:43, 219.02it/s]"
     ]
    },
    {
     "data": {
      "text/plain": [
       "[None]"
      ]
     },
     "metadata": {},
     "output_type": "display_data"
    },
    {
     "name": "stderr",
     "output_type": "stream",
     "text": [
      "62.0:   4%|███                                                                    | 438/10000 [00:01<00:43, 219.02it/s]"
     ]
    },
    {
     "data": {
      "text/plain": [
       "[None]"
      ]
     },
     "metadata": {},
     "output_type": "display_data"
    },
    {
     "name": "stderr",
     "output_type": "stream",
     "text": [
      "69.0:   4%|███                                                                    | 438/10000 [00:01<00:43, 219.02it/s]"
     ]
    },
    {
     "data": {
      "text/plain": [
       "[None]"
      ]
     },
     "metadata": {},
     "output_type": "display_data"
    },
    {
     "name": "stderr",
     "output_type": "stream",
     "text": [
      "64.0:   4%|███                                                                    | 438/10000 [00:02<00:43, 219.02it/s]"
     ]
    },
    {
     "data": {
      "text/plain": [
       "[None]"
      ]
     },
     "metadata": {},
     "output_type": "display_data"
    },
    {
     "name": "stderr",
     "output_type": "stream",
     "text": [
      "60.0:   4%|███                                                                    | 438/10000 [00:02<00:43, 219.02it/s]"
     ]
    },
    {
     "data": {
      "text/plain": [
       "[None]"
      ]
     },
     "metadata": {},
     "output_type": "display_data"
    },
    {
     "name": "stderr",
     "output_type": "stream",
     "text": [
      "60.0:   4%|███                                                                    | 438/10000 [00:02<00:43, 219.02it/s]"
     ]
    },
    {
     "data": {
      "text/plain": [
       "[None]"
      ]
     },
     "metadata": {},
     "output_type": "display_data"
    },
    {
     "name": "stderr",
     "output_type": "stream",
     "text": [
      "61.0:   4%|███                                                                    | 438/10000 [00:02<00:43, 219.02it/s]"
     ]
    },
    {
     "data": {
      "text/plain": [
       "[None]"
      ]
     },
     "metadata": {},
     "output_type": "display_data"
    },
    {
     "name": "stderr",
     "output_type": "stream",
     "text": [
      "61.0:   4%|███                                                                    | 438/10000 [00:02<00:43, 219.02it/s]"
     ]
    },
    {
     "data": {
      "text/plain": [
       "[None]"
      ]
     },
     "metadata": {},
     "output_type": "display_data"
    },
    {
     "name": "stderr",
     "output_type": "stream",
     "text": [
      "61.0:   4%|███                                                                    | 438/10000 [00:02<00:43, 219.02it/s]"
     ]
    },
    {
     "data": {
      "text/plain": [
       "[None]"
      ]
     },
     "metadata": {},
     "output_type": "display_data"
    },
    {
     "name": "stderr",
     "output_type": "stream",
     "text": [
      "59.0:   4%|███                                                                    | 438/10000 [00:02<00:43, 219.02it/s]"
     ]
    },
    {
     "data": {
      "text/plain": [
       "[None]"
      ]
     },
     "metadata": {},
     "output_type": "display_data"
    },
    {
     "name": "stderr",
     "output_type": "stream",
     "text": [
      "63.0:   4%|███                                                                    | 438/10000 [00:02<00:43, 219.02it/s]"
     ]
    },
    {
     "data": {
      "text/plain": [
       "[None]"
      ]
     },
     "metadata": {},
     "output_type": "display_data"
    },
    {
     "name": "stderr",
     "output_type": "stream",
     "text": [
      "60.0:   4%|███                                                                    | 438/10000 [00:02<00:43, 219.02it/s]"
     ]
    },
    {
     "data": {
      "text/plain": [
       "[None]"
      ]
     },
     "metadata": {},
     "output_type": "display_data"
    },
    {
     "name": "stderr",
     "output_type": "stream",
     "text": [
      "60.0:   4%|███                                                                    | 438/10000 [00:02<00:43, 219.02it/s]"
     ]
    },
    {
     "data": {
      "text/plain": [
       "[None]"
      ]
     },
     "metadata": {},
     "output_type": "display_data"
    },
    {
     "name": "stderr",
     "output_type": "stream",
     "text": [
      "61.0:   4%|███                                                                    | 438/10000 [00:02<00:43, 219.02it/s]"
     ]
    },
    {
     "data": {
      "text/plain": [
       "[None]"
      ]
     },
     "metadata": {},
     "output_type": "display_data"
    },
    {
     "name": "stderr",
     "output_type": "stream",
     "text": [
      "59.0:   4%|███                                                                    | 438/10000 [00:02<00:43, 219.02it/s]"
     ]
    },
    {
     "data": {
      "text/plain": [
       "[None]"
      ]
     },
     "metadata": {},
     "output_type": "display_data"
    },
    {
     "name": "stderr",
     "output_type": "stream",
     "text": [
      "60.0:   4%|███                                                                    | 438/10000 [00:02<00:43, 219.02it/s]"
     ]
    },
    {
     "data": {
      "text/plain": [
       "[None]"
      ]
     },
     "metadata": {},
     "output_type": "display_data"
    },
    {
     "name": "stderr",
     "output_type": "stream",
     "text": [
      "63.0:   4%|███                                                                    | 438/10000 [00:02<00:43, 219.02it/s]"
     ]
    },
    {
     "data": {
      "text/plain": [
       "[None]"
      ]
     },
     "metadata": {},
     "output_type": "display_data"
    },
    {
     "name": "stderr",
     "output_type": "stream",
     "text": [
      "59.0:   4%|███                                                                    | 438/10000 [00:02<00:43, 219.02it/s]"
     ]
    },
    {
     "data": {
      "text/plain": [
       "[None]"
      ]
     },
     "metadata": {},
     "output_type": "display_data"
    },
    {
     "name": "stderr",
     "output_type": "stream",
     "text": [
      "64.0:   4%|███                                                                    | 438/10000 [00:02<00:43, 219.02it/s]"
     ]
    },
    {
     "data": {
      "text/plain": [
       "[None]"
      ]
     },
     "metadata": {},
     "output_type": "display_data"
    },
    {
     "name": "stderr",
     "output_type": "stream",
     "text": [
      "61.0:   4%|███                                                                    | 438/10000 [00:02<00:43, 219.02it/s]"
     ]
    },
    {
     "data": {
      "text/plain": [
       "[None]"
      ]
     },
     "metadata": {},
     "output_type": "display_data"
    },
    {
     "name": "stderr",
     "output_type": "stream",
     "text": [
      "57.0:   4%|███                                                                    | 438/10000 [00:02<00:43, 219.02it/s]"
     ]
    },
    {
     "data": {
      "text/plain": [
       "[None]"
      ]
     },
     "metadata": {},
     "output_type": "display_data"
    },
    {
     "name": "stderr",
     "output_type": "stream",
     "text": [
      "62.0:   4%|███                                                                    | 438/10000 [00:02<00:43, 219.02it/s]"
     ]
    },
    {
     "data": {
      "text/plain": [
       "[None]"
      ]
     },
     "metadata": {},
     "output_type": "display_data"
    },
    {
     "name": "stderr",
     "output_type": "stream",
     "text": [
      "65.0:   4%|███                                                                    | 438/10000 [00:02<00:43, 219.02it/s]"
     ]
    },
    {
     "data": {
      "text/plain": [
       "[None]"
      ]
     },
     "metadata": {},
     "output_type": "display_data"
    },
    {
     "name": "stderr",
     "output_type": "stream",
     "text": [
      "54.0:   4%|███                                                                    | 438/10000 [00:02<00:43, 219.02it/s]"
     ]
    },
    {
     "data": {
      "text/plain": [
       "[None]"
      ]
     },
     "metadata": {},
     "output_type": "display_data"
    },
    {
     "name": "stderr",
     "output_type": "stream",
     "text": [
      "58.0:   5%|███▎                                                                   | 462/10000 [00:02<00:42, 223.69it/s]"
     ]
    },
    {
     "data": {
      "text/plain": [
       "[None]"
      ]
     },
     "metadata": {},
     "output_type": "display_data"
    },
    {
     "name": "stderr",
     "output_type": "stream",
     "text": [
      "64.0:   5%|███▎                                                                   | 462/10000 [00:02<00:42, 223.69it/s]"
     ]
    },
    {
     "data": {
      "text/plain": [
       "[None]"
      ]
     },
     "metadata": {},
     "output_type": "display_data"
    },
    {
     "name": "stderr",
     "output_type": "stream",
     "text": [
      "58.0:   5%|███▎                                                                   | 462/10000 [00:02<00:42, 223.69it/s]"
     ]
    },
    {
     "data": {
      "text/plain": [
       "[None]"
      ]
     },
     "metadata": {},
     "output_type": "display_data"
    },
    {
     "name": "stderr",
     "output_type": "stream",
     "text": [
      "64.0:   5%|███▎                                                                   | 462/10000 [00:02<00:42, 223.69it/s]"
     ]
    },
    {
     "data": {
      "text/plain": [
       "[None]"
      ]
     },
     "metadata": {},
     "output_type": "display_data"
    },
    {
     "name": "stderr",
     "output_type": "stream",
     "text": [
      "65.0:   5%|███▎                                                                   | 462/10000 [00:02<00:42, 223.69it/s]"
     ]
    },
    {
     "data": {
      "text/plain": [
       "[None]"
      ]
     },
     "metadata": {},
     "output_type": "display_data"
    },
    {
     "name": "stderr",
     "output_type": "stream",
     "text": [
      "64.0:   5%|███▎                                                                   | 462/10000 [00:02<00:42, 223.69it/s]"
     ]
    },
    {
     "data": {
      "text/plain": [
       "[None]"
      ]
     },
     "metadata": {},
     "output_type": "display_data"
    },
    {
     "name": "stderr",
     "output_type": "stream",
     "text": [
      "64.0:   5%|███▎                                                                   | 462/10000 [00:02<00:42, 223.69it/s]"
     ]
    },
    {
     "data": {
      "text/plain": [
       "[None]"
      ]
     },
     "metadata": {},
     "output_type": "display_data"
    },
    {
     "name": "stderr",
     "output_type": "stream",
     "text": [
      "61.0:   5%|███▎                                                                   | 462/10000 [00:02<00:42, 223.69it/s]"
     ]
    },
    {
     "data": {
      "text/plain": [
       "[None]"
      ]
     },
     "metadata": {},
     "output_type": "display_data"
    },
    {
     "name": "stderr",
     "output_type": "stream",
     "text": [
      "54.0:   5%|███▎                                                                   | 462/10000 [00:02<00:42, 223.69it/s]"
     ]
    },
    {
     "data": {
      "text/plain": [
       "[None]"
      ]
     },
     "metadata": {},
     "output_type": "display_data"
    },
    {
     "name": "stderr",
     "output_type": "stream",
     "text": [
      "62.0:   5%|███▎                                                                   | 462/10000 [00:02<00:42, 223.69it/s]"
     ]
    },
    {
     "data": {
      "text/plain": [
       "[None]"
      ]
     },
     "metadata": {},
     "output_type": "display_data"
    },
    {
     "name": "stderr",
     "output_type": "stream",
     "text": [
      "70.0:   5%|███▎                                                                   | 462/10000 [00:02<00:42, 223.69it/s]"
     ]
    },
    {
     "data": {
      "text/plain": [
       "[None]"
      ]
     },
     "metadata": {},
     "output_type": "display_data"
    },
    {
     "name": "stderr",
     "output_type": "stream",
     "text": [
      "55.0:   5%|███▎                                                                   | 462/10000 [00:02<00:42, 223.69it/s]"
     ]
    },
    {
     "data": {
      "text/plain": [
       "[None]"
      ]
     },
     "metadata": {},
     "output_type": "display_data"
    },
    {
     "name": "stderr",
     "output_type": "stream",
     "text": [
      "64.0:   5%|███▎                                                                   | 462/10000 [00:02<00:42, 223.69it/s]"
     ]
    },
    {
     "data": {
      "text/plain": [
       "[None]"
      ]
     },
     "metadata": {},
     "output_type": "display_data"
    },
    {
     "name": "stderr",
     "output_type": "stream",
     "text": [
      "69.0:   5%|███▎                                                                   | 462/10000 [00:02<00:42, 223.69it/s]"
     ]
    },
    {
     "data": {
      "text/plain": [
       "[None]"
      ]
     },
     "metadata": {},
     "output_type": "display_data"
    },
    {
     "name": "stderr",
     "output_type": "stream",
     "text": [
      "72.0:   5%|███▎                                                                   | 462/10000 [00:02<00:42, 223.69it/s]"
     ]
    },
    {
     "data": {
      "text/plain": [
       "[None]"
      ]
     },
     "metadata": {},
     "output_type": "display_data"
    },
    {
     "name": "stderr",
     "output_type": "stream",
     "text": [
      "59.0:   5%|███▎                                                                   | 462/10000 [00:02<00:42, 223.69it/s]"
     ]
    },
    {
     "data": {
      "text/plain": [
       "[None]"
      ]
     },
     "metadata": {},
     "output_type": "display_data"
    },
    {
     "name": "stderr",
     "output_type": "stream",
     "text": [
      "63.0:   5%|███▎                                                                   | 462/10000 [00:02<00:42, 223.69it/s]"
     ]
    },
    {
     "data": {
      "text/plain": [
       "[None]"
      ]
     },
     "metadata": {},
     "output_type": "display_data"
    },
    {
     "name": "stderr",
     "output_type": "stream",
     "text": [
      "57.0:   5%|███▎                                                                   | 462/10000 [00:02<00:42, 223.69it/s]"
     ]
    },
    {
     "data": {
      "text/plain": [
       "[None]"
      ]
     },
     "metadata": {},
     "output_type": "display_data"
    },
    {
     "name": "stderr",
     "output_type": "stream",
     "text": [
      "66.0:   5%|███▎                                                                   | 462/10000 [00:02<00:42, 223.69it/s]"
     ]
    },
    {
     "data": {
      "text/plain": [
       "[None]"
      ]
     },
     "metadata": {},
     "output_type": "display_data"
    },
    {
     "name": "stderr",
     "output_type": "stream",
     "text": [
      "58.0:   5%|███▎                                                                   | 462/10000 [00:02<00:42, 223.69it/s]"
     ]
    },
    {
     "data": {
      "text/plain": [
       "[None]"
      ]
     },
     "metadata": {},
     "output_type": "display_data"
    },
    {
     "name": "stderr",
     "output_type": "stream",
     "text": [
      "57.0:   5%|███▎                                                                   | 462/10000 [00:02<00:42, 223.69it/s]"
     ]
    },
    {
     "data": {
      "text/plain": [
       "[None]"
      ]
     },
     "metadata": {},
     "output_type": "display_data"
    },
    {
     "name": "stderr",
     "output_type": "stream",
     "text": [
      "70.0:   5%|███▎                                                                   | 462/10000 [00:02<00:42, 223.69it/s]"
     ]
    },
    {
     "data": {
      "text/plain": [
       "[None]"
      ]
     },
     "metadata": {},
     "output_type": "display_data"
    },
    {
     "name": "stderr",
     "output_type": "stream",
     "text": [
      "65.0:   5%|███▎                                                                   | 462/10000 [00:02<00:42, 223.69it/s]"
     ]
    },
    {
     "data": {
      "text/plain": [
       "[None]"
      ]
     },
     "metadata": {},
     "output_type": "display_data"
    },
    {
     "name": "stderr",
     "output_type": "stream",
     "text": [
      "59.0:   5%|███▍                                                                   | 485/10000 [00:02<00:42, 225.03it/s]"
     ]
    },
    {
     "data": {
      "text/plain": [
       "[None]"
      ]
     },
     "metadata": {},
     "output_type": "display_data"
    },
    {
     "name": "stderr",
     "output_type": "stream",
     "text": [
      "60.0:   5%|███▍                                                                   | 485/10000 [00:02<00:42, 225.03it/s]"
     ]
    },
    {
     "data": {
      "text/plain": [
       "[None]"
      ]
     },
     "metadata": {},
     "output_type": "display_data"
    },
    {
     "name": "stderr",
     "output_type": "stream",
     "text": [
      "59.0:   5%|███▍                                                                   | 485/10000 [00:02<00:42, 225.03it/s]"
     ]
    },
    {
     "data": {
      "text/plain": [
       "[None]"
      ]
     },
     "metadata": {},
     "output_type": "display_data"
    },
    {
     "name": "stderr",
     "output_type": "stream",
     "text": [
      "62.0:   5%|███▍                                                                   | 485/10000 [00:02<00:42, 225.03it/s]"
     ]
    },
    {
     "data": {
      "text/plain": [
       "[None]"
      ]
     },
     "metadata": {},
     "output_type": "display_data"
    },
    {
     "name": "stderr",
     "output_type": "stream",
     "text": [
      "59.0:   5%|███▍                                                                   | 485/10000 [00:02<00:42, 225.03it/s]"
     ]
    },
    {
     "data": {
      "text/plain": [
       "[None]"
      ]
     },
     "metadata": {},
     "output_type": "display_data"
    },
    {
     "name": "stderr",
     "output_type": "stream",
     "text": [
      "62.0:   5%|███▍                                                                   | 485/10000 [00:02<00:42, 225.03it/s]"
     ]
    },
    {
     "data": {
      "text/plain": [
       "[None]"
      ]
     },
     "metadata": {},
     "output_type": "display_data"
    },
    {
     "name": "stderr",
     "output_type": "stream",
     "text": [
      "63.0:   5%|███▍                                                                   | 485/10000 [00:02<00:42, 225.03it/s]"
     ]
    },
    {
     "data": {
      "text/plain": [
       "[None]"
      ]
     },
     "metadata": {},
     "output_type": "display_data"
    },
    {
     "name": "stderr",
     "output_type": "stream",
     "text": [
      "58.0:   5%|███▍                                                                   | 485/10000 [00:02<00:42, 225.03it/s]"
     ]
    },
    {
     "data": {
      "text/plain": [
       "[None]"
      ]
     },
     "metadata": {},
     "output_type": "display_data"
    },
    {
     "name": "stderr",
     "output_type": "stream",
     "text": [
      "60.0:   5%|███▍                                                                   | 485/10000 [00:02<00:42, 225.03it/s]"
     ]
    },
    {
     "data": {
      "text/plain": [
       "[None]"
      ]
     },
     "metadata": {},
     "output_type": "display_data"
    },
    {
     "name": "stderr",
     "output_type": "stream",
     "text": [
      "58.0:   5%|███▍                                                                   | 485/10000 [00:02<00:42, 225.03it/s]"
     ]
    },
    {
     "data": {
      "text/plain": [
       "[None]"
      ]
     },
     "metadata": {},
     "output_type": "display_data"
    },
    {
     "name": "stderr",
     "output_type": "stream",
     "text": [
      "65.0:   5%|███▍                                                                   | 485/10000 [00:02<00:42, 225.03it/s]"
     ]
    },
    {
     "data": {
      "text/plain": [
       "[None]"
      ]
     },
     "metadata": {},
     "output_type": "display_data"
    },
    {
     "name": "stderr",
     "output_type": "stream",
     "text": [
      "65.0:   5%|███▍                                                                   | 485/10000 [00:02<00:42, 225.03it/s]"
     ]
    },
    {
     "data": {
      "text/plain": [
       "[None]"
      ]
     },
     "metadata": {},
     "output_type": "display_data"
    },
    {
     "name": "stderr",
     "output_type": "stream",
     "text": [
      "65.0:   5%|███▍                                                                   | 485/10000 [00:02<00:42, 225.03it/s]"
     ]
    },
    {
     "data": {
      "text/plain": [
       "[None]"
      ]
     },
     "metadata": {},
     "output_type": "display_data"
    },
    {
     "name": "stderr",
     "output_type": "stream",
     "text": [
      "62.0:   5%|███▍                                                                   | 485/10000 [00:02<00:42, 225.03it/s]"
     ]
    },
    {
     "data": {
      "text/plain": [
       "[None]"
      ]
     },
     "metadata": {},
     "output_type": "display_data"
    },
    {
     "name": "stderr",
     "output_type": "stream",
     "text": [
      "58.0:   5%|███▍                                                                   | 485/10000 [00:02<00:42, 225.03it/s]"
     ]
    },
    {
     "data": {
      "text/plain": [
       "[None]"
      ]
     },
     "metadata": {},
     "output_type": "display_data"
    },
    {
     "name": "stderr",
     "output_type": "stream",
     "text": [
      "66.0:   5%|███▍                                                                   | 485/10000 [00:02<00:42, 225.03it/s]"
     ]
    },
    {
     "data": {
      "text/plain": [
       "[None]"
      ]
     },
     "metadata": {},
     "output_type": "display_data"
    },
    {
     "name": "stderr",
     "output_type": "stream",
     "text": [
      "60.0:   5%|███▍                                                                   | 485/10000 [00:02<00:42, 225.03it/s]"
     ]
    },
    {
     "data": {
      "text/plain": [
       "[None]"
      ]
     },
     "metadata": {},
     "output_type": "display_data"
    },
    {
     "name": "stderr",
     "output_type": "stream",
     "text": [
      "59.0:   5%|███▍                                                                   | 485/10000 [00:02<00:42, 225.03it/s]"
     ]
    },
    {
     "data": {
      "text/plain": [
       "[None]"
      ]
     },
     "metadata": {},
     "output_type": "display_data"
    },
    {
     "name": "stderr",
     "output_type": "stream",
     "text": [
      "59.0:   5%|███▍                                                                   | 485/10000 [00:02<00:42, 225.03it/s]"
     ]
    },
    {
     "data": {
      "text/plain": [
       "[None]"
      ]
     },
     "metadata": {},
     "output_type": "display_data"
    },
    {
     "name": "stderr",
     "output_type": "stream",
     "text": [
      "61.0:   5%|███▍                                                                   | 485/10000 [00:02<00:42, 225.03it/s]"
     ]
    },
    {
     "data": {
      "text/plain": [
       "[None]"
      ]
     },
     "metadata": {},
     "output_type": "display_data"
    },
    {
     "name": "stderr",
     "output_type": "stream",
     "text": [
      "60.0:   5%|███▍                                                                   | 485/10000 [00:02<00:42, 225.03it/s]"
     ]
    },
    {
     "data": {
      "text/plain": [
       "[None]"
      ]
     },
     "metadata": {},
     "output_type": "display_data"
    },
    {
     "name": "stderr",
     "output_type": "stream",
     "text": [
      "57.0:   5%|███▍                                                                   | 485/10000 [00:02<00:42, 225.03it/s]"
     ]
    },
    {
     "data": {
      "text/plain": [
       "[None]"
      ]
     },
     "metadata": {},
     "output_type": "display_data"
    },
    {
     "name": "stderr",
     "output_type": "stream",
     "text": [
      "63.0:   5%|███▍                                                                   | 485/10000 [00:02<00:42, 225.03it/s]"
     ]
    },
    {
     "data": {
      "text/plain": [
       "[None]"
      ]
     },
     "metadata": {},
     "output_type": "display_data"
    },
    {
     "name": "stderr",
     "output_type": "stream",
     "text": [
      "58.0:   5%|███▌                                                                   | 508/10000 [00:02<00:43, 220.18it/s]"
     ]
    },
    {
     "data": {
      "text/plain": [
       "[None]"
      ]
     },
     "metadata": {},
     "output_type": "display_data"
    },
    {
     "name": "stderr",
     "output_type": "stream",
     "text": [
      "63.0:   5%|███▌                                                                   | 508/10000 [00:02<00:43, 220.18it/s]"
     ]
    },
    {
     "data": {
      "text/plain": [
       "[None]"
      ]
     },
     "metadata": {},
     "output_type": "display_data"
    },
    {
     "name": "stderr",
     "output_type": "stream",
     "text": [
      "64.0:   5%|███▌                                                                   | 508/10000 [00:02<00:43, 220.18it/s]"
     ]
    },
    {
     "data": {
      "text/plain": [
       "[None]"
      ]
     },
     "metadata": {},
     "output_type": "display_data"
    },
    {
     "name": "stderr",
     "output_type": "stream",
     "text": [
      "63.0:   5%|███▌                                                                   | 508/10000 [00:02<00:43, 220.18it/s]"
     ]
    },
    {
     "data": {
      "text/plain": [
       "[None]"
      ]
     },
     "metadata": {},
     "output_type": "display_data"
    },
    {
     "name": "stderr",
     "output_type": "stream",
     "text": [
      "60.0:   5%|███▌                                                                   | 508/10000 [00:02<00:43, 220.18it/s]"
     ]
    },
    {
     "data": {
      "text/plain": [
       "[None]"
      ]
     },
     "metadata": {},
     "output_type": "display_data"
    },
    {
     "name": "stderr",
     "output_type": "stream",
     "text": [
      "56.0:   5%|███▌                                                                   | 508/10000 [00:02<00:43, 220.18it/s]"
     ]
    },
    {
     "data": {
      "text/plain": [
       "[None]"
      ]
     },
     "metadata": {},
     "output_type": "display_data"
    },
    {
     "name": "stderr",
     "output_type": "stream",
     "text": [
      "63.0:   5%|███▌                                                                   | 508/10000 [00:02<00:43, 220.18it/s]"
     ]
    },
    {
     "data": {
      "text/plain": [
       "[None]"
      ]
     },
     "metadata": {},
     "output_type": "display_data"
    },
    {
     "name": "stderr",
     "output_type": "stream",
     "text": [
      "56.0:   5%|███▌                                                                   | 508/10000 [00:02<00:43, 220.18it/s]"
     ]
    },
    {
     "data": {
      "text/plain": [
       "[None]"
      ]
     },
     "metadata": {},
     "output_type": "display_data"
    },
    {
     "name": "stderr",
     "output_type": "stream",
     "text": [
      "62.0:   5%|███▌                                                                   | 508/10000 [00:02<00:43, 220.18it/s]"
     ]
    },
    {
     "data": {
      "text/plain": [
       "[None]"
      ]
     },
     "metadata": {},
     "output_type": "display_data"
    },
    {
     "name": "stderr",
     "output_type": "stream",
     "text": [
      "59.0:   5%|███▌                                                                   | 508/10000 [00:02<00:43, 220.18it/s]"
     ]
    },
    {
     "data": {
      "text/plain": [
       "[None]"
      ]
     },
     "metadata": {},
     "output_type": "display_data"
    },
    {
     "name": "stderr",
     "output_type": "stream",
     "text": [
      "71.0:   5%|███▌                                                                   | 508/10000 [00:02<00:43, 220.18it/s]"
     ]
    },
    {
     "data": {
      "text/plain": [
       "[None]"
      ]
     },
     "metadata": {},
     "output_type": "display_data"
    },
    {
     "name": "stderr",
     "output_type": "stream",
     "text": [
      "61.0:   5%|███▌                                                                   | 508/10000 [00:02<00:43, 220.18it/s]"
     ]
    },
    {
     "data": {
      "text/plain": [
       "[None]"
      ]
     },
     "metadata": {},
     "output_type": "display_data"
    },
    {
     "name": "stderr",
     "output_type": "stream",
     "text": [
      "69.0:   5%|███▌                                                                   | 508/10000 [00:02<00:43, 220.18it/s]"
     ]
    },
    {
     "data": {
      "text/plain": [
       "[None]"
      ]
     },
     "metadata": {},
     "output_type": "display_data"
    },
    {
     "name": "stderr",
     "output_type": "stream",
     "text": [
      "65.0:   5%|███▌                                                                   | 508/10000 [00:02<00:43, 220.18it/s]"
     ]
    },
    {
     "data": {
      "text/plain": [
       "[None]"
      ]
     },
     "metadata": {},
     "output_type": "display_data"
    },
    {
     "name": "stderr",
     "output_type": "stream",
     "text": [
      "63.0:   5%|███▌                                                                   | 508/10000 [00:02<00:43, 220.18it/s]"
     ]
    },
    {
     "data": {
      "text/plain": [
       "[None]"
      ]
     },
     "metadata": {},
     "output_type": "display_data"
    },
    {
     "name": "stderr",
     "output_type": "stream",
     "text": [
      "65.0:   5%|███▌                                                                   | 508/10000 [00:02<00:43, 220.18it/s]"
     ]
    },
    {
     "data": {
      "text/plain": [
       "[None]"
      ]
     },
     "metadata": {},
     "output_type": "display_data"
    },
    {
     "name": "stderr",
     "output_type": "stream",
     "text": [
      "62.0:   5%|███▌                                                                   | 508/10000 [00:02<00:43, 220.18it/s]"
     ]
    },
    {
     "data": {
      "text/plain": [
       "[None]"
      ]
     },
     "metadata": {},
     "output_type": "display_data"
    },
    {
     "name": "stderr",
     "output_type": "stream",
     "text": [
      "63.0:   5%|███▌                                                                   | 508/10000 [00:02<00:43, 220.18it/s]"
     ]
    },
    {
     "data": {
      "text/plain": [
       "[None]"
      ]
     },
     "metadata": {},
     "output_type": "display_data"
    },
    {
     "name": "stderr",
     "output_type": "stream",
     "text": [
      "57.0:   5%|███▌                                                                   | 508/10000 [00:02<00:43, 220.18it/s]"
     ]
    },
    {
     "data": {
      "text/plain": [
       "[None]"
      ]
     },
     "metadata": {},
     "output_type": "display_data"
    },
    {
     "name": "stderr",
     "output_type": "stream",
     "text": [
      "64.0:   5%|███▌                                                                   | 508/10000 [00:02<00:43, 220.18it/s]"
     ]
    },
    {
     "data": {
      "text/plain": [
       "[None]"
      ]
     },
     "metadata": {},
     "output_type": "display_data"
    },
    {
     "name": "stderr",
     "output_type": "stream",
     "text": [
      "65.0:   5%|███▌                                                                   | 508/10000 [00:02<00:43, 220.18it/s]"
     ]
    },
    {
     "data": {
      "text/plain": [
       "[None]"
      ]
     },
     "metadata": {},
     "output_type": "display_data"
    },
    {
     "name": "stderr",
     "output_type": "stream",
     "text": [
      "63.0:   5%|███▌                                                                   | 508/10000 [00:02<00:43, 220.18it/s]"
     ]
    },
    {
     "data": {
      "text/plain": [
       "[None]"
      ]
     },
     "metadata": {},
     "output_type": "display_data"
    },
    {
     "name": "stderr",
     "output_type": "stream",
     "text": [
      "56.0:   5%|███▌                                                                   | 508/10000 [00:02<00:43, 220.18it/s]"
     ]
    },
    {
     "data": {
      "text/plain": [
       "[None]"
      ]
     },
     "metadata": {},
     "output_type": "display_data"
    },
    {
     "name": "stderr",
     "output_type": "stream",
     "text": [
      "64.0:   5%|███▌                                                                   | 508/10000 [00:02<00:43, 220.18it/s]"
     ]
    },
    {
     "data": {
      "text/plain": [
       "[None]"
      ]
     },
     "metadata": {},
     "output_type": "display_data"
    },
    {
     "name": "stderr",
     "output_type": "stream",
     "text": [
      "62.0:   5%|███▌                                                                   | 508/10000 [00:02<00:43, 220.18it/s]"
     ]
    },
    {
     "data": {
      "text/plain": [
       "[None]"
      ]
     },
     "metadata": {},
     "output_type": "display_data"
    },
    {
     "name": "stderr",
     "output_type": "stream",
     "text": [
      "64.0:   5%|███▊                                                                   | 533/10000 [00:02<00:41, 227.08it/s]"
     ]
    },
    {
     "data": {
      "text/plain": [
       "[None]"
      ]
     },
     "metadata": {},
     "output_type": "display_data"
    },
    {
     "name": "stderr",
     "output_type": "stream",
     "text": [
      "59.0:   5%|███▊                                                                   | 533/10000 [00:02<00:41, 227.08it/s]"
     ]
    },
    {
     "data": {
      "text/plain": [
       "[None]"
      ]
     },
     "metadata": {},
     "output_type": "display_data"
    },
    {
     "name": "stderr",
     "output_type": "stream",
     "text": [
      "63.0:   5%|███▊                                                                   | 533/10000 [00:02<00:41, 227.08it/s]"
     ]
    },
    {
     "data": {
      "text/plain": [
       "[None]"
      ]
     },
     "metadata": {},
     "output_type": "display_data"
    },
    {
     "name": "stderr",
     "output_type": "stream",
     "text": [
      "61.0:   5%|███▊                                                                   | 533/10000 [00:02<00:41, 227.08it/s]"
     ]
    },
    {
     "data": {
      "text/plain": [
       "[None]"
      ]
     },
     "metadata": {},
     "output_type": "display_data"
    },
    {
     "name": "stderr",
     "output_type": "stream",
     "text": [
      "68.0:   5%|███▊                                                                   | 533/10000 [00:02<00:41, 227.08it/s]"
     ]
    },
    {
     "data": {
      "text/plain": [
       "[None]"
      ]
     },
     "metadata": {},
     "output_type": "display_data"
    },
    {
     "name": "stderr",
     "output_type": "stream",
     "text": [
      "54.0:   5%|███▊                                                                   | 533/10000 [00:02<00:41, 227.08it/s]"
     ]
    },
    {
     "data": {
      "text/plain": [
       "[None]"
      ]
     },
     "metadata": {},
     "output_type": "display_data"
    },
    {
     "name": "stderr",
     "output_type": "stream",
     "text": [
      "62.0:   5%|███▊                                                                   | 533/10000 [00:02<00:41, 227.08it/s]"
     ]
    },
    {
     "data": {
      "text/plain": [
       "[None]"
      ]
     },
     "metadata": {},
     "output_type": "display_data"
    },
    {
     "name": "stderr",
     "output_type": "stream",
     "text": [
      "57.0:   5%|███▊                                                                   | 533/10000 [00:02<00:41, 227.08it/s]"
     ]
    },
    {
     "data": {
      "text/plain": [
       "[None]"
      ]
     },
     "metadata": {},
     "output_type": "display_data"
    },
    {
     "name": "stderr",
     "output_type": "stream",
     "text": [
      "66.0:   5%|███▊                                                                   | 533/10000 [00:02<00:41, 227.08it/s]"
     ]
    },
    {
     "data": {
      "text/plain": [
       "[None]"
      ]
     },
     "metadata": {},
     "output_type": "display_data"
    },
    {
     "name": "stderr",
     "output_type": "stream",
     "text": [
      "57.0:   5%|███▊                                                                   | 533/10000 [00:02<00:41, 227.08it/s]"
     ]
    },
    {
     "data": {
      "text/plain": [
       "[None]"
      ]
     },
     "metadata": {},
     "output_type": "display_data"
    },
    {
     "name": "stderr",
     "output_type": "stream",
     "text": [
      "64.0:   5%|███▊                                                                   | 533/10000 [00:02<00:41, 227.08it/s]"
     ]
    },
    {
     "data": {
      "text/plain": [
       "[None]"
      ]
     },
     "metadata": {},
     "output_type": "display_data"
    },
    {
     "name": "stderr",
     "output_type": "stream",
     "text": [
      "65.0:   5%|███▊                                                                   | 533/10000 [00:02<00:41, 227.08it/s]"
     ]
    },
    {
     "data": {
      "text/plain": [
       "[None]"
      ]
     },
     "metadata": {},
     "output_type": "display_data"
    },
    {
     "name": "stderr",
     "output_type": "stream",
     "text": [
      "63.0:   5%|███▊                                                                   | 533/10000 [00:02<00:41, 227.08it/s]"
     ]
    },
    {
     "data": {
      "text/plain": [
       "[None]"
      ]
     },
     "metadata": {},
     "output_type": "display_data"
    },
    {
     "name": "stderr",
     "output_type": "stream",
     "text": [
      "67.0:   5%|███▊                                                                   | 533/10000 [00:02<00:41, 227.08it/s]"
     ]
    },
    {
     "data": {
      "text/plain": [
       "[None]"
      ]
     },
     "metadata": {},
     "output_type": "display_data"
    },
    {
     "name": "stderr",
     "output_type": "stream",
     "text": [
      "69.0:   5%|███▊                                                                   | 533/10000 [00:02<00:41, 227.08it/s]"
     ]
    },
    {
     "data": {
      "text/plain": [
       "[None]"
      ]
     },
     "metadata": {},
     "output_type": "display_data"
    },
    {
     "name": "stderr",
     "output_type": "stream",
     "text": [
      "60.0:   5%|███▊                                                                   | 533/10000 [00:02<00:41, 227.08it/s]"
     ]
    },
    {
     "data": {
      "text/plain": [
       "[None]"
      ]
     },
     "metadata": {},
     "output_type": "display_data"
    },
    {
     "name": "stderr",
     "output_type": "stream",
     "text": [
      "63.0:   5%|███▊                                                                   | 533/10000 [00:02<00:41, 227.08it/s]"
     ]
    },
    {
     "data": {
      "text/plain": [
       "[None]"
      ]
     },
     "metadata": {},
     "output_type": "display_data"
    },
    {
     "name": "stderr",
     "output_type": "stream",
     "text": [
      "62.0:   5%|███▊                                                                   | 533/10000 [00:02<00:41, 227.08it/s]"
     ]
    },
    {
     "data": {
      "text/plain": [
       "[None]"
      ]
     },
     "metadata": {},
     "output_type": "display_data"
    },
    {
     "name": "stderr",
     "output_type": "stream",
     "text": [
      "63.0:   5%|███▊                                                                   | 533/10000 [00:02<00:41, 227.08it/s]"
     ]
    },
    {
     "data": {
      "text/plain": [
       "[None]"
      ]
     },
     "metadata": {},
     "output_type": "display_data"
    },
    {
     "name": "stderr",
     "output_type": "stream",
     "text": [
      "57.0:   5%|███▊                                                                   | 533/10000 [00:02<00:41, 227.08it/s]"
     ]
    },
    {
     "data": {
      "text/plain": [
       "[None]"
      ]
     },
     "metadata": {},
     "output_type": "display_data"
    },
    {
     "name": "stderr",
     "output_type": "stream",
     "text": [
      "58.0:   5%|███▊                                                                   | 533/10000 [00:02<00:41, 227.08it/s]"
     ]
    },
    {
     "data": {
      "text/plain": [
       "[None]"
      ]
     },
     "metadata": {},
     "output_type": "display_data"
    },
    {
     "name": "stderr",
     "output_type": "stream",
     "text": [
      "68.0:   5%|███▊                                                                   | 533/10000 [00:02<00:41, 227.08it/s]"
     ]
    },
    {
     "data": {
      "text/plain": [
       "[None]"
      ]
     },
     "metadata": {},
     "output_type": "display_data"
    },
    {
     "name": "stderr",
     "output_type": "stream",
     "text": [
      "62.0:   5%|███▊                                                                   | 533/10000 [00:02<00:41, 227.08it/s]"
     ]
    },
    {
     "data": {
      "text/plain": [
       "[None]"
      ]
     },
     "metadata": {},
     "output_type": "display_data"
    },
    {
     "name": "stderr",
     "output_type": "stream",
     "text": [
      "57.0:   6%|███▉                                                                   | 556/10000 [00:02<00:41, 227.87it/s]"
     ]
    },
    {
     "data": {
      "text/plain": [
       "[None]"
      ]
     },
     "metadata": {},
     "output_type": "display_data"
    },
    {
     "name": "stderr",
     "output_type": "stream",
     "text": [
      "65.0:   6%|███▉                                                                   | 556/10000 [00:02<00:41, 227.87it/s]"
     ]
    },
    {
     "data": {
      "text/plain": [
       "[None]"
      ]
     },
     "metadata": {},
     "output_type": "display_data"
    },
    {
     "name": "stderr",
     "output_type": "stream",
     "text": [
      "61.0:   6%|███▉                                                                   | 556/10000 [00:02<00:41, 227.87it/s]"
     ]
    },
    {
     "data": {
      "text/plain": [
       "[None]"
      ]
     },
     "metadata": {},
     "output_type": "display_data"
    },
    {
     "name": "stderr",
     "output_type": "stream",
     "text": [
      "54.0:   6%|███▉                                                                   | 556/10000 [00:02<00:41, 227.87it/s]"
     ]
    },
    {
     "data": {
      "text/plain": [
       "[None]"
      ]
     },
     "metadata": {},
     "output_type": "display_data"
    },
    {
     "name": "stderr",
     "output_type": "stream",
     "text": [
      "63.0:   6%|███▉                                                                   | 556/10000 [00:02<00:41, 227.87it/s]"
     ]
    },
    {
     "data": {
      "text/plain": [
       "[None]"
      ]
     },
     "metadata": {},
     "output_type": "display_data"
    },
    {
     "name": "stderr",
     "output_type": "stream",
     "text": [
      "62.0:   6%|███▉                                                                   | 556/10000 [00:02<00:41, 227.87it/s]"
     ]
    },
    {
     "data": {
      "text/plain": [
       "[None]"
      ]
     },
     "metadata": {},
     "output_type": "display_data"
    },
    {
     "name": "stderr",
     "output_type": "stream",
     "text": [
      "60.0:   6%|███▉                                                                   | 556/10000 [00:02<00:41, 227.87it/s]"
     ]
    },
    {
     "data": {
      "text/plain": [
       "[None]"
      ]
     },
     "metadata": {},
     "output_type": "display_data"
    },
    {
     "name": "stderr",
     "output_type": "stream",
     "text": [
      "68.0:   6%|███▉                                                                   | 556/10000 [00:02<00:41, 227.87it/s]"
     ]
    },
    {
     "data": {
      "text/plain": [
       "[None]"
      ]
     },
     "metadata": {},
     "output_type": "display_data"
    },
    {
     "name": "stderr",
     "output_type": "stream",
     "text": [
      "58.0:   6%|███▉                                                                   | 556/10000 [00:02<00:41, 227.87it/s]"
     ]
    },
    {
     "data": {
      "text/plain": [
       "[None]"
      ]
     },
     "metadata": {},
     "output_type": "display_data"
    },
    {
     "name": "stderr",
     "output_type": "stream",
     "text": [
      "57.0:   6%|███▉                                                                   | 556/10000 [00:02<00:41, 227.87it/s]"
     ]
    },
    {
     "data": {
      "text/plain": [
       "[None]"
      ]
     },
     "metadata": {},
     "output_type": "display_data"
    },
    {
     "name": "stderr",
     "output_type": "stream",
     "text": [
      "70.0:   6%|███▉                                                                   | 556/10000 [00:02<00:41, 227.87it/s]"
     ]
    },
    {
     "data": {
      "text/plain": [
       "[None]"
      ]
     },
     "metadata": {},
     "output_type": "display_data"
    },
    {
     "name": "stderr",
     "output_type": "stream",
     "text": [
      "61.0:   6%|███▉                                                                   | 556/10000 [00:02<00:41, 227.87it/s]"
     ]
    },
    {
     "data": {
      "text/plain": [
       "[None]"
      ]
     },
     "metadata": {},
     "output_type": "display_data"
    },
    {
     "name": "stderr",
     "output_type": "stream",
     "text": [
      "60.0:   6%|███▉                                                                   | 556/10000 [00:02<00:41, 227.87it/s]"
     ]
    },
    {
     "data": {
      "text/plain": [
       "[None]"
      ]
     },
     "metadata": {},
     "output_type": "display_data"
    },
    {
     "name": "stderr",
     "output_type": "stream",
     "text": [
      "60.0:   6%|███▉                                                                   | 556/10000 [00:02<00:41, 227.87it/s]"
     ]
    },
    {
     "data": {
      "text/plain": [
       "[None]"
      ]
     },
     "metadata": {},
     "output_type": "display_data"
    },
    {
     "name": "stderr",
     "output_type": "stream",
     "text": [
      "64.0:   6%|███▉                                                                   | 556/10000 [00:02<00:41, 227.87it/s]"
     ]
    },
    {
     "data": {
      "text/plain": [
       "[None]"
      ]
     },
     "metadata": {},
     "output_type": "display_data"
    },
    {
     "name": "stderr",
     "output_type": "stream",
     "text": [
      "56.0:   6%|███▉                                                                   | 556/10000 [00:02<00:41, 227.87it/s]"
     ]
    },
    {
     "data": {
      "text/plain": [
       "[None]"
      ]
     },
     "metadata": {},
     "output_type": "display_data"
    },
    {
     "name": "stderr",
     "output_type": "stream",
     "text": [
      "62.0:   6%|███▉                                                                   | 556/10000 [00:02<00:41, 227.87it/s]"
     ]
    },
    {
     "data": {
      "text/plain": [
       "[None]"
      ]
     },
     "metadata": {},
     "output_type": "display_data"
    },
    {
     "name": "stderr",
     "output_type": "stream",
     "text": [
      "52.0:   6%|███▉                                                                   | 556/10000 [00:02<00:41, 227.87it/s]"
     ]
    },
    {
     "data": {
      "text/plain": [
       "[None]"
      ]
     },
     "metadata": {},
     "output_type": "display_data"
    },
    {
     "name": "stderr",
     "output_type": "stream",
     "text": [
      "63.0:   6%|███▉                                                                   | 556/10000 [00:02<00:41, 227.87it/s]"
     ]
    },
    {
     "data": {
      "text/plain": [
       "[None]"
      ]
     },
     "metadata": {},
     "output_type": "display_data"
    },
    {
     "name": "stderr",
     "output_type": "stream",
     "text": [
      "57.0:   6%|███▉                                                                   | 556/10000 [00:02<00:41, 227.87it/s]"
     ]
    },
    {
     "data": {
      "text/plain": [
       "[None]"
      ]
     },
     "metadata": {},
     "output_type": "display_data"
    },
    {
     "name": "stderr",
     "output_type": "stream",
     "text": [
      "55.0:   6%|███▉                                                                   | 556/10000 [00:02<00:41, 227.87it/s]"
     ]
    },
    {
     "data": {
      "text/plain": [
       "[None]"
      ]
     },
     "metadata": {},
     "output_type": "display_data"
    },
    {
     "name": "stderr",
     "output_type": "stream",
     "text": [
      "53.0:   6%|███▉                                                                   | 556/10000 [00:02<00:41, 227.87it/s]"
     ]
    },
    {
     "data": {
      "text/plain": [
       "[None]"
      ]
     },
     "metadata": {},
     "output_type": "display_data"
    },
    {
     "name": "stderr",
     "output_type": "stream",
     "text": [
      "63.0:   6%|███▉                                                                   | 556/10000 [00:02<00:41, 227.87it/s]"
     ]
    },
    {
     "data": {
      "text/plain": [
       "[None]"
      ]
     },
     "metadata": {},
     "output_type": "display_data"
    },
    {
     "name": "stderr",
     "output_type": "stream",
     "text": [
      "60.0:   6%|███▉                                                                   | 556/10000 [00:02<00:41, 227.87it/s]"
     ]
    },
    {
     "data": {
      "text/plain": [
       "[None]"
      ]
     },
     "metadata": {},
     "output_type": "display_data"
    },
    {
     "name": "stderr",
     "output_type": "stream",
     "text": [
      "62.0:   6%|████                                                                   | 580/10000 [00:02<00:40, 230.32it/s]"
     ]
    },
    {
     "data": {
      "text/plain": [
       "[None]"
      ]
     },
     "metadata": {},
     "output_type": "display_data"
    },
    {
     "name": "stderr",
     "output_type": "stream",
     "text": [
      "56.0:   6%|████                                                                   | 580/10000 [00:02<00:40, 230.32it/s]"
     ]
    },
    {
     "data": {
      "text/plain": [
       "[None]"
      ]
     },
     "metadata": {},
     "output_type": "display_data"
    },
    {
     "name": "stderr",
     "output_type": "stream",
     "text": [
      "64.0:   6%|████                                                                   | 580/10000 [00:02<00:40, 230.32it/s]"
     ]
    },
    {
     "data": {
      "text/plain": [
       "[None]"
      ]
     },
     "metadata": {},
     "output_type": "display_data"
    },
    {
     "name": "stderr",
     "output_type": "stream",
     "text": [
      "61.0:   6%|████                                                                   | 580/10000 [00:02<00:40, 230.32it/s]"
     ]
    },
    {
     "data": {
      "text/plain": [
       "[None]"
      ]
     },
     "metadata": {},
     "output_type": "display_data"
    },
    {
     "name": "stderr",
     "output_type": "stream",
     "text": [
      "63.0:   6%|████                                                                   | 580/10000 [00:02<00:40, 230.32it/s]"
     ]
    },
    {
     "data": {
      "text/plain": [
       "[None]"
      ]
     },
     "metadata": {},
     "output_type": "display_data"
    },
    {
     "name": "stderr",
     "output_type": "stream",
     "text": [
      "52.0:   6%|████                                                                   | 580/10000 [00:02<00:40, 230.32it/s]"
     ]
    },
    {
     "data": {
      "text/plain": [
       "[None]"
      ]
     },
     "metadata": {},
     "output_type": "display_data"
    },
    {
     "name": "stderr",
     "output_type": "stream",
     "text": [
      "58.0:   6%|████                                                                   | 580/10000 [00:02<00:40, 230.32it/s]"
     ]
    },
    {
     "data": {
      "text/plain": [
       "[None]"
      ]
     },
     "metadata": {},
     "output_type": "display_data"
    },
    {
     "name": "stderr",
     "output_type": "stream",
     "text": [
      "63.0:   6%|████                                                                   | 580/10000 [00:02<00:40, 230.32it/s]"
     ]
    },
    {
     "data": {
      "text/plain": [
       "[None]"
      ]
     },
     "metadata": {},
     "output_type": "display_data"
    },
    {
     "name": "stderr",
     "output_type": "stream",
     "text": [
      "59.0:   6%|████                                                                   | 580/10000 [00:02<00:40, 230.32it/s]"
     ]
    },
    {
     "data": {
      "text/plain": [
       "[None]"
      ]
     },
     "metadata": {},
     "output_type": "display_data"
    },
    {
     "name": "stderr",
     "output_type": "stream",
     "text": [
      "60.0:   6%|████                                                                   | 580/10000 [00:02<00:40, 230.32it/s]"
     ]
    },
    {
     "data": {
      "text/plain": [
       "[None]"
      ]
     },
     "metadata": {},
     "output_type": "display_data"
    },
    {
     "name": "stderr",
     "output_type": "stream",
     "text": [
      "65.0:   6%|████                                                                   | 580/10000 [00:02<00:40, 230.32it/s]"
     ]
    },
    {
     "data": {
      "text/plain": [
       "[None]"
      ]
     },
     "metadata": {},
     "output_type": "display_data"
    },
    {
     "name": "stderr",
     "output_type": "stream",
     "text": [
      "61.0:   6%|████                                                                   | 580/10000 [00:02<00:40, 230.32it/s]"
     ]
    },
    {
     "data": {
      "text/plain": [
       "[None]"
      ]
     },
     "metadata": {},
     "output_type": "display_data"
    },
    {
     "name": "stderr",
     "output_type": "stream",
     "text": [
      "61.0:   6%|████                                                                   | 580/10000 [00:02<00:40, 230.32it/s]"
     ]
    },
    {
     "data": {
      "text/plain": [
       "[None]"
      ]
     },
     "metadata": {},
     "output_type": "display_data"
    },
    {
     "name": "stderr",
     "output_type": "stream",
     "text": [
      "60.0:   6%|████                                                                   | 580/10000 [00:02<00:40, 230.32it/s]"
     ]
    },
    {
     "data": {
      "text/plain": [
       "[None]"
      ]
     },
     "metadata": {},
     "output_type": "display_data"
    },
    {
     "name": "stderr",
     "output_type": "stream",
     "text": [
      "62.0:   6%|████                                                                   | 580/10000 [00:02<00:40, 230.32it/s]"
     ]
    },
    {
     "data": {
      "text/plain": [
       "[None]"
      ]
     },
     "metadata": {},
     "output_type": "display_data"
    },
    {
     "name": "stderr",
     "output_type": "stream",
     "text": [
      "57.0:   6%|████                                                                   | 580/10000 [00:02<00:40, 230.32it/s]"
     ]
    },
    {
     "data": {
      "text/plain": [
       "[None]"
      ]
     },
     "metadata": {},
     "output_type": "display_data"
    },
    {
     "name": "stderr",
     "output_type": "stream",
     "text": [
      "63.0:   6%|████                                                                   | 580/10000 [00:02<00:40, 230.32it/s]"
     ]
    },
    {
     "data": {
      "text/plain": [
       "[None]"
      ]
     },
     "metadata": {},
     "output_type": "display_data"
    },
    {
     "name": "stderr",
     "output_type": "stream",
     "text": [
      "59.0:   6%|████                                                                   | 580/10000 [00:02<00:40, 230.32it/s]"
     ]
    },
    {
     "data": {
      "text/plain": [
       "[None]"
      ]
     },
     "metadata": {},
     "output_type": "display_data"
    },
    {
     "name": "stderr",
     "output_type": "stream",
     "text": [
      "64.0:   6%|████                                                                   | 580/10000 [00:02<00:40, 230.32it/s]"
     ]
    },
    {
     "data": {
      "text/plain": [
       "[None]"
      ]
     },
     "metadata": {},
     "output_type": "display_data"
    },
    {
     "name": "stderr",
     "output_type": "stream",
     "text": [
      "61.0:   6%|████                                                                   | 580/10000 [00:02<00:40, 230.32it/s]"
     ]
    },
    {
     "data": {
      "text/plain": [
       "[None]"
      ]
     },
     "metadata": {},
     "output_type": "display_data"
    },
    {
     "name": "stderr",
     "output_type": "stream",
     "text": [
      "60.0:   6%|████                                                                   | 580/10000 [00:02<00:40, 230.32it/s]"
     ]
    },
    {
     "data": {
      "text/plain": [
       "[None]"
      ]
     },
     "metadata": {},
     "output_type": "display_data"
    },
    {
     "name": "stderr",
     "output_type": "stream",
     "text": [
      "65.0:   6%|████                                                                   | 580/10000 [00:02<00:40, 230.32it/s]"
     ]
    },
    {
     "data": {
      "text/plain": [
       "[None]"
      ]
     },
     "metadata": {},
     "output_type": "display_data"
    },
    {
     "name": "stderr",
     "output_type": "stream",
     "text": [
      "64.0:   6%|████                                                                   | 580/10000 [00:02<00:40, 230.32it/s]"
     ]
    },
    {
     "data": {
      "text/plain": [
       "[None]"
      ]
     },
     "metadata": {},
     "output_type": "display_data"
    },
    {
     "name": "stderr",
     "output_type": "stream",
     "text": [
      "59.0:   6%|████                                                                   | 580/10000 [00:02<00:40, 230.32it/s]"
     ]
    },
    {
     "data": {
      "text/plain": [
       "[None]"
      ]
     },
     "metadata": {},
     "output_type": "display_data"
    },
    {
     "name": "stderr",
     "output_type": "stream",
     "text": [
      "66.0:   6%|████▎                                                                  | 604/10000 [00:02<00:40, 229.39it/s]"
     ]
    },
    {
     "data": {
      "text/plain": [
       "[None]"
      ]
     },
     "metadata": {},
     "output_type": "display_data"
    },
    {
     "name": "stderr",
     "output_type": "stream",
     "text": [
      "63.0:   6%|████▎                                                                  | 604/10000 [00:02<00:40, 229.39it/s]"
     ]
    },
    {
     "data": {
      "text/plain": [
       "[None]"
      ]
     },
     "metadata": {},
     "output_type": "display_data"
    },
    {
     "name": "stderr",
     "output_type": "stream",
     "text": [
      "58.0:   6%|████▎                                                                  | 604/10000 [00:02<00:40, 229.39it/s]"
     ]
    },
    {
     "data": {
      "text/plain": [
       "[None]"
      ]
     },
     "metadata": {},
     "output_type": "display_data"
    },
    {
     "name": "stderr",
     "output_type": "stream",
     "text": [
      "58.0:   6%|████▎                                                                  | 604/10000 [00:02<00:40, 229.39it/s]"
     ]
    },
    {
     "data": {
      "text/plain": [
       "[None]"
      ]
     },
     "metadata": {},
     "output_type": "display_data"
    },
    {
     "name": "stderr",
     "output_type": "stream",
     "text": [
      "61.0:   6%|████▎                                                                  | 604/10000 [00:02<00:40, 229.39it/s]"
     ]
    },
    {
     "data": {
      "text/plain": [
       "[None]"
      ]
     },
     "metadata": {},
     "output_type": "display_data"
    },
    {
     "name": "stderr",
     "output_type": "stream",
     "text": [
      "63.0:   6%|████▎                                                                  | 604/10000 [00:02<00:40, 229.39it/s]"
     ]
    },
    {
     "data": {
      "text/plain": [
       "[None]"
      ]
     },
     "metadata": {},
     "output_type": "display_data"
    },
    {
     "name": "stderr",
     "output_type": "stream",
     "text": [
      "63.0:   6%|████▎                                                                  | 604/10000 [00:02<00:40, 229.39it/s]"
     ]
    },
    {
     "data": {
      "text/plain": [
       "[None]"
      ]
     },
     "metadata": {},
     "output_type": "display_data"
    },
    {
     "name": "stderr",
     "output_type": "stream",
     "text": [
      "66.0:   6%|████▎                                                                  | 604/10000 [00:02<00:40, 229.39it/s]"
     ]
    },
    {
     "data": {
      "text/plain": [
       "[None]"
      ]
     },
     "metadata": {},
     "output_type": "display_data"
    },
    {
     "name": "stderr",
     "output_type": "stream",
     "text": [
      "64.0:   6%|████▎                                                                  | 604/10000 [00:02<00:40, 229.39it/s]"
     ]
    },
    {
     "data": {
      "text/plain": [
       "[None]"
      ]
     },
     "metadata": {},
     "output_type": "display_data"
    },
    {
     "name": "stderr",
     "output_type": "stream",
     "text": [
      "55.0:   6%|████▎                                                                  | 604/10000 [00:02<00:40, 229.39it/s]"
     ]
    },
    {
     "data": {
      "text/plain": [
       "[None]"
      ]
     },
     "metadata": {},
     "output_type": "display_data"
    },
    {
     "name": "stderr",
     "output_type": "stream",
     "text": [
      "68.0:   6%|████▎                                                                  | 604/10000 [00:02<00:40, 229.39it/s]"
     ]
    },
    {
     "data": {
      "text/plain": [
       "[None]"
      ]
     },
     "metadata": {},
     "output_type": "display_data"
    },
    {
     "name": "stderr",
     "output_type": "stream",
     "text": [
      "63.0:   6%|████▎                                                                  | 604/10000 [00:02<00:40, 229.39it/s]"
     ]
    },
    {
     "data": {
      "text/plain": [
       "[None]"
      ]
     },
     "metadata": {},
     "output_type": "display_data"
    },
    {
     "name": "stderr",
     "output_type": "stream",
     "text": [
      "60.0:   6%|████▎                                                                  | 604/10000 [00:02<00:40, 229.39it/s]"
     ]
    },
    {
     "data": {
      "text/plain": [
       "[None]"
      ]
     },
     "metadata": {},
     "output_type": "display_data"
    },
    {
     "name": "stderr",
     "output_type": "stream",
     "text": [
      "61.0:   6%|████▎                                                                  | 604/10000 [00:02<00:40, 229.39it/s]"
     ]
    },
    {
     "data": {
      "text/plain": [
       "[None]"
      ]
     },
     "metadata": {},
     "output_type": "display_data"
    },
    {
     "name": "stderr",
     "output_type": "stream",
     "text": [
      "66.0:   6%|████▎                                                                  | 604/10000 [00:02<00:40, 229.39it/s]"
     ]
    },
    {
     "data": {
      "text/plain": [
       "[None]"
      ]
     },
     "metadata": {},
     "output_type": "display_data"
    },
    {
     "name": "stderr",
     "output_type": "stream",
     "text": [
      "61.0:   6%|████▎                                                                  | 604/10000 [00:02<00:40, 229.39it/s]"
     ]
    },
    {
     "data": {
      "text/plain": [
       "[None]"
      ]
     },
     "metadata": {},
     "output_type": "display_data"
    },
    {
     "name": "stderr",
     "output_type": "stream",
     "text": [
      "63.0:   6%|████▎                                                                  | 604/10000 [00:02<00:40, 229.39it/s]"
     ]
    },
    {
     "data": {
      "text/plain": [
       "[None]"
      ]
     },
     "metadata": {},
     "output_type": "display_data"
    },
    {
     "name": "stderr",
     "output_type": "stream",
     "text": [
      "61.0:   6%|████▎                                                                  | 604/10000 [00:02<00:40, 229.39it/s]"
     ]
    },
    {
     "data": {
      "text/plain": [
       "[None]"
      ]
     },
     "metadata": {},
     "output_type": "display_data"
    },
    {
     "name": "stderr",
     "output_type": "stream",
     "text": [
      "69.0:   6%|████▎                                                                  | 604/10000 [00:02<00:40, 229.39it/s]"
     ]
    },
    {
     "data": {
      "text/plain": [
       "[None]"
      ]
     },
     "metadata": {},
     "output_type": "display_data"
    },
    {
     "name": "stderr",
     "output_type": "stream",
     "text": [
      "59.0:   6%|████▎                                                                  | 604/10000 [00:02<00:40, 229.39it/s]"
     ]
    },
    {
     "data": {
      "text/plain": [
       "[None]"
      ]
     },
     "metadata": {},
     "output_type": "display_data"
    },
    {
     "name": "stderr",
     "output_type": "stream",
     "text": [
      "64.0:   6%|████▎                                                                  | 604/10000 [00:02<00:40, 229.39it/s]"
     ]
    },
    {
     "data": {
      "text/plain": [
       "[None]"
      ]
     },
     "metadata": {},
     "output_type": "display_data"
    },
    {
     "name": "stderr",
     "output_type": "stream",
     "text": [
      "54.0:   6%|████▎                                                                  | 604/10000 [00:02<00:40, 229.39it/s]"
     ]
    },
    {
     "data": {
      "text/plain": [
       "[None]"
      ]
     },
     "metadata": {},
     "output_type": "display_data"
    },
    {
     "name": "stderr",
     "output_type": "stream",
     "text": [
      "66.0:   6%|████▎                                                                  | 604/10000 [00:02<00:40, 229.39it/s]"
     ]
    },
    {
     "data": {
      "text/plain": [
       "[None]"
      ]
     },
     "metadata": {},
     "output_type": "display_data"
    },
    {
     "name": "stderr",
     "output_type": "stream",
     "text": [
      "67.0:   6%|████▎                                                                  | 604/10000 [00:02<00:40, 229.39it/s]"
     ]
    },
    {
     "data": {
      "text/plain": [
       "[None]"
      ]
     },
     "metadata": {},
     "output_type": "display_data"
    },
    {
     "name": "stderr",
     "output_type": "stream",
     "text": [
      "65.0:   6%|████▎                                                                  | 604/10000 [00:02<00:40, 229.39it/s]"
     ]
    },
    {
     "data": {
      "text/plain": [
       "[None]"
      ]
     },
     "metadata": {},
     "output_type": "display_data"
    },
    {
     "name": "stderr",
     "output_type": "stream",
     "text": [
      "61.0:   6%|████▍                                                                  | 629/10000 [00:02<00:40, 232.65it/s]"
     ]
    },
    {
     "data": {
      "text/plain": [
       "[None]"
      ]
     },
     "metadata": {},
     "output_type": "display_data"
    },
    {
     "name": "stderr",
     "output_type": "stream",
     "text": [
      "61.0:   6%|████▍                                                                  | 629/10000 [00:02<00:40, 232.65it/s]"
     ]
    },
    {
     "data": {
      "text/plain": [
       "[None]"
      ]
     },
     "metadata": {},
     "output_type": "display_data"
    },
    {
     "name": "stderr",
     "output_type": "stream",
     "text": [
      "67.0:   6%|████▍                                                                  | 629/10000 [00:02<00:40, 232.65it/s]"
     ]
    },
    {
     "data": {
      "text/plain": [
       "[None]"
      ]
     },
     "metadata": {},
     "output_type": "display_data"
    },
    {
     "name": "stderr",
     "output_type": "stream",
     "text": [
      "69.0:   6%|████▍                                                                  | 629/10000 [00:02<00:40, 232.65it/s]"
     ]
    },
    {
     "data": {
      "text/plain": [
       "[None]"
      ]
     },
     "metadata": {},
     "output_type": "display_data"
    },
    {
     "name": "stderr",
     "output_type": "stream",
     "text": [
      "48.0:   6%|████▍                                                                  | 629/10000 [00:02<00:40, 232.65it/s]"
     ]
    },
    {
     "data": {
      "text/plain": [
       "[None]"
      ]
     },
     "metadata": {},
     "output_type": "display_data"
    },
    {
     "name": "stderr",
     "output_type": "stream",
     "text": [
      "64.0:   6%|████▍                                                                  | 629/10000 [00:02<00:40, 232.65it/s]"
     ]
    },
    {
     "data": {
      "text/plain": [
       "[None]"
      ]
     },
     "metadata": {},
     "output_type": "display_data"
    },
    {
     "name": "stderr",
     "output_type": "stream",
     "text": [
      "63.0:   6%|████▍                                                                  | 629/10000 [00:02<00:40, 232.65it/s]"
     ]
    },
    {
     "data": {
      "text/plain": [
       "[None]"
      ]
     },
     "metadata": {},
     "output_type": "display_data"
    },
    {
     "name": "stderr",
     "output_type": "stream",
     "text": [
      "56.0:   6%|████▍                                                                  | 629/10000 [00:02<00:40, 232.65it/s]"
     ]
    },
    {
     "data": {
      "text/plain": [
       "[None]"
      ]
     },
     "metadata": {},
     "output_type": "display_data"
    },
    {
     "name": "stderr",
     "output_type": "stream",
     "text": [
      "61.0:   6%|████▍                                                                  | 629/10000 [00:02<00:40, 232.65it/s]"
     ]
    },
    {
     "data": {
      "text/plain": [
       "[None]"
      ]
     },
     "metadata": {},
     "output_type": "display_data"
    },
    {
     "name": "stderr",
     "output_type": "stream",
     "text": [
      "59.0:   6%|████▍                                                                  | 629/10000 [00:02<00:40, 232.65it/s]"
     ]
    },
    {
     "data": {
      "text/plain": [
       "[None]"
      ]
     },
     "metadata": {},
     "output_type": "display_data"
    },
    {
     "name": "stderr",
     "output_type": "stream",
     "text": [
      "63.0:   6%|████▍                                                                  | 629/10000 [00:02<00:40, 232.65it/s]"
     ]
    },
    {
     "data": {
      "text/plain": [
       "[None]"
      ]
     },
     "metadata": {},
     "output_type": "display_data"
    },
    {
     "name": "stderr",
     "output_type": "stream",
     "text": [
      "61.0:   6%|████▍                                                                  | 629/10000 [00:02<00:40, 232.65it/s]"
     ]
    },
    {
     "data": {
      "text/plain": [
       "[None]"
      ]
     },
     "metadata": {},
     "output_type": "display_data"
    },
    {
     "name": "stderr",
     "output_type": "stream",
     "text": [
      "57.0:   6%|████▍                                                                  | 629/10000 [00:02<00:40, 232.65it/s]"
     ]
    },
    {
     "data": {
      "text/plain": [
       "[None]"
      ]
     },
     "metadata": {},
     "output_type": "display_data"
    },
    {
     "name": "stderr",
     "output_type": "stream",
     "text": [
      "61.0:   6%|████▍                                                                  | 629/10000 [00:02<00:40, 232.65it/s]"
     ]
    },
    {
     "data": {
      "text/plain": [
       "[None]"
      ]
     },
     "metadata": {},
     "output_type": "display_data"
    },
    {
     "name": "stderr",
     "output_type": "stream",
     "text": [
      "65.0:   6%|████▍                                                                  | 629/10000 [00:02<00:40, 232.65it/s]"
     ]
    },
    {
     "data": {
      "text/plain": [
       "[None]"
      ]
     },
     "metadata": {},
     "output_type": "display_data"
    },
    {
     "name": "stderr",
     "output_type": "stream",
     "text": [
      "58.0:   6%|████▍                                                                  | 629/10000 [00:02<00:40, 232.65it/s]"
     ]
    },
    {
     "data": {
      "text/plain": [
       "[None]"
      ]
     },
     "metadata": {},
     "output_type": "display_data"
    },
    {
     "name": "stderr",
     "output_type": "stream",
     "text": [
      "62.0:   6%|████▍                                                                  | 629/10000 [00:02<00:40, 232.65it/s]"
     ]
    },
    {
     "data": {
      "text/plain": [
       "[None]"
      ]
     },
     "metadata": {},
     "output_type": "display_data"
    },
    {
     "name": "stderr",
     "output_type": "stream",
     "text": [
      "64.0:   6%|████▍                                                                  | 629/10000 [00:02<00:40, 232.65it/s]"
     ]
    },
    {
     "data": {
      "text/plain": [
       "[None]"
      ]
     },
     "metadata": {},
     "output_type": "display_data"
    },
    {
     "name": "stderr",
     "output_type": "stream",
     "text": [
      "54.0:   6%|████▍                                                                  | 629/10000 [00:02<00:40, 232.65it/s]"
     ]
    },
    {
     "data": {
      "text/plain": [
       "[None]"
      ]
     },
     "metadata": {},
     "output_type": "display_data"
    },
    {
     "name": "stderr",
     "output_type": "stream",
     "text": [
      "59.0:   6%|████▍                                                                  | 629/10000 [00:02<00:40, 232.65it/s]"
     ]
    },
    {
     "data": {
      "text/plain": [
       "[None]"
      ]
     },
     "metadata": {},
     "output_type": "display_data"
    },
    {
     "name": "stderr",
     "output_type": "stream",
     "text": [
      "59.0:   6%|████▍                                                                  | 629/10000 [00:02<00:40, 232.65it/s]"
     ]
    },
    {
     "data": {
      "text/plain": [
       "[None]"
      ]
     },
     "metadata": {},
     "output_type": "display_data"
    },
    {
     "name": "stderr",
     "output_type": "stream",
     "text": [
      "55.0:   6%|████▍                                                                  | 629/10000 [00:02<00:40, 232.65it/s]"
     ]
    },
    {
     "data": {
      "text/plain": [
       "[None]"
      ]
     },
     "metadata": {},
     "output_type": "display_data"
    },
    {
     "name": "stderr",
     "output_type": "stream",
     "text": [
      "65.0:   6%|████▍                                                                  | 629/10000 [00:02<00:40, 232.65it/s]"
     ]
    },
    {
     "data": {
      "text/plain": [
       "[None]"
      ]
     },
     "metadata": {},
     "output_type": "display_data"
    },
    {
     "name": "stderr",
     "output_type": "stream",
     "text": [
      "59.0:   6%|████▍                                                                  | 629/10000 [00:02<00:40, 232.65it/s]"
     ]
    },
    {
     "data": {
      "text/plain": [
       "[None]"
      ]
     },
     "metadata": {},
     "output_type": "display_data"
    },
    {
     "name": "stderr",
     "output_type": "stream",
     "text": [
      "65.0:   6%|████▍                                                                  | 629/10000 [00:02<00:40, 232.65it/s]"
     ]
    },
    {
     "data": {
      "text/plain": [
       "[None]"
      ]
     },
     "metadata": {},
     "output_type": "display_data"
    },
    {
     "name": "stderr",
     "output_type": "stream",
     "text": [
      "67.0:   7%|████▋                                                                  | 654/10000 [00:02<00:39, 234.12it/s]"
     ]
    },
    {
     "data": {
      "text/plain": [
       "[None]"
      ]
     },
     "metadata": {},
     "output_type": "display_data"
    },
    {
     "name": "stderr",
     "output_type": "stream",
     "text": [
      "66.0:   7%|████▋                                                                  | 654/10000 [00:02<00:39, 234.12it/s]"
     ]
    },
    {
     "data": {
      "text/plain": [
       "[None]"
      ]
     },
     "metadata": {},
     "output_type": "display_data"
    },
    {
     "name": "stderr",
     "output_type": "stream",
     "text": [
      "66.0:   7%|████▋                                                                  | 654/10000 [00:02<00:39, 234.12it/s]"
     ]
    },
    {
     "data": {
      "text/plain": [
       "[None]"
      ]
     },
     "metadata": {},
     "output_type": "display_data"
    },
    {
     "name": "stderr",
     "output_type": "stream",
     "text": [
      "65.0:   7%|████▋                                                                  | 654/10000 [00:02<00:39, 234.12it/s]"
     ]
    },
    {
     "data": {
      "text/plain": [
       "[None]"
      ]
     },
     "metadata": {},
     "output_type": "display_data"
    },
    {
     "name": "stderr",
     "output_type": "stream",
     "text": [
      "64.0:   7%|████▋                                                                  | 654/10000 [00:02<00:39, 234.12it/s]"
     ]
    },
    {
     "data": {
      "text/plain": [
       "[None]"
      ]
     },
     "metadata": {},
     "output_type": "display_data"
    },
    {
     "name": "stderr",
     "output_type": "stream",
     "text": [
      "59.0:   7%|████▋                                                                  | 654/10000 [00:02<00:39, 234.12it/s]"
     ]
    },
    {
     "data": {
      "text/plain": [
       "[None]"
      ]
     },
     "metadata": {},
     "output_type": "display_data"
    },
    {
     "name": "stderr",
     "output_type": "stream",
     "text": [
      "66.0:   7%|████▋                                                                  | 654/10000 [00:02<00:39, 234.12it/s]"
     ]
    },
    {
     "data": {
      "text/plain": [
       "[None]"
      ]
     },
     "metadata": {},
     "output_type": "display_data"
    },
    {
     "name": "stderr",
     "output_type": "stream",
     "text": [
      "60.0:   7%|████▋                                                                  | 654/10000 [00:02<00:39, 234.12it/s]"
     ]
    },
    {
     "data": {
      "text/plain": [
       "[None]"
      ]
     },
     "metadata": {},
     "output_type": "display_data"
    },
    {
     "name": "stderr",
     "output_type": "stream",
     "text": [
      "65.0:   7%|████▋                                                                  | 654/10000 [00:02<00:39, 234.12it/s]"
     ]
    },
    {
     "data": {
      "text/plain": [
       "[None]"
      ]
     },
     "metadata": {},
     "output_type": "display_data"
    },
    {
     "name": "stderr",
     "output_type": "stream",
     "text": [
      "59.0:   7%|████▋                                                                  | 654/10000 [00:02<00:39, 234.12it/s]"
     ]
    },
    {
     "data": {
      "text/plain": [
       "[None]"
      ]
     },
     "metadata": {},
     "output_type": "display_data"
    },
    {
     "name": "stderr",
     "output_type": "stream",
     "text": [
      "55.0:   7%|████▋                                                                  | 654/10000 [00:02<00:39, 234.12it/s]"
     ]
    },
    {
     "data": {
      "text/plain": [
       "[None]"
      ]
     },
     "metadata": {},
     "output_type": "display_data"
    },
    {
     "name": "stderr",
     "output_type": "stream",
     "text": [
      "62.0:   7%|████▋                                                                  | 654/10000 [00:02<00:39, 234.12it/s]"
     ]
    },
    {
     "data": {
      "text/plain": [
       "[None]"
      ]
     },
     "metadata": {},
     "output_type": "display_data"
    },
    {
     "name": "stderr",
     "output_type": "stream",
     "text": [
      "65.0:   7%|████▋                                                                  | 654/10000 [00:02<00:39, 234.12it/s]"
     ]
    },
    {
     "data": {
      "text/plain": [
       "[None]"
      ]
     },
     "metadata": {},
     "output_type": "display_data"
    },
    {
     "name": "stderr",
     "output_type": "stream",
     "text": [
      "62.0:   7%|████▋                                                                  | 654/10000 [00:02<00:39, 234.12it/s]"
     ]
    },
    {
     "data": {
      "text/plain": [
       "[None]"
      ]
     },
     "metadata": {},
     "output_type": "display_data"
    },
    {
     "name": "stderr",
     "output_type": "stream",
     "text": [
      "56.0:   7%|████▋                                                                  | 654/10000 [00:02<00:39, 234.12it/s]"
     ]
    },
    {
     "data": {
      "text/plain": [
       "[None]"
      ]
     },
     "metadata": {},
     "output_type": "display_data"
    },
    {
     "name": "stderr",
     "output_type": "stream",
     "text": [
      "65.0:   7%|████▋                                                                  | 654/10000 [00:02<00:39, 234.12it/s]"
     ]
    },
    {
     "data": {
      "text/plain": [
       "[None]"
      ]
     },
     "metadata": {},
     "output_type": "display_data"
    },
    {
     "name": "stderr",
     "output_type": "stream",
     "text": [
      "68.0:   7%|████▋                                                                  | 654/10000 [00:02<00:39, 234.12it/s]"
     ]
    },
    {
     "data": {
      "text/plain": [
       "[None]"
      ]
     },
     "metadata": {},
     "output_type": "display_data"
    },
    {
     "name": "stderr",
     "output_type": "stream",
     "text": [
      "59.0:   7%|████▋                                                                  | 654/10000 [00:02<00:39, 234.12it/s]"
     ]
    },
    {
     "data": {
      "text/plain": [
       "[None]"
      ]
     },
     "metadata": {},
     "output_type": "display_data"
    },
    {
     "name": "stderr",
     "output_type": "stream",
     "text": [
      "63.0:   7%|████▋                                                                  | 654/10000 [00:02<00:39, 234.12it/s]"
     ]
    },
    {
     "data": {
      "text/plain": [
       "[None]"
      ]
     },
     "metadata": {},
     "output_type": "display_data"
    },
    {
     "name": "stderr",
     "output_type": "stream",
     "text": [
      "59.0:   7%|████▋                                                                  | 654/10000 [00:02<00:39, 234.12it/s]"
     ]
    },
    {
     "data": {
      "text/plain": [
       "[None]"
      ]
     },
     "metadata": {},
     "output_type": "display_data"
    },
    {
     "name": "stderr",
     "output_type": "stream",
     "text": [
      "65.0:   7%|████▋                                                                  | 654/10000 [00:02<00:39, 234.12it/s]"
     ]
    },
    {
     "data": {
      "text/plain": [
       "[None]"
      ]
     },
     "metadata": {},
     "output_type": "display_data"
    },
    {
     "name": "stderr",
     "output_type": "stream",
     "text": [
      "59.0:   7%|████▋                                                                  | 654/10000 [00:03<00:39, 234.12it/s]"
     ]
    },
    {
     "data": {
      "text/plain": [
       "[None]"
      ]
     },
     "metadata": {},
     "output_type": "display_data"
    },
    {
     "name": "stderr",
     "output_type": "stream",
     "text": [
      "61.0:   7%|████▋                                                                  | 654/10000 [00:03<00:39, 234.12it/s]"
     ]
    },
    {
     "data": {
      "text/plain": [
       "[None]"
      ]
     },
     "metadata": {},
     "output_type": "display_data"
    },
    {
     "name": "stderr",
     "output_type": "stream",
     "text": [
      "61.0:   7%|████▋                                                                  | 654/10000 [00:03<00:39, 234.12it/s]"
     ]
    },
    {
     "data": {
      "text/plain": [
       "[None]"
      ]
     },
     "metadata": {},
     "output_type": "display_data"
    },
    {
     "name": "stderr",
     "output_type": "stream",
     "text": [
      "64.0:   7%|████▋                                                                  | 654/10000 [00:03<00:39, 234.12it/s]"
     ]
    },
    {
     "data": {
      "text/plain": [
       "[None]"
      ]
     },
     "metadata": {},
     "output_type": "display_data"
    },
    {
     "name": "stderr",
     "output_type": "stream",
     "text": [
      "55.0:   7%|████▊                                                                  | 679/10000 [00:03<00:39, 238.04it/s]"
     ]
    },
    {
     "data": {
      "text/plain": [
       "[None]"
      ]
     },
     "metadata": {},
     "output_type": "display_data"
    },
    {
     "name": "stderr",
     "output_type": "stream",
     "text": [
      "55.0:   7%|████▊                                                                  | 679/10000 [00:03<00:39, 238.04it/s]"
     ]
    },
    {
     "data": {
      "text/plain": [
       "[None]"
      ]
     },
     "metadata": {},
     "output_type": "display_data"
    },
    {
     "name": "stderr",
     "output_type": "stream",
     "text": [
      "64.0:   7%|████▊                                                                  | 679/10000 [00:03<00:39, 238.04it/s]"
     ]
    },
    {
     "data": {
      "text/plain": [
       "[None]"
      ]
     },
     "metadata": {},
     "output_type": "display_data"
    },
    {
     "name": "stderr",
     "output_type": "stream",
     "text": [
      "63.0:   7%|████▊                                                                  | 679/10000 [00:03<00:39, 238.04it/s]"
     ]
    },
    {
     "data": {
      "text/plain": [
       "[None]"
      ]
     },
     "metadata": {},
     "output_type": "display_data"
    },
    {
     "name": "stderr",
     "output_type": "stream",
     "text": [
      "63.0:   7%|████▊                                                                  | 679/10000 [00:03<00:39, 238.04it/s]"
     ]
    },
    {
     "data": {
      "text/plain": [
       "[None]"
      ]
     },
     "metadata": {},
     "output_type": "display_data"
    },
    {
     "name": "stderr",
     "output_type": "stream",
     "text": [
      "64.0:   7%|████▊                                                                  | 679/10000 [00:03<00:39, 238.04it/s]"
     ]
    },
    {
     "data": {
      "text/plain": [
       "[None]"
      ]
     },
     "metadata": {},
     "output_type": "display_data"
    },
    {
     "name": "stderr",
     "output_type": "stream",
     "text": [
      "58.0:   7%|████▊                                                                  | 679/10000 [00:03<00:39, 238.04it/s]"
     ]
    },
    {
     "data": {
      "text/plain": [
       "[None]"
      ]
     },
     "metadata": {},
     "output_type": "display_data"
    },
    {
     "name": "stderr",
     "output_type": "stream",
     "text": [
      "63.0:   7%|████▊                                                                  | 679/10000 [00:03<00:39, 238.04it/s]"
     ]
    },
    {
     "data": {
      "text/plain": [
       "[None]"
      ]
     },
     "metadata": {},
     "output_type": "display_data"
    },
    {
     "name": "stderr",
     "output_type": "stream",
     "text": [
      "61.0:   7%|████▊                                                                  | 679/10000 [00:03<00:39, 238.04it/s]"
     ]
    },
    {
     "data": {
      "text/plain": [
       "[None]"
      ]
     },
     "metadata": {},
     "output_type": "display_data"
    },
    {
     "name": "stderr",
     "output_type": "stream",
     "text": [
      "57.0:   7%|████▊                                                                  | 679/10000 [00:03<00:39, 238.04it/s]"
     ]
    },
    {
     "data": {
      "text/plain": [
       "[None]"
      ]
     },
     "metadata": {},
     "output_type": "display_data"
    },
    {
     "name": "stderr",
     "output_type": "stream",
     "text": [
      "62.0:   7%|████▊                                                                  | 679/10000 [00:03<00:39, 238.04it/s]"
     ]
    },
    {
     "data": {
      "text/plain": [
       "[None]"
      ]
     },
     "metadata": {},
     "output_type": "display_data"
    },
    {
     "name": "stderr",
     "output_type": "stream",
     "text": [
      "61.0:   7%|████▊                                                                  | 679/10000 [00:03<00:39, 238.04it/s]"
     ]
    },
    {
     "data": {
      "text/plain": [
       "[None]"
      ]
     },
     "metadata": {},
     "output_type": "display_data"
    },
    {
     "name": "stderr",
     "output_type": "stream",
     "text": [
      "66.0:   7%|████▊                                                                  | 679/10000 [00:03<00:39, 238.04it/s]"
     ]
    },
    {
     "data": {
      "text/plain": [
       "[None]"
      ]
     },
     "metadata": {},
     "output_type": "display_data"
    },
    {
     "name": "stderr",
     "output_type": "stream",
     "text": [
      "61.0:   7%|████▊                                                                  | 679/10000 [00:03<00:39, 238.04it/s]"
     ]
    },
    {
     "data": {
      "text/plain": [
       "[None]"
      ]
     },
     "metadata": {},
     "output_type": "display_data"
    },
    {
     "name": "stderr",
     "output_type": "stream",
     "text": [
      "62.0:   7%|████▊                                                                  | 679/10000 [00:03<00:39, 238.04it/s]"
     ]
    },
    {
     "data": {
      "text/plain": [
       "[None]"
      ]
     },
     "metadata": {},
     "output_type": "display_data"
    },
    {
     "name": "stderr",
     "output_type": "stream",
     "text": [
      "58.0:   7%|████▊                                                                  | 679/10000 [00:03<00:39, 238.04it/s]"
     ]
    },
    {
     "data": {
      "text/plain": [
       "[None]"
      ]
     },
     "metadata": {},
     "output_type": "display_data"
    },
    {
     "name": "stderr",
     "output_type": "stream",
     "text": [
      "56.0:   7%|████▊                                                                  | 679/10000 [00:03<00:39, 238.04it/s]"
     ]
    },
    {
     "data": {
      "text/plain": [
       "[None]"
      ]
     },
     "metadata": {},
     "output_type": "display_data"
    },
    {
     "name": "stderr",
     "output_type": "stream",
     "text": [
      "60.0:   7%|████▊                                                                  | 679/10000 [00:03<00:39, 238.04it/s]"
     ]
    },
    {
     "data": {
      "text/plain": [
       "[None]"
      ]
     },
     "metadata": {},
     "output_type": "display_data"
    },
    {
     "name": "stderr",
     "output_type": "stream",
     "text": [
      "60.0:   7%|████▊                                                                  | 679/10000 [00:03<00:39, 238.04it/s]"
     ]
    },
    {
     "data": {
      "text/plain": [
       "[None]"
      ]
     },
     "metadata": {},
     "output_type": "display_data"
    },
    {
     "name": "stderr",
     "output_type": "stream",
     "text": [
      "65.0:   7%|████▊                                                                  | 679/10000 [00:03<00:39, 238.04it/s]"
     ]
    },
    {
     "data": {
      "text/plain": [
       "[None]"
      ]
     },
     "metadata": {},
     "output_type": "display_data"
    },
    {
     "name": "stderr",
     "output_type": "stream",
     "text": [
      "63.0:   7%|████▊                                                                  | 679/10000 [00:03<00:39, 238.04it/s]"
     ]
    },
    {
     "data": {
      "text/plain": [
       "[None]"
      ]
     },
     "metadata": {},
     "output_type": "display_data"
    },
    {
     "name": "stderr",
     "output_type": "stream",
     "text": [
      "62.0:   7%|████▊                                                                  | 679/10000 [00:03<00:39, 238.04it/s]"
     ]
    },
    {
     "data": {
      "text/plain": [
       "[None]"
      ]
     },
     "metadata": {},
     "output_type": "display_data"
    },
    {
     "name": "stderr",
     "output_type": "stream",
     "text": [
      "57.0:   7%|████▊                                                                  | 679/10000 [00:03<00:39, 238.04it/s]"
     ]
    },
    {
     "data": {
      "text/plain": [
       "[None]"
      ]
     },
     "metadata": {},
     "output_type": "display_data"
    },
    {
     "name": "stderr",
     "output_type": "stream",
     "text": [
      "62.0:   7%|████▊                                                                  | 679/10000 [00:03<00:39, 238.04it/s]"
     ]
    },
    {
     "data": {
      "text/plain": [
       "[None]"
      ]
     },
     "metadata": {},
     "output_type": "display_data"
    },
    {
     "name": "stderr",
     "output_type": "stream",
     "text": [
      "63.0:   7%|████▊                                                                  | 679/10000 [00:03<00:39, 238.04it/s]"
     ]
    },
    {
     "data": {
      "text/plain": [
       "[None]"
      ]
     },
     "metadata": {},
     "output_type": "display_data"
    },
    {
     "name": "stderr",
     "output_type": "stream",
     "text": [
      "61.0:   7%|████▉                                                                  | 704/10000 [00:03<00:38, 238.71it/s]"
     ]
    },
    {
     "data": {
      "text/plain": [
       "[None]"
      ]
     },
     "metadata": {},
     "output_type": "display_data"
    },
    {
     "name": "stderr",
     "output_type": "stream",
     "text": [
      "66.0:   7%|████▉                                                                  | 704/10000 [00:03<00:38, 238.71it/s]"
     ]
    },
    {
     "data": {
      "text/plain": [
       "[None]"
      ]
     },
     "metadata": {},
     "output_type": "display_data"
    },
    {
     "name": "stderr",
     "output_type": "stream",
     "text": [
      "57.0:   7%|████▉                                                                  | 704/10000 [00:03<00:38, 238.71it/s]"
     ]
    },
    {
     "data": {
      "text/plain": [
       "[None]"
      ]
     },
     "metadata": {},
     "output_type": "display_data"
    },
    {
     "name": "stderr",
     "output_type": "stream",
     "text": [
      "61.0:   7%|████▉                                                                  | 704/10000 [00:03<00:38, 238.71it/s]"
     ]
    },
    {
     "data": {
      "text/plain": [
       "[None]"
      ]
     },
     "metadata": {},
     "output_type": "display_data"
    },
    {
     "name": "stderr",
     "output_type": "stream",
     "text": [
      "70.0:   7%|████▉                                                                  | 704/10000 [00:03<00:38, 238.71it/s]"
     ]
    },
    {
     "data": {
      "text/plain": [
       "[None]"
      ]
     },
     "metadata": {},
     "output_type": "display_data"
    },
    {
     "name": "stderr",
     "output_type": "stream",
     "text": [
      "64.0:   7%|████▉                                                                  | 704/10000 [00:03<00:38, 238.71it/s]"
     ]
    },
    {
     "data": {
      "text/plain": [
       "[None]"
      ]
     },
     "metadata": {},
     "output_type": "display_data"
    },
    {
     "name": "stderr",
     "output_type": "stream",
     "text": [
      "66.0:   7%|████▉                                                                  | 704/10000 [00:03<00:38, 238.71it/s]"
     ]
    },
    {
     "data": {
      "text/plain": [
       "[None]"
      ]
     },
     "metadata": {},
     "output_type": "display_data"
    },
    {
     "name": "stderr",
     "output_type": "stream",
     "text": [
      "63.0:   7%|████▉                                                                  | 704/10000 [00:03<00:38, 238.71it/s]"
     ]
    },
    {
     "data": {
      "text/plain": [
       "[None]"
      ]
     },
     "metadata": {},
     "output_type": "display_data"
    },
    {
     "name": "stderr",
     "output_type": "stream",
     "text": [
      "59.0:   7%|████▉                                                                  | 704/10000 [00:03<00:38, 238.71it/s]"
     ]
    },
    {
     "data": {
      "text/plain": [
       "[None]"
      ]
     },
     "metadata": {},
     "output_type": "display_data"
    },
    {
     "name": "stderr",
     "output_type": "stream",
     "text": [
      "70.0:   7%|████▉                                                                  | 704/10000 [00:03<00:38, 238.71it/s]"
     ]
    },
    {
     "data": {
      "text/plain": [
       "[None]"
      ]
     },
     "metadata": {},
     "output_type": "display_data"
    },
    {
     "name": "stderr",
     "output_type": "stream",
     "text": [
      "67.0:   7%|████▉                                                                  | 704/10000 [00:03<00:38, 238.71it/s]"
     ]
    },
    {
     "data": {
      "text/plain": [
       "[None]"
      ]
     },
     "metadata": {},
     "output_type": "display_data"
    },
    {
     "name": "stderr",
     "output_type": "stream",
     "text": [
      "51.0:   7%|████▉                                                                  | 704/10000 [00:03<00:38, 238.71it/s]"
     ]
    },
    {
     "data": {
      "text/plain": [
       "[None]"
      ]
     },
     "metadata": {},
     "output_type": "display_data"
    },
    {
     "name": "stderr",
     "output_type": "stream",
     "text": [
      "65.0:   7%|████▉                                                                  | 704/10000 [00:03<00:38, 238.71it/s]"
     ]
    },
    {
     "data": {
      "text/plain": [
       "[None]"
      ]
     },
     "metadata": {},
     "output_type": "display_data"
    },
    {
     "name": "stderr",
     "output_type": "stream",
     "text": [
      "63.0:   7%|████▉                                                                  | 704/10000 [00:03<00:38, 238.71it/s]"
     ]
    },
    {
     "data": {
      "text/plain": [
       "[None]"
      ]
     },
     "metadata": {},
     "output_type": "display_data"
    },
    {
     "name": "stderr",
     "output_type": "stream",
     "text": [
      "62.0:   7%|████▉                                                                  | 704/10000 [00:03<00:38, 238.71it/s]"
     ]
    },
    {
     "data": {
      "text/plain": [
       "[None]"
      ]
     },
     "metadata": {},
     "output_type": "display_data"
    },
    {
     "name": "stderr",
     "output_type": "stream",
     "text": [
      "59.0:   7%|████▉                                                                  | 704/10000 [00:03<00:38, 238.71it/s]"
     ]
    },
    {
     "data": {
      "text/plain": [
       "[None]"
      ]
     },
     "metadata": {},
     "output_type": "display_data"
    },
    {
     "name": "stderr",
     "output_type": "stream",
     "text": [
      "60.0:   7%|████▉                                                                  | 704/10000 [00:03<00:38, 238.71it/s]"
     ]
    },
    {
     "data": {
      "text/plain": [
       "[None]"
      ]
     },
     "metadata": {},
     "output_type": "display_data"
    },
    {
     "name": "stderr",
     "output_type": "stream",
     "text": [
      "60.0:   7%|████▉                                                                  | 704/10000 [00:03<00:38, 238.71it/s]"
     ]
    },
    {
     "data": {
      "text/plain": [
       "[None]"
      ]
     },
     "metadata": {},
     "output_type": "display_data"
    },
    {
     "name": "stderr",
     "output_type": "stream",
     "text": [
      "63.0:   7%|████▉                                                                  | 704/10000 [00:03<00:38, 238.71it/s]"
     ]
    },
    {
     "data": {
      "text/plain": [
       "[None]"
      ]
     },
     "metadata": {},
     "output_type": "display_data"
    },
    {
     "name": "stderr",
     "output_type": "stream",
     "text": [
      "56.0:   7%|████▉                                                                  | 704/10000 [00:03<00:38, 238.71it/s]"
     ]
    },
    {
     "data": {
      "text/plain": [
       "[None]"
      ]
     },
     "metadata": {},
     "output_type": "display_data"
    },
    {
     "name": "stderr",
     "output_type": "stream",
     "text": [
      "62.0:   7%|████▉                                                                  | 704/10000 [00:03<00:38, 238.71it/s]"
     ]
    },
    {
     "data": {
      "text/plain": [
       "[None]"
      ]
     },
     "metadata": {},
     "output_type": "display_data"
    },
    {
     "name": "stderr",
     "output_type": "stream",
     "text": [
      "64.0:   7%|████▉                                                                  | 704/10000 [00:03<00:38, 238.71it/s]"
     ]
    },
    {
     "data": {
      "text/plain": [
       "[None]"
      ]
     },
     "metadata": {},
     "output_type": "display_data"
    },
    {
     "name": "stderr",
     "output_type": "stream",
     "text": [
      "61.0:   7%|████▉                                                                  | 704/10000 [00:03<00:38, 238.71it/s]"
     ]
    },
    {
     "data": {
      "text/plain": [
       "[None]"
      ]
     },
     "metadata": {},
     "output_type": "display_data"
    },
    {
     "name": "stderr",
     "output_type": "stream",
     "text": [
      "56.0:   7%|████▉                                                                  | 704/10000 [00:03<00:38, 238.71it/s]"
     ]
    },
    {
     "data": {
      "text/plain": [
       "[None]"
      ]
     },
     "metadata": {},
     "output_type": "display_data"
    },
    {
     "name": "stderr",
     "output_type": "stream",
     "text": [
      "56.0:   7%|█████▏                                                                 | 728/10000 [00:03<00:38, 238.84it/s]"
     ]
    },
    {
     "data": {
      "text/plain": [
       "[None]"
      ]
     },
     "metadata": {},
     "output_type": "display_data"
    },
    {
     "name": "stderr",
     "output_type": "stream",
     "text": [
      "60.0:   7%|█████▏                                                                 | 728/10000 [00:03<00:38, 238.84it/s]"
     ]
    },
    {
     "data": {
      "text/plain": [
       "[None]"
      ]
     },
     "metadata": {},
     "output_type": "display_data"
    },
    {
     "name": "stderr",
     "output_type": "stream",
     "text": [
      "64.0:   7%|█████▏                                                                 | 728/10000 [00:03<00:38, 238.84it/s]"
     ]
    },
    {
     "data": {
      "text/plain": [
       "[None]"
      ]
     },
     "metadata": {},
     "output_type": "display_data"
    },
    {
     "name": "stderr",
     "output_type": "stream",
     "text": [
      "56.0:   7%|█████▏                                                                 | 728/10000 [00:03<00:38, 238.84it/s]"
     ]
    },
    {
     "data": {
      "text/plain": [
       "[None]"
      ]
     },
     "metadata": {},
     "output_type": "display_data"
    },
    {
     "name": "stderr",
     "output_type": "stream",
     "text": [
      "66.0:   7%|█████▏                                                                 | 728/10000 [00:03<00:38, 238.84it/s]"
     ]
    },
    {
     "data": {
      "text/plain": [
       "[None]"
      ]
     },
     "metadata": {},
     "output_type": "display_data"
    },
    {
     "name": "stderr",
     "output_type": "stream",
     "text": [
      "62.0:   7%|█████▏                                                                 | 728/10000 [00:03<00:38, 238.84it/s]"
     ]
    },
    {
     "data": {
      "text/plain": [
       "[None]"
      ]
     },
     "metadata": {},
     "output_type": "display_data"
    },
    {
     "name": "stderr",
     "output_type": "stream",
     "text": [
      "60.0:   7%|█████▏                                                                 | 728/10000 [00:03<00:38, 238.84it/s]"
     ]
    },
    {
     "data": {
      "text/plain": [
       "[None]"
      ]
     },
     "metadata": {},
     "output_type": "display_data"
    },
    {
     "name": "stderr",
     "output_type": "stream",
     "text": [
      "67.0:   7%|█████▏                                                                 | 728/10000 [00:03<00:38, 238.84it/s]"
     ]
    },
    {
     "data": {
      "text/plain": [
       "[None]"
      ]
     },
     "metadata": {},
     "output_type": "display_data"
    },
    {
     "name": "stderr",
     "output_type": "stream",
     "text": [
      "60.0:   7%|█████▏                                                                 | 728/10000 [00:03<00:38, 238.84it/s]"
     ]
    },
    {
     "data": {
      "text/plain": [
       "[None]"
      ]
     },
     "metadata": {},
     "output_type": "display_data"
    },
    {
     "name": "stderr",
     "output_type": "stream",
     "text": [
      "62.0:   7%|█████▏                                                                 | 728/10000 [00:03<00:38, 238.84it/s]"
     ]
    },
    {
     "data": {
      "text/plain": [
       "[None]"
      ]
     },
     "metadata": {},
     "output_type": "display_data"
    },
    {
     "name": "stderr",
     "output_type": "stream",
     "text": [
      "65.0:   7%|█████▏                                                                 | 728/10000 [00:03<00:38, 238.84it/s]"
     ]
    },
    {
     "data": {
      "text/plain": [
       "[None]"
      ]
     },
     "metadata": {},
     "output_type": "display_data"
    },
    {
     "name": "stderr",
     "output_type": "stream",
     "text": [
      "63.0:   7%|█████▏                                                                 | 728/10000 [00:03<00:38, 238.84it/s]"
     ]
    },
    {
     "data": {
      "text/plain": [
       "[None]"
      ]
     },
     "metadata": {},
     "output_type": "display_data"
    },
    {
     "name": "stderr",
     "output_type": "stream",
     "text": [
      "60.0:   7%|█████▏                                                                 | 728/10000 [00:03<00:38, 238.84it/s]"
     ]
    },
    {
     "data": {
      "text/plain": [
       "[None]"
      ]
     },
     "metadata": {},
     "output_type": "display_data"
    },
    {
     "name": "stderr",
     "output_type": "stream",
     "text": [
      "56.0:   7%|█████▏                                                                 | 728/10000 [00:03<00:38, 238.84it/s]"
     ]
    },
    {
     "data": {
      "text/plain": [
       "[None]"
      ]
     },
     "metadata": {},
     "output_type": "display_data"
    },
    {
     "name": "stderr",
     "output_type": "stream",
     "text": [
      "63.0:   7%|█████▏                                                                 | 728/10000 [00:03<00:38, 238.84it/s]"
     ]
    },
    {
     "data": {
      "text/plain": [
       "[None]"
      ]
     },
     "metadata": {},
     "output_type": "display_data"
    },
    {
     "name": "stderr",
     "output_type": "stream",
     "text": [
      "66.0:   7%|█████▏                                                                 | 728/10000 [00:03<00:38, 238.84it/s]"
     ]
    },
    {
     "data": {
      "text/plain": [
       "[None]"
      ]
     },
     "metadata": {},
     "output_type": "display_data"
    },
    {
     "name": "stderr",
     "output_type": "stream",
     "text": [
      "62.0:   7%|█████▏                                                                 | 728/10000 [00:03<00:38, 238.84it/s]"
     ]
    },
    {
     "data": {
      "text/plain": [
       "[None]"
      ]
     },
     "metadata": {},
     "output_type": "display_data"
    },
    {
     "name": "stderr",
     "output_type": "stream",
     "text": [
      "60.0:   7%|█████▏                                                                 | 728/10000 [00:03<00:38, 238.84it/s]"
     ]
    },
    {
     "data": {
      "text/plain": [
       "[None]"
      ]
     },
     "metadata": {},
     "output_type": "display_data"
    },
    {
     "name": "stderr",
     "output_type": "stream",
     "text": [
      "59.0:   7%|█████▏                                                                 | 728/10000 [00:03<00:38, 238.84it/s]"
     ]
    },
    {
     "data": {
      "text/plain": [
       "[None]"
      ]
     },
     "metadata": {},
     "output_type": "display_data"
    },
    {
     "name": "stderr",
     "output_type": "stream",
     "text": [
      "56.0:   7%|█████▏                                                                 | 728/10000 [00:03<00:38, 238.84it/s]"
     ]
    },
    {
     "data": {
      "text/plain": [
       "[None]"
      ]
     },
     "metadata": {},
     "output_type": "display_data"
    },
    {
     "name": "stderr",
     "output_type": "stream",
     "text": [
      "56.0:   7%|█████▏                                                                 | 728/10000 [00:03<00:38, 238.84it/s]"
     ]
    },
    {
     "data": {
      "text/plain": [
       "[None]"
      ]
     },
     "metadata": {},
     "output_type": "display_data"
    },
    {
     "name": "stderr",
     "output_type": "stream",
     "text": [
      "59.0:   7%|█████▏                                                                 | 728/10000 [00:03<00:38, 238.84it/s]"
     ]
    },
    {
     "data": {
      "text/plain": [
       "[None]"
      ]
     },
     "metadata": {},
     "output_type": "display_data"
    },
    {
     "name": "stderr",
     "output_type": "stream",
     "text": [
      "67.0:   7%|█████▏                                                                 | 728/10000 [00:03<00:38, 238.84it/s]"
     ]
    },
    {
     "data": {
      "text/plain": [
       "[None]"
      ]
     },
     "metadata": {},
     "output_type": "display_data"
    },
    {
     "name": "stderr",
     "output_type": "stream",
     "text": [
      "61.0:   7%|█████▏                                                                 | 728/10000 [00:03<00:38, 238.84it/s]"
     ]
    },
    {
     "data": {
      "text/plain": [
       "[None]"
      ]
     },
     "metadata": {},
     "output_type": "display_data"
    },
    {
     "name": "stderr",
     "output_type": "stream",
     "text": [
      "53.0:   8%|█████▎                                                                 | 752/10000 [00:03<00:39, 235.47it/s]"
     ]
    },
    {
     "data": {
      "text/plain": [
       "[None]"
      ]
     },
     "metadata": {},
     "output_type": "display_data"
    },
    {
     "name": "stderr",
     "output_type": "stream",
     "text": [
      "57.0:   8%|█████▎                                                                 | 752/10000 [00:03<00:39, 235.47it/s]"
     ]
    },
    {
     "data": {
      "text/plain": [
       "[None]"
      ]
     },
     "metadata": {},
     "output_type": "display_data"
    },
    {
     "name": "stderr",
     "output_type": "stream",
     "text": [
      "63.0:   8%|█████▎                                                                 | 752/10000 [00:03<00:39, 235.47it/s]"
     ]
    },
    {
     "data": {
      "text/plain": [
       "[None]"
      ]
     },
     "metadata": {},
     "output_type": "display_data"
    },
    {
     "name": "stderr",
     "output_type": "stream",
     "text": [
      "63.0:   8%|█████▎                                                                 | 752/10000 [00:03<00:39, 235.47it/s]"
     ]
    },
    {
     "data": {
      "text/plain": [
       "[None]"
      ]
     },
     "metadata": {},
     "output_type": "display_data"
    },
    {
     "name": "stderr",
     "output_type": "stream",
     "text": [
      "64.0:   8%|█████▎                                                                 | 752/10000 [00:03<00:39, 235.47it/s]"
     ]
    },
    {
     "data": {
      "text/plain": [
       "[None]"
      ]
     },
     "metadata": {},
     "output_type": "display_data"
    },
    {
     "name": "stderr",
     "output_type": "stream",
     "text": [
      "62.0:   8%|█████▎                                                                 | 752/10000 [00:03<00:39, 235.47it/s]"
     ]
    },
    {
     "data": {
      "text/plain": [
       "[None]"
      ]
     },
     "metadata": {},
     "output_type": "display_data"
    },
    {
     "name": "stderr",
     "output_type": "stream",
     "text": [
      "54.0:   8%|█████▎                                                                 | 752/10000 [00:03<00:39, 235.47it/s]"
     ]
    },
    {
     "data": {
      "text/plain": [
       "[None]"
      ]
     },
     "metadata": {},
     "output_type": "display_data"
    },
    {
     "name": "stderr",
     "output_type": "stream",
     "text": [
      "65.0:   8%|█████▎                                                                 | 752/10000 [00:03<00:39, 235.47it/s]"
     ]
    },
    {
     "data": {
      "text/plain": [
       "[None]"
      ]
     },
     "metadata": {},
     "output_type": "display_data"
    },
    {
     "name": "stderr",
     "output_type": "stream",
     "text": [
      "63.0:   8%|█████▎                                                                 | 752/10000 [00:03<00:39, 235.47it/s]"
     ]
    },
    {
     "data": {
      "text/plain": [
       "[None]"
      ]
     },
     "metadata": {},
     "output_type": "display_data"
    },
    {
     "name": "stderr",
     "output_type": "stream",
     "text": [
      "58.0:   8%|█████▎                                                                 | 752/10000 [00:03<00:39, 235.47it/s]"
     ]
    },
    {
     "data": {
      "text/plain": [
       "[None]"
      ]
     },
     "metadata": {},
     "output_type": "display_data"
    },
    {
     "name": "stderr",
     "output_type": "stream",
     "text": [
      "61.0:   8%|█████▎                                                                 | 752/10000 [00:03<00:39, 235.47it/s]"
     ]
    },
    {
     "data": {
      "text/plain": [
       "[None]"
      ]
     },
     "metadata": {},
     "output_type": "display_data"
    },
    {
     "name": "stderr",
     "output_type": "stream",
     "text": [
      "60.0:   8%|█████▎                                                                 | 752/10000 [00:03<00:39, 235.47it/s]"
     ]
    },
    {
     "data": {
      "text/plain": [
       "[None]"
      ]
     },
     "metadata": {},
     "output_type": "display_data"
    },
    {
     "name": "stderr",
     "output_type": "stream",
     "text": [
      "61.0:   8%|█████▎                                                                 | 752/10000 [00:03<00:39, 235.47it/s]"
     ]
    },
    {
     "data": {
      "text/plain": [
       "[None]"
      ]
     },
     "metadata": {},
     "output_type": "display_data"
    },
    {
     "name": "stderr",
     "output_type": "stream",
     "text": [
      "61.0:   8%|█████▎                                                                 | 752/10000 [00:03<00:39, 235.47it/s]"
     ]
    },
    {
     "data": {
      "text/plain": [
       "[None]"
      ]
     },
     "metadata": {},
     "output_type": "display_data"
    },
    {
     "name": "stderr",
     "output_type": "stream",
     "text": [
      "59.0:   8%|█████▎                                                                 | 752/10000 [00:03<00:39, 235.47it/s]"
     ]
    },
    {
     "data": {
      "text/plain": [
       "[None]"
      ]
     },
     "metadata": {},
     "output_type": "display_data"
    },
    {
     "name": "stderr",
     "output_type": "stream",
     "text": [
      "60.0:   8%|█████▎                                                                 | 752/10000 [00:03<00:39, 235.47it/s]"
     ]
    },
    {
     "data": {
      "text/plain": [
       "[None]"
      ]
     },
     "metadata": {},
     "output_type": "display_data"
    },
    {
     "name": "stderr",
     "output_type": "stream",
     "text": [
      "60.0:   8%|█████▎                                                                 | 752/10000 [00:03<00:39, 235.47it/s]"
     ]
    },
    {
     "data": {
      "text/plain": [
       "[None]"
      ]
     },
     "metadata": {},
     "output_type": "display_data"
    },
    {
     "name": "stderr",
     "output_type": "stream",
     "text": [
      "56.0:   8%|█████▎                                                                 | 752/10000 [00:03<00:39, 235.47it/s]"
     ]
    },
    {
     "data": {
      "text/plain": [
       "[None]"
      ]
     },
     "metadata": {},
     "output_type": "display_data"
    },
    {
     "name": "stderr",
     "output_type": "stream",
     "text": [
      "63.0:   8%|█████▎                                                                 | 752/10000 [00:03<00:39, 235.47it/s]"
     ]
    },
    {
     "data": {
      "text/plain": [
       "[None]"
      ]
     },
     "metadata": {},
     "output_type": "display_data"
    },
    {
     "name": "stderr",
     "output_type": "stream",
     "text": [
      "62.0:   8%|█████▎                                                                 | 752/10000 [00:03<00:39, 235.47it/s]"
     ]
    },
    {
     "data": {
      "text/plain": [
       "[None]"
      ]
     },
     "metadata": {},
     "output_type": "display_data"
    },
    {
     "name": "stderr",
     "output_type": "stream",
     "text": [
      "55.0:   8%|█████▎                                                                 | 752/10000 [00:03<00:39, 235.47it/s]"
     ]
    },
    {
     "data": {
      "text/plain": [
       "[None]"
      ]
     },
     "metadata": {},
     "output_type": "display_data"
    },
    {
     "name": "stderr",
     "output_type": "stream",
     "text": [
      "66.0:   8%|█████▎                                                                 | 752/10000 [00:03<00:39, 235.47it/s]"
     ]
    },
    {
     "data": {
      "text/plain": [
       "[None]"
      ]
     },
     "metadata": {},
     "output_type": "display_data"
    },
    {
     "name": "stderr",
     "output_type": "stream",
     "text": [
      "62.0:   8%|█████▎                                                                 | 752/10000 [00:03<00:39, 235.47it/s]"
     ]
    },
    {
     "data": {
      "text/plain": [
       "[None]"
      ]
     },
     "metadata": {},
     "output_type": "display_data"
    },
    {
     "name": "stderr",
     "output_type": "stream",
     "text": [
      "57.0:   8%|█████▎                                                                 | 752/10000 [00:03<00:39, 235.47it/s]"
     ]
    },
    {
     "data": {
      "text/plain": [
       "[None]"
      ]
     },
     "metadata": {},
     "output_type": "display_data"
    },
    {
     "name": "stderr",
     "output_type": "stream",
     "text": [
      "63.0:   8%|█████▎                                                                 | 752/10000 [00:03<00:39, 235.47it/s]"
     ]
    },
    {
     "data": {
      "text/plain": [
       "[None]"
      ]
     },
     "metadata": {},
     "output_type": "display_data"
    },
    {
     "name": "stderr",
     "output_type": "stream",
     "text": [
      "58.0:   8%|█████▌                                                                 | 777/10000 [00:03<00:38, 237.39it/s]"
     ]
    },
    {
     "data": {
      "text/plain": [
       "[None]"
      ]
     },
     "metadata": {},
     "output_type": "display_data"
    },
    {
     "name": "stderr",
     "output_type": "stream",
     "text": [
      "66.0:   8%|█████▌                                                                 | 777/10000 [00:03<00:38, 237.39it/s]"
     ]
    },
    {
     "data": {
      "text/plain": [
       "[None]"
      ]
     },
     "metadata": {},
     "output_type": "display_data"
    },
    {
     "name": "stderr",
     "output_type": "stream",
     "text": [
      "48.0:   8%|█████▌                                                                 | 777/10000 [00:03<00:38, 237.39it/s]"
     ]
    },
    {
     "data": {
      "text/plain": [
       "[None]"
      ]
     },
     "metadata": {},
     "output_type": "display_data"
    },
    {
     "name": "stderr",
     "output_type": "stream",
     "text": [
      "61.0:   8%|█████▌                                                                 | 777/10000 [00:03<00:38, 237.39it/s]"
     ]
    },
    {
     "data": {
      "text/plain": [
       "[None]"
      ]
     },
     "metadata": {},
     "output_type": "display_data"
    },
    {
     "name": "stderr",
     "output_type": "stream",
     "text": [
      "59.0:   8%|█████▌                                                                 | 777/10000 [00:03<00:38, 237.39it/s]"
     ]
    },
    {
     "data": {
      "text/plain": [
       "[None]"
      ]
     },
     "metadata": {},
     "output_type": "display_data"
    },
    {
     "name": "stderr",
     "output_type": "stream",
     "text": [
      "70.0:   8%|█████▌                                                                 | 777/10000 [00:03<00:38, 237.39it/s]"
     ]
    },
    {
     "data": {
      "text/plain": [
       "[None]"
      ]
     },
     "metadata": {},
     "output_type": "display_data"
    },
    {
     "name": "stderr",
     "output_type": "stream",
     "text": [
      "65.0:   8%|█████▌                                                                 | 777/10000 [00:03<00:38, 237.39it/s]"
     ]
    },
    {
     "data": {
      "text/plain": [
       "[None]"
      ]
     },
     "metadata": {},
     "output_type": "display_data"
    },
    {
     "name": "stderr",
     "output_type": "stream",
     "text": [
      "62.0:   8%|█████▌                                                                 | 777/10000 [00:03<00:38, 237.39it/s]"
     ]
    },
    {
     "data": {
      "text/plain": [
       "[None]"
      ]
     },
     "metadata": {},
     "output_type": "display_data"
    },
    {
     "name": "stderr",
     "output_type": "stream",
     "text": [
      "61.0:   8%|█████▌                                                                 | 777/10000 [00:03<00:38, 237.39it/s]"
     ]
    },
    {
     "data": {
      "text/plain": [
       "[None]"
      ]
     },
     "metadata": {},
     "output_type": "display_data"
    },
    {
     "name": "stderr",
     "output_type": "stream",
     "text": [
      "56.0:   8%|█████▌                                                                 | 777/10000 [00:03<00:38, 237.39it/s]"
     ]
    },
    {
     "data": {
      "text/plain": [
       "[None]"
      ]
     },
     "metadata": {},
     "output_type": "display_data"
    },
    {
     "name": "stderr",
     "output_type": "stream",
     "text": [
      "55.0:   8%|█████▌                                                                 | 777/10000 [00:03<00:38, 237.39it/s]"
     ]
    },
    {
     "data": {
      "text/plain": [
       "[None]"
      ]
     },
     "metadata": {},
     "output_type": "display_data"
    },
    {
     "name": "stderr",
     "output_type": "stream",
     "text": [
      "63.0:   8%|█████▌                                                                 | 777/10000 [00:03<00:38, 237.39it/s]"
     ]
    },
    {
     "data": {
      "text/plain": [
       "[None]"
      ]
     },
     "metadata": {},
     "output_type": "display_data"
    },
    {
     "name": "stderr",
     "output_type": "stream",
     "text": [
      "65.0:   8%|█████▌                                                                 | 777/10000 [00:03<00:38, 237.39it/s]"
     ]
    },
    {
     "data": {
      "text/plain": [
       "[None]"
      ]
     },
     "metadata": {},
     "output_type": "display_data"
    },
    {
     "name": "stderr",
     "output_type": "stream",
     "text": [
      "64.0:   8%|█████▌                                                                 | 777/10000 [00:03<00:38, 237.39it/s]"
     ]
    },
    {
     "data": {
      "text/plain": [
       "[None]"
      ]
     },
     "metadata": {},
     "output_type": "display_data"
    },
    {
     "name": "stderr",
     "output_type": "stream",
     "text": [
      "66.0:   8%|█████▌                                                                 | 777/10000 [00:03<00:38, 237.39it/s]"
     ]
    },
    {
     "data": {
      "text/plain": [
       "[None]"
      ]
     },
     "metadata": {},
     "output_type": "display_data"
    },
    {
     "name": "stderr",
     "output_type": "stream",
     "text": [
      "60.0:   8%|█████▌                                                                 | 777/10000 [00:03<00:38, 237.39it/s]"
     ]
    },
    {
     "data": {
      "text/plain": [
       "[None]"
      ]
     },
     "metadata": {},
     "output_type": "display_data"
    },
    {
     "name": "stderr",
     "output_type": "stream",
     "text": [
      "59.0:   8%|█████▌                                                                 | 777/10000 [00:03<00:38, 237.39it/s]"
     ]
    },
    {
     "data": {
      "text/plain": [
       "[None]"
      ]
     },
     "metadata": {},
     "output_type": "display_data"
    },
    {
     "name": "stderr",
     "output_type": "stream",
     "text": [
      "66.0:   8%|█████▌                                                                 | 777/10000 [00:03<00:38, 237.39it/s]"
     ]
    },
    {
     "data": {
      "text/plain": [
       "[None]"
      ]
     },
     "metadata": {},
     "output_type": "display_data"
    },
    {
     "name": "stderr",
     "output_type": "stream",
     "text": [
      "58.0:   8%|█████▌                                                                 | 777/10000 [00:03<00:38, 237.39it/s]"
     ]
    },
    {
     "data": {
      "text/plain": [
       "[None]"
      ]
     },
     "metadata": {},
     "output_type": "display_data"
    },
    {
     "name": "stderr",
     "output_type": "stream",
     "text": [
      "59.0:   8%|█████▌                                                                 | 777/10000 [00:03<00:38, 237.39it/s]"
     ]
    },
    {
     "data": {
      "text/plain": [
       "[None]"
      ]
     },
     "metadata": {},
     "output_type": "display_data"
    },
    {
     "name": "stderr",
     "output_type": "stream",
     "text": [
      "57.0:   8%|█████▌                                                                 | 777/10000 [00:03<00:38, 237.39it/s]"
     ]
    },
    {
     "data": {
      "text/plain": [
       "[None]"
      ]
     },
     "metadata": {},
     "output_type": "display_data"
    },
    {
     "name": "stderr",
     "output_type": "stream",
     "text": [
      "62.0:   8%|█████▌                                                                 | 777/10000 [00:03<00:38, 237.39it/s]"
     ]
    },
    {
     "data": {
      "text/plain": [
       "[None]"
      ]
     },
     "metadata": {},
     "output_type": "display_data"
    },
    {
     "name": "stderr",
     "output_type": "stream",
     "text": [
      "61.0:   8%|█████▌                                                                 | 777/10000 [00:03<00:38, 237.39it/s]"
     ]
    },
    {
     "data": {
      "text/plain": [
       "[None]"
      ]
     },
     "metadata": {},
     "output_type": "display_data"
    },
    {
     "name": "stderr",
     "output_type": "stream",
     "text": [
      "57.0:   8%|█████▌                                                                 | 777/10000 [00:03<00:38, 237.39it/s]"
     ]
    },
    {
     "data": {
      "text/plain": [
       "[None]"
      ]
     },
     "metadata": {},
     "output_type": "display_data"
    },
    {
     "name": "stderr",
     "output_type": "stream",
     "text": [
      "65.0:   8%|█████▋                                                                 | 801/10000 [00:03<00:39, 235.51it/s]"
     ]
    },
    {
     "data": {
      "text/plain": [
       "[None]"
      ]
     },
     "metadata": {},
     "output_type": "display_data"
    },
    {
     "name": "stderr",
     "output_type": "stream",
     "text": [
      "60.0:   8%|█████▋                                                                 | 801/10000 [00:03<00:39, 235.51it/s]"
     ]
    },
    {
     "data": {
      "text/plain": [
       "[None]"
      ]
     },
     "metadata": {},
     "output_type": "display_data"
    },
    {
     "name": "stderr",
     "output_type": "stream",
     "text": [
      "57.0:   8%|█████▋                                                                 | 801/10000 [00:03<00:39, 235.51it/s]"
     ]
    },
    {
     "data": {
      "text/plain": [
       "[None]"
      ]
     },
     "metadata": {},
     "output_type": "display_data"
    },
    {
     "name": "stderr",
     "output_type": "stream",
     "text": [
      "67.0:   8%|█████▋                                                                 | 801/10000 [00:03<00:39, 235.51it/s]"
     ]
    },
    {
     "data": {
      "text/plain": [
       "[None]"
      ]
     },
     "metadata": {},
     "output_type": "display_data"
    },
    {
     "name": "stderr",
     "output_type": "stream",
     "text": [
      "56.0:   8%|█████▋                                                                 | 801/10000 [00:03<00:39, 235.51it/s]"
     ]
    },
    {
     "data": {
      "text/plain": [
       "[None]"
      ]
     },
     "metadata": {},
     "output_type": "display_data"
    },
    {
     "name": "stderr",
     "output_type": "stream",
     "text": [
      "59.0:   8%|█████▋                                                                 | 801/10000 [00:03<00:39, 235.51it/s]"
     ]
    },
    {
     "data": {
      "text/plain": [
       "[None]"
      ]
     },
     "metadata": {},
     "output_type": "display_data"
    },
    {
     "name": "stderr",
     "output_type": "stream",
     "text": [
      "61.0:   8%|█████▋                                                                 | 801/10000 [00:03<00:39, 235.51it/s]"
     ]
    },
    {
     "data": {
      "text/plain": [
       "[None]"
      ]
     },
     "metadata": {},
     "output_type": "display_data"
    },
    {
     "name": "stderr",
     "output_type": "stream",
     "text": [
      "62.0:   8%|█████▋                                                                 | 801/10000 [00:03<00:39, 235.51it/s]"
     ]
    },
    {
     "data": {
      "text/plain": [
       "[None]"
      ]
     },
     "metadata": {},
     "output_type": "display_data"
    },
    {
     "name": "stderr",
     "output_type": "stream",
     "text": [
      "63.0:   8%|█████▋                                                                 | 801/10000 [00:03<00:39, 235.51it/s]"
     ]
    },
    {
     "data": {
      "text/plain": [
       "[None]"
      ]
     },
     "metadata": {},
     "output_type": "display_data"
    },
    {
     "name": "stderr",
     "output_type": "stream",
     "text": [
      "59.0:   8%|█████▋                                                                 | 801/10000 [00:03<00:39, 235.51it/s]"
     ]
    },
    {
     "data": {
      "text/plain": [
       "[None]"
      ]
     },
     "metadata": {},
     "output_type": "display_data"
    },
    {
     "name": "stderr",
     "output_type": "stream",
     "text": [
      "58.0:   8%|█████▋                                                                 | 801/10000 [00:03<00:39, 235.51it/s]"
     ]
    },
    {
     "data": {
      "text/plain": [
       "[None]"
      ]
     },
     "metadata": {},
     "output_type": "display_data"
    },
    {
     "name": "stderr",
     "output_type": "stream",
     "text": [
      "62.0:   8%|█████▋                                                                 | 801/10000 [00:03<00:39, 235.51it/s]"
     ]
    },
    {
     "data": {
      "text/plain": [
       "[None]"
      ]
     },
     "metadata": {},
     "output_type": "display_data"
    },
    {
     "name": "stderr",
     "output_type": "stream",
     "text": [
      "60.0:   8%|█████▋                                                                 | 801/10000 [00:03<00:39, 235.51it/s]"
     ]
    },
    {
     "data": {
      "text/plain": [
       "[None]"
      ]
     },
     "metadata": {},
     "output_type": "display_data"
    },
    {
     "name": "stderr",
     "output_type": "stream",
     "text": [
      "58.0:   8%|█████▋                                                                 | 801/10000 [00:03<00:39, 235.51it/s]"
     ]
    },
    {
     "data": {
      "text/plain": [
       "[None]"
      ]
     },
     "metadata": {},
     "output_type": "display_data"
    },
    {
     "name": "stderr",
     "output_type": "stream",
     "text": [
      "64.0:   8%|█████▋                                                                 | 801/10000 [00:03<00:39, 235.51it/s]"
     ]
    },
    {
     "data": {
      "text/plain": [
       "[None]"
      ]
     },
     "metadata": {},
     "output_type": "display_data"
    },
    {
     "name": "stderr",
     "output_type": "stream",
     "text": [
      "63.0:   8%|█████▋                                                                 | 801/10000 [00:03<00:39, 235.51it/s]"
     ]
    },
    {
     "data": {
      "text/plain": [
       "[None]"
      ]
     },
     "metadata": {},
     "output_type": "display_data"
    },
    {
     "name": "stderr",
     "output_type": "stream",
     "text": [
      "59.0:   8%|█████▋                                                                 | 801/10000 [00:03<00:39, 235.51it/s]"
     ]
    },
    {
     "data": {
      "text/plain": [
       "[None]"
      ]
     },
     "metadata": {},
     "output_type": "display_data"
    },
    {
     "name": "stderr",
     "output_type": "stream",
     "text": [
      "60.0:   8%|█████▋                                                                 | 801/10000 [00:03<00:39, 235.51it/s]"
     ]
    },
    {
     "data": {
      "text/plain": [
       "[None]"
      ]
     },
     "metadata": {},
     "output_type": "display_data"
    },
    {
     "name": "stderr",
     "output_type": "stream",
     "text": [
      "67.0:   8%|█████▋                                                                 | 801/10000 [00:03<00:39, 235.51it/s]"
     ]
    },
    {
     "data": {
      "text/plain": [
       "[None]"
      ]
     },
     "metadata": {},
     "output_type": "display_data"
    },
    {
     "name": "stderr",
     "output_type": "stream",
     "text": [
      "66.0:   8%|█████▋                                                                 | 801/10000 [00:03<00:39, 235.51it/s]"
     ]
    },
    {
     "data": {
      "text/plain": [
       "[None]"
      ]
     },
     "metadata": {},
     "output_type": "display_data"
    },
    {
     "name": "stderr",
     "output_type": "stream",
     "text": [
      "57.0:   8%|█████▋                                                                 | 801/10000 [00:03<00:39, 235.51it/s]"
     ]
    },
    {
     "data": {
      "text/plain": [
       "[None]"
      ]
     },
     "metadata": {},
     "output_type": "display_data"
    },
    {
     "name": "stderr",
     "output_type": "stream",
     "text": [
      "58.0:   8%|█████▋                                                                 | 801/10000 [00:03<00:39, 235.51it/s]"
     ]
    },
    {
     "data": {
      "text/plain": [
       "[None]"
      ]
     },
     "metadata": {},
     "output_type": "display_data"
    },
    {
     "name": "stderr",
     "output_type": "stream",
     "text": [
      "61.0:   8%|█████▋                                                                 | 801/10000 [00:03<00:39, 235.51it/s]"
     ]
    },
    {
     "data": {
      "text/plain": [
       "[None]"
      ]
     },
     "metadata": {},
     "output_type": "display_data"
    },
    {
     "name": "stderr",
     "output_type": "stream",
     "text": [
      "65.0:   8%|█████▋                                                                 | 801/10000 [00:03<00:39, 235.51it/s]"
     ]
    },
    {
     "data": {
      "text/plain": [
       "[None]"
      ]
     },
     "metadata": {},
     "output_type": "display_data"
    },
    {
     "name": "stderr",
     "output_type": "stream",
     "text": [
      "65.0:   8%|█████▋                                                                 | 801/10000 [00:03<00:39, 235.51it/s]"
     ]
    },
    {
     "data": {
      "text/plain": [
       "[None]"
      ]
     },
     "metadata": {},
     "output_type": "display_data"
    },
    {
     "name": "stderr",
     "output_type": "stream",
     "text": [
      "52.0:   8%|█████▊                                                                 | 826/10000 [00:03<00:38, 236.75it/s]"
     ]
    },
    {
     "data": {
      "text/plain": [
       "[None]"
      ]
     },
     "metadata": {},
     "output_type": "display_data"
    },
    {
     "name": "stderr",
     "output_type": "stream",
     "text": [
      "64.0:   8%|█████▊                                                                 | 826/10000 [00:03<00:38, 236.75it/s]"
     ]
    },
    {
     "data": {
      "text/plain": [
       "[None]"
      ]
     },
     "metadata": {},
     "output_type": "display_data"
    },
    {
     "name": "stderr",
     "output_type": "stream",
     "text": [
      "56.0:   8%|█████▊                                                                 | 826/10000 [00:03<00:38, 236.75it/s]"
     ]
    },
    {
     "data": {
      "text/plain": [
       "[None]"
      ]
     },
     "metadata": {},
     "output_type": "display_data"
    },
    {
     "name": "stderr",
     "output_type": "stream",
     "text": [
      "60.0:   8%|█████▊                                                                 | 826/10000 [00:03<00:38, 236.75it/s]"
     ]
    },
    {
     "data": {
      "text/plain": [
       "[None]"
      ]
     },
     "metadata": {},
     "output_type": "display_data"
    },
    {
     "name": "stderr",
     "output_type": "stream",
     "text": [
      "58.0:   8%|█████▊                                                                 | 826/10000 [00:03<00:38, 236.75it/s]"
     ]
    },
    {
     "data": {
      "text/plain": [
       "[None]"
      ]
     },
     "metadata": {},
     "output_type": "display_data"
    },
    {
     "name": "stderr",
     "output_type": "stream",
     "text": [
      "60.0:   8%|█████▊                                                                 | 826/10000 [00:03<00:38, 236.75it/s]"
     ]
    },
    {
     "data": {
      "text/plain": [
       "[None]"
      ]
     },
     "metadata": {},
     "output_type": "display_data"
    },
    {
     "name": "stderr",
     "output_type": "stream",
     "text": [
      "52.0:   8%|█████▊                                                                 | 826/10000 [00:03<00:38, 236.75it/s]"
     ]
    },
    {
     "data": {
      "text/plain": [
       "[None]"
      ]
     },
     "metadata": {},
     "output_type": "display_data"
    },
    {
     "name": "stderr",
     "output_type": "stream",
     "text": [
      "58.0:   8%|█████▊                                                                 | 826/10000 [00:03<00:38, 236.75it/s]"
     ]
    },
    {
     "data": {
      "text/plain": [
       "[None]"
      ]
     },
     "metadata": {},
     "output_type": "display_data"
    },
    {
     "name": "stderr",
     "output_type": "stream",
     "text": [
      "55.0:   8%|█████▊                                                                 | 826/10000 [00:03<00:38, 236.75it/s]"
     ]
    },
    {
     "data": {
      "text/plain": [
       "[None]"
      ]
     },
     "metadata": {},
     "output_type": "display_data"
    },
    {
     "name": "stderr",
     "output_type": "stream",
     "text": [
      "63.0:   8%|█████▊                                                                 | 826/10000 [00:03<00:38, 236.75it/s]"
     ]
    },
    {
     "data": {
      "text/plain": [
       "[None]"
      ]
     },
     "metadata": {},
     "output_type": "display_data"
    },
    {
     "name": "stderr",
     "output_type": "stream",
     "text": [
      "64.0:   8%|█████▊                                                                 | 826/10000 [00:03<00:38, 236.75it/s]"
     ]
    },
    {
     "data": {
      "text/plain": [
       "[None]"
      ]
     },
     "metadata": {},
     "output_type": "display_data"
    },
    {
     "name": "stderr",
     "output_type": "stream",
     "text": [
      "59.0:   8%|█████▊                                                                 | 826/10000 [00:03<00:38, 236.75it/s]"
     ]
    },
    {
     "data": {
      "text/plain": [
       "[None]"
      ]
     },
     "metadata": {},
     "output_type": "display_data"
    },
    {
     "name": "stderr",
     "output_type": "stream",
     "text": [
      "61.0:   8%|█████▊                                                                 | 826/10000 [00:03<00:38, 236.75it/s]"
     ]
    },
    {
     "data": {
      "text/plain": [
       "[None]"
      ]
     },
     "metadata": {},
     "output_type": "display_data"
    },
    {
     "name": "stderr",
     "output_type": "stream",
     "text": [
      "60.0:   8%|█████▊                                                                 | 826/10000 [00:03<00:38, 236.75it/s]"
     ]
    },
    {
     "data": {
      "text/plain": [
       "[None]"
      ]
     },
     "metadata": {},
     "output_type": "display_data"
    },
    {
     "name": "stderr",
     "output_type": "stream",
     "text": [
      "58.0:   8%|█████▊                                                                 | 826/10000 [00:03<00:38, 236.75it/s]"
     ]
    },
    {
     "data": {
      "text/plain": [
       "[None]"
      ]
     },
     "metadata": {},
     "output_type": "display_data"
    },
    {
     "name": "stderr",
     "output_type": "stream",
     "text": [
      "61.0:   8%|█████▊                                                                 | 826/10000 [00:03<00:38, 236.75it/s]"
     ]
    },
    {
     "data": {
      "text/plain": [
       "[None]"
      ]
     },
     "metadata": {},
     "output_type": "display_data"
    },
    {
     "name": "stderr",
     "output_type": "stream",
     "text": [
      "67.0:   8%|█████▊                                                                 | 826/10000 [00:03<00:38, 236.75it/s]"
     ]
    },
    {
     "data": {
      "text/plain": [
       "[None]"
      ]
     },
     "metadata": {},
     "output_type": "display_data"
    },
    {
     "name": "stderr",
     "output_type": "stream",
     "text": [
      "60.0:   8%|█████▊                                                                 | 826/10000 [00:03<00:38, 236.75it/s]"
     ]
    },
    {
     "data": {
      "text/plain": [
       "[None]"
      ]
     },
     "metadata": {},
     "output_type": "display_data"
    },
    {
     "name": "stderr",
     "output_type": "stream",
     "text": [
      "65.0:   8%|█████▊                                                                 | 826/10000 [00:03<00:38, 236.75it/s]"
     ]
    },
    {
     "data": {
      "text/plain": [
       "[None]"
      ]
     },
     "metadata": {},
     "output_type": "display_data"
    },
    {
     "name": "stderr",
     "output_type": "stream",
     "text": [
      "56.0:   8%|█████▊                                                                 | 826/10000 [00:03<00:38, 236.75it/s]"
     ]
    },
    {
     "data": {
      "text/plain": [
       "[None]"
      ]
     },
     "metadata": {},
     "output_type": "display_data"
    },
    {
     "name": "stderr",
     "output_type": "stream",
     "text": [
      "59.0:   8%|█████▊                                                                 | 826/10000 [00:03<00:38, 236.75it/s]"
     ]
    },
    {
     "data": {
      "text/plain": [
       "[None]"
      ]
     },
     "metadata": {},
     "output_type": "display_data"
    },
    {
     "name": "stderr",
     "output_type": "stream",
     "text": [
      "59.0:   8%|█████▊                                                                 | 826/10000 [00:03<00:38, 236.75it/s]"
     ]
    },
    {
     "data": {
      "text/plain": [
       "[None]"
      ]
     },
     "metadata": {},
     "output_type": "display_data"
    },
    {
     "name": "stderr",
     "output_type": "stream",
     "text": [
      "63.0:   8%|█████▊                                                                 | 826/10000 [00:03<00:38, 236.75it/s]"
     ]
    },
    {
     "data": {
      "text/plain": [
       "[None]"
      ]
     },
     "metadata": {},
     "output_type": "display_data"
    },
    {
     "name": "stderr",
     "output_type": "stream",
     "text": [
      "61.0:   8%|█████▊                                                                 | 826/10000 [00:03<00:38, 236.75it/s]"
     ]
    },
    {
     "data": {
      "text/plain": [
       "[None]"
      ]
     },
     "metadata": {},
     "output_type": "display_data"
    },
    {
     "name": "stderr",
     "output_type": "stream",
     "text": [
      "61.0:   8%|██████                                                                 | 850/10000 [00:03<00:38, 236.35it/s]"
     ]
    },
    {
     "data": {
      "text/plain": [
       "[None]"
      ]
     },
     "metadata": {},
     "output_type": "display_data"
    },
    {
     "name": "stderr",
     "output_type": "stream",
     "text": [
      "60.0:   8%|██████                                                                 | 850/10000 [00:03<00:38, 236.35it/s]"
     ]
    },
    {
     "data": {
      "text/plain": [
       "[None]"
      ]
     },
     "metadata": {},
     "output_type": "display_data"
    },
    {
     "name": "stderr",
     "output_type": "stream",
     "text": [
      "62.0:   8%|██████                                                                 | 850/10000 [00:03<00:38, 236.35it/s]"
     ]
    },
    {
     "data": {
      "text/plain": [
       "[None]"
      ]
     },
     "metadata": {},
     "output_type": "display_data"
    },
    {
     "name": "stderr",
     "output_type": "stream",
     "text": [
      "59.0:   8%|██████                                                                 | 850/10000 [00:03<00:38, 236.35it/s]"
     ]
    },
    {
     "data": {
      "text/plain": [
       "[None]"
      ]
     },
     "metadata": {},
     "output_type": "display_data"
    },
    {
     "name": "stderr",
     "output_type": "stream",
     "text": [
      "66.0:   8%|██████                                                                 | 850/10000 [00:03<00:38, 236.35it/s]"
     ]
    },
    {
     "data": {
      "text/plain": [
       "[None]"
      ]
     },
     "metadata": {},
     "output_type": "display_data"
    },
    {
     "name": "stderr",
     "output_type": "stream",
     "text": [
      "59.0:   8%|██████                                                                 | 850/10000 [00:03<00:38, 236.35it/s]"
     ]
    },
    {
     "data": {
      "text/plain": [
       "[None]"
      ]
     },
     "metadata": {},
     "output_type": "display_data"
    },
    {
     "name": "stderr",
     "output_type": "stream",
     "text": [
      "64.0:   8%|██████                                                                 | 850/10000 [00:03<00:38, 236.35it/s]"
     ]
    },
    {
     "data": {
      "text/plain": [
       "[None]"
      ]
     },
     "metadata": {},
     "output_type": "display_data"
    },
    {
     "name": "stderr",
     "output_type": "stream",
     "text": [
      "63.0:   8%|██████                                                                 | 850/10000 [00:03<00:38, 236.35it/s]"
     ]
    },
    {
     "data": {
      "text/plain": [
       "[None]"
      ]
     },
     "metadata": {},
     "output_type": "display_data"
    },
    {
     "name": "stderr",
     "output_type": "stream",
     "text": [
      "66.0:   8%|██████                                                                 | 850/10000 [00:03<00:38, 236.35it/s]"
     ]
    },
    {
     "data": {
      "text/plain": [
       "[None]"
      ]
     },
     "metadata": {},
     "output_type": "display_data"
    },
    {
     "name": "stderr",
     "output_type": "stream",
     "text": [
      "59.0:   8%|██████                                                                 | 850/10000 [00:03<00:38, 236.35it/s]"
     ]
    },
    {
     "data": {
      "text/plain": [
       "[None]"
      ]
     },
     "metadata": {},
     "output_type": "display_data"
    },
    {
     "name": "stderr",
     "output_type": "stream",
     "text": [
      "65.0:   8%|██████                                                                 | 850/10000 [00:03<00:38, 236.35it/s]"
     ]
    },
    {
     "data": {
      "text/plain": [
       "[None]"
      ]
     },
     "metadata": {},
     "output_type": "display_data"
    },
    {
     "name": "stderr",
     "output_type": "stream",
     "text": [
      "59.0:   8%|██████                                                                 | 850/10000 [00:03<00:38, 236.35it/s]"
     ]
    },
    {
     "data": {
      "text/plain": [
       "[None]"
      ]
     },
     "metadata": {},
     "output_type": "display_data"
    },
    {
     "name": "stderr",
     "output_type": "stream",
     "text": [
      "53.0:   8%|██████                                                                 | 850/10000 [00:03<00:38, 236.35it/s]"
     ]
    },
    {
     "data": {
      "text/plain": [
       "[None]"
      ]
     },
     "metadata": {},
     "output_type": "display_data"
    },
    {
     "name": "stderr",
     "output_type": "stream",
     "text": [
      "59.0:   8%|██████                                                                 | 850/10000 [00:03<00:38, 236.35it/s]"
     ]
    },
    {
     "data": {
      "text/plain": [
       "[None]"
      ]
     },
     "metadata": {},
     "output_type": "display_data"
    },
    {
     "name": "stderr",
     "output_type": "stream",
     "text": [
      "63.0:   8%|██████                                                                 | 850/10000 [00:03<00:38, 236.35it/s]"
     ]
    },
    {
     "data": {
      "text/plain": [
       "[None]"
      ]
     },
     "metadata": {},
     "output_type": "display_data"
    },
    {
     "name": "stderr",
     "output_type": "stream",
     "text": [
      "61.0:   8%|██████                                                                 | 850/10000 [00:03<00:38, 236.35it/s]"
     ]
    },
    {
     "data": {
      "text/plain": [
       "[None]"
      ]
     },
     "metadata": {},
     "output_type": "display_data"
    },
    {
     "name": "stderr",
     "output_type": "stream",
     "text": [
      "61.0:   8%|██████                                                                 | 850/10000 [00:03<00:38, 236.35it/s]"
     ]
    },
    {
     "data": {
      "text/plain": [
       "[None]"
      ]
     },
     "metadata": {},
     "output_type": "display_data"
    },
    {
     "name": "stderr",
     "output_type": "stream",
     "text": [
      "58.0:   8%|██████                                                                 | 850/10000 [00:03<00:38, 236.35it/s]"
     ]
    },
    {
     "data": {
      "text/plain": [
       "[None]"
      ]
     },
     "metadata": {},
     "output_type": "display_data"
    },
    {
     "name": "stderr",
     "output_type": "stream",
     "text": [
      "62.0:   8%|██████                                                                 | 850/10000 [00:03<00:38, 236.35it/s]"
     ]
    },
    {
     "data": {
      "text/plain": [
       "[None]"
      ]
     },
     "metadata": {},
     "output_type": "display_data"
    },
    {
     "name": "stderr",
     "output_type": "stream",
     "text": [
      "71.0:   8%|██████                                                                 | 850/10000 [00:03<00:38, 236.35it/s]"
     ]
    },
    {
     "data": {
      "text/plain": [
       "[None]"
      ]
     },
     "metadata": {},
     "output_type": "display_data"
    },
    {
     "name": "stderr",
     "output_type": "stream",
     "text": [
      "51.0:   8%|██████                                                                 | 850/10000 [00:03<00:38, 236.35it/s]"
     ]
    },
    {
     "data": {
      "text/plain": [
       "[None]"
      ]
     },
     "metadata": {},
     "output_type": "display_data"
    },
    {
     "name": "stderr",
     "output_type": "stream",
     "text": [
      "55.0:   8%|██████                                                                 | 850/10000 [00:03<00:38, 236.35it/s]"
     ]
    },
    {
     "data": {
      "text/plain": [
       "[None]"
      ]
     },
     "metadata": {},
     "output_type": "display_data"
    },
    {
     "name": "stderr",
     "output_type": "stream",
     "text": [
      "62.0:   8%|██████                                                                 | 850/10000 [00:03<00:38, 236.35it/s]"
     ]
    },
    {
     "data": {
      "text/plain": [
       "[None]"
      ]
     },
     "metadata": {},
     "output_type": "display_data"
    },
    {
     "name": "stderr",
     "output_type": "stream",
     "text": [
      "56.0:   8%|██████                                                                 | 850/10000 [00:03<00:38, 236.35it/s]"
     ]
    },
    {
     "data": {
      "text/plain": [
       "[None]"
      ]
     },
     "metadata": {},
     "output_type": "display_data"
    },
    {
     "name": "stderr",
     "output_type": "stream",
     "text": [
      "60.0:   9%|██████▏                                                                | 874/10000 [00:03<00:38, 236.77it/s]"
     ]
    },
    {
     "data": {
      "text/plain": [
       "[None]"
      ]
     },
     "metadata": {},
     "output_type": "display_data"
    },
    {
     "name": "stderr",
     "output_type": "stream",
     "text": [
      "58.0:   9%|██████▏                                                                | 874/10000 [00:03<00:38, 236.77it/s]"
     ]
    },
    {
     "data": {
      "text/plain": [
       "[None]"
      ]
     },
     "metadata": {},
     "output_type": "display_data"
    },
    {
     "name": "stderr",
     "output_type": "stream",
     "text": [
      "60.0:   9%|██████▏                                                                | 874/10000 [00:03<00:38, 236.77it/s]"
     ]
    },
    {
     "data": {
      "text/plain": [
       "[None]"
      ]
     },
     "metadata": {},
     "output_type": "display_data"
    },
    {
     "name": "stderr",
     "output_type": "stream",
     "text": [
      "59.0:   9%|██████▏                                                                | 874/10000 [00:03<00:38, 236.77it/s]"
     ]
    },
    {
     "data": {
      "text/plain": [
       "[None]"
      ]
     },
     "metadata": {},
     "output_type": "display_data"
    },
    {
     "name": "stderr",
     "output_type": "stream",
     "text": [
      "62.0:   9%|██████▏                                                                | 874/10000 [00:03<00:38, 236.77it/s]"
     ]
    },
    {
     "data": {
      "text/plain": [
       "[None]"
      ]
     },
     "metadata": {},
     "output_type": "display_data"
    },
    {
     "name": "stderr",
     "output_type": "stream",
     "text": [
      "58.0:   9%|██████▏                                                                | 874/10000 [00:03<00:38, 236.77it/s]"
     ]
    },
    {
     "data": {
      "text/plain": [
       "[None]"
      ]
     },
     "metadata": {},
     "output_type": "display_data"
    },
    {
     "name": "stderr",
     "output_type": "stream",
     "text": [
      "66.0:   9%|██████▏                                                                | 874/10000 [00:03<00:38, 236.77it/s]"
     ]
    },
    {
     "data": {
      "text/plain": [
       "[None]"
      ]
     },
     "metadata": {},
     "output_type": "display_data"
    },
    {
     "name": "stderr",
     "output_type": "stream",
     "text": [
      "56.0:   9%|██████▏                                                                | 874/10000 [00:03<00:38, 236.77it/s]"
     ]
    },
    {
     "data": {
      "text/plain": [
       "[None]"
      ]
     },
     "metadata": {},
     "output_type": "display_data"
    },
    {
     "name": "stderr",
     "output_type": "stream",
     "text": [
      "58.0:   9%|██████▏                                                                | 874/10000 [00:03<00:38, 236.77it/s]"
     ]
    },
    {
     "data": {
      "text/plain": [
       "[None]"
      ]
     },
     "metadata": {},
     "output_type": "display_data"
    },
    {
     "name": "stderr",
     "output_type": "stream",
     "text": [
      "59.0:   9%|██████▏                                                                | 874/10000 [00:03<00:38, 236.77it/s]"
     ]
    },
    {
     "data": {
      "text/plain": [
       "[None]"
      ]
     },
     "metadata": {},
     "output_type": "display_data"
    },
    {
     "name": "stderr",
     "output_type": "stream",
     "text": [
      "64.0:   9%|██████▏                                                                | 874/10000 [00:03<00:38, 236.77it/s]"
     ]
    },
    {
     "data": {
      "text/plain": [
       "[None]"
      ]
     },
     "metadata": {},
     "output_type": "display_data"
    },
    {
     "name": "stderr",
     "output_type": "stream",
     "text": [
      "62.0:   9%|██████▏                                                                | 874/10000 [00:03<00:38, 236.77it/s]"
     ]
    },
    {
     "data": {
      "text/plain": [
       "[None]"
      ]
     },
     "metadata": {},
     "output_type": "display_data"
    },
    {
     "name": "stderr",
     "output_type": "stream",
     "text": [
      "58.0:   9%|██████▏                                                                | 874/10000 [00:03<00:38, 236.77it/s]"
     ]
    },
    {
     "data": {
      "text/plain": [
       "[None]"
      ]
     },
     "metadata": {},
     "output_type": "display_data"
    },
    {
     "name": "stderr",
     "output_type": "stream",
     "text": [
      "61.0:   9%|██████▏                                                                | 874/10000 [00:03<00:38, 236.77it/s]"
     ]
    },
    {
     "data": {
      "text/plain": [
       "[None]"
      ]
     },
     "metadata": {},
     "output_type": "display_data"
    },
    {
     "name": "stderr",
     "output_type": "stream",
     "text": [
      "60.0:   9%|██████▏                                                                | 874/10000 [00:03<00:38, 236.77it/s]"
     ]
    },
    {
     "data": {
      "text/plain": [
       "[None]"
      ]
     },
     "metadata": {},
     "output_type": "display_data"
    },
    {
     "name": "stderr",
     "output_type": "stream",
     "text": [
      "64.0:   9%|██████▏                                                                | 874/10000 [00:03<00:38, 236.77it/s]"
     ]
    },
    {
     "data": {
      "text/plain": [
       "[None]"
      ]
     },
     "metadata": {},
     "output_type": "display_data"
    },
    {
     "name": "stderr",
     "output_type": "stream",
     "text": [
      "58.0:   9%|██████▏                                                                | 874/10000 [00:03<00:38, 236.77it/s]"
     ]
    },
    {
     "data": {
      "text/plain": [
       "[None]"
      ]
     },
     "metadata": {},
     "output_type": "display_data"
    },
    {
     "name": "stderr",
     "output_type": "stream",
     "text": [
      "55.0:   9%|██████▏                                                                | 874/10000 [00:03<00:38, 236.77it/s]"
     ]
    },
    {
     "data": {
      "text/plain": [
       "[None]"
      ]
     },
     "metadata": {},
     "output_type": "display_data"
    },
    {
     "name": "stderr",
     "output_type": "stream",
     "text": [
      "66.0:   9%|██████▏                                                                | 874/10000 [00:03<00:38, 236.77it/s]"
     ]
    },
    {
     "data": {
      "text/plain": [
       "[None]"
      ]
     },
     "metadata": {},
     "output_type": "display_data"
    },
    {
     "name": "stderr",
     "output_type": "stream",
     "text": [
      "57.0:   9%|██████▏                                                                | 874/10000 [00:03<00:38, 236.77it/s]"
     ]
    },
    {
     "data": {
      "text/plain": [
       "[None]"
      ]
     },
     "metadata": {},
     "output_type": "display_data"
    },
    {
     "name": "stderr",
     "output_type": "stream",
     "text": [
      "61.0:   9%|██████▏                                                                | 874/10000 [00:03<00:38, 236.77it/s]"
     ]
    },
    {
     "data": {
      "text/plain": [
       "[None]"
      ]
     },
     "metadata": {},
     "output_type": "display_data"
    },
    {
     "name": "stderr",
     "output_type": "stream",
     "text": [
      "65.0:   9%|██████▏                                                                | 874/10000 [00:03<00:38, 236.77it/s]"
     ]
    },
    {
     "data": {
      "text/plain": [
       "[None]"
      ]
     },
     "metadata": {},
     "output_type": "display_data"
    },
    {
     "name": "stderr",
     "output_type": "stream",
     "text": [
      "67.0:   9%|██████▏                                                                | 874/10000 [00:03<00:38, 236.77it/s]"
     ]
    },
    {
     "data": {
      "text/plain": [
       "[None]"
      ]
     },
     "metadata": {},
     "output_type": "display_data"
    },
    {
     "name": "stderr",
     "output_type": "stream",
     "text": [
      "63.0:   9%|██████▏                                                                | 874/10000 [00:03<00:38, 236.77it/s]"
     ]
    },
    {
     "data": {
      "text/plain": [
       "[None]"
      ]
     },
     "metadata": {},
     "output_type": "display_data"
    },
    {
     "name": "stderr",
     "output_type": "stream",
     "text": [
      "61.0:   9%|██████▍                                                                | 898/10000 [00:03<00:40, 224.26it/s]"
     ]
    },
    {
     "data": {
      "text/plain": [
       "[None]"
      ]
     },
     "metadata": {},
     "output_type": "display_data"
    },
    {
     "name": "stderr",
     "output_type": "stream",
     "text": [
      "57.0:   9%|██████▍                                                                | 898/10000 [00:03<00:40, 224.26it/s]"
     ]
    },
    {
     "data": {
      "text/plain": [
       "[None]"
      ]
     },
     "metadata": {},
     "output_type": "display_data"
    },
    {
     "name": "stderr",
     "output_type": "stream",
     "text": [
      "56.0:   9%|██████▍                                                                | 898/10000 [00:03<00:40, 224.26it/s]"
     ]
    },
    {
     "data": {
      "text/plain": [
       "[None]"
      ]
     },
     "metadata": {},
     "output_type": "display_data"
    },
    {
     "name": "stderr",
     "output_type": "stream",
     "text": [
      "68.0:   9%|██████▍                                                                | 898/10000 [00:03<00:40, 224.26it/s]"
     ]
    },
    {
     "data": {
      "text/plain": [
       "[None]"
      ]
     },
     "metadata": {},
     "output_type": "display_data"
    },
    {
     "name": "stderr",
     "output_type": "stream",
     "text": [
      "62.0:   9%|██████▍                                                                | 898/10000 [00:03<00:40, 224.26it/s]"
     ]
    },
    {
     "data": {
      "text/plain": [
       "[None]"
      ]
     },
     "metadata": {},
     "output_type": "display_data"
    },
    {
     "name": "stderr",
     "output_type": "stream",
     "text": [
      "59.0:   9%|██████▍                                                                | 898/10000 [00:03<00:40, 224.26it/s]"
     ]
    },
    {
     "data": {
      "text/plain": [
       "[None]"
      ]
     },
     "metadata": {},
     "output_type": "display_data"
    },
    {
     "name": "stderr",
     "output_type": "stream",
     "text": [
      "59.0:   9%|██████▍                                                                | 898/10000 [00:03<00:40, 224.26it/s]"
     ]
    },
    {
     "data": {
      "text/plain": [
       "[None]"
      ]
     },
     "metadata": {},
     "output_type": "display_data"
    },
    {
     "name": "stderr",
     "output_type": "stream",
     "text": [
      "65.0:   9%|██████▍                                                                | 898/10000 [00:03<00:40, 224.26it/s]"
     ]
    },
    {
     "data": {
      "text/plain": [
       "[None]"
      ]
     },
     "metadata": {},
     "output_type": "display_data"
    },
    {
     "name": "stderr",
     "output_type": "stream",
     "text": [
      "60.0:   9%|██████▍                                                                | 898/10000 [00:04<00:40, 224.26it/s]"
     ]
    },
    {
     "data": {
      "text/plain": [
       "[None]"
      ]
     },
     "metadata": {},
     "output_type": "display_data"
    },
    {
     "name": "stderr",
     "output_type": "stream",
     "text": [
      "58.0:   9%|██████▍                                                                | 898/10000 [00:04<00:40, 224.26it/s]"
     ]
    },
    {
     "data": {
      "text/plain": [
       "[None]"
      ]
     },
     "metadata": {},
     "output_type": "display_data"
    },
    {
     "name": "stderr",
     "output_type": "stream",
     "text": [
      "69.0:   9%|██████▍                                                                | 898/10000 [00:04<00:40, 224.26it/s]"
     ]
    },
    {
     "data": {
      "text/plain": [
       "[None]"
      ]
     },
     "metadata": {},
     "output_type": "display_data"
    },
    {
     "name": "stderr",
     "output_type": "stream",
     "text": [
      "53.0:   9%|██████▍                                                                | 898/10000 [00:04<00:40, 224.26it/s]"
     ]
    },
    {
     "data": {
      "text/plain": [
       "[None]"
      ]
     },
     "metadata": {},
     "output_type": "display_data"
    },
    {
     "name": "stderr",
     "output_type": "stream",
     "text": [
      "62.0:   9%|██████▍                                                                | 898/10000 [00:04<00:40, 224.26it/s]"
     ]
    },
    {
     "data": {
      "text/plain": [
       "[None]"
      ]
     },
     "metadata": {},
     "output_type": "display_data"
    },
    {
     "name": "stderr",
     "output_type": "stream",
     "text": [
      "65.0:   9%|██████▍                                                                | 898/10000 [00:04<00:40, 224.26it/s]"
     ]
    },
    {
     "data": {
      "text/plain": [
       "[None]"
      ]
     },
     "metadata": {},
     "output_type": "display_data"
    },
    {
     "name": "stderr",
     "output_type": "stream",
     "text": [
      "64.0:   9%|██████▍                                                                | 898/10000 [00:04<00:40, 224.26it/s]"
     ]
    },
    {
     "data": {
      "text/plain": [
       "[None]"
      ]
     },
     "metadata": {},
     "output_type": "display_data"
    },
    {
     "name": "stderr",
     "output_type": "stream",
     "text": [
      "55.0:   9%|██████▍                                                                | 898/10000 [00:04<00:40, 224.26it/s]"
     ]
    },
    {
     "data": {
      "text/plain": [
       "[None]"
      ]
     },
     "metadata": {},
     "output_type": "display_data"
    },
    {
     "name": "stderr",
     "output_type": "stream",
     "text": [
      "65.0:   9%|██████▍                                                                | 898/10000 [00:04<00:40, 224.26it/s]"
     ]
    },
    {
     "data": {
      "text/plain": [
       "[None]"
      ]
     },
     "metadata": {},
     "output_type": "display_data"
    },
    {
     "name": "stderr",
     "output_type": "stream",
     "text": [
      "67.0:   9%|██████▍                                                                | 898/10000 [00:04<00:40, 224.26it/s]"
     ]
    },
    {
     "data": {
      "text/plain": [
       "[None]"
      ]
     },
     "metadata": {},
     "output_type": "display_data"
    },
    {
     "name": "stderr",
     "output_type": "stream",
     "text": [
      "56.0:   9%|██████▍                                                                | 898/10000 [00:04<00:40, 224.26it/s]"
     ]
    },
    {
     "data": {
      "text/plain": [
       "[None]"
      ]
     },
     "metadata": {},
     "output_type": "display_data"
    },
    {
     "name": "stderr",
     "output_type": "stream",
     "text": [
      "62.0:   9%|██████▍                                                                | 898/10000 [00:04<00:40, 224.26it/s]"
     ]
    },
    {
     "data": {
      "text/plain": [
       "[None]"
      ]
     },
     "metadata": {},
     "output_type": "display_data"
    },
    {
     "name": "stderr",
     "output_type": "stream",
     "text": [
      "63.0:   9%|██████▍                                                                | 898/10000 [00:04<00:40, 224.26it/s]"
     ]
    },
    {
     "data": {
      "text/plain": [
       "[None]"
      ]
     },
     "metadata": {},
     "output_type": "display_data"
    },
    {
     "name": "stderr",
     "output_type": "stream",
     "text": [
      "64.0:   9%|██████▍                                                                | 898/10000 [00:04<00:40, 224.26it/s]"
     ]
    },
    {
     "data": {
      "text/plain": [
       "[None]"
      ]
     },
     "metadata": {},
     "output_type": "display_data"
    },
    {
     "name": "stderr",
     "output_type": "stream",
     "text": [
      "61.0:   9%|██████▍                                                                | 898/10000 [00:04<00:40, 224.26it/s]"
     ]
    },
    {
     "data": {
      "text/plain": [
       "[None]"
      ]
     },
     "metadata": {},
     "output_type": "display_data"
    },
    {
     "name": "stderr",
     "output_type": "stream",
     "text": [
      "63.0:   9%|██████▌                                                                | 921/10000 [00:04<00:40, 222.48it/s]"
     ]
    },
    {
     "data": {
      "text/plain": [
       "[None]"
      ]
     },
     "metadata": {},
     "output_type": "display_data"
    },
    {
     "name": "stderr",
     "output_type": "stream",
     "text": [
      "61.0:   9%|██████▌                                                                | 921/10000 [00:04<00:40, 222.48it/s]"
     ]
    },
    {
     "data": {
      "text/plain": [
       "[None]"
      ]
     },
     "metadata": {},
     "output_type": "display_data"
    },
    {
     "name": "stderr",
     "output_type": "stream",
     "text": [
      "55.0:   9%|██████▌                                                                | 921/10000 [00:04<00:40, 222.48it/s]"
     ]
    },
    {
     "data": {
      "text/plain": [
       "[None]"
      ]
     },
     "metadata": {},
     "output_type": "display_data"
    },
    {
     "name": "stderr",
     "output_type": "stream",
     "text": [
      "57.0:   9%|██████▌                                                                | 921/10000 [00:04<00:40, 222.48it/s]"
     ]
    },
    {
     "data": {
      "text/plain": [
       "[None]"
      ]
     },
     "metadata": {},
     "output_type": "display_data"
    },
    {
     "name": "stderr",
     "output_type": "stream",
     "text": [
      "60.0:   9%|██████▌                                                                | 921/10000 [00:04<00:40, 222.48it/s]"
     ]
    },
    {
     "data": {
      "text/plain": [
       "[None]"
      ]
     },
     "metadata": {},
     "output_type": "display_data"
    },
    {
     "name": "stderr",
     "output_type": "stream",
     "text": [
      "63.0:   9%|██████▌                                                                | 921/10000 [00:04<00:40, 222.48it/s]"
     ]
    },
    {
     "data": {
      "text/plain": [
       "[None]"
      ]
     },
     "metadata": {},
     "output_type": "display_data"
    },
    {
     "name": "stderr",
     "output_type": "stream",
     "text": [
      "60.0:   9%|██████▌                                                                | 921/10000 [00:04<00:40, 222.48it/s]"
     ]
    },
    {
     "data": {
      "text/plain": [
       "[None]"
      ]
     },
     "metadata": {},
     "output_type": "display_data"
    },
    {
     "name": "stderr",
     "output_type": "stream",
     "text": [
      "66.0:   9%|██████▌                                                                | 921/10000 [00:04<00:40, 222.48it/s]"
     ]
    },
    {
     "data": {
      "text/plain": [
       "[None]"
      ]
     },
     "metadata": {},
     "output_type": "display_data"
    },
    {
     "name": "stderr",
     "output_type": "stream",
     "text": [
      "61.0:   9%|██████▌                                                                | 921/10000 [00:04<00:40, 222.48it/s]"
     ]
    },
    {
     "data": {
      "text/plain": [
       "[None]"
      ]
     },
     "metadata": {},
     "output_type": "display_data"
    },
    {
     "name": "stderr",
     "output_type": "stream",
     "text": [
      "63.0:   9%|██████▌                                                                | 921/10000 [00:04<00:40, 222.48it/s]"
     ]
    },
    {
     "data": {
      "text/plain": [
       "[None]"
      ]
     },
     "metadata": {},
     "output_type": "display_data"
    },
    {
     "name": "stderr",
     "output_type": "stream",
     "text": [
      "72.0:   9%|██████▌                                                                | 921/10000 [00:04<00:40, 222.48it/s]"
     ]
    },
    {
     "data": {
      "text/plain": [
       "[None]"
      ]
     },
     "metadata": {},
     "output_type": "display_data"
    },
    {
     "name": "stderr",
     "output_type": "stream",
     "text": [
      "66.0:   9%|██████▌                                                                | 921/10000 [00:04<00:40, 222.48it/s]"
     ]
    },
    {
     "data": {
      "text/plain": [
       "[None]"
      ]
     },
     "metadata": {},
     "output_type": "display_data"
    },
    {
     "name": "stderr",
     "output_type": "stream",
     "text": [
      "59.0:   9%|██████▌                                                                | 921/10000 [00:04<00:40, 222.48it/s]"
     ]
    },
    {
     "data": {
      "text/plain": [
       "[None]"
      ]
     },
     "metadata": {},
     "output_type": "display_data"
    },
    {
     "name": "stderr",
     "output_type": "stream",
     "text": [
      "55.0:   9%|██████▌                                                                | 921/10000 [00:04<00:40, 222.48it/s]"
     ]
    },
    {
     "data": {
      "text/plain": [
       "[None]"
      ]
     },
     "metadata": {},
     "output_type": "display_data"
    },
    {
     "name": "stderr",
     "output_type": "stream",
     "text": [
      "65.0:   9%|██████▌                                                                | 921/10000 [00:04<00:40, 222.48it/s]"
     ]
    },
    {
     "data": {
      "text/plain": [
       "[None]"
      ]
     },
     "metadata": {},
     "output_type": "display_data"
    },
    {
     "name": "stderr",
     "output_type": "stream",
     "text": [
      "61.0:   9%|██████▌                                                                | 921/10000 [00:04<00:40, 222.48it/s]"
     ]
    },
    {
     "data": {
      "text/plain": [
       "[None]"
      ]
     },
     "metadata": {},
     "output_type": "display_data"
    },
    {
     "name": "stderr",
     "output_type": "stream",
     "text": [
      "62.0:   9%|██████▌                                                                | 921/10000 [00:04<00:40, 222.48it/s]"
     ]
    },
    {
     "data": {
      "text/plain": [
       "[None]"
      ]
     },
     "metadata": {},
     "output_type": "display_data"
    },
    {
     "name": "stderr",
     "output_type": "stream",
     "text": [
      "62.0:   9%|██████▌                                                                | 921/10000 [00:04<00:40, 222.48it/s]"
     ]
    },
    {
     "data": {
      "text/plain": [
       "[None]"
      ]
     },
     "metadata": {},
     "output_type": "display_data"
    },
    {
     "name": "stderr",
     "output_type": "stream",
     "text": [
      "58.0:   9%|██████▌                                                                | 921/10000 [00:04<00:40, 222.48it/s]"
     ]
    },
    {
     "data": {
      "text/plain": [
       "[None]"
      ]
     },
     "metadata": {},
     "output_type": "display_data"
    },
    {
     "name": "stderr",
     "output_type": "stream",
     "text": [
      "62.0:   9%|██████▌                                                                | 921/10000 [00:04<00:40, 222.48it/s]"
     ]
    },
    {
     "data": {
      "text/plain": [
       "[None]"
      ]
     },
     "metadata": {},
     "output_type": "display_data"
    },
    {
     "name": "stderr",
     "output_type": "stream",
     "text": [
      "61.0:   9%|██████▌                                                                | 921/10000 [00:04<00:40, 222.48it/s]"
     ]
    },
    {
     "data": {
      "text/plain": [
       "[None]"
      ]
     },
     "metadata": {},
     "output_type": "display_data"
    },
    {
     "name": "stderr",
     "output_type": "stream",
     "text": [
      "57.0:   9%|██████▌                                                                | 921/10000 [00:04<00:40, 222.48it/s]"
     ]
    },
    {
     "data": {
      "text/plain": [
       "[None]"
      ]
     },
     "metadata": {},
     "output_type": "display_data"
    },
    {
     "name": "stderr",
     "output_type": "stream",
     "text": [
      "62.0:   9%|██████▌                                                                | 921/10000 [00:04<00:40, 222.48it/s]"
     ]
    },
    {
     "data": {
      "text/plain": [
       "[None]"
      ]
     },
     "metadata": {},
     "output_type": "display_data"
    },
    {
     "name": "stderr",
     "output_type": "stream",
     "text": [
      "65.0:   9%|██████▋                                                                | 944/10000 [00:04<00:42, 214.24it/s]"
     ]
    },
    {
     "data": {
      "text/plain": [
       "[None]"
      ]
     },
     "metadata": {},
     "output_type": "display_data"
    },
    {
     "name": "stderr",
     "output_type": "stream",
     "text": [
      "62.0:   9%|██████▋                                                                | 944/10000 [00:04<00:42, 214.24it/s]"
     ]
    },
    {
     "data": {
      "text/plain": [
       "[None]"
      ]
     },
     "metadata": {},
     "output_type": "display_data"
    },
    {
     "name": "stderr",
     "output_type": "stream",
     "text": [
      "58.0:   9%|██████▋                                                                | 944/10000 [00:04<00:42, 214.24it/s]"
     ]
    },
    {
     "data": {
      "text/plain": [
       "[None]"
      ]
     },
     "metadata": {},
     "output_type": "display_data"
    },
    {
     "name": "stderr",
     "output_type": "stream",
     "text": [
      "62.0:   9%|██████▋                                                                | 944/10000 [00:04<00:42, 214.24it/s]"
     ]
    },
    {
     "data": {
      "text/plain": [
       "[None]"
      ]
     },
     "metadata": {},
     "output_type": "display_data"
    },
    {
     "name": "stderr",
     "output_type": "stream",
     "text": [
      "69.0:   9%|██████▋                                                                | 944/10000 [00:04<00:42, 214.24it/s]"
     ]
    },
    {
     "data": {
      "text/plain": [
       "[None]"
      ]
     },
     "metadata": {},
     "output_type": "display_data"
    },
    {
     "name": "stderr",
     "output_type": "stream",
     "text": [
      "71.0:   9%|██████▋                                                                | 944/10000 [00:04<00:42, 214.24it/s]"
     ]
    },
    {
     "data": {
      "text/plain": [
       "[None]"
      ]
     },
     "metadata": {},
     "output_type": "display_data"
    },
    {
     "name": "stderr",
     "output_type": "stream",
     "text": [
      "60.0:   9%|██████▋                                                                | 944/10000 [00:04<00:42, 214.24it/s]"
     ]
    },
    {
     "data": {
      "text/plain": [
       "[None]"
      ]
     },
     "metadata": {},
     "output_type": "display_data"
    },
    {
     "name": "stderr",
     "output_type": "stream",
     "text": [
      "64.0:   9%|██████▋                                                                | 944/10000 [00:04<00:42, 214.24it/s]"
     ]
    },
    {
     "data": {
      "text/plain": [
       "[None]"
      ]
     },
     "metadata": {},
     "output_type": "display_data"
    },
    {
     "name": "stderr",
     "output_type": "stream",
     "text": [
      "61.0:   9%|██████▋                                                                | 944/10000 [00:04<00:42, 214.24it/s]"
     ]
    },
    {
     "data": {
      "text/plain": [
       "[None]"
      ]
     },
     "metadata": {},
     "output_type": "display_data"
    },
    {
     "name": "stderr",
     "output_type": "stream",
     "text": [
      "61.0:   9%|██████▋                                                                | 944/10000 [00:04<00:42, 214.24it/s]"
     ]
    },
    {
     "data": {
      "text/plain": [
       "[None]"
      ]
     },
     "metadata": {},
     "output_type": "display_data"
    },
    {
     "name": "stderr",
     "output_type": "stream",
     "text": [
      "59.0:   9%|██████▋                                                                | 944/10000 [00:04<00:42, 214.24it/s]"
     ]
    },
    {
     "data": {
      "text/plain": [
       "[None]"
      ]
     },
     "metadata": {},
     "output_type": "display_data"
    },
    {
     "name": "stderr",
     "output_type": "stream",
     "text": [
      "58.0:   9%|██████▋                                                                | 944/10000 [00:04<00:42, 214.24it/s]"
     ]
    },
    {
     "data": {
      "text/plain": [
       "[None]"
      ]
     },
     "metadata": {},
     "output_type": "display_data"
    },
    {
     "name": "stderr",
     "output_type": "stream",
     "text": [
      "58.0:   9%|██████▋                                                                | 944/10000 [00:04<00:42, 214.24it/s]"
     ]
    },
    {
     "data": {
      "text/plain": [
       "[None]"
      ]
     },
     "metadata": {},
     "output_type": "display_data"
    },
    {
     "name": "stderr",
     "output_type": "stream",
     "text": [
      "65.0:   9%|██████▋                                                                | 944/10000 [00:04<00:42, 214.24it/s]"
     ]
    },
    {
     "data": {
      "text/plain": [
       "[None]"
      ]
     },
     "metadata": {},
     "output_type": "display_data"
    },
    {
     "name": "stderr",
     "output_type": "stream",
     "text": [
      "59.0:   9%|██████▋                                                                | 944/10000 [00:04<00:42, 214.24it/s]"
     ]
    },
    {
     "data": {
      "text/plain": [
       "[None]"
      ]
     },
     "metadata": {},
     "output_type": "display_data"
    },
    {
     "name": "stderr",
     "output_type": "stream",
     "text": [
      "65.0:   9%|██████▋                                                                | 944/10000 [00:04<00:42, 214.24it/s]"
     ]
    },
    {
     "data": {
      "text/plain": [
       "[None]"
      ]
     },
     "metadata": {},
     "output_type": "display_data"
    },
    {
     "name": "stderr",
     "output_type": "stream",
     "text": [
      "64.0:   9%|██████▋                                                                | 944/10000 [00:04<00:42, 214.24it/s]"
     ]
    },
    {
     "data": {
      "text/plain": [
       "[None]"
      ]
     },
     "metadata": {},
     "output_type": "display_data"
    },
    {
     "name": "stderr",
     "output_type": "stream",
     "text": [
      "55.0:   9%|██████▋                                                                | 944/10000 [00:04<00:42, 214.24it/s]"
     ]
    },
    {
     "data": {
      "text/plain": [
       "[None]"
      ]
     },
     "metadata": {},
     "output_type": "display_data"
    },
    {
     "name": "stderr",
     "output_type": "stream",
     "text": [
      "59.0:   9%|██████▋                                                                | 944/10000 [00:04<00:42, 214.24it/s]"
     ]
    },
    {
     "data": {
      "text/plain": [
       "[None]"
      ]
     },
     "metadata": {},
     "output_type": "display_data"
    },
    {
     "name": "stderr",
     "output_type": "stream",
     "text": [
      "52.0:   9%|██████▋                                                                | 944/10000 [00:04<00:42, 214.24it/s]"
     ]
    },
    {
     "data": {
      "text/plain": [
       "[None]"
      ]
     },
     "metadata": {},
     "output_type": "display_data"
    },
    {
     "name": "stderr",
     "output_type": "stream",
     "text": [
      "56.0:   9%|██████▋                                                                | 944/10000 [00:04<00:42, 214.24it/s]"
     ]
    },
    {
     "data": {
      "text/plain": [
       "[None]"
      ]
     },
     "metadata": {},
     "output_type": "display_data"
    },
    {
     "name": "stderr",
     "output_type": "stream",
     "text": [
      "61.0:   9%|██████▋                                                                | 944/10000 [00:04<00:42, 214.24it/s]"
     ]
    },
    {
     "data": {
      "text/plain": [
       "[None]"
      ]
     },
     "metadata": {},
     "output_type": "display_data"
    },
    {
     "name": "stderr",
     "output_type": "stream",
     "text": [
      "59.0:  10%|██████▊                                                                | 966/10000 [00:04<00:42, 214.15it/s]"
     ]
    },
    {
     "data": {
      "text/plain": [
       "[None]"
      ]
     },
     "metadata": {},
     "output_type": "display_data"
    },
    {
     "name": "stderr",
     "output_type": "stream",
     "text": [
      "64.0:  10%|██████▊                                                                | 966/10000 [00:04<00:42, 214.15it/s]"
     ]
    },
    {
     "data": {
      "text/plain": [
       "[None]"
      ]
     },
     "metadata": {},
     "output_type": "display_data"
    },
    {
     "name": "stderr",
     "output_type": "stream",
     "text": [
      "59.0:  10%|██████▊                                                                | 966/10000 [00:04<00:42, 214.15it/s]"
     ]
    },
    {
     "data": {
      "text/plain": [
       "[None]"
      ]
     },
     "metadata": {},
     "output_type": "display_data"
    },
    {
     "name": "stderr",
     "output_type": "stream",
     "text": [
      "58.0:  10%|██████▊                                                                | 966/10000 [00:04<00:42, 214.15it/s]"
     ]
    },
    {
     "data": {
      "text/plain": [
       "[None]"
      ]
     },
     "metadata": {},
     "output_type": "display_data"
    },
    {
     "name": "stderr",
     "output_type": "stream",
     "text": [
      "63.0:  10%|██████▊                                                                | 966/10000 [00:04<00:42, 214.15it/s]"
     ]
    },
    {
     "data": {
      "text/plain": [
       "[None]"
      ]
     },
     "metadata": {},
     "output_type": "display_data"
    },
    {
     "name": "stderr",
     "output_type": "stream",
     "text": [
      "65.0:  10%|██████▊                                                                | 966/10000 [00:04<00:42, 214.15it/s]"
     ]
    },
    {
     "data": {
      "text/plain": [
       "[None]"
      ]
     },
     "metadata": {},
     "output_type": "display_data"
    },
    {
     "name": "stderr",
     "output_type": "stream",
     "text": [
      "58.0:  10%|██████▊                                                                | 966/10000 [00:04<00:42, 214.15it/s]"
     ]
    },
    {
     "data": {
      "text/plain": [
       "[None]"
      ]
     },
     "metadata": {},
     "output_type": "display_data"
    },
    {
     "name": "stderr",
     "output_type": "stream",
     "text": [
      "63.0:  10%|██████▊                                                                | 966/10000 [00:04<00:42, 214.15it/s]"
     ]
    },
    {
     "data": {
      "text/plain": [
       "[None]"
      ]
     },
     "metadata": {},
     "output_type": "display_data"
    },
    {
     "name": "stderr",
     "output_type": "stream",
     "text": [
      "67.0:  10%|██████▊                                                                | 966/10000 [00:04<00:42, 214.15it/s]"
     ]
    },
    {
     "data": {
      "text/plain": [
       "[None]"
      ]
     },
     "metadata": {},
     "output_type": "display_data"
    },
    {
     "name": "stderr",
     "output_type": "stream",
     "text": [
      "61.0:  10%|██████▊                                                                | 966/10000 [00:04<00:42, 214.15it/s]"
     ]
    },
    {
     "data": {
      "text/plain": [
       "[None]"
      ]
     },
     "metadata": {},
     "output_type": "display_data"
    },
    {
     "name": "stderr",
     "output_type": "stream",
     "text": [
      "64.0:  10%|██████▊                                                                | 966/10000 [00:04<00:42, 214.15it/s]"
     ]
    },
    {
     "data": {
      "text/plain": [
       "[None]"
      ]
     },
     "metadata": {},
     "output_type": "display_data"
    },
    {
     "name": "stderr",
     "output_type": "stream",
     "text": [
      "59.0:  10%|██████▊                                                                | 966/10000 [00:04<00:42, 214.15it/s]"
     ]
    },
    {
     "data": {
      "text/plain": [
       "[None]"
      ]
     },
     "metadata": {},
     "output_type": "display_data"
    },
    {
     "name": "stderr",
     "output_type": "stream",
     "text": [
      "58.0:  10%|██████▊                                                                | 966/10000 [00:04<00:42, 214.15it/s]"
     ]
    },
    {
     "data": {
      "text/plain": [
       "[None]"
      ]
     },
     "metadata": {},
     "output_type": "display_data"
    },
    {
     "name": "stderr",
     "output_type": "stream",
     "text": [
      "61.0:  10%|██████▊                                                                | 966/10000 [00:04<00:42, 214.15it/s]"
     ]
    },
    {
     "data": {
      "text/plain": [
       "[None]"
      ]
     },
     "metadata": {},
     "output_type": "display_data"
    },
    {
     "name": "stderr",
     "output_type": "stream",
     "text": [
      "63.0:  10%|██████▊                                                                | 966/10000 [00:04<00:42, 214.15it/s]"
     ]
    },
    {
     "data": {
      "text/plain": [
       "[None]"
      ]
     },
     "metadata": {},
     "output_type": "display_data"
    },
    {
     "name": "stderr",
     "output_type": "stream",
     "text": [
      "61.0:  10%|██████▊                                                                | 966/10000 [00:04<00:42, 214.15it/s]"
     ]
    },
    {
     "data": {
      "text/plain": [
       "[None]"
      ]
     },
     "metadata": {},
     "output_type": "display_data"
    },
    {
     "name": "stderr",
     "output_type": "stream",
     "text": [
      "61.0:  10%|██████▊                                                                | 966/10000 [00:04<00:42, 214.15it/s]"
     ]
    },
    {
     "data": {
      "text/plain": [
       "[None]"
      ]
     },
     "metadata": {},
     "output_type": "display_data"
    },
    {
     "name": "stderr",
     "output_type": "stream",
     "text": [
      "57.0:  10%|██████▊                                                                | 966/10000 [00:04<00:42, 214.15it/s]"
     ]
    },
    {
     "data": {
      "text/plain": [
       "[None]"
      ]
     },
     "metadata": {},
     "output_type": "display_data"
    },
    {
     "name": "stderr",
     "output_type": "stream",
     "text": [
      "63.0:  10%|██████▊                                                                | 966/10000 [00:04<00:42, 214.15it/s]"
     ]
    },
    {
     "data": {
      "text/plain": [
       "[None]"
      ]
     },
     "metadata": {},
     "output_type": "display_data"
    },
    {
     "name": "stderr",
     "output_type": "stream",
     "text": [
      "63.0:  10%|██████▊                                                                | 966/10000 [00:04<00:42, 214.15it/s]"
     ]
    },
    {
     "data": {
      "text/plain": [
       "[None]"
      ]
     },
     "metadata": {},
     "output_type": "display_data"
    },
    {
     "name": "stderr",
     "output_type": "stream",
     "text": [
      "56.0:  10%|██████▊                                                                | 966/10000 [00:04<00:42, 214.15it/s]"
     ]
    },
    {
     "data": {
      "text/plain": [
       "[None]"
      ]
     },
     "metadata": {},
     "output_type": "display_data"
    },
    {
     "name": "stderr",
     "output_type": "stream",
     "text": [
      "66.0:  10%|██████▊                                                                | 966/10000 [00:04<00:42, 214.15it/s]"
     ]
    },
    {
     "data": {
      "text/plain": [
       "[None]"
      ]
     },
     "metadata": {},
     "output_type": "display_data"
    },
    {
     "name": "stderr",
     "output_type": "stream",
     "text": [
      "58.0:  10%|███████                                                                | 988/10000 [00:04<00:42, 213.53it/s]"
     ]
    },
    {
     "data": {
      "text/plain": [
       "[None]"
      ]
     },
     "metadata": {},
     "output_type": "display_data"
    },
    {
     "name": "stderr",
     "output_type": "stream",
     "text": [
      "59.0:  10%|███████                                                                | 988/10000 [00:04<00:42, 213.53it/s]"
     ]
    },
    {
     "data": {
      "text/plain": [
       "[None]"
      ]
     },
     "metadata": {},
     "output_type": "display_data"
    },
    {
     "name": "stderr",
     "output_type": "stream",
     "text": [
      "62.0:  10%|███████                                                                | 988/10000 [00:04<00:42, 213.53it/s]"
     ]
    },
    {
     "data": {
      "text/plain": [
       "[None]"
      ]
     },
     "metadata": {},
     "output_type": "display_data"
    },
    {
     "name": "stderr",
     "output_type": "stream",
     "text": [
      "59.0:  10%|███████                                                                | 988/10000 [00:04<00:42, 213.53it/s]"
     ]
    },
    {
     "data": {
      "text/plain": [
       "[None]"
      ]
     },
     "metadata": {},
     "output_type": "display_data"
    },
    {
     "name": "stderr",
     "output_type": "stream",
     "text": [
      "64.0:  10%|███████                                                                | 988/10000 [00:04<00:42, 213.53it/s]"
     ]
    },
    {
     "data": {
      "text/plain": [
       "[None]"
      ]
     },
     "metadata": {},
     "output_type": "display_data"
    },
    {
     "name": "stderr",
     "output_type": "stream",
     "text": [
      "68.0:  10%|███████                                                                | 988/10000 [00:04<00:42, 213.53it/s]"
     ]
    },
    {
     "data": {
      "text/plain": [
       "[None]"
      ]
     },
     "metadata": {},
     "output_type": "display_data"
    },
    {
     "name": "stderr",
     "output_type": "stream",
     "text": [
      "60.0:  10%|███████                                                                | 988/10000 [00:04<00:42, 213.53it/s]"
     ]
    },
    {
     "data": {
      "text/plain": [
       "[None]"
      ]
     },
     "metadata": {},
     "output_type": "display_data"
    },
    {
     "name": "stderr",
     "output_type": "stream",
     "text": [
      "65.0:  10%|███████                                                                | 988/10000 [00:04<00:42, 213.53it/s]"
     ]
    },
    {
     "data": {
      "text/plain": [
       "[None]"
      ]
     },
     "metadata": {},
     "output_type": "display_data"
    },
    {
     "name": "stderr",
     "output_type": "stream",
     "text": [
      "69.0:  10%|███████                                                                | 988/10000 [00:04<00:42, 213.53it/s]"
     ]
    },
    {
     "data": {
      "text/plain": [
       "[None]"
      ]
     },
     "metadata": {},
     "output_type": "display_data"
    },
    {
     "name": "stderr",
     "output_type": "stream",
     "text": [
      "58.0:  10%|███████                                                                | 988/10000 [00:04<00:42, 213.53it/s]"
     ]
    },
    {
     "data": {
      "text/plain": [
       "[None]"
      ]
     },
     "metadata": {},
     "output_type": "display_data"
    },
    {
     "name": "stderr",
     "output_type": "stream",
     "text": [
      "67.0:  10%|███████                                                                | 988/10000 [00:04<00:42, 213.53it/s]"
     ]
    },
    {
     "data": {
      "text/plain": [
       "[None]"
      ]
     },
     "metadata": {},
     "output_type": "display_data"
    },
    {
     "name": "stderr",
     "output_type": "stream",
     "text": [
      "67.0:  10%|███████                                                                | 988/10000 [00:04<00:42, 213.53it/s]"
     ]
    },
    {
     "data": {
      "text/plain": [
       "[None]"
      ]
     },
     "metadata": {},
     "output_type": "display_data"
    },
    {
     "name": "stderr",
     "output_type": "stream",
     "text": [
      "61.0:  10%|███████                                                                | 988/10000 [00:04<00:42, 213.53it/s]"
     ]
    },
    {
     "data": {
      "text/plain": [
       "[None]"
      ]
     },
     "metadata": {},
     "output_type": "display_data"
    },
    {
     "name": "stderr",
     "output_type": "stream",
     "text": [
      "63.0:  10%|███████                                                                | 988/10000 [00:04<00:42, 213.53it/s]"
     ]
    },
    {
     "data": {
      "text/plain": [
       "[None]"
      ]
     },
     "metadata": {},
     "output_type": "display_data"
    },
    {
     "name": "stderr",
     "output_type": "stream",
     "text": [
      "57.0:  10%|███████                                                                | 988/10000 [00:04<00:42, 213.53it/s]"
     ]
    },
    {
     "data": {
      "text/plain": [
       "[None]"
      ]
     },
     "metadata": {},
     "output_type": "display_data"
    },
    {
     "name": "stderr",
     "output_type": "stream",
     "text": [
      "55.0:  10%|███████                                                                | 988/10000 [00:04<00:42, 213.53it/s]"
     ]
    },
    {
     "data": {
      "text/plain": [
       "[None]"
      ]
     },
     "metadata": {},
     "output_type": "display_data"
    },
    {
     "name": "stderr",
     "output_type": "stream",
     "text": [
      "61.0:  10%|███████                                                                | 988/10000 [00:04<00:42, 213.53it/s]"
     ]
    },
    {
     "data": {
      "text/plain": [
       "[None]"
      ]
     },
     "metadata": {},
     "output_type": "display_data"
    },
    {
     "name": "stderr",
     "output_type": "stream",
     "text": [
      "64.0:  10%|███████                                                                | 988/10000 [00:04<00:42, 213.53it/s]"
     ]
    },
    {
     "data": {
      "text/plain": [
       "[None]"
      ]
     },
     "metadata": {},
     "output_type": "display_data"
    },
    {
     "name": "stderr",
     "output_type": "stream",
     "text": [
      "60.0:  10%|███████                                                                | 988/10000 [00:04<00:42, 213.53it/s]"
     ]
    },
    {
     "data": {
      "text/plain": [
       "[None]"
      ]
     },
     "metadata": {},
     "output_type": "display_data"
    },
    {
     "name": "stderr",
     "output_type": "stream",
     "text": [
      "61.0:  10%|███████                                                                | 988/10000 [00:04<00:42, 213.53it/s]"
     ]
    },
    {
     "data": {
      "text/plain": [
       "[None]"
      ]
     },
     "metadata": {},
     "output_type": "display_data"
    },
    {
     "name": "stderr",
     "output_type": "stream",
     "text": [
      "65.0:  10%|███████                                                                | 988/10000 [00:04<00:42, 213.53it/s]"
     ]
    },
    {
     "data": {
      "text/plain": [
       "[None]"
      ]
     },
     "metadata": {},
     "output_type": "display_data"
    },
    {
     "name": "stderr",
     "output_type": "stream",
     "text": [
      "55.0:  10%|███████                                                                | 988/10000 [00:04<00:42, 213.53it/s]"
     ]
    },
    {
     "data": {
      "text/plain": [
       "[None]"
      ]
     },
     "metadata": {},
     "output_type": "display_data"
    },
    {
     "name": "stderr",
     "output_type": "stream",
     "text": [
      "62.0:  10%|███████                                                               | 1010/10000 [00:04<00:42, 210.80it/s]"
     ]
    },
    {
     "data": {
      "text/plain": [
       "[None]"
      ]
     },
     "metadata": {},
     "output_type": "display_data"
    },
    {
     "name": "stderr",
     "output_type": "stream",
     "text": [
      "57.0:  10%|███████                                                               | 1010/10000 [00:04<00:42, 210.80it/s]"
     ]
    },
    {
     "data": {
      "text/plain": [
       "[None]"
      ]
     },
     "metadata": {},
     "output_type": "display_data"
    },
    {
     "name": "stderr",
     "output_type": "stream",
     "text": [
      "58.0:  10%|███████                                                               | 1010/10000 [00:04<00:42, 210.80it/s]"
     ]
    },
    {
     "data": {
      "text/plain": [
       "[None]"
      ]
     },
     "metadata": {},
     "output_type": "display_data"
    },
    {
     "name": "stderr",
     "output_type": "stream",
     "text": [
      "60.0:  10%|███████                                                               | 1010/10000 [00:04<00:42, 210.80it/s]"
     ]
    },
    {
     "data": {
      "text/plain": [
       "[None]"
      ]
     },
     "metadata": {},
     "output_type": "display_data"
    },
    {
     "name": "stderr",
     "output_type": "stream",
     "text": [
      "60.0:  10%|███████                                                               | 1010/10000 [00:04<00:42, 210.80it/s]"
     ]
    },
    {
     "data": {
      "text/plain": [
       "[None]"
      ]
     },
     "metadata": {},
     "output_type": "display_data"
    },
    {
     "name": "stderr",
     "output_type": "stream",
     "text": [
      "62.0:  10%|███████                                                               | 1010/10000 [00:04<00:42, 210.80it/s]"
     ]
    },
    {
     "data": {
      "text/plain": [
       "[None]"
      ]
     },
     "metadata": {},
     "output_type": "display_data"
    },
    {
     "name": "stderr",
     "output_type": "stream",
     "text": [
      "59.0:  10%|███████                                                               | 1010/10000 [00:04<00:42, 210.80it/s]"
     ]
    },
    {
     "data": {
      "text/plain": [
       "[None]"
      ]
     },
     "metadata": {},
     "output_type": "display_data"
    },
    {
     "name": "stderr",
     "output_type": "stream",
     "text": [
      "63.0:  10%|███████                                                               | 1010/10000 [00:04<00:42, 210.80it/s]"
     ]
    },
    {
     "data": {
      "text/plain": [
       "[None]"
      ]
     },
     "metadata": {},
     "output_type": "display_data"
    },
    {
     "name": "stderr",
     "output_type": "stream",
     "text": [
      "61.0:  10%|███████                                                               | 1010/10000 [00:04<00:42, 210.80it/s]"
     ]
    },
    {
     "data": {
      "text/plain": [
       "[None]"
      ]
     },
     "metadata": {},
     "output_type": "display_data"
    },
    {
     "name": "stderr",
     "output_type": "stream",
     "text": [
      "64.0:  10%|███████                                                               | 1010/10000 [00:04<00:42, 210.80it/s]"
     ]
    },
    {
     "data": {
      "text/plain": [
       "[None]"
      ]
     },
     "metadata": {},
     "output_type": "display_data"
    },
    {
     "name": "stderr",
     "output_type": "stream",
     "text": [
      "63.0:  10%|███████                                                               | 1010/10000 [00:04<00:42, 210.80it/s]"
     ]
    },
    {
     "data": {
      "text/plain": [
       "[None]"
      ]
     },
     "metadata": {},
     "output_type": "display_data"
    },
    {
     "name": "stderr",
     "output_type": "stream",
     "text": [
      "65.0:  10%|███████                                                               | 1010/10000 [00:04<00:42, 210.80it/s]"
     ]
    },
    {
     "data": {
      "text/plain": [
       "[None]"
      ]
     },
     "metadata": {},
     "output_type": "display_data"
    },
    {
     "name": "stderr",
     "output_type": "stream",
     "text": [
      "65.0:  10%|███████                                                               | 1010/10000 [00:04<00:42, 210.80it/s]"
     ]
    },
    {
     "data": {
      "text/plain": [
       "[None]"
      ]
     },
     "metadata": {},
     "output_type": "display_data"
    },
    {
     "name": "stderr",
     "output_type": "stream",
     "text": [
      "55.0:  10%|███████                                                               | 1010/10000 [00:04<00:42, 210.80it/s]"
     ]
    },
    {
     "data": {
      "text/plain": [
       "[None]"
      ]
     },
     "metadata": {},
     "output_type": "display_data"
    },
    {
     "name": "stderr",
     "output_type": "stream",
     "text": [
      "53.0:  10%|███████                                                               | 1010/10000 [00:04<00:42, 210.80it/s]"
     ]
    },
    {
     "data": {
      "text/plain": [
       "[None]"
      ]
     },
     "metadata": {},
     "output_type": "display_data"
    },
    {
     "name": "stderr",
     "output_type": "stream",
     "text": [
      "65.0:  10%|███████                                                               | 1010/10000 [00:04<00:42, 210.80it/s]"
     ]
    },
    {
     "data": {
      "text/plain": [
       "[None]"
      ]
     },
     "metadata": {},
     "output_type": "display_data"
    },
    {
     "name": "stderr",
     "output_type": "stream",
     "text": [
      "70.0:  10%|███████                                                               | 1010/10000 [00:04<00:42, 210.80it/s]"
     ]
    },
    {
     "data": {
      "text/plain": [
       "[None]"
      ]
     },
     "metadata": {},
     "output_type": "display_data"
    },
    {
     "name": "stderr",
     "output_type": "stream",
     "text": [
      "52.0:  10%|███████                                                               | 1010/10000 [00:04<00:42, 210.80it/s]"
     ]
    },
    {
     "data": {
      "text/plain": [
       "[None]"
      ]
     },
     "metadata": {},
     "output_type": "display_data"
    },
    {
     "name": "stderr",
     "output_type": "stream",
     "text": [
      "58.0:  10%|███████                                                               | 1010/10000 [00:04<00:42, 210.80it/s]"
     ]
    },
    {
     "data": {
      "text/plain": [
       "[None]"
      ]
     },
     "metadata": {},
     "output_type": "display_data"
    },
    {
     "name": "stderr",
     "output_type": "stream",
     "text": [
      "63.0:  10%|███████                                                               | 1010/10000 [00:04<00:42, 210.80it/s]"
     ]
    },
    {
     "data": {
      "text/plain": [
       "[None]"
      ]
     },
     "metadata": {},
     "output_type": "display_data"
    },
    {
     "name": "stderr",
     "output_type": "stream",
     "text": [
      "52.0:  10%|███████                                                               | 1010/10000 [00:04<00:42, 210.80it/s]"
     ]
    },
    {
     "data": {
      "text/plain": [
       "[None]"
      ]
     },
     "metadata": {},
     "output_type": "display_data"
    },
    {
     "name": "stderr",
     "output_type": "stream",
     "text": [
      "59.0:  10%|███████                                                               | 1010/10000 [00:04<00:42, 210.80it/s]"
     ]
    },
    {
     "data": {
      "text/plain": [
       "[None]"
      ]
     },
     "metadata": {},
     "output_type": "display_data"
    },
    {
     "name": "stderr",
     "output_type": "stream",
     "text": [
      "57.0:  10%|███████▏                                                              | 1032/10000 [00:04<00:42, 212.62it/s]"
     ]
    },
    {
     "data": {
      "text/plain": [
       "[None]"
      ]
     },
     "metadata": {},
     "output_type": "display_data"
    },
    {
     "name": "stderr",
     "output_type": "stream",
     "text": [
      "60.0:  10%|███████▏                                                              | 1032/10000 [00:04<00:42, 212.62it/s]"
     ]
    },
    {
     "data": {
      "text/plain": [
       "[None]"
      ]
     },
     "metadata": {},
     "output_type": "display_data"
    },
    {
     "name": "stderr",
     "output_type": "stream",
     "text": [
      "58.0:  10%|███████▏                                                              | 1032/10000 [00:04<00:42, 212.62it/s]"
     ]
    },
    {
     "data": {
      "text/plain": [
       "[None]"
      ]
     },
     "metadata": {},
     "output_type": "display_data"
    },
    {
     "name": "stderr",
     "output_type": "stream",
     "text": [
      "66.0:  10%|███████▏                                                              | 1032/10000 [00:04<00:42, 212.62it/s]"
     ]
    },
    {
     "data": {
      "text/plain": [
       "[None]"
      ]
     },
     "metadata": {},
     "output_type": "display_data"
    },
    {
     "name": "stderr",
     "output_type": "stream",
     "text": [
      "58.0:  10%|███████▏                                                              | 1032/10000 [00:04<00:42, 212.62it/s]"
     ]
    },
    {
     "data": {
      "text/plain": [
       "[None]"
      ]
     },
     "metadata": {},
     "output_type": "display_data"
    },
    {
     "name": "stderr",
     "output_type": "stream",
     "text": [
      "59.0:  10%|███████▏                                                              | 1032/10000 [00:04<00:42, 212.62it/s]"
     ]
    },
    {
     "data": {
      "text/plain": [
       "[None]"
      ]
     },
     "metadata": {},
     "output_type": "display_data"
    },
    {
     "name": "stderr",
     "output_type": "stream",
     "text": [
      "63.0:  10%|███████▏                                                              | 1032/10000 [00:04<00:42, 212.62it/s]"
     ]
    },
    {
     "data": {
      "text/plain": [
       "[None]"
      ]
     },
     "metadata": {},
     "output_type": "display_data"
    },
    {
     "name": "stderr",
     "output_type": "stream",
     "text": [
      "60.0:  10%|███████▏                                                              | 1032/10000 [00:04<00:42, 212.62it/s]"
     ]
    },
    {
     "data": {
      "text/plain": [
       "[None]"
      ]
     },
     "metadata": {},
     "output_type": "display_data"
    },
    {
     "name": "stderr",
     "output_type": "stream",
     "text": [
      "57.0:  10%|███████▏                                                              | 1032/10000 [00:04<00:42, 212.62it/s]"
     ]
    },
    {
     "data": {
      "text/plain": [
       "[None]"
      ]
     },
     "metadata": {},
     "output_type": "display_data"
    },
    {
     "name": "stderr",
     "output_type": "stream",
     "text": [
      "55.0:  10%|███████▏                                                              | 1032/10000 [00:04<00:42, 212.62it/s]"
     ]
    },
    {
     "data": {
      "text/plain": [
       "[None]"
      ]
     },
     "metadata": {},
     "output_type": "display_data"
    },
    {
     "name": "stderr",
     "output_type": "stream",
     "text": [
      "60.0:  10%|███████▏                                                              | 1032/10000 [00:04<00:42, 212.62it/s]"
     ]
    },
    {
     "data": {
      "text/plain": [
       "[None]"
      ]
     },
     "metadata": {},
     "output_type": "display_data"
    },
    {
     "name": "stderr",
     "output_type": "stream",
     "text": [
      "59.0:  10%|███████▏                                                              | 1032/10000 [00:04<00:42, 212.62it/s]"
     ]
    },
    {
     "data": {
      "text/plain": [
       "[None]"
      ]
     },
     "metadata": {},
     "output_type": "display_data"
    },
    {
     "name": "stderr",
     "output_type": "stream",
     "text": [
      "61.0:  10%|███████▏                                                              | 1032/10000 [00:04<00:42, 212.62it/s]"
     ]
    },
    {
     "data": {
      "text/plain": [
       "[None]"
      ]
     },
     "metadata": {},
     "output_type": "display_data"
    },
    {
     "name": "stderr",
     "output_type": "stream",
     "text": [
      "61.0:  10%|███████▏                                                              | 1032/10000 [00:04<00:42, 212.62it/s]"
     ]
    },
    {
     "data": {
      "text/plain": [
       "[None]"
      ]
     },
     "metadata": {},
     "output_type": "display_data"
    },
    {
     "name": "stderr",
     "output_type": "stream",
     "text": [
      "70.0:  10%|███████▏                                                              | 1032/10000 [00:04<00:42, 212.62it/s]"
     ]
    },
    {
     "data": {
      "text/plain": [
       "[None]"
      ]
     },
     "metadata": {},
     "output_type": "display_data"
    },
    {
     "name": "stderr",
     "output_type": "stream",
     "text": [
      "59.0:  10%|███████▏                                                              | 1032/10000 [00:04<00:42, 212.62it/s]"
     ]
    },
    {
     "data": {
      "text/plain": [
       "[None]"
      ]
     },
     "metadata": {},
     "output_type": "display_data"
    },
    {
     "name": "stderr",
     "output_type": "stream",
     "text": [
      "61.0:  10%|███████▏                                                              | 1032/10000 [00:04<00:42, 212.62it/s]"
     ]
    },
    {
     "data": {
      "text/plain": [
       "[None]"
      ]
     },
     "metadata": {},
     "output_type": "display_data"
    },
    {
     "name": "stderr",
     "output_type": "stream",
     "text": [
      "65.0:  10%|███████▏                                                              | 1032/10000 [00:04<00:42, 212.62it/s]"
     ]
    },
    {
     "data": {
      "text/plain": [
       "[None]"
      ]
     },
     "metadata": {},
     "output_type": "display_data"
    },
    {
     "name": "stderr",
     "output_type": "stream",
     "text": [
      "60.0:  10%|███████▏                                                              | 1032/10000 [00:04<00:42, 212.62it/s]"
     ]
    },
    {
     "data": {
      "text/plain": [
       "[None]"
      ]
     },
     "metadata": {},
     "output_type": "display_data"
    },
    {
     "name": "stderr",
     "output_type": "stream",
     "text": [
      "59.0:  10%|███████▏                                                              | 1032/10000 [00:04<00:42, 212.62it/s]"
     ]
    },
    {
     "data": {
      "text/plain": [
       "[None]"
      ]
     },
     "metadata": {},
     "output_type": "display_data"
    },
    {
     "name": "stderr",
     "output_type": "stream",
     "text": [
      "62.0:  10%|███████▏                                                              | 1032/10000 [00:04<00:42, 212.62it/s]"
     ]
    },
    {
     "data": {
      "text/plain": [
       "[None]"
      ]
     },
     "metadata": {},
     "output_type": "display_data"
    },
    {
     "name": "stderr",
     "output_type": "stream",
     "text": [
      "64.0:  10%|███████▏                                                              | 1032/10000 [00:04<00:42, 212.62it/s]"
     ]
    },
    {
     "data": {
      "text/plain": [
       "[None]"
      ]
     },
     "metadata": {},
     "output_type": "display_data"
    },
    {
     "name": "stderr",
     "output_type": "stream",
     "text": [
      "61.0:  11%|███████▍                                                              | 1054/10000 [00:04<00:43, 207.61it/s]"
     ]
    },
    {
     "data": {
      "text/plain": [
       "[None]"
      ]
     },
     "metadata": {},
     "output_type": "display_data"
    },
    {
     "name": "stderr",
     "output_type": "stream",
     "text": [
      "64.0:  11%|███████▍                                                              | 1054/10000 [00:04<00:43, 207.61it/s]"
     ]
    },
    {
     "data": {
      "text/plain": [
       "[None]"
      ]
     },
     "metadata": {},
     "output_type": "display_data"
    },
    {
     "name": "stderr",
     "output_type": "stream",
     "text": [
      "62.0:  11%|███████▍                                                              | 1054/10000 [00:04<00:43, 207.61it/s]"
     ]
    },
    {
     "data": {
      "text/plain": [
       "[None]"
      ]
     },
     "metadata": {},
     "output_type": "display_data"
    },
    {
     "name": "stderr",
     "output_type": "stream",
     "text": [
      "62.0:  11%|███████▍                                                              | 1054/10000 [00:04<00:43, 207.61it/s]"
     ]
    },
    {
     "data": {
      "text/plain": [
       "[None]"
      ]
     },
     "metadata": {},
     "output_type": "display_data"
    },
    {
     "name": "stderr",
     "output_type": "stream",
     "text": [
      "64.0:  11%|███████▍                                                              | 1054/10000 [00:04<00:43, 207.61it/s]"
     ]
    },
    {
     "data": {
      "text/plain": [
       "[None]"
      ]
     },
     "metadata": {},
     "output_type": "display_data"
    },
    {
     "name": "stderr",
     "output_type": "stream",
     "text": [
      "53.0:  11%|███████▍                                                              | 1054/10000 [00:04<00:43, 207.61it/s]"
     ]
    },
    {
     "data": {
      "text/plain": [
       "[None]"
      ]
     },
     "metadata": {},
     "output_type": "display_data"
    },
    {
     "name": "stderr",
     "output_type": "stream",
     "text": [
      "63.0:  11%|███████▍                                                              | 1054/10000 [00:04<00:43, 207.61it/s]"
     ]
    },
    {
     "data": {
      "text/plain": [
       "[None]"
      ]
     },
     "metadata": {},
     "output_type": "display_data"
    },
    {
     "name": "stderr",
     "output_type": "stream",
     "text": [
      "63.0:  11%|███████▍                                                              | 1054/10000 [00:04<00:43, 207.61it/s]"
     ]
    },
    {
     "data": {
      "text/plain": [
       "[None]"
      ]
     },
     "metadata": {},
     "output_type": "display_data"
    },
    {
     "name": "stderr",
     "output_type": "stream",
     "text": [
      "59.0:  11%|███████▍                                                              | 1054/10000 [00:04<00:43, 207.61it/s]"
     ]
    },
    {
     "data": {
      "text/plain": [
       "[None]"
      ]
     },
     "metadata": {},
     "output_type": "display_data"
    },
    {
     "name": "stderr",
     "output_type": "stream",
     "text": [
      "53.0:  11%|███████▍                                                              | 1054/10000 [00:04<00:43, 207.61it/s]"
     ]
    },
    {
     "data": {
      "text/plain": [
       "[None]"
      ]
     },
     "metadata": {},
     "output_type": "display_data"
    },
    {
     "name": "stderr",
     "output_type": "stream",
     "text": [
      "60.0:  11%|███████▍                                                              | 1054/10000 [00:04<00:43, 207.61it/s]"
     ]
    },
    {
     "data": {
      "text/plain": [
       "[None]"
      ]
     },
     "metadata": {},
     "output_type": "display_data"
    },
    {
     "name": "stderr",
     "output_type": "stream",
     "text": [
      "63.0:  11%|███████▍                                                              | 1054/10000 [00:04<00:43, 207.61it/s]"
     ]
    },
    {
     "data": {
      "text/plain": [
       "[None]"
      ]
     },
     "metadata": {},
     "output_type": "display_data"
    },
    {
     "name": "stderr",
     "output_type": "stream",
     "text": [
      "64.0:  11%|███████▍                                                              | 1054/10000 [00:04<00:43, 207.61it/s]"
     ]
    },
    {
     "data": {
      "text/plain": [
       "[None]"
      ]
     },
     "metadata": {},
     "output_type": "display_data"
    },
    {
     "name": "stderr",
     "output_type": "stream",
     "text": [
      "52.0:  11%|███████▍                                                              | 1054/10000 [00:04<00:43, 207.61it/s]"
     ]
    },
    {
     "data": {
      "text/plain": [
       "[None]"
      ]
     },
     "metadata": {},
     "output_type": "display_data"
    },
    {
     "name": "stderr",
     "output_type": "stream",
     "text": [
      "56.0:  11%|███████▍                                                              | 1054/10000 [00:04<00:43, 207.61it/s]"
     ]
    },
    {
     "data": {
      "text/plain": [
       "[None]"
      ]
     },
     "metadata": {},
     "output_type": "display_data"
    },
    {
     "name": "stderr",
     "output_type": "stream",
     "text": [
      "60.0:  11%|███████▍                                                              | 1054/10000 [00:04<00:43, 207.61it/s]"
     ]
    },
    {
     "data": {
      "text/plain": [
       "[None]"
      ]
     },
     "metadata": {},
     "output_type": "display_data"
    },
    {
     "name": "stderr",
     "output_type": "stream",
     "text": [
      "59.0:  11%|███████▍                                                              | 1054/10000 [00:04<00:43, 207.61it/s]"
     ]
    },
    {
     "data": {
      "text/plain": [
       "[None]"
      ]
     },
     "metadata": {},
     "output_type": "display_data"
    },
    {
     "name": "stderr",
     "output_type": "stream",
     "text": [
      "58.0:  11%|███████▍                                                              | 1054/10000 [00:04<00:43, 207.61it/s]"
     ]
    },
    {
     "data": {
      "text/plain": [
       "[None]"
      ]
     },
     "metadata": {},
     "output_type": "display_data"
    },
    {
     "name": "stderr",
     "output_type": "stream",
     "text": [
      "59.0:  11%|███████▍                                                              | 1054/10000 [00:04<00:43, 207.61it/s]"
     ]
    },
    {
     "data": {
      "text/plain": [
       "[None]"
      ]
     },
     "metadata": {},
     "output_type": "display_data"
    },
    {
     "name": "stderr",
     "output_type": "stream",
     "text": [
      "56.0:  11%|███████▍                                                              | 1054/10000 [00:04<00:43, 207.61it/s]"
     ]
    },
    {
     "data": {
      "text/plain": [
       "[None]"
      ]
     },
     "metadata": {},
     "output_type": "display_data"
    },
    {
     "name": "stderr",
     "output_type": "stream",
     "text": [
      "55.0:  11%|███████▍                                                              | 1054/10000 [00:04<00:43, 207.61it/s]"
     ]
    },
    {
     "data": {
      "text/plain": [
       "[None]"
      ]
     },
     "metadata": {},
     "output_type": "display_data"
    },
    {
     "name": "stderr",
     "output_type": "stream",
     "text": [
      "60.0:  11%|███████▍                                                              | 1054/10000 [00:04<00:43, 207.61it/s]"
     ]
    },
    {
     "data": {
      "text/plain": [
       "[None]"
      ]
     },
     "metadata": {},
     "output_type": "display_data"
    },
    {
     "name": "stderr",
     "output_type": "stream",
     "text": [
      "63.0:  11%|███████▍                                                              | 1054/10000 [00:04<00:43, 207.61it/s]"
     ]
    },
    {
     "data": {
      "text/plain": [
       "[None]"
      ]
     },
     "metadata": {},
     "output_type": "display_data"
    },
    {
     "name": "stderr",
     "output_type": "stream",
     "text": [
      "58.0:  11%|███████▌                                                              | 1077/10000 [00:04<00:42, 211.38it/s]"
     ]
    },
    {
     "data": {
      "text/plain": [
       "[None]"
      ]
     },
     "metadata": {},
     "output_type": "display_data"
    },
    {
     "name": "stderr",
     "output_type": "stream",
     "text": [
      "60.0:  11%|███████▌                                                              | 1077/10000 [00:04<00:42, 211.38it/s]"
     ]
    },
    {
     "data": {
      "text/plain": [
       "[None]"
      ]
     },
     "metadata": {},
     "output_type": "display_data"
    },
    {
     "name": "stderr",
     "output_type": "stream",
     "text": [
      "65.0:  11%|███████▌                                                              | 1077/10000 [00:04<00:42, 211.38it/s]"
     ]
    },
    {
     "data": {
      "text/plain": [
       "[None]"
      ]
     },
     "metadata": {},
     "output_type": "display_data"
    },
    {
     "name": "stderr",
     "output_type": "stream",
     "text": [
      "70.0:  11%|███████▌                                                              | 1077/10000 [00:04<00:42, 211.38it/s]"
     ]
    },
    {
     "data": {
      "text/plain": [
       "[None]"
      ]
     },
     "metadata": {},
     "output_type": "display_data"
    },
    {
     "name": "stderr",
     "output_type": "stream",
     "text": [
      "51.0:  11%|███████▌                                                              | 1077/10000 [00:04<00:42, 211.38it/s]"
     ]
    },
    {
     "data": {
      "text/plain": [
       "[None]"
      ]
     },
     "metadata": {},
     "output_type": "display_data"
    },
    {
     "name": "stderr",
     "output_type": "stream",
     "text": [
      "62.0:  11%|███████▌                                                              | 1077/10000 [00:04<00:42, 211.38it/s]"
     ]
    },
    {
     "data": {
      "text/plain": [
       "[None]"
      ]
     },
     "metadata": {},
     "output_type": "display_data"
    },
    {
     "name": "stderr",
     "output_type": "stream",
     "text": [
      "61.0:  11%|███████▌                                                              | 1077/10000 [00:04<00:42, 211.38it/s]"
     ]
    },
    {
     "data": {
      "text/plain": [
       "[None]"
      ]
     },
     "metadata": {},
     "output_type": "display_data"
    },
    {
     "name": "stderr",
     "output_type": "stream",
     "text": [
      "61.0:  11%|███████▌                                                              | 1077/10000 [00:04<00:42, 211.38it/s]"
     ]
    },
    {
     "data": {
      "text/plain": [
       "[None]"
      ]
     },
     "metadata": {},
     "output_type": "display_data"
    },
    {
     "name": "stderr",
     "output_type": "stream",
     "text": [
      "67.0:  11%|███████▌                                                              | 1077/10000 [00:04<00:42, 211.38it/s]"
     ]
    },
    {
     "data": {
      "text/plain": [
       "[None]"
      ]
     },
     "metadata": {},
     "output_type": "display_data"
    },
    {
     "name": "stderr",
     "output_type": "stream",
     "text": [
      "57.0:  11%|███████▌                                                              | 1077/10000 [00:04<00:42, 211.38it/s]"
     ]
    },
    {
     "data": {
      "text/plain": [
       "[None]"
      ]
     },
     "metadata": {},
     "output_type": "display_data"
    },
    {
     "name": "stderr",
     "output_type": "stream",
     "text": [
      "63.0:  11%|███████▌                                                              | 1077/10000 [00:04<00:42, 211.38it/s]"
     ]
    },
    {
     "data": {
      "text/plain": [
       "[None]"
      ]
     },
     "metadata": {},
     "output_type": "display_data"
    },
    {
     "name": "stderr",
     "output_type": "stream",
     "text": [
      "61.0:  11%|███████▌                                                              | 1077/10000 [00:04<00:42, 211.38it/s]"
     ]
    },
    {
     "data": {
      "text/plain": [
       "[None]"
      ]
     },
     "metadata": {},
     "output_type": "display_data"
    },
    {
     "name": "stderr",
     "output_type": "stream",
     "text": [
      "60.0:  11%|███████▌                                                              | 1077/10000 [00:04<00:42, 211.38it/s]"
     ]
    },
    {
     "data": {
      "text/plain": [
       "[None]"
      ]
     },
     "metadata": {},
     "output_type": "display_data"
    },
    {
     "name": "stderr",
     "output_type": "stream",
     "text": [
      "64.0:  11%|███████▌                                                              | 1077/10000 [00:04<00:42, 211.38it/s]"
     ]
    },
    {
     "data": {
      "text/plain": [
       "[None]"
      ]
     },
     "metadata": {},
     "output_type": "display_data"
    },
    {
     "name": "stderr",
     "output_type": "stream",
     "text": [
      "68.0:  11%|███████▌                                                              | 1077/10000 [00:04<00:42, 211.38it/s]"
     ]
    },
    {
     "data": {
      "text/plain": [
       "[None]"
      ]
     },
     "metadata": {},
     "output_type": "display_data"
    },
    {
     "name": "stderr",
     "output_type": "stream",
     "text": [
      "67.0:  11%|███████▌                                                              | 1077/10000 [00:04<00:42, 211.38it/s]"
     ]
    },
    {
     "data": {
      "text/plain": [
       "[None]"
      ]
     },
     "metadata": {},
     "output_type": "display_data"
    },
    {
     "name": "stderr",
     "output_type": "stream",
     "text": [
      "54.0:  11%|███████▌                                                              | 1077/10000 [00:04<00:42, 211.38it/s]"
     ]
    },
    {
     "data": {
      "text/plain": [
       "[None]"
      ]
     },
     "metadata": {},
     "output_type": "display_data"
    },
    {
     "name": "stderr",
     "output_type": "stream",
     "text": [
      "60.0:  11%|███████▌                                                              | 1077/10000 [00:04<00:42, 211.38it/s]"
     ]
    },
    {
     "data": {
      "text/plain": [
       "[None]"
      ]
     },
     "metadata": {},
     "output_type": "display_data"
    },
    {
     "name": "stderr",
     "output_type": "stream",
     "text": [
      "60.0:  11%|███████▌                                                              | 1077/10000 [00:04<00:42, 211.38it/s]"
     ]
    },
    {
     "data": {
      "text/plain": [
       "[None]"
      ]
     },
     "metadata": {},
     "output_type": "display_data"
    },
    {
     "name": "stderr",
     "output_type": "stream",
     "text": [
      "60.0:  11%|███████▌                                                              | 1077/10000 [00:04<00:42, 211.38it/s]"
     ]
    },
    {
     "data": {
      "text/plain": [
       "[None]"
      ]
     },
     "metadata": {},
     "output_type": "display_data"
    },
    {
     "name": "stderr",
     "output_type": "stream",
     "text": [
      "65.0:  11%|███████▌                                                              | 1077/10000 [00:04<00:42, 211.38it/s]"
     ]
    },
    {
     "data": {
      "text/plain": [
       "[None]"
      ]
     },
     "metadata": {},
     "output_type": "display_data"
    },
    {
     "name": "stderr",
     "output_type": "stream",
     "text": [
      "61.0:  11%|███████▌                                                              | 1077/10000 [00:04<00:42, 211.38it/s]"
     ]
    },
    {
     "data": {
      "text/plain": [
       "[None]"
      ]
     },
     "metadata": {},
     "output_type": "display_data"
    },
    {
     "name": "stderr",
     "output_type": "stream",
     "text": [
      "64.0:  11%|███████▋                                                              | 1099/10000 [00:04<00:42, 211.53it/s]"
     ]
    },
    {
     "data": {
      "text/plain": [
       "[None]"
      ]
     },
     "metadata": {},
     "output_type": "display_data"
    },
    {
     "name": "stderr",
     "output_type": "stream",
     "text": [
      "63.0:  11%|███████▋                                                              | 1099/10000 [00:04<00:42, 211.53it/s]"
     ]
    },
    {
     "data": {
      "text/plain": [
       "[None]"
      ]
     },
     "metadata": {},
     "output_type": "display_data"
    },
    {
     "name": "stderr",
     "output_type": "stream",
     "text": [
      "60.0:  11%|███████▋                                                              | 1099/10000 [00:04<00:42, 211.53it/s]"
     ]
    },
    {
     "data": {
      "text/plain": [
       "[None]"
      ]
     },
     "metadata": {},
     "output_type": "display_data"
    },
    {
     "name": "stderr",
     "output_type": "stream",
     "text": [
      "65.0:  11%|███████▋                                                              | 1099/10000 [00:04<00:42, 211.53it/s]"
     ]
    },
    {
     "data": {
      "text/plain": [
       "[None]"
      ]
     },
     "metadata": {},
     "output_type": "display_data"
    },
    {
     "name": "stderr",
     "output_type": "stream",
     "text": [
      "64.0:  11%|███████▋                                                              | 1099/10000 [00:04<00:42, 211.53it/s]"
     ]
    },
    {
     "data": {
      "text/plain": [
       "[None]"
      ]
     },
     "metadata": {},
     "output_type": "display_data"
    },
    {
     "name": "stderr",
     "output_type": "stream",
     "text": [
      "66.0:  11%|███████▋                                                              | 1099/10000 [00:04<00:42, 211.53it/s]"
     ]
    },
    {
     "data": {
      "text/plain": [
       "[None]"
      ]
     },
     "metadata": {},
     "output_type": "display_data"
    },
    {
     "name": "stderr",
     "output_type": "stream",
     "text": [
      "64.0:  11%|███████▋                                                              | 1099/10000 [00:04<00:42, 211.53it/s]"
     ]
    },
    {
     "data": {
      "text/plain": [
       "[None]"
      ]
     },
     "metadata": {},
     "output_type": "display_data"
    },
    {
     "name": "stderr",
     "output_type": "stream",
     "text": [
      "64.0:  11%|███████▋                                                              | 1099/10000 [00:04<00:42, 211.53it/s]"
     ]
    },
    {
     "data": {
      "text/plain": [
       "[None]"
      ]
     },
     "metadata": {},
     "output_type": "display_data"
    },
    {
     "name": "stderr",
     "output_type": "stream",
     "text": [
      "59.0:  11%|███████▋                                                              | 1099/10000 [00:04<00:42, 211.53it/s]"
     ]
    },
    {
     "data": {
      "text/plain": [
       "[None]"
      ]
     },
     "metadata": {},
     "output_type": "display_data"
    },
    {
     "name": "stderr",
     "output_type": "stream",
     "text": [
      "57.0:  11%|███████▋                                                              | 1099/10000 [00:04<00:42, 211.53it/s]"
     ]
    },
    {
     "data": {
      "text/plain": [
       "[None]"
      ]
     },
     "metadata": {},
     "output_type": "display_data"
    },
    {
     "name": "stderr",
     "output_type": "stream",
     "text": [
      "59.0:  11%|███████▋                                                              | 1099/10000 [00:04<00:42, 211.53it/s]"
     ]
    },
    {
     "data": {
      "text/plain": [
       "[None]"
      ]
     },
     "metadata": {},
     "output_type": "display_data"
    },
    {
     "name": "stderr",
     "output_type": "stream",
     "text": [
      "63.0:  11%|███████▋                                                              | 1099/10000 [00:04<00:42, 211.53it/s]"
     ]
    },
    {
     "data": {
      "text/plain": [
       "[None]"
      ]
     },
     "metadata": {},
     "output_type": "display_data"
    },
    {
     "name": "stderr",
     "output_type": "stream",
     "text": [
      "62.0:  11%|███████▋                                                              | 1099/10000 [00:04<00:42, 211.53it/s]"
     ]
    },
    {
     "data": {
      "text/plain": [
       "[None]"
      ]
     },
     "metadata": {},
     "output_type": "display_data"
    },
    {
     "name": "stderr",
     "output_type": "stream",
     "text": [
      "62.0:  11%|███████▋                                                              | 1099/10000 [00:04<00:42, 211.53it/s]"
     ]
    },
    {
     "data": {
      "text/plain": [
       "[None]"
      ]
     },
     "metadata": {},
     "output_type": "display_data"
    },
    {
     "name": "stderr",
     "output_type": "stream",
     "text": [
      "64.0:  11%|███████▋                                                              | 1099/10000 [00:04<00:42, 211.53it/s]"
     ]
    },
    {
     "data": {
      "text/plain": [
       "[None]"
      ]
     },
     "metadata": {},
     "output_type": "display_data"
    },
    {
     "name": "stderr",
     "output_type": "stream",
     "text": [
      "58.0:  11%|███████▋                                                              | 1099/10000 [00:04<00:42, 211.53it/s]"
     ]
    },
    {
     "data": {
      "text/plain": [
       "[None]"
      ]
     },
     "metadata": {},
     "output_type": "display_data"
    },
    {
     "name": "stderr",
     "output_type": "stream",
     "text": [
      "64.0:  11%|███████▋                                                              | 1099/10000 [00:04<00:42, 211.53it/s]"
     ]
    },
    {
     "data": {
      "text/plain": [
       "[None]"
      ]
     },
     "metadata": {},
     "output_type": "display_data"
    },
    {
     "name": "stderr",
     "output_type": "stream",
     "text": [
      "62.0:  11%|███████▋                                                              | 1099/10000 [00:04<00:42, 211.53it/s]"
     ]
    },
    {
     "data": {
      "text/plain": [
       "[None]"
      ]
     },
     "metadata": {},
     "output_type": "display_data"
    },
    {
     "name": "stderr",
     "output_type": "stream",
     "text": [
      "68.0:  11%|███████▋                                                              | 1099/10000 [00:05<00:42, 211.53it/s]"
     ]
    },
    {
     "data": {
      "text/plain": [
       "[None]"
      ]
     },
     "metadata": {},
     "output_type": "display_data"
    },
    {
     "name": "stderr",
     "output_type": "stream",
     "text": [
      "56.0:  11%|███████▋                                                              | 1099/10000 [00:05<00:42, 211.53it/s]"
     ]
    },
    {
     "data": {
      "text/plain": [
       "[None]"
      ]
     },
     "metadata": {},
     "output_type": "display_data"
    },
    {
     "name": "stderr",
     "output_type": "stream",
     "text": [
      "62.0:  11%|███████▋                                                              | 1099/10000 [00:05<00:42, 211.53it/s]"
     ]
    },
    {
     "data": {
      "text/plain": [
       "[None]"
      ]
     },
     "metadata": {},
     "output_type": "display_data"
    },
    {
     "name": "stderr",
     "output_type": "stream",
     "text": [
      "63.0:  11%|███████▋                                                              | 1099/10000 [00:05<00:42, 211.53it/s]"
     ]
    },
    {
     "data": {
      "text/plain": [
       "[None]"
      ]
     },
     "metadata": {},
     "output_type": "display_data"
    },
    {
     "name": "stderr",
     "output_type": "stream",
     "text": [
      "58.0:  11%|███████▋                                                              | 1099/10000 [00:05<00:42, 211.53it/s]"
     ]
    },
    {
     "data": {
      "text/plain": [
       "[None]"
      ]
     },
     "metadata": {},
     "output_type": "display_data"
    },
    {
     "name": "stderr",
     "output_type": "stream",
     "text": [
      "59.0:  11%|███████▊                                                              | 1122/10000 [00:05<00:41, 214.59it/s]"
     ]
    },
    {
     "data": {
      "text/plain": [
       "[None]"
      ]
     },
     "metadata": {},
     "output_type": "display_data"
    },
    {
     "name": "stderr",
     "output_type": "stream",
     "text": [
      "59.0:  11%|███████▊                                                              | 1122/10000 [00:05<00:41, 214.59it/s]"
     ]
    },
    {
     "data": {
      "text/plain": [
       "[None]"
      ]
     },
     "metadata": {},
     "output_type": "display_data"
    },
    {
     "name": "stderr",
     "output_type": "stream",
     "text": [
      "65.0:  11%|███████▊                                                              | 1122/10000 [00:05<00:41, 214.59it/s]"
     ]
    },
    {
     "data": {
      "text/plain": [
       "[None]"
      ]
     },
     "metadata": {},
     "output_type": "display_data"
    },
    {
     "name": "stderr",
     "output_type": "stream",
     "text": [
      "67.0:  11%|███████▊                                                              | 1122/10000 [00:05<00:41, 214.59it/s]"
     ]
    },
    {
     "data": {
      "text/plain": [
       "[None]"
      ]
     },
     "metadata": {},
     "output_type": "display_data"
    },
    {
     "name": "stderr",
     "output_type": "stream",
     "text": [
      "63.0:  11%|███████▊                                                              | 1122/10000 [00:05<00:41, 214.59it/s]"
     ]
    },
    {
     "data": {
      "text/plain": [
       "[None]"
      ]
     },
     "metadata": {},
     "output_type": "display_data"
    },
    {
     "name": "stderr",
     "output_type": "stream",
     "text": [
      "64.0:  11%|███████▊                                                              | 1122/10000 [00:05<00:41, 214.59it/s]"
     ]
    },
    {
     "data": {
      "text/plain": [
       "[None]"
      ]
     },
     "metadata": {},
     "output_type": "display_data"
    },
    {
     "name": "stderr",
     "output_type": "stream",
     "text": [
      "63.0:  11%|███████▊                                                              | 1122/10000 [00:05<00:41, 214.59it/s]"
     ]
    },
    {
     "data": {
      "text/plain": [
       "[None]"
      ]
     },
     "metadata": {},
     "output_type": "display_data"
    },
    {
     "name": "stderr",
     "output_type": "stream",
     "text": [
      "67.0:  11%|███████▊                                                              | 1122/10000 [00:05<00:41, 214.59it/s]"
     ]
    },
    {
     "data": {
      "text/plain": [
       "[None]"
      ]
     },
     "metadata": {},
     "output_type": "display_data"
    },
    {
     "name": "stderr",
     "output_type": "stream",
     "text": [
      "60.0:  11%|███████▊                                                              | 1122/10000 [00:05<00:41, 214.59it/s]"
     ]
    },
    {
     "data": {
      "text/plain": [
       "[None]"
      ]
     },
     "metadata": {},
     "output_type": "display_data"
    },
    {
     "name": "stderr",
     "output_type": "stream",
     "text": [
      "58.0:  11%|███████▊                                                              | 1122/10000 [00:05<00:41, 214.59it/s]"
     ]
    },
    {
     "data": {
      "text/plain": [
       "[None]"
      ]
     },
     "metadata": {},
     "output_type": "display_data"
    },
    {
     "name": "stderr",
     "output_type": "stream",
     "text": [
      "66.0:  11%|███████▊                                                              | 1122/10000 [00:05<00:41, 214.59it/s]"
     ]
    },
    {
     "data": {
      "text/plain": [
       "[None]"
      ]
     },
     "metadata": {},
     "output_type": "display_data"
    },
    {
     "name": "stderr",
     "output_type": "stream",
     "text": [
      "59.0:  11%|███████▊                                                              | 1122/10000 [00:05<00:41, 214.59it/s]"
     ]
    },
    {
     "data": {
      "text/plain": [
       "[None]"
      ]
     },
     "metadata": {},
     "output_type": "display_data"
    },
    {
     "name": "stderr",
     "output_type": "stream",
     "text": [
      "60.0:  11%|███████▊                                                              | 1122/10000 [00:05<00:41, 214.59it/s]"
     ]
    },
    {
     "data": {
      "text/plain": [
       "[None]"
      ]
     },
     "metadata": {},
     "output_type": "display_data"
    },
    {
     "name": "stderr",
     "output_type": "stream",
     "text": [
      "63.0:  11%|███████▊                                                              | 1122/10000 [00:05<00:41, 214.59it/s]"
     ]
    },
    {
     "data": {
      "text/plain": [
       "[None]"
      ]
     },
     "metadata": {},
     "output_type": "display_data"
    },
    {
     "name": "stderr",
     "output_type": "stream",
     "text": [
      "67.0:  11%|███████▊                                                              | 1122/10000 [00:05<00:41, 214.59it/s]"
     ]
    },
    {
     "data": {
      "text/plain": [
       "[None]"
      ]
     },
     "metadata": {},
     "output_type": "display_data"
    },
    {
     "name": "stderr",
     "output_type": "stream",
     "text": [
      "55.0:  11%|███████▊                                                              | 1122/10000 [00:05<00:41, 214.59it/s]"
     ]
    },
    {
     "data": {
      "text/plain": [
       "[None]"
      ]
     },
     "metadata": {},
     "output_type": "display_data"
    },
    {
     "name": "stderr",
     "output_type": "stream",
     "text": [
      "62.0:  11%|███████▊                                                              | 1122/10000 [00:05<00:41, 214.59it/s]"
     ]
    },
    {
     "data": {
      "text/plain": [
       "[None]"
      ]
     },
     "metadata": {},
     "output_type": "display_data"
    },
    {
     "name": "stderr",
     "output_type": "stream",
     "text": [
      "58.0:  11%|███████▊                                                              | 1122/10000 [00:05<00:41, 214.59it/s]"
     ]
    },
    {
     "data": {
      "text/plain": [
       "[None]"
      ]
     },
     "metadata": {},
     "output_type": "display_data"
    },
    {
     "name": "stderr",
     "output_type": "stream",
     "text": [
      "62.0:  11%|███████▊                                                              | 1122/10000 [00:05<00:41, 214.59it/s]"
     ]
    },
    {
     "data": {
      "text/plain": [
       "[None]"
      ]
     },
     "metadata": {},
     "output_type": "display_data"
    },
    {
     "name": "stderr",
     "output_type": "stream",
     "text": [
      "65.0:  11%|███████▊                                                              | 1122/10000 [00:05<00:41, 214.59it/s]"
     ]
    },
    {
     "data": {
      "text/plain": [
       "[None]"
      ]
     },
     "metadata": {},
     "output_type": "display_data"
    },
    {
     "name": "stderr",
     "output_type": "stream",
     "text": [
      "60.0:  11%|███████▊                                                              | 1122/10000 [00:05<00:41, 214.59it/s]"
     ]
    },
    {
     "data": {
      "text/plain": [
       "[None]"
      ]
     },
     "metadata": {},
     "output_type": "display_data"
    },
    {
     "name": "stderr",
     "output_type": "stream",
     "text": [
      "64.0:  11%|███████▊                                                              | 1122/10000 [00:05<00:41, 214.59it/s]"
     ]
    },
    {
     "data": {
      "text/plain": [
       "[None]"
      ]
     },
     "metadata": {},
     "output_type": "display_data"
    },
    {
     "name": "stderr",
     "output_type": "stream",
     "text": [
      "64.0:  11%|████████                                                              | 1144/10000 [00:05<00:41, 212.92it/s]"
     ]
    },
    {
     "data": {
      "text/plain": [
       "[None]"
      ]
     },
     "metadata": {},
     "output_type": "display_data"
    },
    {
     "name": "stderr",
     "output_type": "stream",
     "text": [
      "60.0:  11%|████████                                                              | 1144/10000 [00:05<00:41, 212.92it/s]"
     ]
    },
    {
     "data": {
      "text/plain": [
       "[None]"
      ]
     },
     "metadata": {},
     "output_type": "display_data"
    },
    {
     "name": "stderr",
     "output_type": "stream",
     "text": [
      "62.0:  11%|████████                                                              | 1144/10000 [00:05<00:41, 212.92it/s]"
     ]
    },
    {
     "data": {
      "text/plain": [
       "[None]"
      ]
     },
     "metadata": {},
     "output_type": "display_data"
    },
    {
     "name": "stderr",
     "output_type": "stream",
     "text": [
      "61.0:  11%|████████                                                              | 1144/10000 [00:05<00:41, 212.92it/s]"
     ]
    },
    {
     "data": {
      "text/plain": [
       "[None]"
      ]
     },
     "metadata": {},
     "output_type": "display_data"
    },
    {
     "name": "stderr",
     "output_type": "stream",
     "text": [
      "58.0:  11%|████████                                                              | 1144/10000 [00:05<00:41, 212.92it/s]"
     ]
    },
    {
     "data": {
      "text/plain": [
       "[None]"
      ]
     },
     "metadata": {},
     "output_type": "display_data"
    },
    {
     "name": "stderr",
     "output_type": "stream",
     "text": [
      "64.0:  11%|████████                                                              | 1144/10000 [00:05<00:41, 212.92it/s]"
     ]
    },
    {
     "data": {
      "text/plain": [
       "[None]"
      ]
     },
     "metadata": {},
     "output_type": "display_data"
    },
    {
     "name": "stderr",
     "output_type": "stream",
     "text": [
      "59.0:  11%|████████                                                              | 1144/10000 [00:05<00:41, 212.92it/s]"
     ]
    },
    {
     "data": {
      "text/plain": [
       "[None]"
      ]
     },
     "metadata": {},
     "output_type": "display_data"
    },
    {
     "name": "stderr",
     "output_type": "stream",
     "text": [
      "60.0:  11%|████████                                                              | 1144/10000 [00:05<00:41, 212.92it/s]"
     ]
    },
    {
     "data": {
      "text/plain": [
       "[None]"
      ]
     },
     "metadata": {},
     "output_type": "display_data"
    },
    {
     "name": "stderr",
     "output_type": "stream",
     "text": [
      "64.0:  11%|████████                                                              | 1144/10000 [00:05<00:41, 212.92it/s]"
     ]
    },
    {
     "data": {
      "text/plain": [
       "[None]"
      ]
     },
     "metadata": {},
     "output_type": "display_data"
    },
    {
     "name": "stderr",
     "output_type": "stream",
     "text": [
      "54.0:  11%|████████                                                              | 1144/10000 [00:05<00:41, 212.92it/s]"
     ]
    },
    {
     "data": {
      "text/plain": [
       "[None]"
      ]
     },
     "metadata": {},
     "output_type": "display_data"
    },
    {
     "name": "stderr",
     "output_type": "stream",
     "text": [
      "62.0:  11%|████████                                                              | 1144/10000 [00:05<00:41, 212.92it/s]"
     ]
    },
    {
     "data": {
      "text/plain": [
       "[None]"
      ]
     },
     "metadata": {},
     "output_type": "display_data"
    },
    {
     "name": "stderr",
     "output_type": "stream",
     "text": [
      "59.0:  11%|████████                                                              | 1144/10000 [00:05<00:41, 212.92it/s]"
     ]
    },
    {
     "data": {
      "text/plain": [
       "[None]"
      ]
     },
     "metadata": {},
     "output_type": "display_data"
    },
    {
     "name": "stderr",
     "output_type": "stream",
     "text": [
      "56.0:  11%|████████                                                              | 1144/10000 [00:05<00:41, 212.92it/s]"
     ]
    },
    {
     "data": {
      "text/plain": [
       "[None]"
      ]
     },
     "metadata": {},
     "output_type": "display_data"
    },
    {
     "name": "stderr",
     "output_type": "stream",
     "text": [
      "58.0:  11%|████████                                                              | 1144/10000 [00:05<00:41, 212.92it/s]"
     ]
    },
    {
     "data": {
      "text/plain": [
       "[None]"
      ]
     },
     "metadata": {},
     "output_type": "display_data"
    },
    {
     "name": "stderr",
     "output_type": "stream",
     "text": [
      "64.0:  11%|████████                                                              | 1144/10000 [00:05<00:41, 212.92it/s]"
     ]
    },
    {
     "data": {
      "text/plain": [
       "[None]"
      ]
     },
     "metadata": {},
     "output_type": "display_data"
    },
    {
     "name": "stderr",
     "output_type": "stream",
     "text": [
      "64.0:  11%|████████                                                              | 1144/10000 [00:05<00:41, 212.92it/s]"
     ]
    },
    {
     "data": {
      "text/plain": [
       "[None]"
      ]
     },
     "metadata": {},
     "output_type": "display_data"
    },
    {
     "name": "stderr",
     "output_type": "stream",
     "text": [
      "60.0:  11%|████████                                                              | 1144/10000 [00:05<00:41, 212.92it/s]"
     ]
    },
    {
     "data": {
      "text/plain": [
       "[None]"
      ]
     },
     "metadata": {},
     "output_type": "display_data"
    },
    {
     "name": "stderr",
     "output_type": "stream",
     "text": [
      "69.0:  11%|████████                                                              | 1144/10000 [00:05<00:41, 212.92it/s]"
     ]
    },
    {
     "data": {
      "text/plain": [
       "[None]"
      ]
     },
     "metadata": {},
     "output_type": "display_data"
    },
    {
     "name": "stderr",
     "output_type": "stream",
     "text": [
      "57.0:  11%|████████                                                              | 1144/10000 [00:05<00:41, 212.92it/s]"
     ]
    },
    {
     "data": {
      "text/plain": [
       "[None]"
      ]
     },
     "metadata": {},
     "output_type": "display_data"
    },
    {
     "name": "stderr",
     "output_type": "stream",
     "text": [
      "60.0:  11%|████████                                                              | 1144/10000 [00:05<00:41, 212.92it/s]"
     ]
    },
    {
     "data": {
      "text/plain": [
       "[None]"
      ]
     },
     "metadata": {},
     "output_type": "display_data"
    },
    {
     "name": "stderr",
     "output_type": "stream",
     "text": [
      "63.0:  11%|████████                                                              | 1144/10000 [00:05<00:41, 212.92it/s]"
     ]
    },
    {
     "data": {
      "text/plain": [
       "[None]"
      ]
     },
     "metadata": {},
     "output_type": "display_data"
    },
    {
     "name": "stderr",
     "output_type": "stream",
     "text": [
      "57.0:  11%|████████                                                              | 1144/10000 [00:05<00:41, 212.92it/s]"
     ]
    },
    {
     "data": {
      "text/plain": [
       "[None]"
      ]
     },
     "metadata": {},
     "output_type": "display_data"
    },
    {
     "name": "stderr",
     "output_type": "stream",
     "text": [
      "63.0:  12%|████████▏                                                             | 1166/10000 [00:05<00:41, 212.63it/s]"
     ]
    },
    {
     "data": {
      "text/plain": [
       "[None]"
      ]
     },
     "metadata": {},
     "output_type": "display_data"
    },
    {
     "name": "stderr",
     "output_type": "stream",
     "text": [
      "59.0:  12%|████████▏                                                             | 1166/10000 [00:05<00:41, 212.63it/s]"
     ]
    },
    {
     "data": {
      "text/plain": [
       "[None]"
      ]
     },
     "metadata": {},
     "output_type": "display_data"
    },
    {
     "name": "stderr",
     "output_type": "stream",
     "text": [
      "54.0:  12%|████████▏                                                             | 1166/10000 [00:05<00:41, 212.63it/s]"
     ]
    },
    {
     "data": {
      "text/plain": [
       "[None]"
      ]
     },
     "metadata": {},
     "output_type": "display_data"
    },
    {
     "name": "stderr",
     "output_type": "stream",
     "text": [
      "57.0:  12%|████████▏                                                             | 1166/10000 [00:05<00:41, 212.63it/s]"
     ]
    },
    {
     "data": {
      "text/plain": [
       "[None]"
      ]
     },
     "metadata": {},
     "output_type": "display_data"
    },
    {
     "name": "stderr",
     "output_type": "stream",
     "text": [
      "58.0:  12%|████████▏                                                             | 1166/10000 [00:05<00:41, 212.63it/s]"
     ]
    },
    {
     "data": {
      "text/plain": [
       "[None]"
      ]
     },
     "metadata": {},
     "output_type": "display_data"
    },
    {
     "name": "stderr",
     "output_type": "stream",
     "text": [
      "63.0:  12%|████████▏                                                             | 1166/10000 [00:05<00:41, 212.63it/s]"
     ]
    },
    {
     "data": {
      "text/plain": [
       "[None]"
      ]
     },
     "metadata": {},
     "output_type": "display_data"
    },
    {
     "name": "stderr",
     "output_type": "stream",
     "text": [
      "62.0:  12%|████████▏                                                             | 1166/10000 [00:05<00:41, 212.63it/s]"
     ]
    },
    {
     "data": {
      "text/plain": [
       "[None]"
      ]
     },
     "metadata": {},
     "output_type": "display_data"
    },
    {
     "name": "stderr",
     "output_type": "stream",
     "text": [
      "53.0:  12%|████████▏                                                             | 1166/10000 [00:05<00:41, 212.63it/s]"
     ]
    },
    {
     "data": {
      "text/plain": [
       "[None]"
      ]
     },
     "metadata": {},
     "output_type": "display_data"
    },
    {
     "name": "stderr",
     "output_type": "stream",
     "text": [
      "66.0:  12%|████████▏                                                             | 1166/10000 [00:05<00:41, 212.63it/s]"
     ]
    },
    {
     "data": {
      "text/plain": [
       "[None]"
      ]
     },
     "metadata": {},
     "output_type": "display_data"
    },
    {
     "name": "stderr",
     "output_type": "stream",
     "text": [
      "63.0:  12%|████████▏                                                             | 1166/10000 [00:05<00:41, 212.63it/s]"
     ]
    },
    {
     "data": {
      "text/plain": [
       "[None]"
      ]
     },
     "metadata": {},
     "output_type": "display_data"
    },
    {
     "name": "stderr",
     "output_type": "stream",
     "text": [
      "66.0:  12%|████████▏                                                             | 1166/10000 [00:05<00:41, 212.63it/s]"
     ]
    },
    {
     "data": {
      "text/plain": [
       "[None]"
      ]
     },
     "metadata": {},
     "output_type": "display_data"
    },
    {
     "name": "stderr",
     "output_type": "stream",
     "text": [
      "67.0:  12%|████████▏                                                             | 1166/10000 [00:05<00:41, 212.63it/s]"
     ]
    },
    {
     "data": {
      "text/plain": [
       "[None]"
      ]
     },
     "metadata": {},
     "output_type": "display_data"
    },
    {
     "name": "stderr",
     "output_type": "stream",
     "text": [
      "59.0:  12%|████████▏                                                             | 1166/10000 [00:05<00:41, 212.63it/s]"
     ]
    },
    {
     "data": {
      "text/plain": [
       "[None]"
      ]
     },
     "metadata": {},
     "output_type": "display_data"
    },
    {
     "name": "stderr",
     "output_type": "stream",
     "text": [
      "62.0:  12%|████████▏                                                             | 1166/10000 [00:05<00:41, 212.63it/s]"
     ]
    },
    {
     "data": {
      "text/plain": [
       "[None]"
      ]
     },
     "metadata": {},
     "output_type": "display_data"
    },
    {
     "name": "stderr",
     "output_type": "stream",
     "text": [
      "58.0:  12%|████████▏                                                             | 1166/10000 [00:05<00:41, 212.63it/s]"
     ]
    },
    {
     "data": {
      "text/plain": [
       "[None]"
      ]
     },
     "metadata": {},
     "output_type": "display_data"
    },
    {
     "name": "stderr",
     "output_type": "stream",
     "text": [
      "57.0:  12%|████████▏                                                             | 1166/10000 [00:05<00:41, 212.63it/s]"
     ]
    },
    {
     "data": {
      "text/plain": [
       "[None]"
      ]
     },
     "metadata": {},
     "output_type": "display_data"
    },
    {
     "name": "stderr",
     "output_type": "stream",
     "text": [
      "55.0:  12%|████████▏                                                             | 1166/10000 [00:05<00:41, 212.63it/s]"
     ]
    },
    {
     "data": {
      "text/plain": [
       "[None]"
      ]
     },
     "metadata": {},
     "output_type": "display_data"
    },
    {
     "name": "stderr",
     "output_type": "stream",
     "text": [
      "61.0:  12%|████████▏                                                             | 1166/10000 [00:05<00:41, 212.63it/s]"
     ]
    },
    {
     "data": {
      "text/plain": [
       "[None]"
      ]
     },
     "metadata": {},
     "output_type": "display_data"
    },
    {
     "name": "stderr",
     "output_type": "stream",
     "text": [
      "62.0:  12%|████████▏                                                             | 1166/10000 [00:05<00:41, 212.63it/s]"
     ]
    },
    {
     "data": {
      "text/plain": [
       "[None]"
      ]
     },
     "metadata": {},
     "output_type": "display_data"
    },
    {
     "name": "stderr",
     "output_type": "stream",
     "text": [
      "58.0:  12%|████████▏                                                             | 1166/10000 [00:05<00:41, 212.63it/s]"
     ]
    },
    {
     "data": {
      "text/plain": [
       "[None]"
      ]
     },
     "metadata": {},
     "output_type": "display_data"
    },
    {
     "name": "stderr",
     "output_type": "stream",
     "text": [
      "62.0:  12%|████████▏                                                             | 1166/10000 [00:05<00:41, 212.63it/s]"
     ]
    },
    {
     "data": {
      "text/plain": [
       "[None]"
      ]
     },
     "metadata": {},
     "output_type": "display_data"
    },
    {
     "name": "stderr",
     "output_type": "stream",
     "text": [
      "58.0:  12%|████████▏                                                             | 1166/10000 [00:05<00:41, 212.63it/s]"
     ]
    },
    {
     "data": {
      "text/plain": [
       "[None]"
      ]
     },
     "metadata": {},
     "output_type": "display_data"
    },
    {
     "name": "stderr",
     "output_type": "stream",
     "text": [
      "60.0:  12%|████████▎                                                             | 1188/10000 [00:05<00:41, 213.64it/s]"
     ]
    },
    {
     "data": {
      "text/plain": [
       "[None]"
      ]
     },
     "metadata": {},
     "output_type": "display_data"
    },
    {
     "name": "stderr",
     "output_type": "stream",
     "text": [
      "57.0:  12%|████████▎                                                             | 1188/10000 [00:05<00:41, 213.64it/s]"
     ]
    },
    {
     "data": {
      "text/plain": [
       "[None]"
      ]
     },
     "metadata": {},
     "output_type": "display_data"
    },
    {
     "name": "stderr",
     "output_type": "stream",
     "text": [
      "60.0:  12%|████████▎                                                             | 1188/10000 [00:05<00:41, 213.64it/s]"
     ]
    },
    {
     "data": {
      "text/plain": [
       "[None]"
      ]
     },
     "metadata": {},
     "output_type": "display_data"
    },
    {
     "name": "stderr",
     "output_type": "stream",
     "text": [
      "60.0:  12%|████████▎                                                             | 1188/10000 [00:05<00:41, 213.64it/s]"
     ]
    },
    {
     "data": {
      "text/plain": [
       "[None]"
      ]
     },
     "metadata": {},
     "output_type": "display_data"
    },
    {
     "name": "stderr",
     "output_type": "stream",
     "text": [
      "58.0:  12%|████████▎                                                             | 1188/10000 [00:05<00:41, 213.64it/s]"
     ]
    },
    {
     "data": {
      "text/plain": [
       "[None]"
      ]
     },
     "metadata": {},
     "output_type": "display_data"
    },
    {
     "name": "stderr",
     "output_type": "stream",
     "text": [
      "61.0:  12%|████████▎                                                             | 1188/10000 [00:05<00:41, 213.64it/s]"
     ]
    },
    {
     "data": {
      "text/plain": [
       "[None]"
      ]
     },
     "metadata": {},
     "output_type": "display_data"
    },
    {
     "name": "stderr",
     "output_type": "stream",
     "text": [
      "64.0:  12%|████████▎                                                             | 1188/10000 [00:05<00:41, 213.64it/s]"
     ]
    },
    {
     "data": {
      "text/plain": [
       "[None]"
      ]
     },
     "metadata": {},
     "output_type": "display_data"
    },
    {
     "name": "stderr",
     "output_type": "stream",
     "text": [
      "56.0:  12%|████████▎                                                             | 1188/10000 [00:05<00:41, 213.64it/s]"
     ]
    },
    {
     "data": {
      "text/plain": [
       "[None]"
      ]
     },
     "metadata": {},
     "output_type": "display_data"
    },
    {
     "name": "stderr",
     "output_type": "stream",
     "text": [
      "57.0:  12%|████████▎                                                             | 1188/10000 [00:05<00:41, 213.64it/s]"
     ]
    },
    {
     "data": {
      "text/plain": [
       "[None]"
      ]
     },
     "metadata": {},
     "output_type": "display_data"
    },
    {
     "name": "stderr",
     "output_type": "stream",
     "text": [
      "65.0:  12%|████████▎                                                             | 1188/10000 [00:05<00:41, 213.64it/s]"
     ]
    },
    {
     "data": {
      "text/plain": [
       "[None]"
      ]
     },
     "metadata": {},
     "output_type": "display_data"
    },
    {
     "name": "stderr",
     "output_type": "stream",
     "text": [
      "58.0:  12%|████████▎                                                             | 1188/10000 [00:05<00:41, 213.64it/s]"
     ]
    },
    {
     "data": {
      "text/plain": [
       "[None]"
      ]
     },
     "metadata": {},
     "output_type": "display_data"
    },
    {
     "name": "stderr",
     "output_type": "stream",
     "text": [
      "62.0:  12%|████████▎                                                             | 1188/10000 [00:05<00:41, 213.64it/s]"
     ]
    },
    {
     "data": {
      "text/plain": [
       "[None]"
      ]
     },
     "metadata": {},
     "output_type": "display_data"
    },
    {
     "name": "stderr",
     "output_type": "stream",
     "text": [
      "57.0:  12%|████████▎                                                             | 1188/10000 [00:05<00:41, 213.64it/s]"
     ]
    },
    {
     "data": {
      "text/plain": [
       "[None]"
      ]
     },
     "metadata": {},
     "output_type": "display_data"
    },
    {
     "name": "stderr",
     "output_type": "stream",
     "text": [
      "63.0:  12%|████████▎                                                             | 1188/10000 [00:05<00:41, 213.64it/s]"
     ]
    },
    {
     "data": {
      "text/plain": [
       "[None]"
      ]
     },
     "metadata": {},
     "output_type": "display_data"
    },
    {
     "name": "stderr",
     "output_type": "stream",
     "text": [
      "58.0:  12%|████████▎                                                             | 1188/10000 [00:05<00:41, 213.64it/s]"
     ]
    },
    {
     "data": {
      "text/plain": [
       "[None]"
      ]
     },
     "metadata": {},
     "output_type": "display_data"
    },
    {
     "name": "stderr",
     "output_type": "stream",
     "text": [
      "59.0:  12%|████████▎                                                             | 1188/10000 [00:05<00:41, 213.64it/s]"
     ]
    },
    {
     "data": {
      "text/plain": [
       "[None]"
      ]
     },
     "metadata": {},
     "output_type": "display_data"
    },
    {
     "name": "stderr",
     "output_type": "stream",
     "text": [
      "58.0:  12%|████████▎                                                             | 1188/10000 [00:05<00:41, 213.64it/s]"
     ]
    },
    {
     "data": {
      "text/plain": [
       "[None]"
      ]
     },
     "metadata": {},
     "output_type": "display_data"
    },
    {
     "name": "stderr",
     "output_type": "stream",
     "text": [
      "69.0:  12%|████████▎                                                             | 1188/10000 [00:05<00:41, 213.64it/s]"
     ]
    },
    {
     "data": {
      "text/plain": [
       "[None]"
      ]
     },
     "metadata": {},
     "output_type": "display_data"
    },
    {
     "name": "stderr",
     "output_type": "stream",
     "text": [
      "65.0:  12%|████████▎                                                             | 1188/10000 [00:05<00:41, 213.64it/s]"
     ]
    },
    {
     "data": {
      "text/plain": [
       "[None]"
      ]
     },
     "metadata": {},
     "output_type": "display_data"
    },
    {
     "name": "stderr",
     "output_type": "stream",
     "text": [
      "58.0:  12%|████████▎                                                             | 1188/10000 [00:05<00:41, 213.64it/s]"
     ]
    },
    {
     "data": {
      "text/plain": [
       "[None]"
      ]
     },
     "metadata": {},
     "output_type": "display_data"
    },
    {
     "name": "stderr",
     "output_type": "stream",
     "text": [
      "64.0:  12%|████████▎                                                             | 1188/10000 [00:05<00:41, 213.64it/s]"
     ]
    },
    {
     "data": {
      "text/plain": [
       "[None]"
      ]
     },
     "metadata": {},
     "output_type": "display_data"
    },
    {
     "name": "stderr",
     "output_type": "stream",
     "text": [
      "57.0:  12%|████████▎                                                             | 1188/10000 [00:05<00:41, 213.64it/s]"
     ]
    },
    {
     "data": {
      "text/plain": [
       "[None]"
      ]
     },
     "metadata": {},
     "output_type": "display_data"
    },
    {
     "name": "stderr",
     "output_type": "stream",
     "text": [
      "57.0:  12%|████████▍                                                             | 1210/10000 [00:05<00:41, 212.12it/s]"
     ]
    },
    {
     "data": {
      "text/plain": [
       "[None]"
      ]
     },
     "metadata": {},
     "output_type": "display_data"
    },
    {
     "name": "stderr",
     "output_type": "stream",
     "text": [
      "64.0:  12%|████████▍                                                             | 1210/10000 [00:05<00:41, 212.12it/s]"
     ]
    },
    {
     "data": {
      "text/plain": [
       "[None]"
      ]
     },
     "metadata": {},
     "output_type": "display_data"
    },
    {
     "name": "stderr",
     "output_type": "stream",
     "text": [
      "68.0:  12%|████████▍                                                             | 1210/10000 [00:05<00:41, 212.12it/s]"
     ]
    },
    {
     "data": {
      "text/plain": [
       "[None]"
      ]
     },
     "metadata": {},
     "output_type": "display_data"
    },
    {
     "name": "stderr",
     "output_type": "stream",
     "text": [
      "64.0:  12%|████████▍                                                             | 1210/10000 [00:05<00:41, 212.12it/s]"
     ]
    },
    {
     "data": {
      "text/plain": [
       "[None]"
      ]
     },
     "metadata": {},
     "output_type": "display_data"
    },
    {
     "name": "stderr",
     "output_type": "stream",
     "text": [
      "65.0:  12%|████████▍                                                             | 1210/10000 [00:05<00:41, 212.12it/s]"
     ]
    },
    {
     "data": {
      "text/plain": [
       "[None]"
      ]
     },
     "metadata": {},
     "output_type": "display_data"
    },
    {
     "name": "stderr",
     "output_type": "stream",
     "text": [
      "60.0:  12%|████████▍                                                             | 1210/10000 [00:05<00:41, 212.12it/s]"
     ]
    },
    {
     "data": {
      "text/plain": [
       "[None]"
      ]
     },
     "metadata": {},
     "output_type": "display_data"
    },
    {
     "name": "stderr",
     "output_type": "stream",
     "text": [
      "65.0:  12%|████████▍                                                             | 1210/10000 [00:05<00:41, 212.12it/s]"
     ]
    },
    {
     "data": {
      "text/plain": [
       "[None]"
      ]
     },
     "metadata": {},
     "output_type": "display_data"
    },
    {
     "name": "stderr",
     "output_type": "stream",
     "text": [
      "56.0:  12%|████████▍                                                             | 1210/10000 [00:05<00:41, 212.12it/s]"
     ]
    },
    {
     "data": {
      "text/plain": [
       "[None]"
      ]
     },
     "metadata": {},
     "output_type": "display_data"
    },
    {
     "name": "stderr",
     "output_type": "stream",
     "text": [
      "62.0:  12%|████████▍                                                             | 1210/10000 [00:05<00:41, 212.12it/s]"
     ]
    },
    {
     "data": {
      "text/plain": [
       "[None]"
      ]
     },
     "metadata": {},
     "output_type": "display_data"
    },
    {
     "name": "stderr",
     "output_type": "stream",
     "text": [
      "55.0:  12%|████████▍                                                             | 1210/10000 [00:05<00:41, 212.12it/s]"
     ]
    },
    {
     "data": {
      "text/plain": [
       "[None]"
      ]
     },
     "metadata": {},
     "output_type": "display_data"
    },
    {
     "name": "stderr",
     "output_type": "stream",
     "text": [
      "61.0:  12%|████████▍                                                             | 1210/10000 [00:05<00:41, 212.12it/s]"
     ]
    },
    {
     "data": {
      "text/plain": [
       "[None]"
      ]
     },
     "metadata": {},
     "output_type": "display_data"
    },
    {
     "name": "stderr",
     "output_type": "stream",
     "text": [
      "62.0:  12%|████████▍                                                             | 1210/10000 [00:05<00:41, 212.12it/s]"
     ]
    },
    {
     "data": {
      "text/plain": [
       "[None]"
      ]
     },
     "metadata": {},
     "output_type": "display_data"
    },
    {
     "name": "stderr",
     "output_type": "stream",
     "text": [
      "58.0:  12%|████████▍                                                             | 1210/10000 [00:05<00:41, 212.12it/s]"
     ]
    },
    {
     "data": {
      "text/plain": [
       "[None]"
      ]
     },
     "metadata": {},
     "output_type": "display_data"
    },
    {
     "name": "stderr",
     "output_type": "stream",
     "text": [
      "59.0:  12%|████████▍                                                             | 1210/10000 [00:05<00:41, 212.12it/s]"
     ]
    },
    {
     "data": {
      "text/plain": [
       "[None]"
      ]
     },
     "metadata": {},
     "output_type": "display_data"
    },
    {
     "name": "stderr",
     "output_type": "stream",
     "text": [
      "60.0:  12%|████████▍                                                             | 1210/10000 [00:05<00:41, 212.12it/s]"
     ]
    },
    {
     "data": {
      "text/plain": [
       "[None]"
      ]
     },
     "metadata": {},
     "output_type": "display_data"
    },
    {
     "name": "stderr",
     "output_type": "stream",
     "text": [
      "61.0:  12%|████████▍                                                             | 1210/10000 [00:05<00:41, 212.12it/s]"
     ]
    },
    {
     "data": {
      "text/plain": [
       "[None]"
      ]
     },
     "metadata": {},
     "output_type": "display_data"
    },
    {
     "name": "stderr",
     "output_type": "stream",
     "text": [
      "63.0:  12%|████████▍                                                             | 1210/10000 [00:05<00:41, 212.12it/s]"
     ]
    },
    {
     "data": {
      "text/plain": [
       "[None]"
      ]
     },
     "metadata": {},
     "output_type": "display_data"
    },
    {
     "name": "stderr",
     "output_type": "stream",
     "text": [
      "56.0:  12%|████████▍                                                             | 1210/10000 [00:05<00:41, 212.12it/s]"
     ]
    },
    {
     "data": {
      "text/plain": [
       "[None]"
      ]
     },
     "metadata": {},
     "output_type": "display_data"
    },
    {
     "name": "stderr",
     "output_type": "stream",
     "text": [
      "62.0:  12%|████████▍                                                             | 1210/10000 [00:05<00:41, 212.12it/s]"
     ]
    },
    {
     "data": {
      "text/plain": [
       "[None]"
      ]
     },
     "metadata": {},
     "output_type": "display_data"
    },
    {
     "name": "stderr",
     "output_type": "stream",
     "text": [
      "54.0:  12%|████████▍                                                             | 1210/10000 [00:05<00:41, 212.12it/s]"
     ]
    },
    {
     "data": {
      "text/plain": [
       "[None]"
      ]
     },
     "metadata": {},
     "output_type": "display_data"
    },
    {
     "name": "stderr",
     "output_type": "stream",
     "text": [
      "62.0:  12%|████████▍                                                             | 1210/10000 [00:05<00:41, 212.12it/s]"
     ]
    },
    {
     "data": {
      "text/plain": [
       "[None]"
      ]
     },
     "metadata": {},
     "output_type": "display_data"
    },
    {
     "name": "stderr",
     "output_type": "stream",
     "text": [
      "53.0:  12%|████████▍                                                             | 1210/10000 [00:05<00:41, 212.12it/s]"
     ]
    },
    {
     "data": {
      "text/plain": [
       "[None]"
      ]
     },
     "metadata": {},
     "output_type": "display_data"
    },
    {
     "name": "stderr",
     "output_type": "stream",
     "text": [
      "58.0:  12%|████████▌                                                             | 1232/10000 [00:05<00:42, 208.54it/s]"
     ]
    },
    {
     "data": {
      "text/plain": [
       "[None]"
      ]
     },
     "metadata": {},
     "output_type": "display_data"
    },
    {
     "name": "stderr",
     "output_type": "stream",
     "text": [
      "57.0:  12%|████████▌                                                             | 1232/10000 [00:05<00:42, 208.54it/s]"
     ]
    },
    {
     "data": {
      "text/plain": [
       "[None]"
      ]
     },
     "metadata": {},
     "output_type": "display_data"
    },
    {
     "name": "stderr",
     "output_type": "stream",
     "text": [
      "58.0:  12%|████████▌                                                             | 1232/10000 [00:05<00:42, 208.54it/s]"
     ]
    },
    {
     "data": {
      "text/plain": [
       "[None]"
      ]
     },
     "metadata": {},
     "output_type": "display_data"
    },
    {
     "name": "stderr",
     "output_type": "stream",
     "text": [
      "67.0:  12%|████████▌                                                             | 1232/10000 [00:05<00:42, 208.54it/s]"
     ]
    },
    {
     "data": {
      "text/plain": [
       "[None]"
      ]
     },
     "metadata": {},
     "output_type": "display_data"
    },
    {
     "name": "stderr",
     "output_type": "stream",
     "text": [
      "58.0:  12%|████████▌                                                             | 1232/10000 [00:05<00:42, 208.54it/s]"
     ]
    },
    {
     "data": {
      "text/plain": [
       "[None]"
      ]
     },
     "metadata": {},
     "output_type": "display_data"
    },
    {
     "name": "stderr",
     "output_type": "stream",
     "text": [
      "65.0:  12%|████████▌                                                             | 1232/10000 [00:05<00:42, 208.54it/s]"
     ]
    },
    {
     "data": {
      "text/plain": [
       "[None]"
      ]
     },
     "metadata": {},
     "output_type": "display_data"
    },
    {
     "name": "stderr",
     "output_type": "stream",
     "text": [
      "58.0:  12%|████████▌                                                             | 1232/10000 [00:05<00:42, 208.54it/s]"
     ]
    },
    {
     "data": {
      "text/plain": [
       "[None]"
      ]
     },
     "metadata": {},
     "output_type": "display_data"
    },
    {
     "name": "stderr",
     "output_type": "stream",
     "text": [
      "55.0:  12%|████████▌                                                             | 1232/10000 [00:05<00:42, 208.54it/s]"
     ]
    },
    {
     "data": {
      "text/plain": [
       "[None]"
      ]
     },
     "metadata": {},
     "output_type": "display_data"
    },
    {
     "name": "stderr",
     "output_type": "stream",
     "text": [
      "67.0:  12%|████████▌                                                             | 1232/10000 [00:05<00:42, 208.54it/s]"
     ]
    },
    {
     "data": {
      "text/plain": [
       "[None]"
      ]
     },
     "metadata": {},
     "output_type": "display_data"
    },
    {
     "name": "stderr",
     "output_type": "stream",
     "text": [
      "60.0:  12%|████████▌                                                             | 1232/10000 [00:05<00:42, 208.54it/s]"
     ]
    },
    {
     "data": {
      "text/plain": [
       "[None]"
      ]
     },
     "metadata": {},
     "output_type": "display_data"
    },
    {
     "name": "stderr",
     "output_type": "stream",
     "text": [
      "58.0:  12%|████████▌                                                             | 1232/10000 [00:05<00:42, 208.54it/s]"
     ]
    },
    {
     "data": {
      "text/plain": [
       "[None]"
      ]
     },
     "metadata": {},
     "output_type": "display_data"
    },
    {
     "name": "stderr",
     "output_type": "stream",
     "text": [
      "62.0:  12%|████████▌                                                             | 1232/10000 [00:05<00:42, 208.54it/s]"
     ]
    },
    {
     "data": {
      "text/plain": [
       "[None]"
      ]
     },
     "metadata": {},
     "output_type": "display_data"
    },
    {
     "name": "stderr",
     "output_type": "stream",
     "text": [
      "62.0:  12%|████████▋                                                             | 1244/10000 [00:05<00:39, 221.83it/s]\n",
      "\n",
      "KeyboardInterrupt\n",
      "\n"
     ]
    }
   ],
   "source": [
    "with torch.no_grad():\n",
    "    tmp=tqdm(range(10000))\n",
    "    for _ in tmp:\n",
    "        generated=solver.G(sample(Z_DIM))\n",
    "        sampled_graph=sample_gumbel(*generated,hard=True)\n",
    "        tmpmol=(mol_from_graph(*sampled_graph,print_errors=False))\n",
    "        tmp.set_description(f'{sampled_graph[1][...,1:,:,:].sum()}')\n",
    "        if tmpmol is not None:\n",
    "            display(tmpmol)"
   ]
  },
  {
   "cell_type": "code",
   "execution_count": 28,
   "id": "ae4a118f-37fa-41f8-a9d4-067a316e72b0",
   "metadata": {},
   "outputs": [
    {
     "name": "stderr",
     "output_type": "stream",
     "text": [
      "0 62.0: 100%|███████████████████████████████████████████████████████████████████| 10000/10000 [00:23<00:00, 432.00it/s]\n"
     ]
    }
   ],
   "source": [
    "best_mol=None\n",
    "best_score=-100\n",
    "with torch.no_grad():\n",
    "    tmp=tqdm(range(10000))\n",
    "    for _ in tmp:\n",
    "        generated=solver.G(sample(Z_DIM))\n",
    "        sampled_graph=sample_gumbel(*generated,hard=True)\n",
    "        try:\n",
    "            tmp_score=reward(mol_from_graph(*sampled_graph,strict=False)).item()\n",
    "        except:\n",
    "            tmp_score=0\n",
    "        if (tmp_score)>best_score:\n",
    "            best_score=tmp_score\n",
    "            best_mol=sampled_graph\n",
    "            tmp.set_description(f'{best_score} {sampled_graph[1][...,1:,:,:].sum()}')\n",
    "            #display(mol_from_graph(*best_mol,strict=False))"
   ]
  },
  {
   "cell_type": "code",
   "execution_count": 33,
   "id": "1e4fc204-3401-4dc7-a847-bf8a41103b19",
   "metadata": {},
   "outputs": [
    {
     "data": {
      "image/png": "[encoded data removed]",
      "text/plain": [
       "<rdkit.Chem.rdchem.RWMol at 0x1dd4ad98900>"
      ]
     },
     "execution_count": 33,
     "metadata": {},
     "output_type": "execute_result"
    }
   ],
   "source": [
    "mol_from_graph(*best_mol,strict=False)[0]"
   ]
  },
  {
   "cell_type": "code",
   "execution_count": null,
   "id": "447b895e-b26d-4f17-a25b-19b87c4687e9",
   "metadata": {},
   "outputs": [],
   "source": [
    "mol_from_graph(*sampled_graph,strict=False)"
   ]
  },
  {
   "cell_type": "code",
   "execution_count": null,
   "id": "de115d5d-c34d-4826-b64e-54fe455a3f6f",
   "metadata": {},
   "outputs": [],
   "source": [
    "mol_from_graph(*best_mol,strict=False)"
   ]
  },
  {
   "cell_type": "code",
   "execution_count": null,
   "id": "746e8202-45f1-4f61-a3d4-3754a39fd07c",
   "metadata": {},
   "outputs": [],
   "source": [
    "with torch.no_grad():\n",
    "    print(solver.R(sampled_graph).item())"
   ]
  },
  {
   "cell_type": "code",
   "execution_count": null,
   "id": "a2fac5cf-2553-4ffc-ba75-38a95f388262",
   "metadata": {},
   "outputs": [],
   "source": [
    "from IPython.display import display\n",
    "for generated_graph in zip(*generated):\n",
    "    tmp=(sample_gumbel(*generated_graph))\n",
    "    break"
   ]
  },
  {
   "cell_type": "code",
   "execution_count": null,
   "id": "88a926f2-03cc-4b0f-8ffc-e77b99e5a8e6",
   "metadata": {},
   "outputs": [],
   "source": [
    "mol_from_graph(*tmp,print_errors=True)"
   ]
  },
  {
   "cell_type": "raw",
   "id": "23fae0ea-594c-4709-9aac-9f8e2117137e",
   "metadata": {},
   "source": [
    "\n",
    "edges_logits, nodes_logits = self.G(z)\n",
    "# Postprocess with Gumbel softmax\n",
    "(edges_hat, nodes_hat) = self.postprocess((edges_logits, nodes_logits), self.post_method)\n",
    "logits_fake, _ = self.D(edges_hat, None, nodes_hat) #D(G(z))\n",
    "# Losses Update\n",
    "loss_G = -logits_fake\n",
    "\n",
    "# Real Reward\n",
    "reward_r = torch.from_numpy(self.reward(mols)).to(self.device) #\n",
    "reward_f = self.get_reward(nodes_hat, edges_hat, self.post_method) #\n",
    "\n",
    "# Value losses\n",
    "value_logit_real, _ = self.V(a_tensor, None, x_tensor, torch.sigmoid) #R(x)\n",
    "value_logit_fake, _ = self.V(edges_hat, None, nodes_hat, torch.sigmoid) #R(G(z))\n",
    "\n",
    "# Original TF loss_V. Here we use absolute values instead of the squared one.\n",
    "# loss_V = (value_logit_real - reward_r) ** 2 + (value_logit_fake - reward_f) ** 2\n",
    "loss_V = torch.abs(value_logit_real - reward_r) + torch.abs(value_logit_fake - reward_f)\n",
    "\n",
    "\n",
    "loss_RL = -value_logit_fake\n",
    "\n",
    "loss_G = torch.mean(loss_G)\n",
    "loss_V = torch.mean(loss_V)\n",
    "loss_RL = torch.mean(loss_RL)\n",
    "\n",
    "alpha = torch.abs(loss_G.detach() / loss_RL.detach()).detach()\n",
    "train_step_G = cur_la * loss_G + (1 - cur_la) * alpha * loss_RL\n",
    "\n",
    "train_step_V = loss_V"
   ]
  },
  {
   "cell_type": "markdown",
   "id": "21f8375f-9573-425b-9b4c-28992ee87875",
   "metadata": {},
   "source": [
    "WGAN-GP formula\n",
    "\n",
    "$\\underset{G}{\\min}\\underset{D}{\\max}{[D(x)-D(G(z))+\\lambda(\\nabla_\\hat{x}||D(\\hat{x})||_2-1)^2]};x\\sim X;z\\sim p(z)$"
   ]
  }
 ],
 "metadata": {
  "kernelspec": {
   "display_name": "Python 3 (ipykernel)",
   "language": "python",
   "name": "python3"
  },
  "language_info": {
   "codemirror_mode": {
    "name": "ipython",
    "version": 3
   },
   "file_extension": ".py",
   "mimetype": "text/x-python",
   "name": "python",
   "nbconvert_exporter": "python",
   "pygments_lexer": "ipython3",
   "version": "3.10.14"
  }
 },
 "nbformat": 4,
 "nbformat_minor": 5
}
